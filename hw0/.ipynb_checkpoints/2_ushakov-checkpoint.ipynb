{
 "cells": [
  {
   "cell_type": "markdown",
   "metadata": {},
   "source": [
    "# Import libraries"
   ]
  },
  {
   "cell_type": "code",
   "execution_count": 106,
   "metadata": {
    "collapsed": false
   },
   "outputs": [],
   "source": [
    "import numpy as np # calculations with arrays\n",
    "import pandas as pd # user-friendly DataFrames for data representation\n",
    "import sklearn # machine learning algorithms\n",
    "from sklearn import ensemble, linear_model, cross_validation, grid_search\n",
    "from sklearn.metrics import log_loss\n",
    "from sklearn.preprocessing import StandardScaler\n",
    "from sklearn.preprocessing import OneHotEncoder\n",
    "from sklearn.feature_extraction import DictVectorizer as DV\n",
    "import xgboost as xgboost\n",
    "import matplotlib.pyplot as plt # import plot functions\n",
    "# necessary to plot in jupyter notebook:\n",
    "%matplotlib inline\n",
    "import seaborn as sns # make plots beautiful"
   ]
  },
  {
   "cell_type": "markdown",
   "metadata": {},
   "source": [
    "# Load data using pandas"
   ]
  },
  {
   "cell_type": "code",
   "execution_count": 107,
   "metadata": {
    "collapsed": true
   },
   "outputs": [],
   "source": [
    "train = pd.read_csv('train2.csv')\n",
    "test = pd.read_csv('test2.csv')\n",
    "sample_submission = pd.read_csv('sample_submission.csv')"
   ]
  },
  {
   "cell_type": "markdown",
   "metadata": {},
   "source": [
    "# First view on data"
   ]
  },
  {
   "cell_type": "markdown",
   "metadata": {},
   "source": [
    "# Teams"
   ]
  },
  {
   "cell_type": "code",
   "execution_count": 108,
   "metadata": {
    "collapsed": false
   },
   "outputs": [
    {
     "data": {
      "text/html": [
       "<div>\n",
       "<table border=\"1\" class=\"dataframe\">\n",
       "  <thead>\n",
       "    <tr style=\"text-align: right;\">\n",
       "      <th></th>\n",
       "      <th>year</th>\n",
       "      <th>day</th>\n",
       "      <th>team1</th>\n",
       "      <th>team2</th>\n",
       "      <th>score1</th>\n",
       "      <th>score2</th>\n",
       "      <th>target</th>\n",
       "    </tr>\n",
       "  </thead>\n",
       "  <tbody>\n",
       "    <tr>\n",
       "      <th>0</th>\n",
       "      <td>2998</td>\n",
       "      <td>19</td>\n",
       "      <td>317</td>\n",
       "      <td>131</td>\n",
       "      <td>336</td>\n",
       "      <td>278</td>\n",
       "      <td>True</td>\n",
       "    </tr>\n",
       "    <tr>\n",
       "      <th>1</th>\n",
       "      <td>2998</td>\n",
       "      <td>28</td>\n",
       "      <td>61</td>\n",
       "      <td>29</td>\n",
       "      <td>301</td>\n",
       "      <td>259</td>\n",
       "      <td>True</td>\n",
       "    </tr>\n",
       "  </tbody>\n",
       "</table>\n",
       "</div>"
      ],
      "text/plain": [
       "   year  day  team1  team2  score1  score2 target\n",
       "0  2998   19    317    131     336     278   True\n",
       "1  2998   28     61     29     301     259   True"
      ]
     },
     "execution_count": 108,
     "metadata": {},
     "output_type": "execute_result"
    }
   ],
   "source": [
    "train.head(2)"
   ]
  },
  {
   "cell_type": "code",
   "execution_count": 109,
   "metadata": {
    "collapsed": false
   },
   "outputs": [
    {
     "data": {
      "text/html": [
       "<div>\n",
       "<table border=\"1\" class=\"dataframe\">\n",
       "  <thead>\n",
       "    <tr style=\"text-align: right;\">\n",
       "      <th></th>\n",
       "      <th>Id</th>\n",
       "      <th>year</th>\n",
       "      <th>team1</th>\n",
       "      <th>team2</th>\n",
       "    </tr>\n",
       "  </thead>\n",
       "  <tbody>\n",
       "    <tr>\n",
       "      <th>0</th>\n",
       "      <td>0</td>\n",
       "      <td>3021</td>\n",
       "      <td>363</td>\n",
       "      <td>161</td>\n",
       "    </tr>\n",
       "    <tr>\n",
       "      <th>1</th>\n",
       "      <td>1</td>\n",
       "      <td>3021</td>\n",
       "      <td>286</td>\n",
       "      <td>2</td>\n",
       "    </tr>\n",
       "  </tbody>\n",
       "</table>\n",
       "</div>"
      ],
      "text/plain": [
       "   Id  year  team1  team2\n",
       "0   0  3021    363    161\n",
       "1   1  3021    286      2"
      ]
     },
     "execution_count": 109,
     "metadata": {},
     "output_type": "execute_result"
    }
   ],
   "source": [
    "test.head(2)"
   ]
  },
  {
   "cell_type": "code",
   "execution_count": 110,
   "metadata": {
    "collapsed": false
   },
   "outputs": [
    {
     "name": "stdout",
     "output_type": "stream",
     "text": [
      "[2, 3, 4, 5, 6, 7, 8, 10, 11, 12, 13, 14, 15, 16, 17, 19, 20, 22, 23, 24, 25, 26, 27, 28, 29, 30, 31, 32, 33, 34, 35, 36, 37, 38, 39, 40, 41, 42, 43, 44, 45, 46, 47, 48, 49, 50, 51, 52, 53, 54, 55, 56, 57, 58, 59, 60, 61, 62, 63, 64, 65, 66, 67, 68, 69, 70, 71, 72, 73, 74, 75, 76, 77, 78, 79, 80, 81, 82, 83, 84, 85, 86, 87, 88, 89, 90, 91, 92, 93, 94, 95, 96, 97, 98, 99, 100, 101, 102, 103, 104, 105, 106, 107, 108, 109, 110, 111, 112, 114, 116, 117, 118, 119, 120, 121, 122, 123, 124, 125, 126, 127, 128, 129, 131, 132, 133, 134, 135, 136, 137, 138, 139, 140, 141, 142, 143, 144, 145, 146, 147, 148, 149, 150, 151, 152, 153, 154, 155, 156, 157, 158, 159, 160, 161, 163, 164, 165, 166, 167, 168, 169, 170, 171, 172, 173, 174, 175, 176, 177, 178, 179, 180, 181, 182, 183, 184, 185, 186, 187, 188, 189, 190, 191, 192, 193, 194, 195, 196, 197, 198, 199, 200, 201, 202, 203, 204, 205, 206, 207, 208, 209, 210, 211, 212, 213, 214, 215, 216, 217, 218, 219, 220, 221, 222, 223, 224, 225, 226, 228, 229, 230, 231, 232, 233, 234, 235, 236, 237, 238, 239, 240, 241, 242, 243, 244, 245, 246, 247, 248, 249, 250, 251, 252, 253, 254, 255, 256, 257, 258, 259, 260, 261, 262, 263, 264, 265, 266, 267, 268, 269, 270, 271, 272, 273, 274, 275, 276, 277, 278, 279, 280, 281, 282, 283, 284, 285, 286, 287, 288, 289, 290, 291, 292, 293, 294, 295, 296, 297, 298, 299, 300, 301, 302, 303, 304, 305, 306, 307, 308, 309, 310, 311, 312, 313, 314, 315, 316, 317, 318, 319, 320, 321, 322, 323, 324, 325, 326, 327, 328, 329, 330, 331, 333, 334, 335, 336, 337, 338, 339, 340, 341, 342, 343, 344, 345, 347, 348, 349, 350, 351, 352, 353, 354, 355, 356, 357, 358, 359, 360, 361, 362, 363, 364]\n"
     ]
    }
   ],
   "source": [
    "team1 = sorted(train.team1.unique())\n",
    "print team1"
   ]
  },
  {
   "cell_type": "code",
   "execution_count": 111,
   "metadata": {
    "collapsed": false
   },
   "outputs": [
    {
     "name": "stdout",
     "output_type": "stream",
     "text": [
      "353\n"
     ]
    }
   ],
   "source": [
    "print len(team1)"
   ]
  },
  {
   "cell_type": "code",
   "execution_count": 112,
   "metadata": {
    "collapsed": false
   },
   "outputs": [
    {
     "name": "stdout",
     "output_type": "stream",
     "text": [
      "[2, 3, 4, 5, 6, 7, 8, 10, 11, 12, 13, 14, 15, 16, 17, 19, 20, 22, 23, 24, 25, 26, 27, 28, 29, 30, 31, 32, 33, 34, 35, 36, 37, 38, 39, 40, 41, 42, 43, 44, 45, 46, 47, 48, 49, 50, 51, 52, 53, 54, 55, 56, 57, 58, 59, 60, 61, 62, 63, 64, 65, 66, 67, 68, 69, 70, 71, 72, 73, 74, 75, 76, 77, 78, 79, 80, 81, 82, 83, 84, 85, 86, 87, 88, 89, 90, 91, 92, 93, 94, 95, 96, 97, 98, 99, 100, 101, 102, 103, 104, 105, 106, 107, 108, 109, 110, 111, 112, 114, 116, 117, 118, 119, 120, 121, 122, 123, 124, 125, 126, 127, 128, 129, 131, 132, 133, 134, 135, 136, 137, 138, 139, 140, 141, 142, 143, 144, 145, 146, 147, 148, 149, 150, 151, 152, 153, 154, 155, 156, 157, 158, 159, 160, 161, 163, 164, 165, 166, 167, 168, 169, 170, 171, 172, 173, 174, 175, 176, 177, 178, 179, 180, 181, 182, 183, 184, 185, 186, 187, 188, 189, 190, 191, 192, 193, 194, 195, 196, 197, 198, 199, 200, 201, 202, 203, 204, 205, 206, 207, 208, 209, 210, 211, 212, 213, 214, 215, 216, 217, 218, 219, 220, 221, 222, 223, 224, 225, 226, 228, 229, 230, 231, 232, 233, 234, 235, 236, 237, 238, 239, 240, 241, 242, 243, 244, 245, 246, 247, 248, 249, 250, 251, 252, 253, 254, 255, 256, 257, 258, 259, 260, 261, 262, 263, 264, 265, 266, 267, 268, 269, 270, 271, 272, 273, 274, 275, 276, 277, 278, 279, 280, 281, 282, 283, 284, 285, 286, 287, 288, 289, 290, 291, 292, 293, 294, 295, 296, 297, 298, 299, 300, 301, 302, 303, 304, 305, 306, 307, 308, 309, 310, 311, 312, 313, 314, 315, 316, 317, 318, 319, 320, 321, 322, 323, 324, 325, 326, 327, 328, 329, 330, 331, 333, 334, 335, 336, 337, 338, 339, 340, 341, 342, 343, 344, 345, 347, 348, 349, 350, 351, 352, 353, 354, 355, 356, 357, 358, 359, 360, 361, 362, 363, 364]\n"
     ]
    }
   ],
   "source": [
    "team2 = sorted(train.team2.unique())\n",
    "print team2"
   ]
  },
  {
   "cell_type": "code",
   "execution_count": 113,
   "metadata": {
    "collapsed": false
   },
   "outputs": [
    {
     "name": "stdout",
     "output_type": "stream",
     "text": [
      "353\n"
     ]
    }
   ],
   "source": [
    "print len(team2)"
   ]
  },
  {
   "cell_type": "code",
   "execution_count": 114,
   "metadata": {
    "collapsed": false
   },
   "outputs": [
    {
     "name": "stdout",
     "output_type": "stream",
     "text": [
      "353\n"
     ]
    }
   ],
   "source": [
    "print len(set(team1) & set(team2))"
   ]
  },
  {
   "cell_type": "markdown",
   "metadata": {},
   "source": [
    "Соответственно и в team1, и в team2 из train.csv одни и те же команды"
   ]
  },
  {
   "cell_type": "code",
   "execution_count": 115,
   "metadata": {
    "collapsed": false
   },
   "outputs": [
    {
     "name": "stdout",
     "output_type": "stream",
     "text": [
      "[1, 2, 3, 4, 5, 6, 7, 8, 10, 11, 12, 13, 14, 15, 16, 17, 19, 20, 22, 23, 24, 25, 26, 27, 29, 30, 31, 32, 33, 35, 36, 37, 38, 39, 40, 41, 42, 43, 44, 45, 46, 48, 49, 50, 51, 52, 53, 54, 55, 56, 57, 58, 59, 60, 61, 62, 63, 64, 65, 66, 67, 68, 69, 70, 71, 72, 73, 74, 75, 76, 77, 78, 79, 80, 81, 82, 83, 84, 85, 86, 87, 88, 89, 90, 91, 92, 93, 94, 95, 96, 97, 98, 99, 100, 101, 102, 103, 104, 105, 106, 107, 108, 109, 110, 111, 112, 113, 114, 116, 117, 118, 119, 120, 121, 122, 123, 124, 125, 126, 127, 128, 129, 130, 131, 132, 133, 134, 135, 136, 137, 138, 139, 140, 141, 142, 143, 144, 145, 146, 147, 148, 149, 150, 151, 152, 153, 154, 155, 156, 157, 158, 159, 160, 161, 162, 163, 164, 165, 166, 167, 168, 169, 170, 171, 172, 173, 174, 175, 176, 177, 178, 179, 180, 181, 182, 183, 184, 185, 186, 187, 188, 190, 191, 192, 193, 194, 195, 196, 197, 198, 199, 200, 201, 203, 204, 205, 206, 207, 208, 209, 210, 211, 212, 213, 214, 215, 216, 217, 218, 219, 220, 221, 222, 223, 224, 225, 226, 228, 229, 230, 231, 232, 233, 234, 235, 236, 237, 238, 239, 240, 241, 242, 243, 244, 245, 246, 247, 248, 249, 250, 251, 252, 253, 254, 255, 256, 257, 258, 259, 260, 261, 262, 263, 264, 265, 266, 267, 268, 269, 270, 271, 272, 273, 274, 275, 276, 277, 278, 279, 280, 281, 282, 283, 284, 285, 286, 287, 288, 289, 290, 291, 292, 293, 294, 295, 296, 297, 298, 299, 300, 301, 302, 303, 304, 305, 306, 307, 308, 309, 310, 311, 312, 313, 314, 315, 316, 317, 318, 319, 320, 321, 322, 323, 324, 325, 326, 327, 328, 329, 330, 331, 333, 334, 335, 336, 337, 338, 339, 340, 341, 342, 343, 344, 347, 348, 349, 350, 351, 352, 353, 354, 355, 356, 357, 358, 359, 360, 361, 362, 363]\n"
     ]
    }
   ],
   "source": [
    "print sorted(test.team2.unique())"
   ]
  },
  {
   "cell_type": "markdown",
   "metadata": {},
   "source": [
    "В test.csv есть команды, которых нет в train.csv. Ну а количество команд подталкивает к тому, что это индивидуальный спорт"
   ]
  },
  {
   "cell_type": "markdown",
   "metadata": {},
   "source": [
    "# Scores"
   ]
  },
  {
   "cell_type": "code",
   "execution_count": 116,
   "metadata": {
    "collapsed": false
   },
   "outputs": [
    {
     "name": "stdout",
     "output_type": "stream",
     "text": [
      "[81, 85, 89, 92, 96, 100, 104, 108, 112, 116, 119, 123, 127, 131, 135, 139, 143, 147, 150, 154, 158, 162, 166, 170, 174, 178, 181, 185, 189, 193, 197, 201, 205, 208, 212, 216, 220, 224, 228, 232, 236, 239, 243, 247, 251, 255, 259, 263, 267, 270, 274, 278, 282, 286, 290, 294, 297, 301, 305, 309, 313, 317, 321, 325, 328, 332, 336, 340, 344, 348, 352, 356, 359, 363, 367, 371, 375, 379, 383, 387, 390, 394, 398, 402, 406, 410, 414, 417, 421, 425, 429, 433, 437, 441, 445, 448, 452, 456, 460, 464, 468, 472, 476, 479, 483, 487, 491, 495, 499, 503, 506, 510, 514, 526, 530, 534, 541, 545, 549, 553, 565, 572, 592, 599, 603]\n"
     ]
    }
   ],
   "source": [
    "score1 = sorted(train.score1.unique())\n",
    "print score1"
   ]
  },
  {
   "cell_type": "markdown",
   "metadata": {},
   "source": [
    "Видим, что разница между очками в среднем 4 или 5. Это наводит на мысль о том, что за каждый 'гол' начисляется 4 или 5 очков."
   ]
  },
  {
   "cell_type": "markdown",
   "metadata": {},
   "source": [
    "# tournament"
   ]
  },
  {
   "cell_type": "code",
   "execution_count": 117,
   "metadata": {
    "collapsed": false
   },
   "outputs": [
    {
     "data": {
      "text/plain": [
       "[<matplotlib.lines.Line2D at 0x117b73310>]"
      ]
     },
     "execution_count": 117,
     "metadata": {},
     "output_type": "execute_result"
    },
    {
     "data": {
      "image/png": "[encoded data removed]",
      "text/plain": [
       "<matplotlib.figure.Figure at 0x115604050>"
      ]
     },
     "metadata": {},
     "output_type": "display_data"
    }
   ],
   "source": [
    "df_3015 = train[train['year']==3015]\n",
    "cnt_games = []\n",
    "days = df_3015.day\n",
    "\n",
    "for i in days:\n",
    "    cnt_games.append(df_3015[df_3015['day']==i].shape[0])\n",
    "    \n",
    "plt.plot(days, cnt_games)"
   ]
  },
  {
   "cell_type": "markdown",
   "metadata": {},
   "source": [
    "# Make data for cross_validation"
   ]
  },
  {
   "cell_type": "code",
   "execution_count": 118,
   "metadata": {
    "collapsed": false
   },
   "outputs": [
    {
     "name": "stdout",
     "output_type": "stream",
     "text": [
      "[2998 2999 3000 3001 3002 3003 3004 3005 3006 3007 3008 3009 3010 3011 3012\n",
      " 3013 3014 3015 3016 3017 3018 3019]\n"
     ]
    }
   ],
   "source": [
    "print train.year.unique()"
   ]
  },
  {
   "cell_type": "code",
   "execution_count": 119,
   "metadata": {
    "collapsed": false
   },
   "outputs": [
    {
     "name": "stdout",
     "output_type": "stream",
     "text": [
      "[3021 3020]\n"
     ]
    }
   ],
   "source": [
    "print test.year.unique()"
   ]
  },
  {
   "cell_type": "code",
   "execution_count": 120,
   "metadata": {
    "collapsed": false
   },
   "outputs": [
    {
     "data": {
      "text/html": [
       "<div>\n",
       "<table border=\"1\" class=\"dataframe\">\n",
       "  <thead>\n",
       "    <tr style=\"text-align: right;\">\n",
       "      <th></th>\n",
       "      <th>Id</th>\n",
       "      <th>year</th>\n",
       "      <th>team1</th>\n",
       "      <th>team2</th>\n",
       "    </tr>\n",
       "  </thead>\n",
       "  <tbody>\n",
       "    <tr>\n",
       "      <th>0</th>\n",
       "      <td>0</td>\n",
       "      <td>3021</td>\n",
       "      <td>363</td>\n",
       "      <td>161</td>\n",
       "    </tr>\n",
       "    <tr>\n",
       "      <th>1</th>\n",
       "      <td>1</td>\n",
       "      <td>3021</td>\n",
       "      <td>286</td>\n",
       "      <td>2</td>\n",
       "    </tr>\n",
       "  </tbody>\n",
       "</table>\n",
       "</div>"
      ],
      "text/plain": [
       "   Id  year  team1  team2\n",
       "0   0  3021    363    161\n",
       "1   1  3021    286      2"
      ]
     },
     "execution_count": 120,
     "metadata": {},
     "output_type": "execute_result"
    }
   ],
   "source": [
    "test.head(2)"
   ]
  },
  {
   "cell_type": "markdown",
   "metadata": {},
   "source": [
    "В train.csv нет данных про игры позднее 3019 года, поэтому будем делать максимально похожую кросс-валидацию"
   ]
  },
  {
   "cell_type": "code",
   "execution_count": 121,
   "metadata": {
    "collapsed": false
   },
   "outputs": [
    {
     "data": {
      "text/plain": [
       "array([2998, 2999, 3000, 3001, 3002, 3003, 3004, 3005, 3006, 3007, 3008,\n",
       "       3009, 3010, 3011, 3012, 3013, 3014])"
      ]
     },
     "execution_count": 121,
     "metadata": {},
     "output_type": "execute_result"
    }
   ],
   "source": [
    "STOP_YEAR = 3015\n",
    "X_train_first_part = train[train['year']<STOP_YEAR]\n",
    "X_train_first_part.year.unique()"
   ]
  },
  {
   "cell_type": "code",
   "execution_count": 122,
   "metadata": {
    "collapsed": false
   },
   "outputs": [
    {
     "name": "stdout",
     "output_type": "stream",
     "text": [
      "75278\n"
     ]
    }
   ],
   "source": [
    "STOP_INDEX = X_train_first_part.shape[0]\n",
    "print STOP_INDEX"
   ]
  },
  {
   "cell_type": "code",
   "execution_count": null,
   "metadata": {
    "collapsed": true
   },
   "outputs": [],
   "source": []
  },
  {
   "cell_type": "code",
   "execution_count": 123,
   "metadata": {
    "collapsed": true
   },
   "outputs": [],
   "source": [
    "X_train_second_part = X_train_first_part"
   ]
  },
  {
   "cell_type": "markdown",
   "metadata": {},
   "source": [
    "Посмотрим, в каком отношении мы разбили train.csv на обучающую и тестовую"
   ]
  },
  {
   "cell_type": "code",
   "execution_count": 124,
   "metadata": {
    "collapsed": false
   },
   "outputs": [
    {
     "name": "stdout",
     "output_type": "stream",
     "text": [
      "0.740859569526\n"
     ]
    }
   ],
   "source": [
    "print X_train_first_part.shape[0]/float(train.shape[0])"
   ]
  },
  {
   "cell_type": "code",
   "execution_count": 125,
   "metadata": {
    "collapsed": true
   },
   "outputs": [],
   "source": [
    "y_train_first_part = train[['target']][: STOP_INDEX]"
   ]
  },
  {
   "cell_type": "code",
   "execution_count": null,
   "metadata": {
    "collapsed": true
   },
   "outputs": [],
   "source": []
  },
  {
   "cell_type": "code",
   "execution_count": 126,
   "metadata": {
    "collapsed": false
   },
   "outputs": [],
   "source": [
    "y_train_second_part = pd.DataFrame(list(map (lambda x: bool(1-x), y_train_first_part.values.T[0])), columns=['target'])\n",
    "y_train_second_part.index = list(i for i in range(STOP_INDEX-1, 150555))"
   ]
  },
  {
   "cell_type": "code",
   "execution_count": 127,
   "metadata": {
    "collapsed": false
   },
   "outputs": [
    {
     "data": {
      "text/html": [
       "<div>\n",
       "<table border=\"1\" class=\"dataframe\">\n",
       "  <thead>\n",
       "    <tr style=\"text-align: right;\">\n",
       "      <th></th>\n",
       "      <th>target</th>\n",
       "    </tr>\n",
       "  </thead>\n",
       "  <tbody>\n",
       "    <tr>\n",
       "      <th>0</th>\n",
       "      <td>True</td>\n",
       "    </tr>\n",
       "    <tr>\n",
       "      <th>1</th>\n",
       "      <td>True</td>\n",
       "    </tr>\n",
       "    <tr>\n",
       "      <th>2</th>\n",
       "      <td>True</td>\n",
       "    </tr>\n",
       "    <tr>\n",
       "      <th>3</th>\n",
       "      <td>False</td>\n",
       "    </tr>\n",
       "    <tr>\n",
       "      <th>4</th>\n",
       "      <td>True</td>\n",
       "    </tr>\n",
       "    <tr>\n",
       "      <th>5</th>\n",
       "      <td>False</td>\n",
       "    </tr>\n",
       "    <tr>\n",
       "      <th>6</th>\n",
       "      <td>False</td>\n",
       "    </tr>\n",
       "    <tr>\n",
       "      <th>7</th>\n",
       "      <td>True</td>\n",
       "    </tr>\n",
       "    <tr>\n",
       "      <th>8</th>\n",
       "      <td>True</td>\n",
       "    </tr>\n",
       "    <tr>\n",
       "      <th>9</th>\n",
       "      <td>False</td>\n",
       "    </tr>\n",
       "    <tr>\n",
       "      <th>10</th>\n",
       "      <td>True</td>\n",
       "    </tr>\n",
       "    <tr>\n",
       "      <th>11</th>\n",
       "      <td>True</td>\n",
       "    </tr>\n",
       "    <tr>\n",
       "      <th>12</th>\n",
       "      <td>True</td>\n",
       "    </tr>\n",
       "    <tr>\n",
       "      <th>13</th>\n",
       "      <td>True</td>\n",
       "    </tr>\n",
       "    <tr>\n",
       "      <th>14</th>\n",
       "      <td>False</td>\n",
       "    </tr>\n",
       "    <tr>\n",
       "      <th>15</th>\n",
       "      <td>True</td>\n",
       "    </tr>\n",
       "    <tr>\n",
       "      <th>16</th>\n",
       "      <td>False</td>\n",
       "    </tr>\n",
       "    <tr>\n",
       "      <th>17</th>\n",
       "      <td>True</td>\n",
       "    </tr>\n",
       "    <tr>\n",
       "      <th>18</th>\n",
       "      <td>True</td>\n",
       "    </tr>\n",
       "    <tr>\n",
       "      <th>19</th>\n",
       "      <td>True</td>\n",
       "    </tr>\n",
       "    <tr>\n",
       "      <th>20</th>\n",
       "      <td>False</td>\n",
       "    </tr>\n",
       "    <tr>\n",
       "      <th>21</th>\n",
       "      <td>False</td>\n",
       "    </tr>\n",
       "    <tr>\n",
       "      <th>22</th>\n",
       "      <td>True</td>\n",
       "    </tr>\n",
       "    <tr>\n",
       "      <th>23</th>\n",
       "      <td>False</td>\n",
       "    </tr>\n",
       "    <tr>\n",
       "      <th>24</th>\n",
       "      <td>True</td>\n",
       "    </tr>\n",
       "    <tr>\n",
       "      <th>25</th>\n",
       "      <td>False</td>\n",
       "    </tr>\n",
       "    <tr>\n",
       "      <th>26</th>\n",
       "      <td>False</td>\n",
       "    </tr>\n",
       "    <tr>\n",
       "      <th>27</th>\n",
       "      <td>False</td>\n",
       "    </tr>\n",
       "    <tr>\n",
       "      <th>28</th>\n",
       "      <td>True</td>\n",
       "    </tr>\n",
       "    <tr>\n",
       "      <th>29</th>\n",
       "      <td>True</td>\n",
       "    </tr>\n",
       "    <tr>\n",
       "      <th>...</th>\n",
       "      <td>...</td>\n",
       "    </tr>\n",
       "    <tr>\n",
       "      <th>75247</th>\n",
       "      <td>True</td>\n",
       "    </tr>\n",
       "    <tr>\n",
       "      <th>75248</th>\n",
       "      <td>True</td>\n",
       "    </tr>\n",
       "    <tr>\n",
       "      <th>75249</th>\n",
       "      <td>False</td>\n",
       "    </tr>\n",
       "    <tr>\n",
       "      <th>75250</th>\n",
       "      <td>False</td>\n",
       "    </tr>\n",
       "    <tr>\n",
       "      <th>75251</th>\n",
       "      <td>False</td>\n",
       "    </tr>\n",
       "    <tr>\n",
       "      <th>75252</th>\n",
       "      <td>True</td>\n",
       "    </tr>\n",
       "    <tr>\n",
       "      <th>75253</th>\n",
       "      <td>False</td>\n",
       "    </tr>\n",
       "    <tr>\n",
       "      <th>75254</th>\n",
       "      <td>True</td>\n",
       "    </tr>\n",
       "    <tr>\n",
       "      <th>75255</th>\n",
       "      <td>True</td>\n",
       "    </tr>\n",
       "    <tr>\n",
       "      <th>75256</th>\n",
       "      <td>False</td>\n",
       "    </tr>\n",
       "    <tr>\n",
       "      <th>75257</th>\n",
       "      <td>False</td>\n",
       "    </tr>\n",
       "    <tr>\n",
       "      <th>75258</th>\n",
       "      <td>True</td>\n",
       "    </tr>\n",
       "    <tr>\n",
       "      <th>75259</th>\n",
       "      <td>True</td>\n",
       "    </tr>\n",
       "    <tr>\n",
       "      <th>75260</th>\n",
       "      <td>False</td>\n",
       "    </tr>\n",
       "    <tr>\n",
       "      <th>75261</th>\n",
       "      <td>False</td>\n",
       "    </tr>\n",
       "    <tr>\n",
       "      <th>75262</th>\n",
       "      <td>False</td>\n",
       "    </tr>\n",
       "    <tr>\n",
       "      <th>75263</th>\n",
       "      <td>False</td>\n",
       "    </tr>\n",
       "    <tr>\n",
       "      <th>75264</th>\n",
       "      <td>False</td>\n",
       "    </tr>\n",
       "    <tr>\n",
       "      <th>75265</th>\n",
       "      <td>True</td>\n",
       "    </tr>\n",
       "    <tr>\n",
       "      <th>75266</th>\n",
       "      <td>True</td>\n",
       "    </tr>\n",
       "    <tr>\n",
       "      <th>75267</th>\n",
       "      <td>False</td>\n",
       "    </tr>\n",
       "    <tr>\n",
       "      <th>75268</th>\n",
       "      <td>True</td>\n",
       "    </tr>\n",
       "    <tr>\n",
       "      <th>75269</th>\n",
       "      <td>True</td>\n",
       "    </tr>\n",
       "    <tr>\n",
       "      <th>75270</th>\n",
       "      <td>True</td>\n",
       "    </tr>\n",
       "    <tr>\n",
       "      <th>75271</th>\n",
       "      <td>False</td>\n",
       "    </tr>\n",
       "    <tr>\n",
       "      <th>75272</th>\n",
       "      <td>True</td>\n",
       "    </tr>\n",
       "    <tr>\n",
       "      <th>75273</th>\n",
       "      <td>True</td>\n",
       "    </tr>\n",
       "    <tr>\n",
       "      <th>75274</th>\n",
       "      <td>False</td>\n",
       "    </tr>\n",
       "    <tr>\n",
       "      <th>75275</th>\n",
       "      <td>False</td>\n",
       "    </tr>\n",
       "    <tr>\n",
       "      <th>75276</th>\n",
       "      <td>True</td>\n",
       "    </tr>\n",
       "  </tbody>\n",
       "</table>\n",
       "<p>75277 rows × 1 columns</p>\n",
       "</div>"
      ],
      "text/plain": [
       "      target\n",
       "0       True\n",
       "1       True\n",
       "2       True\n",
       "3      False\n",
       "4       True\n",
       "5      False\n",
       "6      False\n",
       "7       True\n",
       "8       True\n",
       "9      False\n",
       "10      True\n",
       "11      True\n",
       "12      True\n",
       "13      True\n",
       "14     False\n",
       "15      True\n",
       "16     False\n",
       "17      True\n",
       "18      True\n",
       "19      True\n",
       "20     False\n",
       "21     False\n",
       "22      True\n",
       "23     False\n",
       "24      True\n",
       "25     False\n",
       "26     False\n",
       "27     False\n",
       "28      True\n",
       "29      True\n",
       "...      ...\n",
       "75247   True\n",
       "75248   True\n",
       "75249  False\n",
       "75250  False\n",
       "75251  False\n",
       "75252   True\n",
       "75253  False\n",
       "75254   True\n",
       "75255   True\n",
       "75256  False\n",
       "75257  False\n",
       "75258   True\n",
       "75259   True\n",
       "75260  False\n",
       "75261  False\n",
       "75262  False\n",
       "75263  False\n",
       "75264  False\n",
       "75265   True\n",
       "75266   True\n",
       "75267  False\n",
       "75268   True\n",
       "75269   True\n",
       "75270   True\n",
       "75271  False\n",
       "75272   True\n",
       "75273   True\n",
       "75274  False\n",
       "75275  False\n",
       "75276   True\n",
       "\n",
       "[75277 rows x 1 columns]"
      ]
     },
     "execution_count": 127,
     "metadata": {},
     "output_type": "execute_result"
    }
   ],
   "source": [
    "y_train_first_part.head(-1)"
   ]
  },
  {
   "cell_type": "code",
   "execution_count": 128,
   "metadata": {
    "collapsed": false
   },
   "outputs": [
    {
     "data": {
      "text/plain": [
       "(75278, 1)"
      ]
     },
     "execution_count": 128,
     "metadata": {},
     "output_type": "execute_result"
    }
   ],
   "source": [
    "y_train_first_part.shape"
   ]
  },
  {
   "cell_type": "code",
   "execution_count": 129,
   "metadata": {
    "collapsed": false
   },
   "outputs": [
    {
     "data": {
      "text/html": [
       "<div>\n",
       "<table border=\"1\" class=\"dataframe\">\n",
       "  <thead>\n",
       "    <tr style=\"text-align: right;\">\n",
       "      <th></th>\n",
       "      <th>target</th>\n",
       "    </tr>\n",
       "  </thead>\n",
       "  <tbody>\n",
       "    <tr>\n",
       "      <th>75277</th>\n",
       "      <td>False</td>\n",
       "    </tr>\n",
       "    <tr>\n",
       "      <th>75278</th>\n",
       "      <td>False</td>\n",
       "    </tr>\n",
       "    <tr>\n",
       "      <th>75279</th>\n",
       "      <td>False</td>\n",
       "    </tr>\n",
       "    <tr>\n",
       "      <th>75280</th>\n",
       "      <td>True</td>\n",
       "    </tr>\n",
       "    <tr>\n",
       "      <th>75281</th>\n",
       "      <td>False</td>\n",
       "    </tr>\n",
       "  </tbody>\n",
       "</table>\n",
       "</div>"
      ],
      "text/plain": [
       "      target\n",
       "75277  False\n",
       "75278  False\n",
       "75279  False\n",
       "75280   True\n",
       "75281  False"
      ]
     },
     "execution_count": 129,
     "metadata": {},
     "output_type": "execute_result"
    }
   ],
   "source": [
    "y_train_second_part.head(5)"
   ]
  },
  {
   "cell_type": "code",
   "execution_count": 130,
   "metadata": {
    "collapsed": false
   },
   "outputs": [
    {
     "data": {
      "text/plain": [
       "(75278, 1)"
      ]
     },
     "execution_count": 130,
     "metadata": {},
     "output_type": "execute_result"
    }
   ],
   "source": [
    "y_train_second_part.shape"
   ]
  },
  {
   "cell_type": "code",
   "execution_count": 131,
   "metadata": {
    "collapsed": false
   },
   "outputs": [
    {
     "data": {
      "text/plain": [
       "(150556, 1)"
      ]
     },
     "execution_count": 131,
     "metadata": {},
     "output_type": "execute_result"
    }
   ],
   "source": [
    "y_train = pd.concat([y_train_first_part, y_train_second_part], axis=0)\n",
    "y_train.shape"
   ]
  },
  {
   "cell_type": "code",
   "execution_count": 132,
   "metadata": {
    "collapsed": false
   },
   "outputs": [
    {
     "data": {
      "text/plain": [
       "(26331, 1)"
      ]
     },
     "execution_count": 132,
     "metadata": {},
     "output_type": "execute_result"
    }
   ],
   "source": [
    "y_test = train[['target']][STOP_INDEX : ]\n",
    "y_test.shape"
   ]
  },
  {
   "cell_type": "markdown",
   "metadata": {},
   "source": [
    "Сделаем таблицу X_year"
   ]
  },
  {
   "cell_type": "code",
   "execution_count": 133,
   "metadata": {
    "collapsed": true
   },
   "outputs": [],
   "source": [
    "X_year_I = X_train_first_part[['year']]\n",
    "X_year_II = X_train_second_part[['year']]"
   ]
  },
  {
   "cell_type": "code",
   "execution_count": 134,
   "metadata": {
    "collapsed": true
   },
   "outputs": [],
   "source": [
    "X_year = pd.concat([X_year_I, X_year_II], axis=0)"
   ]
  },
  {
   "cell_type": "code",
   "execution_count": 135,
   "metadata": {
    "collapsed": false
   },
   "outputs": [
    {
     "data": {
      "text/plain": [
       "(150556, 1)"
      ]
     },
     "execution_count": 135,
     "metadata": {},
     "output_type": "execute_result"
    }
   ],
   "source": [
    "X_year.shape"
   ]
  },
  {
   "cell_type": "code",
   "execution_count": 136,
   "metadata": {
    "collapsed": false
   },
   "outputs": [
    {
     "data": {
      "text/html": [
       "<div>\n",
       "<table border=\"1\" class=\"dataframe\">\n",
       "  <thead>\n",
       "    <tr style=\"text-align: right;\">\n",
       "      <th></th>\n",
       "      <th>year</th>\n",
       "    </tr>\n",
       "  </thead>\n",
       "  <tbody>\n",
       "    <tr>\n",
       "      <th>0</th>\n",
       "      <td>2998</td>\n",
       "    </tr>\n",
       "    <tr>\n",
       "      <th>1</th>\n",
       "      <td>2998</td>\n",
       "    </tr>\n",
       "  </tbody>\n",
       "</table>\n",
       "</div>"
      ],
      "text/plain": [
       "   year\n",
       "0  2998\n",
       "1  2998"
      ]
     },
     "execution_count": 136,
     "metadata": {},
     "output_type": "execute_result"
    }
   ],
   "source": [
    "X_year.head(2)"
   ]
  },
  {
   "cell_type": "markdown",
   "metadata": {},
   "source": [
    "# Hot_Encode"
   ]
  },
  {
   "cell_type": "code",
   "execution_count": 62,
   "metadata": {
    "collapsed": true
   },
   "outputs": [],
   "source": [
    "enc = OneHotEncoder(sparse=False)\n",
    "\n",
    "train_team1_all = pd.DataFrame(enc.fit_transform(train[['team1']]))\n",
    "train_team2_all = pd.DataFrame(enc.transform(train[['team2']]))\n",
    "train_teams_all = pd.concat([train_team1_all, train_team2_all], axis=1)\n",
    "\n",
    "test_team1 = pd.DataFrame(enc.transform(test[['team1']]))\n",
    "test_team2 = pd.DataFrame(enc.transform(test[['team2']]))\n",
    "test_teams = pd.concat([test_team1, test_team2], axis=1)"
   ]
  },
  {
   "cell_type": "code",
   "execution_count": 63,
   "metadata": {
    "collapsed": true
   },
   "outputs": [],
   "source": [
    "reverse_train_teams_all = pd.concat([train_team2_all, train_team1_all], axis=1)"
   ]
  },
  {
   "cell_type": "code",
   "execution_count": 64,
   "metadata": {
    "collapsed": false
   },
   "outputs": [
    {
     "data": {
      "text/plain": [
       "(101609, 706)"
      ]
     },
     "execution_count": 64,
     "metadata": {},
     "output_type": "execute_result"
    }
   ],
   "source": [
    "train_teams_all.shape"
   ]
  },
  {
   "cell_type": "code",
   "execution_count": 65,
   "metadata": {
    "collapsed": false
   },
   "outputs": [
    {
     "data": {
      "text/plain": [
       "(101609, 706)"
      ]
     },
     "execution_count": 65,
     "metadata": {},
     "output_type": "execute_result"
    }
   ],
   "source": [
    "reverse_train_teams_all.shape"
   ]
  },
  {
   "cell_type": "code",
   "execution_count": 66,
   "metadata": {
    "collapsed": false
   },
   "outputs": [
    {
     "data": {
      "text/plain": [
       "(75278, 706)"
      ]
     },
     "execution_count": 66,
     "metadata": {},
     "output_type": "execute_result"
    }
   ],
   "source": [
    "train_teams = train_teams_all[ :STOP_INDEX ]\n",
    "train_teams.shape"
   ]
  },
  {
   "cell_type": "code",
   "execution_count": 67,
   "metadata": {
    "collapsed": false
   },
   "outputs": [
    {
     "data": {
      "text/plain": [
       "(75278, 706)"
      ]
     },
     "execution_count": 67,
     "metadata": {},
     "output_type": "execute_result"
    }
   ],
   "source": [
    "reverse_train_teams = reverse_train_teams_all[ :STOP_INDEX ]\n",
    "reverse_train_teams.shape"
   ]
  },
  {
   "cell_type": "code",
   "execution_count": 68,
   "metadata": {
    "collapsed": false
   },
   "outputs": [
    {
     "data": {
      "text/plain": [
       "(150556, 706)"
      ]
     },
     "execution_count": 68,
     "metadata": {},
     "output_type": "execute_result"
    }
   ],
   "source": [
    "teams_to_add = pd.concat([train_teams, reverse_train_teams], axis=0)\n",
    "teams_to_add.shape"
   ]
  },
  {
   "cell_type": "code",
   "execution_count": 69,
   "metadata": {
    "collapsed": true
   },
   "outputs": [],
   "source": [
    "train_data = pd.concat([X_year, teams_to_add], axis=1)"
   ]
  },
  {
   "cell_type": "code",
   "execution_count": 70,
   "metadata": {
    "collapsed": false
   },
   "outputs": [
    {
     "data": {
      "text/plain": [
       "(150556, 707)"
      ]
     },
     "execution_count": 70,
     "metadata": {},
     "output_type": "execute_result"
    }
   ],
   "source": [
    "train_data.shape"
   ]
  },
  {
   "cell_type": "code",
   "execution_count": 71,
   "metadata": {
    "collapsed": false
   },
   "outputs": [
    {
     "data": {
      "text/html": [
       "<div>\n",
       "<table border=\"1\" class=\"dataframe\">\n",
       "  <thead>\n",
       "    <tr style=\"text-align: right;\">\n",
       "      <th></th>\n",
       "      <th>year</th>\n",
       "      <th>0</th>\n",
       "      <th>1</th>\n",
       "      <th>2</th>\n",
       "      <th>3</th>\n",
       "      <th>4</th>\n",
       "      <th>5</th>\n",
       "      <th>6</th>\n",
       "      <th>7</th>\n",
       "      <th>8</th>\n",
       "      <th>...</th>\n",
       "      <th>343</th>\n",
       "      <th>344</th>\n",
       "      <th>345</th>\n",
       "      <th>346</th>\n",
       "      <th>347</th>\n",
       "      <th>348</th>\n",
       "      <th>349</th>\n",
       "      <th>350</th>\n",
       "      <th>351</th>\n",
       "      <th>352</th>\n",
       "    </tr>\n",
       "  </thead>\n",
       "  <tbody>\n",
       "    <tr>\n",
       "      <th>0</th>\n",
       "      <td>2998</td>\n",
       "      <td>0.0</td>\n",
       "      <td>0.0</td>\n",
       "      <td>0.0</td>\n",
       "      <td>0.0</td>\n",
       "      <td>0.0</td>\n",
       "      <td>0.0</td>\n",
       "      <td>0.0</td>\n",
       "      <td>0.0</td>\n",
       "      <td>0.0</td>\n",
       "      <td>...</td>\n",
       "      <td>0.0</td>\n",
       "      <td>0.0</td>\n",
       "      <td>0.0</td>\n",
       "      <td>0.0</td>\n",
       "      <td>0.0</td>\n",
       "      <td>0.0</td>\n",
       "      <td>0.0</td>\n",
       "      <td>0.0</td>\n",
       "      <td>0.0</td>\n",
       "      <td>0.0</td>\n",
       "    </tr>\n",
       "    <tr>\n",
       "      <th>1</th>\n",
       "      <td>2998</td>\n",
       "      <td>0.0</td>\n",
       "      <td>0.0</td>\n",
       "      <td>0.0</td>\n",
       "      <td>0.0</td>\n",
       "      <td>0.0</td>\n",
       "      <td>0.0</td>\n",
       "      <td>0.0</td>\n",
       "      <td>0.0</td>\n",
       "      <td>0.0</td>\n",
       "      <td>...</td>\n",
       "      <td>0.0</td>\n",
       "      <td>0.0</td>\n",
       "      <td>0.0</td>\n",
       "      <td>0.0</td>\n",
       "      <td>0.0</td>\n",
       "      <td>0.0</td>\n",
       "      <td>0.0</td>\n",
       "      <td>0.0</td>\n",
       "      <td>0.0</td>\n",
       "      <td>0.0</td>\n",
       "    </tr>\n",
       "  </tbody>\n",
       "</table>\n",
       "<p>2 rows × 707 columns</p>\n",
       "</div>"
      ],
      "text/plain": [
       "   year    0    1    2    3    4    5    6    7    8 ...   343  344  345  346  \\\n",
       "0  2998  0.0  0.0  0.0  0.0  0.0  0.0  0.0  0.0  0.0 ...   0.0  0.0  0.0  0.0   \n",
       "1  2998  0.0  0.0  0.0  0.0  0.0  0.0  0.0  0.0  0.0 ...   0.0  0.0  0.0  0.0   \n",
       "\n",
       "   347  348  349  350  351  352  \n",
       "0  0.0  0.0  0.0  0.0  0.0  0.0  \n",
       "1  0.0  0.0  0.0  0.0  0.0  0.0  \n",
       "\n",
       "[2 rows x 707 columns]"
      ]
     },
     "execution_count": 71,
     "metadata": {},
     "output_type": "execute_result"
    }
   ],
   "source": [
    "train_data.head(2)"
   ]
  },
  {
   "cell_type": "code",
   "execution_count": 72,
   "metadata": {
    "collapsed": false
   },
   "outputs": [
    {
     "data": {
      "text/plain": [
       "(26331, 707)"
      ]
     },
     "execution_count": 72,
     "metadata": {},
     "output_type": "execute_result"
    }
   ],
   "source": [
    "test_data = pd.concat([train[['year']][ STOP_INDEX: ], train_teams_all[ STOP_INDEX: ]], axis=1)\n",
    "test_data.shape"
   ]
  },
  {
   "cell_type": "code",
   "execution_count": 73,
   "metadata": {
    "collapsed": false
   },
   "outputs": [
    {
     "data": {
      "text/html": [
       "<div>\n",
       "<table border=\"1\" class=\"dataframe\">\n",
       "  <thead>\n",
       "    <tr style=\"text-align: right;\">\n",
       "      <th></th>\n",
       "      <th>year</th>\n",
       "      <th>0</th>\n",
       "      <th>1</th>\n",
       "      <th>2</th>\n",
       "      <th>3</th>\n",
       "      <th>4</th>\n",
       "      <th>5</th>\n",
       "      <th>6</th>\n",
       "      <th>7</th>\n",
       "      <th>8</th>\n",
       "      <th>...</th>\n",
       "      <th>343</th>\n",
       "      <th>344</th>\n",
       "      <th>345</th>\n",
       "      <th>346</th>\n",
       "      <th>347</th>\n",
       "      <th>348</th>\n",
       "      <th>349</th>\n",
       "      <th>350</th>\n",
       "      <th>351</th>\n",
       "      <th>352</th>\n",
       "    </tr>\n",
       "  </thead>\n",
       "  <tbody>\n",
       "    <tr>\n",
       "      <th>75278</th>\n",
       "      <td>3015</td>\n",
       "      <td>0.0</td>\n",
       "      <td>0.0</td>\n",
       "      <td>0.0</td>\n",
       "      <td>0.0</td>\n",
       "      <td>0.0</td>\n",
       "      <td>0.0</td>\n",
       "      <td>0.0</td>\n",
       "      <td>0.0</td>\n",
       "      <td>0.0</td>\n",
       "      <td>...</td>\n",
       "      <td>0.0</td>\n",
       "      <td>0.0</td>\n",
       "      <td>0.0</td>\n",
       "      <td>0.0</td>\n",
       "      <td>0.0</td>\n",
       "      <td>0.0</td>\n",
       "      <td>0.0</td>\n",
       "      <td>0.0</td>\n",
       "      <td>0.0</td>\n",
       "      <td>0.0</td>\n",
       "    </tr>\n",
       "    <tr>\n",
       "      <th>75279</th>\n",
       "      <td>3015</td>\n",
       "      <td>0.0</td>\n",
       "      <td>0.0</td>\n",
       "      <td>0.0</td>\n",
       "      <td>0.0</td>\n",
       "      <td>0.0</td>\n",
       "      <td>0.0</td>\n",
       "      <td>0.0</td>\n",
       "      <td>0.0</td>\n",
       "      <td>0.0</td>\n",
       "      <td>...</td>\n",
       "      <td>0.0</td>\n",
       "      <td>0.0</td>\n",
       "      <td>0.0</td>\n",
       "      <td>0.0</td>\n",
       "      <td>0.0</td>\n",
       "      <td>0.0</td>\n",
       "      <td>0.0</td>\n",
       "      <td>0.0</td>\n",
       "      <td>0.0</td>\n",
       "      <td>0.0</td>\n",
       "    </tr>\n",
       "  </tbody>\n",
       "</table>\n",
       "<p>2 rows × 707 columns</p>\n",
       "</div>"
      ],
      "text/plain": [
       "       year    0    1    2    3    4    5    6    7    8 ...   343  344  345  \\\n",
       "75278  3015  0.0  0.0  0.0  0.0  0.0  0.0  0.0  0.0  0.0 ...   0.0  0.0  0.0   \n",
       "75279  3015  0.0  0.0  0.0  0.0  0.0  0.0  0.0  0.0  0.0 ...   0.0  0.0  0.0   \n",
       "\n",
       "       346  347  348  349  350  351  352  \n",
       "75278  0.0  0.0  0.0  0.0  0.0  0.0  0.0  \n",
       "75279  0.0  0.0  0.0  0.0  0.0  0.0  0.0  \n",
       "\n",
       "[2 rows x 707 columns]"
      ]
     },
     "execution_count": 73,
     "metadata": {},
     "output_type": "execute_result"
    }
   ],
   "source": [
    "test_data.head(2)"
   ]
  },
  {
   "cell_type": "code",
   "execution_count": 74,
   "metadata": {
    "collapsed": false
   },
   "outputs": [
    {
     "data": {
      "text/plain": [
       "Int64Index([    0,     1,     2,     3,     4,     5,     6,     7,     8,\n",
       "                9,\n",
       "            ...\n",
       "            75268, 75269, 75270, 75271, 75272, 75273, 75274, 75275, 75276,\n",
       "            75277],\n",
       "           dtype='int64', length=150556)"
      ]
     },
     "execution_count": 74,
     "metadata": {},
     "output_type": "execute_result"
    }
   ],
   "source": [
    "train_data.index"
   ]
  },
  {
   "cell_type": "markdown",
   "metadata": {},
   "source": [
    "Итак, train_data – данные, на которых обучаемся, y_train – метки класса для данных, на которых обучаемся;\n",
    "\n",
    "test_data, y_test – данные, на которых оцениваем качество алгоритмов"
   ]
  },
  {
   "cell_type": "markdown",
   "metadata": {},
   "source": [
    "# without hot_encode"
   ]
  },
  {
   "cell_type": "code",
   "execution_count": 138,
   "metadata": {
    "collapsed": true
   },
   "outputs": [],
   "source": [
    "train_team1_all = train[['team1']]\n",
    "train_team2_all = train[['team2']]\n",
    "\n",
    "train_teams_all = pd.concat([train_team1_all, train_team2_all], axis=1)\n",
    "train_teams_reverse_all = pd.concat([train_team2_all, train_team1_all], axis=1)"
   ]
  },
  {
   "cell_type": "code",
   "execution_count": 139,
   "metadata": {
    "collapsed": false
   },
   "outputs": [],
   "source": [
    "train_teams = train_teams_all[ :STOP_INDEX ]\n",
    "train_teams_reverse = train_teams_reverse_all[ :STOP_INDEX ]"
   ]
  },
  {
   "cell_type": "code",
   "execution_count": 140,
   "metadata": {
    "collapsed": false
   },
   "outputs": [
    {
     "data": {
      "text/plain": [
       "(150556, 1)"
      ]
     },
     "execution_count": 140,
     "metadata": {},
     "output_type": "execute_result"
    }
   ],
   "source": [
    "X_year.shape"
   ]
  },
  {
   "cell_type": "code",
   "execution_count": 141,
   "metadata": {
    "collapsed": false
   },
   "outputs": [
    {
     "data": {
      "text/plain": [
       "(75278, 2)"
      ]
     },
     "execution_count": 141,
     "metadata": {},
     "output_type": "execute_result"
    }
   ],
   "source": [
    "train_teams.shape"
   ]
  },
  {
   "cell_type": "code",
   "execution_count": 142,
   "metadata": {
    "collapsed": false
   },
   "outputs": [],
   "source": [
    "teams_to_add = pd.concat([train_teams, train_teams_reverse], axis=0)"
   ]
  },
  {
   "cell_type": "code",
   "execution_count": 143,
   "metadata": {
    "collapsed": false
   },
   "outputs": [
    {
     "data": {
      "text/plain": [
       "(150556, 2)"
      ]
     },
     "execution_count": 143,
     "metadata": {},
     "output_type": "execute_result"
    }
   ],
   "source": [
    "teams_to_add.shape"
   ]
  },
  {
   "cell_type": "code",
   "execution_count": 144,
   "metadata": {
    "collapsed": false
   },
   "outputs": [],
   "source": [
    "train_data = pd.concat([X_year, teams_to_add], axis=1)"
   ]
  },
  {
   "cell_type": "code",
   "execution_count": 145,
   "metadata": {
    "collapsed": false
   },
   "outputs": [
    {
     "data": {
      "text/html": [
       "<div>\n",
       "<table border=\"1\" class=\"dataframe\">\n",
       "  <thead>\n",
       "    <tr style=\"text-align: right;\">\n",
       "      <th></th>\n",
       "      <th>year</th>\n",
       "      <th>team1</th>\n",
       "      <th>team2</th>\n",
       "    </tr>\n",
       "  </thead>\n",
       "  <tbody>\n",
       "    <tr>\n",
       "      <th>0</th>\n",
       "      <td>2998</td>\n",
       "      <td>317</td>\n",
       "      <td>131</td>\n",
       "    </tr>\n",
       "    <tr>\n",
       "      <th>1</th>\n",
       "      <td>2998</td>\n",
       "      <td>61</td>\n",
       "      <td>29</td>\n",
       "    </tr>\n",
       "    <tr>\n",
       "      <th>2</th>\n",
       "      <td>2998</td>\n",
       "      <td>110</td>\n",
       "      <td>141</td>\n",
       "    </tr>\n",
       "    <tr>\n",
       "      <th>3</th>\n",
       "      <td>2998</td>\n",
       "      <td>352</td>\n",
       "      <td>146</td>\n",
       "    </tr>\n",
       "    <tr>\n",
       "      <th>4</th>\n",
       "      <td>2998</td>\n",
       "      <td>229</td>\n",
       "      <td>91</td>\n",
       "    </tr>\n",
       "  </tbody>\n",
       "</table>\n",
       "</div>"
      ],
      "text/plain": [
       "   year  team1  team2\n",
       "0  2998    317    131\n",
       "1  2998     61     29\n",
       "2  2998    110    141\n",
       "3  2998    352    146\n",
       "4  2998    229     91"
      ]
     },
     "execution_count": 145,
     "metadata": {},
     "output_type": "execute_result"
    }
   ],
   "source": [
    "train_data.head(5)"
   ]
  },
  {
   "cell_type": "code",
   "execution_count": 147,
   "metadata": {
    "collapsed": false
   },
   "outputs": [
    {
     "data": {
      "text/plain": [
       "(150556, 3)"
      ]
     },
     "execution_count": 147,
     "metadata": {},
     "output_type": "execute_result"
    }
   ],
   "source": [
    "train_data.shape"
   ]
  },
  {
   "cell_type": "code",
   "execution_count": 148,
   "metadata": {
    "collapsed": false
   },
   "outputs": [
    {
     "data": {
      "text/html": [
       "<div>\n",
       "<table border=\"1\" class=\"dataframe\">\n",
       "  <thead>\n",
       "    <tr style=\"text-align: right;\">\n",
       "      <th></th>\n",
       "      <th>target</th>\n",
       "    </tr>\n",
       "  </thead>\n",
       "  <tbody>\n",
       "    <tr>\n",
       "      <th>0</th>\n",
       "      <td>True</td>\n",
       "    </tr>\n",
       "    <tr>\n",
       "      <th>1</th>\n",
       "      <td>True</td>\n",
       "    </tr>\n",
       "    <tr>\n",
       "      <th>2</th>\n",
       "      <td>True</td>\n",
       "    </tr>\n",
       "    <tr>\n",
       "      <th>3</th>\n",
       "      <td>False</td>\n",
       "    </tr>\n",
       "    <tr>\n",
       "      <th>4</th>\n",
       "      <td>True</td>\n",
       "    </tr>\n",
       "  </tbody>\n",
       "</table>\n",
       "</div>"
      ],
      "text/plain": [
       "  target\n",
       "0   True\n",
       "1   True\n",
       "2   True\n",
       "3  False\n",
       "4   True"
      ]
     },
     "execution_count": 148,
     "metadata": {},
     "output_type": "execute_result"
    }
   ],
   "source": [
    "y_train.head(5)"
   ]
  },
  {
   "cell_type": "code",
   "execution_count": 149,
   "metadata": {
    "collapsed": true
   },
   "outputs": [],
   "source": [
    "test_data = pd.concat([train[['year']][ STOP_INDEX: ], train_teams_all[ STOP_INDEX: ]], axis=1)"
   ]
  },
  {
   "cell_type": "code",
   "execution_count": 150,
   "metadata": {
    "collapsed": false
   },
   "outputs": [
    {
     "data": {
      "text/html": [
       "<div>\n",
       "<table border=\"1\" class=\"dataframe\">\n",
       "  <thead>\n",
       "    <tr style=\"text-align: right;\">\n",
       "      <th></th>\n",
       "      <th>year</th>\n",
       "      <th>team1</th>\n",
       "      <th>team2</th>\n",
       "    </tr>\n",
       "  </thead>\n",
       "  <tbody>\n",
       "    <tr>\n",
       "      <th>75278</th>\n",
       "      <td>3015</td>\n",
       "      <td>242</td>\n",
       "      <td>81</td>\n",
       "    </tr>\n",
       "    <tr>\n",
       "      <th>75279</th>\n",
       "      <td>3015</td>\n",
       "      <td>122</td>\n",
       "      <td>104</td>\n",
       "    </tr>\n",
       "  </tbody>\n",
       "</table>\n",
       "</div>"
      ],
      "text/plain": [
       "       year  team1  team2\n",
       "75278  3015    242     81\n",
       "75279  3015    122    104"
      ]
     },
     "execution_count": 150,
     "metadata": {},
     "output_type": "execute_result"
    }
   ],
   "source": [
    "test_data.head(2)"
   ]
  },
  {
   "cell_type": "markdown",
   "metadata": {},
   "source": [
    "# Linear_Classifier"
   ]
  },
  {
   "cell_type": "code",
   "execution_count": 154,
   "metadata": {
    "collapsed": false
   },
   "outputs": [],
   "source": [
    "lin_cl = linear_model.LogisticRegression(C=0.2)"
   ]
  },
  {
   "cell_type": "code",
   "execution_count": 155,
   "metadata": {
    "collapsed": false
   },
   "outputs": [
    {
     "data": {
      "text/plain": [
       "LogisticRegression(C=0.2, class_weight=None, dual=False, fit_intercept=True,\n",
       "          intercept_scaling=1, max_iter=100, multi_class='ovr', n_jobs=1,\n",
       "          penalty='l2', random_state=None, solver='liblinear', tol=0.0001,\n",
       "          verbose=0, warm_start=False)"
      ]
     },
     "execution_count": 155,
     "metadata": {},
     "output_type": "execute_result"
    }
   ],
   "source": [
    "lin_cl.fit(train_data, y_train)"
   ]
  },
  {
   "cell_type": "code",
   "execution_count": 156,
   "metadata": {
    "collapsed": false
   },
   "outputs": [
    {
     "data": {
      "text/plain": [
       "0.69314718055994518"
      ]
     },
     "execution_count": 156,
     "metadata": {},
     "output_type": "execute_result"
    }
   ],
   "source": [
    "pred = lin_cl.predict_proba(test_data)[:,1]\n",
    "log_loss(y_test, pred)"
   ]
  },
  {
   "cell_type": "markdown",
   "metadata": {},
   "source": [
    "# xgboost"
   ]
  },
  {
   "cell_type": "code",
   "execution_count": 157,
   "metadata": {
    "collapsed": true
   },
   "outputs": [],
   "source": [
    "param = {}\n",
    "param['max_depth'] = 12\n",
    "param['booster'] = 'gbtree'\n",
    "param['objective'] = 'binary:logistic'\n",
    "param['eval_metric'] = 'logloss'\n",
    "param['eta'] = 0.03\n",
    "\n",
    "numround = 600"
   ]
  },
  {
   "cell_type": "code",
   "execution_count": 158,
   "metadata": {
    "collapsed": false
   },
   "outputs": [
    {
     "name": "stderr",
     "output_type": "stream",
     "text": [
      "[0]\ttrain-logloss:0.693461\teval-logloss:0.693307\n",
      "[1]\ttrain-logloss:0.693461\teval-logloss:0.693307\n",
      "[2]\ttrain-logloss:0.693461\teval-logloss:0.693307\n",
      "[3]\ttrain-logloss:0.693461\teval-logloss:0.693307\n",
      "[4]\ttrain-logloss:0.693461\teval-logloss:0.693307\n",
      "[5]\ttrain-logloss:0.693461\teval-logloss:0.693307\n",
      "[6]\ttrain-logloss:0.693461\teval-logloss:0.693307\n",
      "[7]\ttrain-logloss:0.693461\teval-logloss:0.693307\n",
      "[8]\ttrain-logloss:0.693461\teval-logloss:0.693307\n",
      "[9]\ttrain-logloss:0.693461\teval-logloss:0.693307\n",
      "[10]\ttrain-logloss:0.693461\teval-logloss:0.693307\n",
      "[11]\ttrain-logloss:0.693461\teval-logloss:0.693307\n",
      "[12]\ttrain-logloss:0.693461\teval-logloss:0.693307\n",
      "[13]\ttrain-logloss:0.693461\teval-logloss:0.693307\n",
      "[14]\ttrain-logloss:0.693461\teval-logloss:0.693307\n",
      "[15]\ttrain-logloss:0.693461\teval-logloss:0.693307\n",
      "[16]\ttrain-logloss:0.693461\teval-logloss:0.693307\n",
      "[17]\ttrain-logloss:0.693461\teval-logloss:0.693307\n",
      "[18]\ttrain-logloss:0.693461\teval-logloss:0.693307\n",
      "[19]\ttrain-logloss:0.693461\teval-logloss:0.693307\n",
      "[20]\ttrain-logloss:0.693461\teval-logloss:0.693307\n",
      "[21]\ttrain-logloss:0.693461\teval-logloss:0.693307\n",
      "[22]\ttrain-logloss:0.693461\teval-logloss:0.693307\n",
      "[23]\ttrain-logloss:0.693461\teval-logloss:0.693307\n",
      "[24]\ttrain-logloss:0.693461\teval-logloss:0.693307\n",
      "[25]\ttrain-logloss:0.693461\teval-logloss:0.693307\n",
      "[26]\ttrain-logloss:0.693461\teval-logloss:0.693307\n",
      "[27]\ttrain-logloss:0.693461\teval-logloss:0.693307\n",
      "[28]\ttrain-logloss:0.693461\teval-logloss:0.693307\n",
      "[29]\ttrain-logloss:0.693461\teval-logloss:0.693307\n",
      "[30]\ttrain-logloss:0.693461\teval-logloss:0.693307\n",
      "[31]\ttrain-logloss:0.693461\teval-logloss:0.693307\n",
      "[32]\ttrain-logloss:0.693461\teval-logloss:0.693307\n",
      "[33]\ttrain-logloss:0.693461\teval-logloss:0.693307\n",
      "[34]\ttrain-logloss:0.693461\teval-logloss:0.693307\n",
      "[35]\ttrain-logloss:0.693461\teval-logloss:0.693307\n",
      "[36]\ttrain-logloss:0.693461\teval-logloss:0.693307\n",
      "[37]\ttrain-logloss:0.693461\teval-logloss:0.693307\n",
      "[38]\ttrain-logloss:0.693461\teval-logloss:0.693307\n",
      "[39]\ttrain-logloss:0.693461\teval-logloss:0.693307\n",
      "[40]\ttrain-logloss:0.693461\teval-logloss:0.693307\n",
      "[41]\ttrain-logloss:0.693461\teval-logloss:0.693307\n",
      "[42]\ttrain-logloss:0.693461\teval-logloss:0.693307\n",
      "[43]\ttrain-logloss:0.693461\teval-logloss:0.693307\n",
      "[44]\ttrain-logloss:0.693461\teval-logloss:0.693307\n",
      "[45]\ttrain-logloss:0.693461\teval-logloss:0.693307\n",
      "[46]\ttrain-logloss:0.693461\teval-logloss:0.693307\n",
      "[47]\ttrain-logloss:0.693461\teval-logloss:0.693307\n",
      "[48]\ttrain-logloss:0.693461\teval-logloss:0.693307\n",
      "[49]\ttrain-logloss:0.693461\teval-logloss:0.693307\n",
      "[50]\ttrain-logloss:0.693461\teval-logloss:0.693307\n",
      "[51]\ttrain-logloss:0.693461\teval-logloss:0.693307\n",
      "[52]\ttrain-logloss:0.693461\teval-logloss:0.693307\n",
      "[53]\ttrain-logloss:0.693461\teval-logloss:0.693307\n",
      "[54]\ttrain-logloss:0.693461\teval-logloss:0.693307\n",
      "[55]\ttrain-logloss:0.693461\teval-logloss:0.693307\n",
      "[56]\ttrain-logloss:0.693461\teval-logloss:0.693307\n",
      "[57]\ttrain-logloss:0.693461\teval-logloss:0.693307\n",
      "[58]\ttrain-logloss:0.693461\teval-logloss:0.693307\n",
      "[59]\ttrain-logloss:0.693461\teval-logloss:0.693307\n",
      "[60]\ttrain-logloss:0.693461\teval-logloss:0.693307\n",
      "[61]\ttrain-logloss:0.693461\teval-logloss:0.693307\n",
      "[62]\ttrain-logloss:0.693461\teval-logloss:0.693307\n",
      "[63]\ttrain-logloss:0.693461\teval-logloss:0.693307\n",
      "[64]\ttrain-logloss:0.693461\teval-logloss:0.693307\n",
      "[65]\ttrain-logloss:0.693461\teval-logloss:0.693307\n",
      "[66]\ttrain-logloss:0.693461\teval-logloss:0.693307\n",
      "[67]\ttrain-logloss:0.693461\teval-logloss:0.693307\n",
      "[68]\ttrain-logloss:0.693461\teval-logloss:0.693307\n",
      "[69]\ttrain-logloss:0.693461\teval-logloss:0.693307\n",
      "[70]\ttrain-logloss:0.693461\teval-logloss:0.693307\n",
      "[71]\ttrain-logloss:0.693461\teval-logloss:0.693307\n",
      "[72]\ttrain-logloss:0.693461\teval-logloss:0.693307\n",
      "[73]\ttrain-logloss:0.693461\teval-logloss:0.693307\n",
      "[74]\ttrain-logloss:0.693461\teval-logloss:0.693307\n",
      "[75]\ttrain-logloss:0.693461\teval-logloss:0.693307\n",
      "[76]\ttrain-logloss:0.693461\teval-logloss:0.693307\n",
      "[77]\ttrain-logloss:0.693461\teval-logloss:0.693307\n",
      "[78]\ttrain-logloss:0.693461\teval-logloss:0.693307\n",
      "[79]\ttrain-logloss:0.693461\teval-logloss:0.693307\n",
      "[80]\ttrain-logloss:0.693461\teval-logloss:0.693307\n",
      "[81]\ttrain-logloss:0.693461\teval-logloss:0.693307\n",
      "[82]\ttrain-logloss:0.693461\teval-logloss:0.693307\n",
      "[83]\ttrain-logloss:0.693461\teval-logloss:0.693307\n",
      "[84]\ttrain-logloss:0.693461\teval-logloss:0.693307\n",
      "[85]\ttrain-logloss:0.693461\teval-logloss:0.693307\n",
      "[86]\ttrain-logloss:0.693461\teval-logloss:0.693307\n",
      "[87]\ttrain-logloss:0.693461\teval-logloss:0.693307\n",
      "[88]\ttrain-logloss:0.693461\teval-logloss:0.693307\n",
      "[89]\ttrain-logloss:0.693461\teval-logloss:0.693307\n",
      "[90]\ttrain-logloss:0.693461\teval-logloss:0.693307\n",
      "[91]\ttrain-logloss:0.693461\teval-logloss:0.693307\n",
      "[92]\ttrain-logloss:0.693461\teval-logloss:0.693307\n",
      "[93]\ttrain-logloss:0.693461\teval-logloss:0.693307\n",
      "[94]\ttrain-logloss:0.693461\teval-logloss:0.693307\n",
      "[95]\ttrain-logloss:0.693461\teval-logloss:0.693307\n",
      "[96]\ttrain-logloss:0.693461\teval-logloss:0.693307\n",
      "[97]\ttrain-logloss:0.693461\teval-logloss:0.693307\n",
      "[98]\ttrain-logloss:0.693461\teval-logloss:0.693307\n",
      "[99]\ttrain-logloss:0.693461\teval-logloss:0.693307\n",
      "[100]\ttrain-logloss:0.693461\teval-logloss:0.693307\n",
      "[101]\ttrain-logloss:0.693461\teval-logloss:0.693307\n",
      "[102]\ttrain-logloss:0.693461\teval-logloss:0.693307\n",
      "[103]\ttrain-logloss:0.693461\teval-logloss:0.693307\n",
      "[104]\ttrain-logloss:0.693461\teval-logloss:0.693307\n",
      "[105]\ttrain-logloss:0.693461\teval-logloss:0.693307\n",
      "[106]\ttrain-logloss:0.693461\teval-logloss:0.693307\n",
      "[107]\ttrain-logloss:0.693461\teval-logloss:0.693307\n",
      "[108]\ttrain-logloss:0.693461\teval-logloss:0.693307\n",
      "[109]\ttrain-logloss:0.693461\teval-logloss:0.693307\n",
      "[110]\ttrain-logloss:0.693461\teval-logloss:0.693307\n",
      "[111]\ttrain-logloss:0.693461\teval-logloss:0.693307\n",
      "[112]\ttrain-logloss:0.693461\teval-logloss:0.693307\n",
      "[113]\ttrain-logloss:0.693461\teval-logloss:0.693307\n",
      "[114]\ttrain-logloss:0.693461\teval-logloss:0.693307\n",
      "[115]\ttrain-logloss:0.693461\teval-logloss:0.693307\n",
      "[116]\ttrain-logloss:0.693461\teval-logloss:0.693307\n",
      "[117]\ttrain-logloss:0.693461\teval-logloss:0.693307\n",
      "[118]\ttrain-logloss:0.693461\teval-logloss:0.693307\n",
      "[119]\ttrain-logloss:0.693461\teval-logloss:0.693307\n",
      "[120]\ttrain-logloss:0.693461\teval-logloss:0.693307\n",
      "[121]\ttrain-logloss:0.693461\teval-logloss:0.693307\n",
      "[122]\ttrain-logloss:0.693461\teval-logloss:0.693307\n",
      "[123]\ttrain-logloss:0.693461\teval-logloss:0.693307\n",
      "[124]\ttrain-logloss:0.693461\teval-logloss:0.693307\n",
      "[125]\ttrain-logloss:0.693461\teval-logloss:0.693307\n",
      "[126]\ttrain-logloss:0.693461\teval-logloss:0.693307\n",
      "[127]\ttrain-logloss:0.693461\teval-logloss:0.693307\n",
      "[128]\ttrain-logloss:0.693461\teval-logloss:0.693307\n",
      "[129]\ttrain-logloss:0.693461\teval-logloss:0.693307\n",
      "[130]\ttrain-logloss:0.693461\teval-logloss:0.693307\n",
      "[131]\ttrain-logloss:0.693461\teval-logloss:0.693307\n",
      "[132]\ttrain-logloss:0.693461\teval-logloss:0.693307\n",
      "[133]\ttrain-logloss:0.693461\teval-logloss:0.693307\n",
      "[134]\ttrain-logloss:0.693461\teval-logloss:0.693307\n",
      "[135]\ttrain-logloss:0.693461\teval-logloss:0.693307\n",
      "[136]\ttrain-logloss:0.693461\teval-logloss:0.693307\n",
      "[137]\ttrain-logloss:0.693461\teval-logloss:0.693307\n",
      "[138]\ttrain-logloss:0.693461\teval-logloss:0.693307\n",
      "[139]\ttrain-logloss:0.693461\teval-logloss:0.693307\n",
      "[140]\ttrain-logloss:0.693461\teval-logloss:0.693307\n",
      "[141]\ttrain-logloss:0.693461\teval-logloss:0.693307\n",
      "[142]\ttrain-logloss:0.693461\teval-logloss:0.693307\n",
      "[143]\ttrain-logloss:0.693461\teval-logloss:0.693307\n",
      "[144]\ttrain-logloss:0.693461\teval-logloss:0.693307\n",
      "[145]\ttrain-logloss:0.693461\teval-logloss:0.693307\n",
      "[146]\ttrain-logloss:0.693461\teval-logloss:0.693307\n",
      "[147]\ttrain-logloss:0.693461\teval-logloss:0.693307\n",
      "[148]\ttrain-logloss:0.693461\teval-logloss:0.693307\n",
      "[149]\ttrain-logloss:0.693461\teval-logloss:0.693307\n",
      "[150]\ttrain-logloss:0.693461\teval-logloss:0.693307\n",
      "[151]\ttrain-logloss:0.693461\teval-logloss:0.693307\n",
      "[152]\ttrain-logloss:0.693461\teval-logloss:0.693307\n",
      "[153]\ttrain-logloss:0.693461\teval-logloss:0.693307\n",
      "[154]\ttrain-logloss:0.693461\teval-logloss:0.693307\n",
      "[155]\ttrain-logloss:0.693461\teval-logloss:0.693307\n",
      "[156]\ttrain-logloss:0.693461\teval-logloss:0.693307\n",
      "[157]\ttrain-logloss:0.693461\teval-logloss:0.693307\n",
      "[158]\ttrain-logloss:0.693461\teval-logloss:0.693307\n",
      "[159]\ttrain-logloss:0.693461\teval-logloss:0.693307\n",
      "[160]\ttrain-logloss:0.693461\teval-logloss:0.693307\n",
      "[161]\ttrain-logloss:0.693461\teval-logloss:0.693307\n",
      "[162]\ttrain-logloss:0.693461\teval-logloss:0.693307\n",
      "[163]\ttrain-logloss:0.693461\teval-logloss:0.693307\n",
      "[164]\ttrain-logloss:0.693461\teval-logloss:0.693307\n",
      "[165]\ttrain-logloss:0.693461\teval-logloss:0.693307\n",
      "[166]\ttrain-logloss:0.693461\teval-logloss:0.693307\n",
      "[167]\ttrain-logloss:0.693461\teval-logloss:0.693307\n",
      "[168]\ttrain-logloss:0.693461\teval-logloss:0.693307\n",
      "[169]\ttrain-logloss:0.693461\teval-logloss:0.693307\n",
      "[170]\ttrain-logloss:0.693461\teval-logloss:0.693307\n",
      "[171]\ttrain-logloss:0.693461\teval-logloss:0.693307\n",
      "[172]\ttrain-logloss:0.693461\teval-logloss:0.693307\n",
      "[173]\ttrain-logloss:0.693461\teval-logloss:0.693307\n",
      "[174]\ttrain-logloss:0.693461\teval-logloss:0.693307\n",
      "[175]\ttrain-logloss:0.693461\teval-logloss:0.693307\n",
      "[176]\ttrain-logloss:0.693461\teval-logloss:0.693307\n",
      "[177]\ttrain-logloss:0.693461\teval-logloss:0.693307\n",
      "[178]\ttrain-logloss:0.693461\teval-logloss:0.693307\n",
      "[179]\ttrain-logloss:0.693461\teval-logloss:0.693307\n",
      "[180]\ttrain-logloss:0.693461\teval-logloss:0.693307\n",
      "[181]\ttrain-logloss:0.693461\teval-logloss:0.693307\n",
      "[182]\ttrain-logloss:0.693461\teval-logloss:0.693307\n",
      "[183]\ttrain-logloss:0.693461\teval-logloss:0.693307\n",
      "[184]\ttrain-logloss:0.693461\teval-logloss:0.693307\n",
      "[185]\ttrain-logloss:0.693461\teval-logloss:0.693307\n",
      "[186]\ttrain-logloss:0.693461\teval-logloss:0.693307\n",
      "[187]\ttrain-logloss:0.693461\teval-logloss:0.693307\n",
      "[188]\ttrain-logloss:0.693461\teval-logloss:0.693307\n",
      "[189]\ttrain-logloss:0.693461\teval-logloss:0.693307\n",
      "[190]\ttrain-logloss:0.693461\teval-logloss:0.693307\n",
      "[191]\ttrain-logloss:0.693461\teval-logloss:0.693307\n",
      "[192]\ttrain-logloss:0.693461\teval-logloss:0.693307\n",
      "[193]\ttrain-logloss:0.693461\teval-logloss:0.693307\n",
      "[194]\ttrain-logloss:0.693461\teval-logloss:0.693307\n",
      "[195]\ttrain-logloss:0.693461\teval-logloss:0.693307\n",
      "[196]\ttrain-logloss:0.693461\teval-logloss:0.693307\n",
      "[197]\ttrain-logloss:0.693461\teval-logloss:0.693307\n",
      "[198]\ttrain-logloss:0.693461\teval-logloss:0.693307\n",
      "[199]\ttrain-logloss:0.693461\teval-logloss:0.693307\n",
      "[200]\ttrain-logloss:0.693461\teval-logloss:0.693307\n",
      "[201]\ttrain-logloss:0.693461\teval-logloss:0.693307\n",
      "[202]\ttrain-logloss:0.693461\teval-logloss:0.693307\n",
      "[203]\ttrain-logloss:0.693461\teval-logloss:0.693307\n",
      "[204]\ttrain-logloss:0.693461\teval-logloss:0.693307\n",
      "[205]\ttrain-logloss:0.693461\teval-logloss:0.693307\n",
      "[206]\ttrain-logloss:0.693461\teval-logloss:0.693307\n",
      "[207]\ttrain-logloss:0.693461\teval-logloss:0.693307\n",
      "[208]\ttrain-logloss:0.693461\teval-logloss:0.693307\n",
      "[209]\ttrain-logloss:0.693461\teval-logloss:0.693307\n",
      "[210]\ttrain-logloss:0.693461\teval-logloss:0.693307\n",
      "[211]\ttrain-logloss:0.693461\teval-logloss:0.693307\n",
      "[212]\ttrain-logloss:0.693461\teval-logloss:0.693307\n",
      "[213]\ttrain-logloss:0.693461\teval-logloss:0.693307\n",
      "[214]\ttrain-logloss:0.693461\teval-logloss:0.693307\n",
      "[215]\ttrain-logloss:0.693461\teval-logloss:0.693307\n",
      "[216]\ttrain-logloss:0.693461\teval-logloss:0.693307\n",
      "[217]\ttrain-logloss:0.693461\teval-logloss:0.693307\n",
      "[218]\ttrain-logloss:0.693461\teval-logloss:0.693307\n",
      "[219]\ttrain-logloss:0.693461\teval-logloss:0.693307\n",
      "[220]\ttrain-logloss:0.693461\teval-logloss:0.693307\n",
      "[221]\ttrain-logloss:0.693461\teval-logloss:0.693307\n",
      "[222]\ttrain-logloss:0.693461\teval-logloss:0.693307\n",
      "[223]\ttrain-logloss:0.693461\teval-logloss:0.693307\n",
      "[224]\ttrain-logloss:0.693461\teval-logloss:0.693307\n",
      "[225]\ttrain-logloss:0.693461\teval-logloss:0.693307\n",
      "[226]\ttrain-logloss:0.693461\teval-logloss:0.693307\n",
      "[227]\ttrain-logloss:0.693461\teval-logloss:0.693307\n",
      "[228]\ttrain-logloss:0.693461\teval-logloss:0.693307\n",
      "[229]\ttrain-logloss:0.693461\teval-logloss:0.693307\n",
      "[230]\ttrain-logloss:0.693461\teval-logloss:0.693307\n",
      "[231]\ttrain-logloss:0.693461\teval-logloss:0.693307\n",
      "[232]\ttrain-logloss:0.693461\teval-logloss:0.693307\n",
      "[233]\ttrain-logloss:0.693461\teval-logloss:0.693307\n",
      "[234]\ttrain-logloss:0.693461\teval-logloss:0.693307\n",
      "[235]\ttrain-logloss:0.693461\teval-logloss:0.693307\n",
      "[236]\ttrain-logloss:0.693461\teval-logloss:0.693307\n",
      "[237]\ttrain-logloss:0.693461\teval-logloss:0.693307\n",
      "[238]\ttrain-logloss:0.693461\teval-logloss:0.693307\n",
      "[239]\ttrain-logloss:0.693461\teval-logloss:0.693307\n",
      "[240]\ttrain-logloss:0.693461\teval-logloss:0.693307\n",
      "[241]\ttrain-logloss:0.693461\teval-logloss:0.693307\n",
      "[242]\ttrain-logloss:0.693461\teval-logloss:0.693307\n",
      "[243]\ttrain-logloss:0.693461\teval-logloss:0.693307\n",
      "[244]\ttrain-logloss:0.693461\teval-logloss:0.693307\n",
      "[245]\ttrain-logloss:0.693461\teval-logloss:0.693307\n",
      "[246]\ttrain-logloss:0.693461\teval-logloss:0.693307\n",
      "[247]\ttrain-logloss:0.693461\teval-logloss:0.693307\n",
      "[248]\ttrain-logloss:0.693461\teval-logloss:0.693307\n",
      "[249]\ttrain-logloss:0.693461\teval-logloss:0.693307\n",
      "[250]\ttrain-logloss:0.693461\teval-logloss:0.693307\n",
      "[251]\ttrain-logloss:0.693461\teval-logloss:0.693307\n",
      "[252]\ttrain-logloss:0.693461\teval-logloss:0.693307\n",
      "[253]\ttrain-logloss:0.693461\teval-logloss:0.693307\n",
      "[254]\ttrain-logloss:0.693461\teval-logloss:0.693307\n",
      "[255]\ttrain-logloss:0.693461\teval-logloss:0.693307\n",
      "[256]\ttrain-logloss:0.693461\teval-logloss:0.693307\n",
      "[257]\ttrain-logloss:0.693461\teval-logloss:0.693307\n",
      "[258]\ttrain-logloss:0.693461\teval-logloss:0.693307\n",
      "[259]\ttrain-logloss:0.693461\teval-logloss:0.693307\n",
      "[260]\ttrain-logloss:0.693461\teval-logloss:0.693307\n",
      "[261]\ttrain-logloss:0.693461\teval-logloss:0.693307\n",
      "[262]\ttrain-logloss:0.693461\teval-logloss:0.693307\n",
      "[263]\ttrain-logloss:0.693461\teval-logloss:0.693307\n",
      "[264]\ttrain-logloss:0.693461\teval-logloss:0.693307\n",
      "[265]\ttrain-logloss:0.693461\teval-logloss:0.693307\n",
      "[266]\ttrain-logloss:0.693461\teval-logloss:0.693307\n",
      "[267]\ttrain-logloss:0.693461\teval-logloss:0.693307\n",
      "[268]\ttrain-logloss:0.693461\teval-logloss:0.693307\n",
      "[269]\ttrain-logloss:0.693461\teval-logloss:0.693307\n",
      "[270]\ttrain-logloss:0.693461\teval-logloss:0.693307\n",
      "[271]\ttrain-logloss:0.693461\teval-logloss:0.693307\n",
      "[272]\ttrain-logloss:0.693461\teval-logloss:0.693307\n",
      "[273]\ttrain-logloss:0.693461\teval-logloss:0.693307\n",
      "[274]\ttrain-logloss:0.693461\teval-logloss:0.693307\n",
      "[275]\ttrain-logloss:0.693461\teval-logloss:0.693307\n",
      "[276]\ttrain-logloss:0.693461\teval-logloss:0.693307\n",
      "[277]\ttrain-logloss:0.693461\teval-logloss:0.693307\n",
      "[278]\ttrain-logloss:0.693461\teval-logloss:0.693307\n",
      "[279]\ttrain-logloss:0.693461\teval-logloss:0.693307\n",
      "[280]\ttrain-logloss:0.693461\teval-logloss:0.693307\n",
      "[281]\ttrain-logloss:0.693461\teval-logloss:0.693307\n",
      "[282]\ttrain-logloss:0.693461\teval-logloss:0.693307\n",
      "[283]\ttrain-logloss:0.693461\teval-logloss:0.693307\n",
      "[284]\ttrain-logloss:0.693461\teval-logloss:0.693307\n",
      "[285]\ttrain-logloss:0.693461\teval-logloss:0.693307\n",
      "[286]\ttrain-logloss:0.693461\teval-logloss:0.693307\n",
      "[287]\ttrain-logloss:0.693461\teval-logloss:0.693307\n",
      "[288]\ttrain-logloss:0.693461\teval-logloss:0.693307\n",
      "[289]\ttrain-logloss:0.693461\teval-logloss:0.693307\n",
      "[290]\ttrain-logloss:0.693461\teval-logloss:0.693307\n",
      "[291]\ttrain-logloss:0.693461\teval-logloss:0.693307\n",
      "[292]\ttrain-logloss:0.693461\teval-logloss:0.693307\n",
      "[293]\ttrain-logloss:0.693461\teval-logloss:0.693307\n",
      "[294]\ttrain-logloss:0.693461\teval-logloss:0.693307\n",
      "[295]\ttrain-logloss:0.693461\teval-logloss:0.693307\n",
      "[296]\ttrain-logloss:0.693461\teval-logloss:0.693307\n",
      "[297]\ttrain-logloss:0.693461\teval-logloss:0.693307\n",
      "[298]\ttrain-logloss:0.693461\teval-logloss:0.693307\n",
      "[299]\ttrain-logloss:0.693461\teval-logloss:0.693307\n",
      "[300]\ttrain-logloss:0.693461\teval-logloss:0.693307\n",
      "[301]\ttrain-logloss:0.693461\teval-logloss:0.693307\n",
      "[302]\ttrain-logloss:0.693461\teval-logloss:0.693307\n",
      "[303]\ttrain-logloss:0.693461\teval-logloss:0.693307\n",
      "[304]\ttrain-logloss:0.693461\teval-logloss:0.693307\n",
      "[305]\ttrain-logloss:0.693461\teval-logloss:0.693307\n",
      "[306]\ttrain-logloss:0.693461\teval-logloss:0.693307\n",
      "[307]\ttrain-logloss:0.693461\teval-logloss:0.693307\n",
      "[308]\ttrain-logloss:0.693461\teval-logloss:0.693307\n",
      "[309]\ttrain-logloss:0.693461\teval-logloss:0.693307\n",
      "[310]\ttrain-logloss:0.693461\teval-logloss:0.693307\n",
      "[311]\ttrain-logloss:0.693461\teval-logloss:0.693307\n",
      "[312]\ttrain-logloss:0.693461\teval-logloss:0.693307\n",
      "[313]\ttrain-logloss:0.693461\teval-logloss:0.693307\n",
      "[314]\ttrain-logloss:0.693461\teval-logloss:0.693307\n",
      "[315]\ttrain-logloss:0.693461\teval-logloss:0.693307\n",
      "[316]\ttrain-logloss:0.693461\teval-logloss:0.693307\n",
      "[317]\ttrain-logloss:0.693461\teval-logloss:0.693307\n",
      "[318]\ttrain-logloss:0.693461\teval-logloss:0.693307\n",
      "[319]\ttrain-logloss:0.693461\teval-logloss:0.693307\n",
      "[320]\ttrain-logloss:0.693461\teval-logloss:0.693307\n",
      "[321]\ttrain-logloss:0.693461\teval-logloss:0.693307\n",
      "[322]\ttrain-logloss:0.693461\teval-logloss:0.693307\n",
      "[323]\ttrain-logloss:0.693461\teval-logloss:0.693307\n",
      "[324]\ttrain-logloss:0.693461\teval-logloss:0.693307\n",
      "[325]\ttrain-logloss:0.693461\teval-logloss:0.693307\n",
      "[326]\ttrain-logloss:0.693461\teval-logloss:0.693307\n",
      "[327]\ttrain-logloss:0.693461\teval-logloss:0.693307\n",
      "[328]\ttrain-logloss:0.693461\teval-logloss:0.693307\n",
      "[329]\ttrain-logloss:0.693461\teval-logloss:0.693307\n",
      "[330]\ttrain-logloss:0.693461\teval-logloss:0.693307\n",
      "[331]\ttrain-logloss:0.693461\teval-logloss:0.693307\n",
      "[332]\ttrain-logloss:0.693461\teval-logloss:0.693307\n",
      "[333]\ttrain-logloss:0.693461\teval-logloss:0.693307\n",
      "[334]\ttrain-logloss:0.693461\teval-logloss:0.693307\n",
      "[335]\ttrain-logloss:0.693461\teval-logloss:0.693307\n",
      "[336]\ttrain-logloss:0.693461\teval-logloss:0.693307\n",
      "[337]\ttrain-logloss:0.693461\teval-logloss:0.693307\n",
      "[338]\ttrain-logloss:0.693461\teval-logloss:0.693307\n",
      "[339]\ttrain-logloss:0.693461\teval-logloss:0.693307\n",
      "[340]\ttrain-logloss:0.693461\teval-logloss:0.693307\n",
      "[341]\ttrain-logloss:0.693461\teval-logloss:0.693307\n",
      "[342]\ttrain-logloss:0.693461\teval-logloss:0.693307\n",
      "[343]\ttrain-logloss:0.693461\teval-logloss:0.693307\n",
      "[344]\ttrain-logloss:0.693461\teval-logloss:0.693307\n",
      "[345]\ttrain-logloss:0.693461\teval-logloss:0.693307\n",
      "[346]\ttrain-logloss:0.693461\teval-logloss:0.693307\n",
      "[347]\ttrain-logloss:0.693461\teval-logloss:0.693307\n",
      "[348]\ttrain-logloss:0.693461\teval-logloss:0.693307\n",
      "[349]\ttrain-logloss:0.693461\teval-logloss:0.693307\n",
      "[350]\ttrain-logloss:0.693461\teval-logloss:0.693307\n",
      "[351]\ttrain-logloss:0.693461\teval-logloss:0.693307\n",
      "[352]\ttrain-logloss:0.693461\teval-logloss:0.693307\n",
      "[353]\ttrain-logloss:0.693461\teval-logloss:0.693307\n",
      "[354]\ttrain-logloss:0.693461\teval-logloss:0.693307\n",
      "[355]\ttrain-logloss:0.693461\teval-logloss:0.693307\n",
      "[356]\ttrain-logloss:0.693461\teval-logloss:0.693307\n",
      "[357]\ttrain-logloss:0.693461\teval-logloss:0.693307\n",
      "[358]\ttrain-logloss:0.693461\teval-logloss:0.693307\n",
      "[359]\ttrain-logloss:0.693461\teval-logloss:0.693307\n",
      "[360]\ttrain-logloss:0.693461\teval-logloss:0.693307\n",
      "[361]\ttrain-logloss:0.693461\teval-logloss:0.693307\n",
      "[362]\ttrain-logloss:0.693461\teval-logloss:0.693307\n",
      "[363]\ttrain-logloss:0.693461\teval-logloss:0.693307\n",
      "[364]\ttrain-logloss:0.693461\teval-logloss:0.693307\n",
      "[365]\ttrain-logloss:0.693461\teval-logloss:0.693307\n",
      "[366]\ttrain-logloss:0.693461\teval-logloss:0.693307\n",
      "[367]\ttrain-logloss:0.693461\teval-logloss:0.693307\n",
      "[368]\ttrain-logloss:0.693461\teval-logloss:0.693307\n",
      "[369]\ttrain-logloss:0.693461\teval-logloss:0.693307\n",
      "[370]\ttrain-logloss:0.693461\teval-logloss:0.693307\n",
      "[371]\ttrain-logloss:0.693461\teval-logloss:0.693307\n",
      "[372]\ttrain-logloss:0.693461\teval-logloss:0.693307\n",
      "[373]\ttrain-logloss:0.693461\teval-logloss:0.693307\n",
      "[374]\ttrain-logloss:0.693461\teval-logloss:0.693307\n",
      "[375]\ttrain-logloss:0.693461\teval-logloss:0.693307\n",
      "[376]\ttrain-logloss:0.693461\teval-logloss:0.693307\n",
      "[377]\ttrain-logloss:0.693461\teval-logloss:0.693307\n",
      "[378]\ttrain-logloss:0.693461\teval-logloss:0.693307\n",
      "[379]\ttrain-logloss:0.693461\teval-logloss:0.693307\n",
      "[380]\ttrain-logloss:0.693461\teval-logloss:0.693307\n",
      "[381]\ttrain-logloss:0.693461\teval-logloss:0.693307\n",
      "[382]\ttrain-logloss:0.693461\teval-logloss:0.693307\n",
      "[383]\ttrain-logloss:0.693461\teval-logloss:0.693307\n",
      "[384]\ttrain-logloss:0.693461\teval-logloss:0.693307\n",
      "[385]\ttrain-logloss:0.693461\teval-logloss:0.693307\n",
      "[386]\ttrain-logloss:0.693461\teval-logloss:0.693307\n",
      "[387]\ttrain-logloss:0.693461\teval-logloss:0.693307\n",
      "[388]\ttrain-logloss:0.693461\teval-logloss:0.693307\n",
      "[389]\ttrain-logloss:0.693461\teval-logloss:0.693307\n",
      "[390]\ttrain-logloss:0.693461\teval-logloss:0.693307\n",
      "[391]\ttrain-logloss:0.693461\teval-logloss:0.693307\n",
      "[392]\ttrain-logloss:0.693461\teval-logloss:0.693307\n",
      "[393]\ttrain-logloss:0.693461\teval-logloss:0.693307\n",
      "[394]\ttrain-logloss:0.693461\teval-logloss:0.693307\n",
      "[395]\ttrain-logloss:0.693461\teval-logloss:0.693307\n",
      "[396]\ttrain-logloss:0.693461\teval-logloss:0.693307\n",
      "[397]\ttrain-logloss:0.693461\teval-logloss:0.693307\n",
      "[398]\ttrain-logloss:0.693461\teval-logloss:0.693307\n",
      "[399]\ttrain-logloss:0.693461\teval-logloss:0.693307\n",
      "[400]\ttrain-logloss:0.693461\teval-logloss:0.693307\n",
      "[401]\ttrain-logloss:0.693461\teval-logloss:0.693307\n",
      "[402]\ttrain-logloss:0.693461\teval-logloss:0.693307\n",
      "[403]\ttrain-logloss:0.693461\teval-logloss:0.693307\n",
      "[404]\ttrain-logloss:0.693461\teval-logloss:0.693307\n",
      "[405]\ttrain-logloss:0.693461\teval-logloss:0.693307\n",
      "[406]\ttrain-logloss:0.693461\teval-logloss:0.693307\n",
      "[407]\ttrain-logloss:0.693461\teval-logloss:0.693307\n",
      "[408]\ttrain-logloss:0.693461\teval-logloss:0.693307\n",
      "[409]\ttrain-logloss:0.693461\teval-logloss:0.693307\n",
      "[410]\ttrain-logloss:0.693461\teval-logloss:0.693307\n",
      "[411]\ttrain-logloss:0.693461\teval-logloss:0.693307\n",
      "[412]\ttrain-logloss:0.693461\teval-logloss:0.693307\n",
      "[413]\ttrain-logloss:0.693461\teval-logloss:0.693307\n",
      "[414]\ttrain-logloss:0.693461\teval-logloss:0.693307\n",
      "[415]\ttrain-logloss:0.693461\teval-logloss:0.693307\n",
      "[416]\ttrain-logloss:0.693461\teval-logloss:0.693307\n",
      "[417]\ttrain-logloss:0.693461\teval-logloss:0.693307\n",
      "[418]\ttrain-logloss:0.693461\teval-logloss:0.693307\n",
      "[419]\ttrain-logloss:0.693461\teval-logloss:0.693307\n",
      "[420]\ttrain-logloss:0.693461\teval-logloss:0.693307\n",
      "[421]\ttrain-logloss:0.693461\teval-logloss:0.693307\n",
      "[422]\ttrain-logloss:0.693461\teval-logloss:0.693307\n",
      "[423]\ttrain-logloss:0.693461\teval-logloss:0.693307\n",
      "[424]\ttrain-logloss:0.693461\teval-logloss:0.693307\n",
      "[425]\ttrain-logloss:0.693461\teval-logloss:0.693307\n",
      "[426]\ttrain-logloss:0.693461\teval-logloss:0.693307\n",
      "[427]\ttrain-logloss:0.693461\teval-logloss:0.693307\n",
      "[428]\ttrain-logloss:0.693461\teval-logloss:0.693307\n",
      "[429]\ttrain-logloss:0.693461\teval-logloss:0.693307\n",
      "[430]\ttrain-logloss:0.693461\teval-logloss:0.693307\n",
      "[431]\ttrain-logloss:0.693461\teval-logloss:0.693307\n",
      "[432]\ttrain-logloss:0.693461\teval-logloss:0.693307\n",
      "[433]\ttrain-logloss:0.693461\teval-logloss:0.693307\n",
      "[434]\ttrain-logloss:0.693461\teval-logloss:0.693307\n",
      "[435]\ttrain-logloss:0.693461\teval-logloss:0.693307\n",
      "[436]\ttrain-logloss:0.693461\teval-logloss:0.693307\n",
      "[437]\ttrain-logloss:0.693461\teval-logloss:0.693307\n",
      "[438]\ttrain-logloss:0.693461\teval-logloss:0.693307\n",
      "[439]\ttrain-logloss:0.693461\teval-logloss:0.693307\n",
      "[440]\ttrain-logloss:0.693461\teval-logloss:0.693307\n",
      "[441]\ttrain-logloss:0.693461\teval-logloss:0.693307\n",
      "[442]\ttrain-logloss:0.693461\teval-logloss:0.693307\n",
      "[443]\ttrain-logloss:0.693461\teval-logloss:0.693307\n",
      "[444]\ttrain-logloss:0.693461\teval-logloss:0.693307\n",
      "[445]\ttrain-logloss:0.693461\teval-logloss:0.693307\n",
      "[446]\ttrain-logloss:0.693461\teval-logloss:0.693307\n",
      "[447]\ttrain-logloss:0.693461\teval-logloss:0.693307\n",
      "[448]\ttrain-logloss:0.693461\teval-logloss:0.693307\n",
      "[449]\ttrain-logloss:0.693461\teval-logloss:0.693307\n",
      "[450]\ttrain-logloss:0.693461\teval-logloss:0.693307\n",
      "[451]\ttrain-logloss:0.693461\teval-logloss:0.693307\n",
      "[452]\ttrain-logloss:0.693461\teval-logloss:0.693307\n",
      "[453]\ttrain-logloss:0.693461\teval-logloss:0.693307\n",
      "[454]\ttrain-logloss:0.693461\teval-logloss:0.693307\n",
      "[455]\ttrain-logloss:0.693461\teval-logloss:0.693307\n",
      "[456]\ttrain-logloss:0.693461\teval-logloss:0.693307\n",
      "[457]\ttrain-logloss:0.693461\teval-logloss:0.693307\n",
      "[458]\ttrain-logloss:0.693461\teval-logloss:0.693307\n",
      "[459]\ttrain-logloss:0.693461\teval-logloss:0.693307\n",
      "[460]\ttrain-logloss:0.693461\teval-logloss:0.693307\n",
      "[461]\ttrain-logloss:0.693461\teval-logloss:0.693307\n",
      "[462]\ttrain-logloss:0.693461\teval-logloss:0.693307\n",
      "[463]\ttrain-logloss:0.693461\teval-logloss:0.693307\n",
      "[464]\ttrain-logloss:0.693461\teval-logloss:0.693307\n",
      "[465]\ttrain-logloss:0.693461\teval-logloss:0.693307\n",
      "[466]\ttrain-logloss:0.693461\teval-logloss:0.693307\n",
      "[467]\ttrain-logloss:0.693461\teval-logloss:0.693307\n",
      "[468]\ttrain-logloss:0.693461\teval-logloss:0.693307\n",
      "[469]\ttrain-logloss:0.693461\teval-logloss:0.693307\n",
      "[470]\ttrain-logloss:0.693461\teval-logloss:0.693307\n",
      "[471]\ttrain-logloss:0.693461\teval-logloss:0.693307\n",
      "[472]\ttrain-logloss:0.693461\teval-logloss:0.693307\n",
      "[473]\ttrain-logloss:0.693461\teval-logloss:0.693307\n",
      "[474]\ttrain-logloss:0.693461\teval-logloss:0.693307\n",
      "[475]\ttrain-logloss:0.693461\teval-logloss:0.693307\n",
      "[476]\ttrain-logloss:0.693461\teval-logloss:0.693307\n",
      "[477]\ttrain-logloss:0.693461\teval-logloss:0.693307\n",
      "[478]\ttrain-logloss:0.693461\teval-logloss:0.693307\n",
      "[479]\ttrain-logloss:0.693461\teval-logloss:0.693307\n",
      "[480]\ttrain-logloss:0.693461\teval-logloss:0.693307\n",
      "[481]\ttrain-logloss:0.693461\teval-logloss:0.693307\n",
      "[482]\ttrain-logloss:0.693461\teval-logloss:0.693307\n",
      "[483]\ttrain-logloss:0.693461\teval-logloss:0.693307\n",
      "[484]\ttrain-logloss:0.693461\teval-logloss:0.693307\n",
      "[485]\ttrain-logloss:0.693461\teval-logloss:0.693307\n",
      "[486]\ttrain-logloss:0.693461\teval-logloss:0.693307\n",
      "[487]\ttrain-logloss:0.693461\teval-logloss:0.693307\n",
      "[488]\ttrain-logloss:0.693461\teval-logloss:0.693307\n",
      "[489]\ttrain-logloss:0.693461\teval-logloss:0.693307\n",
      "[490]\ttrain-logloss:0.693461\teval-logloss:0.693307\n",
      "[491]\ttrain-logloss:0.693461\teval-logloss:0.693307\n",
      "[492]\ttrain-logloss:0.693461\teval-logloss:0.693307\n",
      "[493]\ttrain-logloss:0.693461\teval-logloss:0.693307\n",
      "[494]\ttrain-logloss:0.693461\teval-logloss:0.693307\n",
      "[495]\ttrain-logloss:0.693461\teval-logloss:0.693307\n",
      "[496]\ttrain-logloss:0.693461\teval-logloss:0.693307\n",
      "[497]\ttrain-logloss:0.693461\teval-logloss:0.693307\n",
      "[498]\ttrain-logloss:0.693461\teval-logloss:0.693307\n",
      "[499]\ttrain-logloss:0.693461\teval-logloss:0.693307\n",
      "[500]\ttrain-logloss:0.693461\teval-logloss:0.693307\n",
      "[501]\ttrain-logloss:0.693461\teval-logloss:0.693307\n",
      "[502]\ttrain-logloss:0.693461\teval-logloss:0.693307\n",
      "[503]\ttrain-logloss:0.693461\teval-logloss:0.693307\n",
      "[504]\ttrain-logloss:0.693461\teval-logloss:0.693307\n",
      "[505]\ttrain-logloss:0.693461\teval-logloss:0.693307\n",
      "[506]\ttrain-logloss:0.693461\teval-logloss:0.693307\n",
      "[507]\ttrain-logloss:0.693461\teval-logloss:0.693307\n",
      "[508]\ttrain-logloss:0.693461\teval-logloss:0.693307\n",
      "[509]\ttrain-logloss:0.693461\teval-logloss:0.693307\n",
      "[510]\ttrain-logloss:0.693461\teval-logloss:0.693307\n",
      "[511]\ttrain-logloss:0.693461\teval-logloss:0.693307\n",
      "[512]\ttrain-logloss:0.693461\teval-logloss:0.693307\n",
      "[513]\ttrain-logloss:0.693461\teval-logloss:0.693307\n",
      "[514]\ttrain-logloss:0.693461\teval-logloss:0.693307\n",
      "[515]\ttrain-logloss:0.693461\teval-logloss:0.693307\n",
      "[516]\ttrain-logloss:0.693461\teval-logloss:0.693307\n",
      "[517]\ttrain-logloss:0.693461\teval-logloss:0.693307\n",
      "[518]\ttrain-logloss:0.693461\teval-logloss:0.693307\n",
      "[519]\ttrain-logloss:0.693461\teval-logloss:0.693307\n",
      "[520]\ttrain-logloss:0.693461\teval-logloss:0.693307\n",
      "[521]\ttrain-logloss:0.693461\teval-logloss:0.693307\n",
      "[522]\ttrain-logloss:0.693461\teval-logloss:0.693307\n",
      "[523]\ttrain-logloss:0.693461\teval-logloss:0.693307\n",
      "[524]\ttrain-logloss:0.693461\teval-logloss:0.693307\n",
      "[525]\ttrain-logloss:0.693461\teval-logloss:0.693307\n",
      "[526]\ttrain-logloss:0.693461\teval-logloss:0.693307\n",
      "[527]\ttrain-logloss:0.693461\teval-logloss:0.693307\n",
      "[528]\ttrain-logloss:0.693461\teval-logloss:0.693307\n",
      "[529]\ttrain-logloss:0.693461\teval-logloss:0.693307\n",
      "[530]\ttrain-logloss:0.693461\teval-logloss:0.693307\n",
      "[531]\ttrain-logloss:0.693461\teval-logloss:0.693307\n",
      "[532]\ttrain-logloss:0.693461\teval-logloss:0.693307\n",
      "[533]\ttrain-logloss:0.693461\teval-logloss:0.693307\n",
      "[534]\ttrain-logloss:0.693461\teval-logloss:0.693307\n",
      "[535]\ttrain-logloss:0.693461\teval-logloss:0.693307\n",
      "[536]\ttrain-logloss:0.693461\teval-logloss:0.693307\n",
      "[537]\ttrain-logloss:0.693461\teval-logloss:0.693307\n",
      "[538]\ttrain-logloss:0.693461\teval-logloss:0.693307\n",
      "[539]\ttrain-logloss:0.693461\teval-logloss:0.693307\n",
      "[540]\ttrain-logloss:0.693461\teval-logloss:0.693307\n",
      "[541]\ttrain-logloss:0.693461\teval-logloss:0.693307\n",
      "[542]\ttrain-logloss:0.693461\teval-logloss:0.693307\n",
      "[543]\ttrain-logloss:0.693461\teval-logloss:0.693307\n",
      "[544]\ttrain-logloss:0.693461\teval-logloss:0.693307\n",
      "[545]\ttrain-logloss:0.693461\teval-logloss:0.693307\n",
      "[546]\ttrain-logloss:0.693461\teval-logloss:0.693307\n",
      "[547]\ttrain-logloss:0.693461\teval-logloss:0.693307\n",
      "[548]\ttrain-logloss:0.693461\teval-logloss:0.693307\n",
      "[549]\ttrain-logloss:0.693461\teval-logloss:0.693307\n",
      "[550]\ttrain-logloss:0.693461\teval-logloss:0.693307\n",
      "[551]\ttrain-logloss:0.693461\teval-logloss:0.693307\n",
      "[552]\ttrain-logloss:0.693461\teval-logloss:0.693307\n",
      "[553]\ttrain-logloss:0.693461\teval-logloss:0.693307\n",
      "[554]\ttrain-logloss:0.693461\teval-logloss:0.693307\n",
      "[555]\ttrain-logloss:0.693461\teval-logloss:0.693307\n",
      "[556]\ttrain-logloss:0.693461\teval-logloss:0.693307\n",
      "[557]\ttrain-logloss:0.693461\teval-logloss:0.693307\n",
      "[558]\ttrain-logloss:0.693461\teval-logloss:0.693307\n",
      "[559]\ttrain-logloss:0.693461\teval-logloss:0.693307\n",
      "[560]\ttrain-logloss:0.693461\teval-logloss:0.693307\n",
      "[561]\ttrain-logloss:0.693461\teval-logloss:0.693307\n",
      "[562]\ttrain-logloss:0.693461\teval-logloss:0.693307\n",
      "[563]\ttrain-logloss:0.693461\teval-logloss:0.693307\n",
      "[564]\ttrain-logloss:0.693461\teval-logloss:0.693307\n",
      "[565]\ttrain-logloss:0.693461\teval-logloss:0.693307\n",
      "[566]\ttrain-logloss:0.693461\teval-logloss:0.693307\n",
      "[567]\ttrain-logloss:0.693461\teval-logloss:0.693307\n",
      "[568]\ttrain-logloss:0.693461\teval-logloss:0.693307\n",
      "[569]\ttrain-logloss:0.693461\teval-logloss:0.693307\n",
      "[570]\ttrain-logloss:0.693461\teval-logloss:0.693307\n",
      "[571]\ttrain-logloss:0.693461\teval-logloss:0.693307\n",
      "[572]\ttrain-logloss:0.693461\teval-logloss:0.693307\n",
      "[573]\ttrain-logloss:0.693461\teval-logloss:0.693307\n",
      "[574]\ttrain-logloss:0.693461\teval-logloss:0.693307\n",
      "[575]\ttrain-logloss:0.693461\teval-logloss:0.693307\n",
      "[576]\ttrain-logloss:0.693461\teval-logloss:0.693307\n",
      "[577]\ttrain-logloss:0.693461\teval-logloss:0.693307\n",
      "[578]\ttrain-logloss:0.693461\teval-logloss:0.693307\n",
      "[579]\ttrain-logloss:0.693461\teval-logloss:0.693307\n",
      "[580]\ttrain-logloss:0.693461\teval-logloss:0.693307\n",
      "[581]\ttrain-logloss:0.693461\teval-logloss:0.693307\n",
      "[582]\ttrain-logloss:0.693461\teval-logloss:0.693307\n",
      "[583]\ttrain-logloss:0.693461\teval-logloss:0.693307\n",
      "[584]\ttrain-logloss:0.693461\teval-logloss:0.693307\n",
      "[585]\ttrain-logloss:0.693461\teval-logloss:0.693307\n",
      "[586]\ttrain-logloss:0.693461\teval-logloss:0.693307\n",
      "[587]\ttrain-logloss:0.693461\teval-logloss:0.693307\n",
      "[588]\ttrain-logloss:0.693461\teval-logloss:0.693307\n",
      "[589]\ttrain-logloss:0.693461\teval-logloss:0.693307\n",
      "[590]\ttrain-logloss:0.693461\teval-logloss:0.693307\n",
      "[591]\ttrain-logloss:0.693461\teval-logloss:0.693307\n",
      "[592]\ttrain-logloss:0.693461\teval-logloss:0.693307\n",
      "[593]\ttrain-logloss:0.693461\teval-logloss:0.693307\n",
      "[594]\ttrain-logloss:0.693461\teval-logloss:0.693307\n",
      "[595]\ttrain-logloss:0.693461\teval-logloss:0.693307\n",
      "[596]\ttrain-logloss:0.693461\teval-logloss:0.693307\n",
      "[597]\ttrain-logloss:0.693461\teval-logloss:0.693307\n",
      "[598]\ttrain-logloss:0.693461\teval-logloss:0.693307\n",
      "[599]\ttrain-logloss:0.693461\teval-logloss:0.693307\n"
     ]
    }
   ],
   "source": [
    "Xdatatrain = xgboost.DMatrix(data = train_data, label = y_train.values)\n",
    "Xdatatest = xgboost.DMatrix(data = test_data, label = y_test.values)\n",
    "\n",
    "plst = list(param.items())\n",
    "watchlist = [(Xdatatrain, 'train'), (Xdatatest, 'eval')]            \n",
    "\n",
    "bst = xgboost.train(plst, Xdatatrain, numround, evals = watchlist)"
   ]
  },
  {
   "cell_type": "code",
   "execution_count": 47,
   "metadata": {
    "collapsed": false
   },
   "outputs": [
    {
     "name": "stdout",
     "output_type": "stream",
     "text": [
      "0.69314718056\n",
      "0.69314718056\n",
      "0.69314718056\n",
      "0.69314718056\n",
      "0.69314718056\n",
      "0.69314718056\n",
      "0.69314718056\n"
     ]
    }
   ],
   "source": [
    "for i in [0.05, 0.1, 0.2, 0.4, 0.6, 0.8, 1.5]:\n",
    "    lin_cl = linear_model.LogisticRegression(C=i)\n",
    "    lin_cl.fit(train_data, y_train)\n",
    "    y_pred = lin_cl.predict_proba(test_data)[:,1]\n",
    "    print log_loss(y_test, y_pred)"
   ]
  },
  {
   "cell_type": "code",
   "execution_count": 97,
   "metadata": {
    "collapsed": true
   },
   "outputs": [],
   "source": [
    "lin_cl = linear_model.LogisticRegression(C=0.2)"
   ]
  },
  {
   "cell_type": "code",
   "execution_count": 101,
   "metadata": {
    "collapsed": false
   },
   "outputs": [
    {
     "data": {
      "text/plain": [
       "LogisticRegression(C=0.2, class_weight=None, dual=False, fit_intercept=True,\n",
       "          intercept_scaling=1, max_iter=100, multi_class='ovr', n_jobs=1,\n",
       "          penalty='l2', random_state=None, solver='liblinear', tol=0.0001,\n",
       "          verbose=0, warm_start=False)"
      ]
     },
     "execution_count": 101,
     "metadata": {},
     "output_type": "execute_result"
    }
   ],
   "source": [
    "lin_cl.fit(train_data, y_train)"
   ]
  },
  {
   "cell_type": "markdown",
   "metadata": {},
   "source": [
    "# Make X_test_submission"
   ]
  },
  {
   "cell_type": "code",
   "execution_count": 83,
   "metadata": {
    "collapsed": true
   },
   "outputs": [],
   "source": [
    "X_test_submission = pd.concat([test[['year']], test_teams], axis = 1)"
   ]
  },
  {
   "cell_type": "code",
   "execution_count": null,
   "metadata": {
    "collapsed": true
   },
   "outputs": [],
   "source": []
  },
  {
   "cell_type": "code",
   "execution_count": 84,
   "metadata": {
    "collapsed": false
   },
   "outputs": [],
   "source": [
    "y_test_alg_submission = lin_cl.predict_proba(X_test_submission)[:,1]\n",
    "y_test_bst_submission = bst.predict(xgboost.DMatrix(X_test_submission))\n",
    "y_test_submission = y_test_alg_submission*0.58 + y_test_bst_submission*(1-0.58)"
   ]
  },
  {
   "cell_type": "code",
   "execution_count": 103,
   "metadata": {
    "collapsed": true
   },
   "outputs": [],
   "source": [
    "ss = sample_submission.copy()\n",
    "\n",
    "for i in range(len(y_test_submission)):\n",
    "    c = y_test_submission[i]\n",
    "    if(c <= 0.02):\n",
    "        y_test_submission[i] = 0.0\n",
    "    if(c >= 0.98):\n",
    "        y_test_submission[i] = 1.0\n",
    "        \n",
    "for c in y_test_submission:\n",
    "    if(c < 0 or c>1):\n",
    "        print c\n",
    "        \n",
    "ss.target = y_test_submission\n",
    "ss.to_csv('Double-alg-xgboost-lin_part1.csv', index = False)"
   ]
  },
  {
   "cell_type": "code",
   "execution_count": null,
   "metadata": {
    "collapsed": true
   },
   "outputs": [],
   "source": []
  }
 ],
 "metadata": {
  "anaconda-cloud": {},
  "kernelspec": {
   "display_name": "Python [conda root]",
   "language": "python",
   "name": "conda-root-py"
  },
  "language_info": {
   "codemirror_mode": {
    "name": "ipython",
    "version": 2
   },
   "file_extension": ".py",
   "mimetype": "text/x-python",
   "name": "python",
   "nbconvert_exporter": "python",
   "pygments_lexer": "ipython2",
   "version": "2.7.12"
  }
 },
 "nbformat": 4,
 "nbformat_minor": 1
}
