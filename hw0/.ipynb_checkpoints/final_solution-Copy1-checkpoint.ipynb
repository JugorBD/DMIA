{
 "cells": [
  {
   "cell_type": "markdown",
   "metadata": {},
   "source": [
    "# Import libraries"
   ]
  },
  {
   "cell_type": "code",
   "execution_count": 1,
   "metadata": {
    "collapsed": false
   },
   "outputs": [
    {
     "name": "stderr",
     "output_type": "stream",
     "text": [
      "/Users/Roman/anaconda/lib/python2.7/site-packages/sklearn/cross_validation.py:44: DeprecationWarning: This module was deprecated in version 0.18 in favor of the model_selection module into which all the refactored classes and functions are moved. Also note that the interface of the new CV iterators are different from that of this module. This module will be removed in 0.20.\n",
      "  \"This module will be removed in 0.20.\", DeprecationWarning)\n",
      "/Users/Roman/anaconda/lib/python2.7/site-packages/sklearn/grid_search.py:43: DeprecationWarning: This module was deprecated in version 0.18 in favor of the model_selection module into which all the refactored classes and functions are moved. This module will be removed in 0.20.\n",
      "  DeprecationWarning)\n"
     ]
    }
   ],
   "source": [
    "import numpy as np # calculations with arrays\n",
    "import pandas as pd # user-friendly DataFrames for data representation\n",
    "import sklearn # machine learning algorithms\n",
    "from sklearn import ensemble, linear_model\n",
    "from sklearn.metrics import log_loss\n",
    "from sklearn import cross_validation\n",
    "from sklearn import grid_search\n",
    "from sklearn.preprocessing import StandardScaler\n",
    "from sklearn.preprocessing import OneHotEncoder\n",
    "from sklearn.feature_extraction import DictVectorizer as DV\n",
    "import xgboost as xgboost\n",
    "import matplotlib.pyplot as plt # import plot functions\n",
    "# necessary to plot in jupyter notebook:\n",
    "%matplotlib inline\n",
    "import seaborn as sns # make plots beautiful"
   ]
  },
  {
   "cell_type": "markdown",
   "metadata": {},
   "source": [
    "# Load data"
   ]
  },
  {
   "cell_type": "code",
   "execution_count": 2,
   "metadata": {
    "collapsed": true
   },
   "outputs": [],
   "source": [
    "train = pd.read_csv('train2.csv')\n",
    "test = pd.read_csv('test2.csv')\n",
    "sample_submission = pd.read_csv('sample_submission.csv')"
   ]
  },
  {
   "cell_type": "markdown",
   "metadata": {},
   "source": [
    "# Data"
   ]
  },
  {
   "cell_type": "code",
   "execution_count": 3,
   "metadata": {
    "collapsed": false
   },
   "outputs": [
    {
     "data": {
      "text/html": [
       "<div>\n",
       "<table border=\"1\" class=\"dataframe\">\n",
       "  <thead>\n",
       "    <tr style=\"text-align: right;\">\n",
       "      <th></th>\n",
       "      <th>year</th>\n",
       "      <th>day</th>\n",
       "      <th>team1</th>\n",
       "      <th>team2</th>\n",
       "      <th>score1</th>\n",
       "      <th>score2</th>\n",
       "      <th>target</th>\n",
       "    </tr>\n",
       "  </thead>\n",
       "  <tbody>\n",
       "    <tr>\n",
       "      <th>0</th>\n",
       "      <td>2998</td>\n",
       "      <td>19</td>\n",
       "      <td>317</td>\n",
       "      <td>131</td>\n",
       "      <td>336</td>\n",
       "      <td>278</td>\n",
       "      <td>True</td>\n",
       "    </tr>\n",
       "    <tr>\n",
       "      <th>1</th>\n",
       "      <td>2998</td>\n",
       "      <td>28</td>\n",
       "      <td>61</td>\n",
       "      <td>29</td>\n",
       "      <td>301</td>\n",
       "      <td>259</td>\n",
       "      <td>True</td>\n",
       "    </tr>\n",
       "    <tr>\n",
       "      <th>2</th>\n",
       "      <td>2998</td>\n",
       "      <td>28</td>\n",
       "      <td>110</td>\n",
       "      <td>141</td>\n",
       "      <td>359</td>\n",
       "      <td>267</td>\n",
       "      <td>True</td>\n",
       "    </tr>\n",
       "  </tbody>\n",
       "</table>\n",
       "</div>"
      ],
      "text/plain": [
       "   year  day  team1  team2  score1  score2 target\n",
       "0  2998   19    317    131     336     278   True\n",
       "1  2998   28     61     29     301     259   True\n",
       "2  2998   28    110    141     359     267   True"
      ]
     },
     "execution_count": 3,
     "metadata": {},
     "output_type": "execute_result"
    }
   ],
   "source": [
    "train.head(3)"
   ]
  },
  {
   "cell_type": "code",
   "execution_count": 75,
   "metadata": {
    "collapsed": false
   },
   "outputs": [
    {
     "data": {
      "text/plain": [
       "(101609, 7)"
      ]
     },
     "execution_count": 75,
     "metadata": {},
     "output_type": "execute_result"
    }
   ],
   "source": [
    "train.shape"
   ]
  },
  {
   "cell_type": "code",
   "execution_count": 4,
   "metadata": {
    "collapsed": false
   },
   "outputs": [
    {
     "data": {
      "text/html": [
       "<div>\n",
       "<table border=\"1\" class=\"dataframe\">\n",
       "  <thead>\n",
       "    <tr style=\"text-align: right;\">\n",
       "      <th></th>\n",
       "      <th>Id</th>\n",
       "      <th>year</th>\n",
       "      <th>team1</th>\n",
       "      <th>team2</th>\n",
       "    </tr>\n",
       "  </thead>\n",
       "  <tbody>\n",
       "    <tr>\n",
       "      <th>0</th>\n",
       "      <td>0</td>\n",
       "      <td>3021</td>\n",
       "      <td>363</td>\n",
       "      <td>161</td>\n",
       "    </tr>\n",
       "    <tr>\n",
       "      <th>1</th>\n",
       "      <td>1</td>\n",
       "      <td>3021</td>\n",
       "      <td>286</td>\n",
       "      <td>2</td>\n",
       "    </tr>\n",
       "    <tr>\n",
       "      <th>2</th>\n",
       "      <td>2</td>\n",
       "      <td>3020</td>\n",
       "      <td>232</td>\n",
       "      <td>52</td>\n",
       "    </tr>\n",
       "  </tbody>\n",
       "</table>\n",
       "</div>"
      ],
      "text/plain": [
       "   Id  year  team1  team2\n",
       "0   0  3021    363    161\n",
       "1   1  3021    286      2\n",
       "2   2  3020    232     52"
      ]
     },
     "execution_count": 4,
     "metadata": {},
     "output_type": "execute_result"
    }
   ],
   "source": [
    "test.head(3)"
   ]
  },
  {
   "cell_type": "code",
   "execution_count": 5,
   "metadata": {
    "collapsed": false
   },
   "outputs": [
    {
     "data": {
      "text/html": [
       "<div>\n",
       "<table border=\"1\" class=\"dataframe\">\n",
       "  <thead>\n",
       "    <tr style=\"text-align: right;\">\n",
       "      <th></th>\n",
       "      <th>Id</th>\n",
       "      <th>target</th>\n",
       "    </tr>\n",
       "  </thead>\n",
       "  <tbody>\n",
       "    <tr>\n",
       "      <th>0</th>\n",
       "      <td>0</td>\n",
       "      <td>0.5</td>\n",
       "    </tr>\n",
       "    <tr>\n",
       "      <th>1</th>\n",
       "      <td>1</td>\n",
       "      <td>0.5</td>\n",
       "    </tr>\n",
       "    <tr>\n",
       "      <th>2</th>\n",
       "      <td>2</td>\n",
       "      <td>0.5</td>\n",
       "    </tr>\n",
       "  </tbody>\n",
       "</table>\n",
       "</div>"
      ],
      "text/plain": [
       "   Id  target\n",
       "0   0     0.5\n",
       "1   1     0.5\n",
       "2   2     0.5"
      ]
     },
     "execution_count": 5,
     "metadata": {},
     "output_type": "execute_result"
    }
   ],
   "source": [
    "sample_submission.head(3)"
   ]
  },
  {
   "cell_type": "code",
   "execution_count": 6,
   "metadata": {
    "collapsed": false
   },
   "outputs": [
    {
     "name": "stdout",
     "output_type": "stream",
     "text": [
      "train.shape =  (101609, 7)\n",
      "test.shape =  (125207, 4)\n",
      "sample_submission.shape =  (125207, 2)\n"
     ]
    }
   ],
   "source": [
    "print 'train.shape = ', train.shape\n",
    "print 'test.shape = ', test.shape\n",
    "print 'sample_submission.shape = ', sample_submission.shape"
   ]
  },
  {
   "cell_type": "markdown",
   "metadata": {},
   "source": [
    "# Work with categorical features"
   ]
  },
  {
   "cell_type": "markdown",
   "metadata": {},
   "source": [
    "# Make dataset for cross-vallidation using One-Hot-Encoding"
   ]
  },
  {
   "cell_type": "code",
   "execution_count": 36,
   "metadata": {
    "collapsed": false
   },
   "outputs": [],
   "source": [
    "enc = OneHotEncoder(sparse=False)"
   ]
  },
  {
   "cell_type": "code",
   "execution_count": 37,
   "metadata": {
    "collapsed": false
   },
   "outputs": [],
   "source": [
    "train_team1 = pd.DataFrame(enc.fit_transform(train[['team1']]))"
   ]
  },
  {
   "cell_type": "code",
   "execution_count": 38,
   "metadata": {
    "collapsed": false
   },
   "outputs": [
    {
     "name": "stdout",
     "output_type": "stream",
     "text": [
      "train_team1.shape =  (101609, 353)\n"
     ]
    }
   ],
   "source": [
    "print 'train_team1.shape = ', train_team1.shape"
   ]
  },
  {
   "cell_type": "code",
   "execution_count": 39,
   "metadata": {
    "collapsed": true
   },
   "outputs": [],
   "source": [
    "train_team2 = pd.DataFrame(enc.transform(train[['team2']]))"
   ]
  },
  {
   "cell_type": "code",
   "execution_count": 40,
   "metadata": {
    "collapsed": false
   },
   "outputs": [
    {
     "name": "stdout",
     "output_type": "stream",
     "text": [
      "train_team2.shape =  (101609, 353)\n"
     ]
    }
   ],
   "source": [
    "print 'train_team2.shape = ', train_team2.shape"
   ]
  },
  {
   "cell_type": "code",
   "execution_count": 41,
   "metadata": {
    "collapsed": false
   },
   "outputs": [],
   "source": [
    "train_teams = pd.concat([train_team1, train_team2], axis=1)"
   ]
  },
  {
   "cell_type": "code",
   "execution_count": 42,
   "metadata": {
    "collapsed": false
   },
   "outputs": [
    {
     "name": "stdout",
     "output_type": "stream",
     "text": [
      "train_team1 + train_team2 =  (101609, 706)\n"
     ]
    }
   ],
   "source": [
    "print 'train_team1 + train_team2 = ', train_teams.shape"
   ]
  },
  {
   "cell_type": "code",
   "execution_count": 43,
   "metadata": {
    "collapsed": false
   },
   "outputs": [],
   "source": [
    "test_team1 = pd.DataFrame(enc.transform(test[['team1']]))"
   ]
  },
  {
   "cell_type": "code",
   "execution_count": 44,
   "metadata": {
    "collapsed": false
   },
   "outputs": [
    {
     "name": "stdout",
     "output_type": "stream",
     "text": [
      "test_team1 =  (125207, 353)\n"
     ]
    }
   ],
   "source": [
    "print 'test_team1 = ', test_team1.shape"
   ]
  },
  {
   "cell_type": "code",
   "execution_count": 45,
   "metadata": {
    "collapsed": true
   },
   "outputs": [],
   "source": [
    "test_team2 = pd.DataFrame(enc.transform(test[['team2']]))"
   ]
  },
  {
   "cell_type": "code",
   "execution_count": 46,
   "metadata": {
    "collapsed": false
   },
   "outputs": [
    {
     "name": "stdout",
     "output_type": "stream",
     "text": [
      "test_team2 =  (125207, 353)\n"
     ]
    }
   ],
   "source": [
    "print 'test_team2 = ', test_team2.shape"
   ]
  },
  {
   "cell_type": "code",
   "execution_count": 47,
   "metadata": {
    "collapsed": false
   },
   "outputs": [],
   "source": [
    "test_teams = pd.concat([test_team1, test_team2], axis=1)"
   ]
  },
  {
   "cell_type": "code",
   "execution_count": 48,
   "metadata": {
    "collapsed": false
   },
   "outputs": [
    {
     "name": "stdout",
     "output_type": "stream",
     "text": [
      "test_teams.shape =  (125207, 706)\n"
     ]
    }
   ],
   "source": [
    "print 'test_teams.shape = ', test_teams.shape"
   ]
  },
  {
   "cell_type": "markdown",
   "metadata": {},
   "source": [
    "# Feature engenering"
   ]
  },
  {
   "cell_type": "markdown",
   "metadata": {},
   "source": [
    "### Добавили среднее число очков: для команды team1 – среднее количество очков, набранных дома; для команды team2 – среднее количество очков, набранных в гостях"
   ]
  },
  {
   "cell_type": "code",
   "execution_count": 53,
   "metadata": {
    "collapsed": true
   },
   "outputs": [],
   "source": [
    "df_train = train\n",
    "df_test = test"
   ]
  },
  {
   "cell_type": "code",
   "execution_count": 54,
   "metadata": {
    "collapsed": true
   },
   "outputs": [],
   "source": [
    "means_score = {}\n",
    "for index_team in list(df_train.team1.unique()):\n",
    "    df_for_team1 = df_train[df_train['team1'] == index_team]\n",
    "    df_for_team2 = df_train[df_train['team2'] == index_team]\n",
    "    means_score[index_team] = [int(df_for_team1.score1.mean()), int(df_for_team2.score2.mean())]\n",
    "#print(means_score)\n",
    "#for c in means_score:\n",
    "#    print(means_score[c])"
   ]
  },
  {
   "cell_type": "code",
   "execution_count": 55,
   "metadata": {
    "collapsed": true
   },
   "outputs": [],
   "source": [
    "teams_not_train = []\n",
    "for index_team in list(df_test.team1.unique()):\n",
    "    if index_team not in list(df_train.team1.unique()):\n",
    "        teams_not_train.append(index_team)\n",
    "for index_team in list(df_test.team2.unique()):\n",
    "    if index_team not in list(df_train.team1.unique()):\n",
    "        teams_not_train.append(index_team)"
   ]
  },
  {
   "cell_type": "code",
   "execution_count": 56,
   "metadata": {
    "collapsed": true
   },
   "outputs": [],
   "source": [
    "for index_team in teams_not_train:\n",
    "    means_score[index_team] = [df_train.score1.mean(), df_train.score2.mean()]"
   ]
  },
  {
   "cell_type": "code",
   "execution_count": 57,
   "metadata": {
    "collapsed": true
   },
   "outputs": [],
   "source": [
    "features_to_concat_train = []\n",
    "for year, day, team1, team2, _, __, ___ in df_train.values:\n",
    "    features_to_concat_train.append([means_score[team1][0], means_score[team2][1]])\n",
    "features_to_concat_test = []\n",
    "for Id, year, team1, team2 in df_test.values:\n",
    "    features_to_concat_test.append([means_score[team1][0], means_score[team2][1]])"
   ]
  },
  {
   "cell_type": "code",
   "execution_count": 58,
   "metadata": {
    "collapsed": true
   },
   "outputs": [],
   "source": [
    "df_feature_to_concat_train = pd.DataFrame(data=features_to_concat_train, columns=['mean_home_score', 'mean_away_score'])"
   ]
  },
  {
   "cell_type": "code",
   "execution_count": 59,
   "metadata": {
    "collapsed": true
   },
   "outputs": [],
   "source": [
    "df_feature_to_concat_test = pd.DataFrame(data=features_to_concat_test, columns=['mean_home_score', 'mean_away_score'])"
   ]
  },
  {
   "cell_type": "markdown",
   "metadata": {},
   "source": [
    "### Добавляем процент побед: для team1 – процент побед дома; для team2 – процент побед в гостях"
   ]
  },
  {
   "cell_type": "code",
   "execution_count": 64,
   "metadata": {
    "collapsed": true
   },
   "outputs": [],
   "source": [
    "percentage_wins = {}\n",
    "for index_team in list(df_train.team1.unique()):\n",
    "    df_for_team_home = df_train[df_train['team1'] == index_team]\n",
    "    df_for_team_away = df_train[df_train['team2'] == index_team]\n",
    "    percentage_wins[index_team] = [df_for_team_home.target.mean(), 1 - df_for_team_away.target.mean()]"
   ]
  },
  {
   "cell_type": "code",
   "execution_count": 65,
   "metadata": {
    "collapsed": true
   },
   "outputs": [],
   "source": [
    "for index_team in teams_not_train:\n",
    "    percentage_wins[index_team] = [df_train.target.mean(), 1 - df_train.target.mean()]"
   ]
  },
  {
   "cell_type": "code",
   "execution_count": 66,
   "metadata": {
    "collapsed": true
   },
   "outputs": [],
   "source": [
    "percentage_of_wins_train = []\n",
    "for year, day, team1, team2, _, __, ___ in df_train.values:\n",
    "    percentage_of_wins_train.append([percentage_wins[team1][0], percentage_wins[team2][1]])\n",
    "percentage_of_wins_test = []\n",
    "for Id, year, team1, team2 in df_test.values:\n",
    "    percentage_of_wins_test.append([percentage_wins[team1][0], percentage_wins[team2][1]])"
   ]
  },
  {
   "cell_type": "code",
   "execution_count": 67,
   "metadata": {
    "collapsed": true
   },
   "outputs": [],
   "source": [
    "df_percentage_of_wins_train = pd.DataFrame(data=percentage_of_wins_train, columns=['percentage_wins_home', 'percentage_wins_away'])"
   ]
  },
  {
   "cell_type": "code",
   "execution_count": 68,
   "metadata": {
    "collapsed": true
   },
   "outputs": [],
   "source": [
    "df_percentage_of_wins_test = pd.DataFrame(data=percentage_of_wins_test, columns=['percentage_wins_home', 'percentage_wins_away'])"
   ]
  },
  {
   "cell_type": "code",
   "execution_count": null,
   "metadata": {
    "collapsed": true
   },
   "outputs": [],
   "source": []
  },
  {
   "cell_type": "markdown",
   "metadata": {
    "collapsed": true
   },
   "source": [
    "   # Make X_train, X_test, y_train, y_test"
   ]
  },
  {
   "cell_type": "markdown",
   "metadata": {},
   "source": [
    "### Делаем X_train"
   ]
  },
  {
   "cell_type": "code",
   "execution_count": 87,
   "metadata": {
    "collapsed": false
   },
   "outputs": [],
   "source": [
    "X_train_all_feat = pd.concat([train, df_feature_to_concat_train, df_percentage_of_wins_train], axis=1)"
   ]
  },
  {
   "cell_type": "code",
   "execution_count": 88,
   "metadata": {
    "collapsed": false
   },
   "outputs": [
    {
     "name": "stdout",
     "output_type": "stream",
     "text": [
      "X_train_all_feat.shape =  (101609, 11)\n"
     ]
    }
   ],
   "source": [
    "print 'X_train_all_feat.shape = ', X_train_all_feat.shape"
   ]
  },
  {
   "cell_type": "code",
   "execution_count": 89,
   "metadata": {
    "collapsed": false
   },
   "outputs": [
    {
     "data": {
      "text/html": [
       "<div>\n",
       "<table border=\"1\" class=\"dataframe\">\n",
       "  <thead>\n",
       "    <tr style=\"text-align: right;\">\n",
       "      <th></th>\n",
       "      <th>year</th>\n",
       "      <th>day</th>\n",
       "      <th>team1</th>\n",
       "      <th>team2</th>\n",
       "      <th>score1</th>\n",
       "      <th>score2</th>\n",
       "      <th>target</th>\n",
       "      <th>mean_home_score</th>\n",
       "      <th>mean_away_score</th>\n",
       "      <th>percentage_wins_home</th>\n",
       "      <th>percentage_wins_away</th>\n",
       "    </tr>\n",
       "  </thead>\n",
       "  <tbody>\n",
       "    <tr>\n",
       "      <th>0</th>\n",
       "      <td>2998</td>\n",
       "      <td>19</td>\n",
       "      <td>317</td>\n",
       "      <td>131</td>\n",
       "      <td>336</td>\n",
       "      <td>278</td>\n",
       "      <td>True</td>\n",
       "      <td>289</td>\n",
       "      <td>285</td>\n",
       "      <td>0.688073</td>\n",
       "      <td>0.640118</td>\n",
       "    </tr>\n",
       "    <tr>\n",
       "      <th>1</th>\n",
       "      <td>2998</td>\n",
       "      <td>28</td>\n",
       "      <td>61</td>\n",
       "      <td>29</td>\n",
       "      <td>301</td>\n",
       "      <td>259</td>\n",
       "      <td>True</td>\n",
       "      <td>273</td>\n",
       "      <td>276</td>\n",
       "      <td>0.503333</td>\n",
       "      <td>0.556962</td>\n",
       "    </tr>\n",
       "  </tbody>\n",
       "</table>\n",
       "</div>"
      ],
      "text/plain": [
       "   year  day  team1  team2  score1  score2 target  mean_home_score  \\\n",
       "0  2998   19    317    131     336     278   True              289   \n",
       "1  2998   28     61     29     301     259   True              273   \n",
       "\n",
       "   mean_away_score  percentage_wins_home  percentage_wins_away  \n",
       "0              285              0.688073              0.640118  \n",
       "1              276              0.503333              0.556962  "
      ]
     },
     "execution_count": 89,
     "metadata": {},
     "output_type": "execute_result"
    }
   ],
   "source": [
    "X_train_all_feat.head(2)"
   ]
  },
  {
   "cell_type": "code",
   "execution_count": 90,
   "metadata": {
    "collapsed": true
   },
   "outputs": [],
   "source": [
    "y_train =  X_train_all_feat[['target']]"
   ]
  },
  {
   "cell_type": "code",
   "execution_count": 91,
   "metadata": {
    "collapsed": true
   },
   "outputs": [],
   "source": [
    "X_train_not_scaled = X_train_all_feat.drop(['day', 'team1', 'team2','score1', 'score2', 'target'], axis=1)"
   ]
  },
  {
   "cell_type": "code",
   "execution_count": 92,
   "metadata": {
    "collapsed": false
   },
   "outputs": [
    {
     "data": {
      "text/html": [
       "<div>\n",
       "<table border=\"1\" class=\"dataframe\">\n",
       "  <thead>\n",
       "    <tr style=\"text-align: right;\">\n",
       "      <th></th>\n",
       "      <th>year</th>\n",
       "      <th>mean_home_score</th>\n",
       "      <th>mean_away_score</th>\n",
       "      <th>percentage_wins_home</th>\n",
       "      <th>percentage_wins_away</th>\n",
       "    </tr>\n",
       "  </thead>\n",
       "  <tbody>\n",
       "    <tr>\n",
       "      <th>0</th>\n",
       "      <td>2998</td>\n",
       "      <td>289</td>\n",
       "      <td>285</td>\n",
       "      <td>0.688073</td>\n",
       "      <td>0.640118</td>\n",
       "    </tr>\n",
       "    <tr>\n",
       "      <th>1</th>\n",
       "      <td>2998</td>\n",
       "      <td>273</td>\n",
       "      <td>276</td>\n",
       "      <td>0.503333</td>\n",
       "      <td>0.556962</td>\n",
       "    </tr>\n",
       "  </tbody>\n",
       "</table>\n",
       "</div>"
      ],
      "text/plain": [
       "   year  mean_home_score  mean_away_score  percentage_wins_home  \\\n",
       "0  2998              289              285              0.688073   \n",
       "1  2998              273              276              0.503333   \n",
       "\n",
       "   percentage_wins_away  \n",
       "0              0.640118  \n",
       "1              0.556962  "
      ]
     },
     "execution_count": 92,
     "metadata": {},
     "output_type": "execute_result"
    }
   ],
   "source": [
    "X_train_not_scaled.head(2)"
   ]
  },
  {
   "cell_type": "code",
   "execution_count": 93,
   "metadata": {
    "collapsed": false
   },
   "outputs": [
    {
     "name": "stdout",
     "output_type": "stream",
     "text": [
      "X_train_not_scaled.shape =  (101609, 5)\n"
     ]
    }
   ],
   "source": [
    "print 'X_train_not_scaled.shape = ', X_train_not_scaled.shape"
   ]
  },
  {
   "cell_type": "code",
   "execution_count": 97,
   "metadata": {
    "collapsed": false
   },
   "outputs": [
    {
     "name": "stdout",
     "output_type": "stream",
     "text": [
      "y_train.shape =  (101609, 1)\n"
     ]
    }
   ],
   "source": [
    "print 'y_train.shape = ', y_train.shape"
   ]
  },
  {
   "cell_type": "code",
   "execution_count": 98,
   "metadata": {
    "collapsed": true
   },
   "outputs": [],
   "source": [
    "X_test_all_feat = pd.concat([test, df_feature_to_concat_test, df_percentage_of_wins_test], axis=1)"
   ]
  },
  {
   "cell_type": "code",
   "execution_count": 99,
   "metadata": {
    "collapsed": false
   },
   "outputs": [
    {
     "data": {
      "text/plain": [
       "(125207, 8)"
      ]
     },
     "execution_count": 99,
     "metadata": {},
     "output_type": "execute_result"
    }
   ],
   "source": [
    "X_test_all_feat.shape"
   ]
  },
  {
   "cell_type": "code",
   "execution_count": 100,
   "metadata": {
    "collapsed": false
   },
   "outputs": [
    {
     "data": {
      "text/html": [
       "<div>\n",
       "<table border=\"1\" class=\"dataframe\">\n",
       "  <thead>\n",
       "    <tr style=\"text-align: right;\">\n",
       "      <th></th>\n",
       "      <th>Id</th>\n",
       "      <th>year</th>\n",
       "      <th>team1</th>\n",
       "      <th>team2</th>\n",
       "      <th>mean_home_score</th>\n",
       "      <th>mean_away_score</th>\n",
       "      <th>percentage_wins_home</th>\n",
       "      <th>percentage_wins_away</th>\n",
       "    </tr>\n",
       "  </thead>\n",
       "  <tbody>\n",
       "    <tr>\n",
       "      <th>0</th>\n",
       "      <td>0</td>\n",
       "      <td>3021</td>\n",
       "      <td>363</td>\n",
       "      <td>161</td>\n",
       "      <td>250.0</td>\n",
       "      <td>278.0</td>\n",
       "      <td>0.428571</td>\n",
       "      <td>0.535826</td>\n",
       "    </tr>\n",
       "    <tr>\n",
       "      <th>1</th>\n",
       "      <td>1</td>\n",
       "      <td>3021</td>\n",
       "      <td>286</td>\n",
       "      <td>2</td>\n",
       "      <td>271.0</td>\n",
       "      <td>242.0</td>\n",
       "      <td>0.593567</td>\n",
       "      <td>0.394464</td>\n",
       "    </tr>\n",
       "  </tbody>\n",
       "</table>\n",
       "</div>"
      ],
      "text/plain": [
       "   Id  year  team1  team2  mean_home_score  mean_away_score  \\\n",
       "0   0  3021    363    161            250.0            278.0   \n",
       "1   1  3021    286      2            271.0            242.0   \n",
       "\n",
       "   percentage_wins_home  percentage_wins_away  \n",
       "0              0.428571              0.535826  \n",
       "1              0.593567              0.394464  "
      ]
     },
     "execution_count": 100,
     "metadata": {},
     "output_type": "execute_result"
    }
   ],
   "source": [
    "X_test_all_feat.head(2)"
   ]
  },
  {
   "cell_type": "code",
   "execution_count": 101,
   "metadata": {
    "collapsed": false
   },
   "outputs": [],
   "source": [
    "X_test_not_scaled = X_test_all_feat.drop(['Id', 'team1', 'team2'], axis=1)"
   ]
  },
  {
   "cell_type": "code",
   "execution_count": 102,
   "metadata": {
    "collapsed": false
   },
   "outputs": [
    {
     "data": {
      "text/html": [
       "<div>\n",
       "<table border=\"1\" class=\"dataframe\">\n",
       "  <thead>\n",
       "    <tr style=\"text-align: right;\">\n",
       "      <th></th>\n",
       "      <th>year</th>\n",
       "      <th>mean_home_score</th>\n",
       "      <th>mean_away_score</th>\n",
       "      <th>percentage_wins_home</th>\n",
       "      <th>percentage_wins_away</th>\n",
       "    </tr>\n",
       "  </thead>\n",
       "  <tbody>\n",
       "    <tr>\n",
       "      <th>0</th>\n",
       "      <td>3021</td>\n",
       "      <td>250.0</td>\n",
       "      <td>278.0</td>\n",
       "      <td>0.428571</td>\n",
       "      <td>0.535826</td>\n",
       "    </tr>\n",
       "    <tr>\n",
       "      <th>1</th>\n",
       "      <td>3021</td>\n",
       "      <td>271.0</td>\n",
       "      <td>242.0</td>\n",
       "      <td>0.593567</td>\n",
       "      <td>0.394464</td>\n",
       "    </tr>\n",
       "  </tbody>\n",
       "</table>\n",
       "</div>"
      ],
      "text/plain": [
       "   year  mean_home_score  mean_away_score  percentage_wins_home  \\\n",
       "0  3021            250.0            278.0              0.428571   \n",
       "1  3021            271.0            242.0              0.593567   \n",
       "\n",
       "   percentage_wins_away  \n",
       "0              0.535826  \n",
       "1              0.394464  "
      ]
     },
     "execution_count": 102,
     "metadata": {},
     "output_type": "execute_result"
    }
   ],
   "source": [
    "X_test_not_scaled.head(2)"
   ]
  },
  {
   "cell_type": "markdown",
   "metadata": {},
   "source": [
    "## X_train_not_scaled – преобразованная train.csv, но не нормированный year\n",
    "## y_train – target from train.csv\n",
    "## X_test_not_scaled – test.csv, но не нормированный year"
   ]
  },
  {
   "cell_type": "markdown",
   "metadata": {},
   "source": [
    "# Нормировка "
   ]
  },
  {
   "cell_type": "code",
   "execution_count": null,
   "metadata": {
    "collapsed": true
   },
   "outputs": [],
   "source": []
  },
  {
   "cell_type": "code",
   "execution_count": 103,
   "metadata": {
    "collapsed": false
   },
   "outputs": [],
   "source": [
    "scaler = StandardScaler()\n",
    "train_scaled = pd.DataFrame(scaler.fit_transform(X_train_not_scaled), columns=list(X_train_not_scaled.columns))\n",
    "test_scaled = pd.DataFrame(scaler.transform(X_test_not_scaled), columns=list(X_test_not_scaled.columns))\n"
   ]
  },
  {
   "cell_type": "code",
   "execution_count": 104,
   "metadata": {
    "collapsed": false
   },
   "outputs": [
    {
     "data": {
      "text/html": [
       "<div>\n",
       "<table border=\"1\" class=\"dataframe\">\n",
       "  <thead>\n",
       "    <tr style=\"text-align: right;\">\n",
       "      <th></th>\n",
       "      <th>year</th>\n",
       "      <th>mean_home_score</th>\n",
       "      <th>mean_away_score</th>\n",
       "      <th>percentage_wins_home</th>\n",
       "      <th>percentage_wins_away</th>\n",
       "    </tr>\n",
       "  </thead>\n",
       "  <tbody>\n",
       "    <tr>\n",
       "      <th>0</th>\n",
       "      <td>-1.752835</td>\n",
       "      <td>1.411135</td>\n",
       "      <td>1.134001</td>\n",
       "      <td>1.573942</td>\n",
       "      <td>1.261859</td>\n",
       "    </tr>\n",
       "    <tr>\n",
       "      <th>1</th>\n",
       "      <td>-1.752835</td>\n",
       "      <td>0.236316</td>\n",
       "      <td>0.468392</td>\n",
       "      <td>0.019886</td>\n",
       "      <td>0.518128</td>\n",
       "    </tr>\n",
       "  </tbody>\n",
       "</table>\n",
       "</div>"
      ],
      "text/plain": [
       "       year  mean_home_score  mean_away_score  percentage_wins_home  \\\n",
       "0 -1.752835         1.411135         1.134001              1.573942   \n",
       "1 -1.752835         0.236316         0.468392              0.019886   \n",
       "\n",
       "   percentage_wins_away  \n",
       "0              1.261859  \n",
       "1              0.518128  "
      ]
     },
     "execution_count": 104,
     "metadata": {},
     "output_type": "execute_result"
    }
   ],
   "source": [
    "train_scaled.head(2)"
   ]
  },
  {
   "cell_type": "code",
   "execution_count": 105,
   "metadata": {
    "collapsed": false
   },
   "outputs": [
    {
     "data": {
      "text/html": [
       "<div>\n",
       "<table border=\"1\" class=\"dataframe\">\n",
       "  <thead>\n",
       "    <tr style=\"text-align: right;\">\n",
       "      <th></th>\n",
       "      <th>year</th>\n",
       "      <th>mean_home_score</th>\n",
       "      <th>mean_away_score</th>\n",
       "      <th>percentage_wins_home</th>\n",
       "      <th>percentage_wins_away</th>\n",
       "    </tr>\n",
       "  </thead>\n",
       "  <tbody>\n",
       "    <tr>\n",
       "      <th>0</th>\n",
       "      <td>1.873146</td>\n",
       "      <td>-1.452486</td>\n",
       "      <td>0.616305</td>\n",
       "      <td>-0.609021</td>\n",
       "      <td>0.329087</td>\n",
       "    </tr>\n",
       "    <tr>\n",
       "      <th>1</th>\n",
       "      <td>1.873146</td>\n",
       "      <td>0.089464</td>\n",
       "      <td>-2.046131</td>\n",
       "      <td>0.778944</td>\n",
       "      <td>-0.935227</td>\n",
       "    </tr>\n",
       "  </tbody>\n",
       "</table>\n",
       "</div>"
      ],
      "text/plain": [
       "       year  mean_home_score  mean_away_score  percentage_wins_home  \\\n",
       "0  1.873146        -1.452486         0.616305             -0.609021   \n",
       "1  1.873146         0.089464        -2.046131              0.778944   \n",
       "\n",
       "   percentage_wins_away  \n",
       "0              0.329087  \n",
       "1             -0.935227  "
      ]
     },
     "execution_count": 105,
     "metadata": {},
     "output_type": "execute_result"
    }
   ],
   "source": [
    "test_scaled.head(2)"
   ]
  },
  {
   "cell_type": "code",
   "execution_count": 106,
   "metadata": {
    "collapsed": true
   },
   "outputs": [],
   "source": [
    "X_train = pd.concat([train_scaled, train_teams], axis=1)"
   ]
  },
  {
   "cell_type": "code",
   "execution_count": 107,
   "metadata": {
    "collapsed": false
   },
   "outputs": [
    {
     "name": "stdout",
     "output_type": "stream",
     "text": [
      "X_train.shape =  (101609, 711)\n"
     ]
    }
   ],
   "source": [
    "print 'X_train.shape = ', X_train.shape"
   ]
  },
  {
   "cell_type": "code",
   "execution_count": 108,
   "metadata": {
    "collapsed": false
   },
   "outputs": [
    {
     "data": {
      "text/html": [
       "<div>\n",
       "<table border=\"1\" class=\"dataframe\">\n",
       "  <thead>\n",
       "    <tr style=\"text-align: right;\">\n",
       "      <th></th>\n",
       "      <th>year</th>\n",
       "      <th>mean_home_score</th>\n",
       "      <th>mean_away_score</th>\n",
       "      <th>percentage_wins_home</th>\n",
       "      <th>percentage_wins_away</th>\n",
       "      <th>0</th>\n",
       "      <th>1</th>\n",
       "      <th>2</th>\n",
       "      <th>3</th>\n",
       "      <th>4</th>\n",
       "      <th>...</th>\n",
       "      <th>343</th>\n",
       "      <th>344</th>\n",
       "      <th>345</th>\n",
       "      <th>346</th>\n",
       "      <th>347</th>\n",
       "      <th>348</th>\n",
       "      <th>349</th>\n",
       "      <th>350</th>\n",
       "      <th>351</th>\n",
       "      <th>352</th>\n",
       "    </tr>\n",
       "  </thead>\n",
       "  <tbody>\n",
       "    <tr>\n",
       "      <th>0</th>\n",
       "      <td>-1.752835</td>\n",
       "      <td>1.411135</td>\n",
       "      <td>1.134001</td>\n",
       "      <td>1.573942</td>\n",
       "      <td>1.261859</td>\n",
       "      <td>0.0</td>\n",
       "      <td>0.0</td>\n",
       "      <td>0.0</td>\n",
       "      <td>0.0</td>\n",
       "      <td>0.0</td>\n",
       "      <td>...</td>\n",
       "      <td>0.0</td>\n",
       "      <td>0.0</td>\n",
       "      <td>0.0</td>\n",
       "      <td>0.0</td>\n",
       "      <td>0.0</td>\n",
       "      <td>0.0</td>\n",
       "      <td>0.0</td>\n",
       "      <td>0.0</td>\n",
       "      <td>0.0</td>\n",
       "      <td>0.0</td>\n",
       "    </tr>\n",
       "    <tr>\n",
       "      <th>1</th>\n",
       "      <td>-1.752835</td>\n",
       "      <td>0.236316</td>\n",
       "      <td>0.468392</td>\n",
       "      <td>0.019886</td>\n",
       "      <td>0.518128</td>\n",
       "      <td>0.0</td>\n",
       "      <td>0.0</td>\n",
       "      <td>0.0</td>\n",
       "      <td>0.0</td>\n",
       "      <td>0.0</td>\n",
       "      <td>...</td>\n",
       "      <td>0.0</td>\n",
       "      <td>0.0</td>\n",
       "      <td>0.0</td>\n",
       "      <td>0.0</td>\n",
       "      <td>0.0</td>\n",
       "      <td>0.0</td>\n",
       "      <td>0.0</td>\n",
       "      <td>0.0</td>\n",
       "      <td>0.0</td>\n",
       "      <td>0.0</td>\n",
       "    </tr>\n",
       "    <tr>\n",
       "      <th>2</th>\n",
       "      <td>-1.752835</td>\n",
       "      <td>1.264283</td>\n",
       "      <td>-0.197217</td>\n",
       "      <td>0.217170</td>\n",
       "      <td>-0.392998</td>\n",
       "      <td>0.0</td>\n",
       "      <td>0.0</td>\n",
       "      <td>0.0</td>\n",
       "      <td>0.0</td>\n",
       "      <td>0.0</td>\n",
       "      <td>...</td>\n",
       "      <td>0.0</td>\n",
       "      <td>0.0</td>\n",
       "      <td>0.0</td>\n",
       "      <td>0.0</td>\n",
       "      <td>0.0</td>\n",
       "      <td>0.0</td>\n",
       "      <td>0.0</td>\n",
       "      <td>0.0</td>\n",
       "      <td>0.0</td>\n",
       "      <td>0.0</td>\n",
       "    </tr>\n",
       "  </tbody>\n",
       "</table>\n",
       "<p>3 rows × 711 columns</p>\n",
       "</div>"
      ],
      "text/plain": [
       "       year  mean_home_score  mean_away_score  percentage_wins_home  \\\n",
       "0 -1.752835         1.411135         1.134001              1.573942   \n",
       "1 -1.752835         0.236316         0.468392              0.019886   \n",
       "2 -1.752835         1.264283        -0.197217              0.217170   \n",
       "\n",
       "   percentage_wins_away    0    1    2    3    4 ...   343  344  345  346  \\\n",
       "0              1.261859  0.0  0.0  0.0  0.0  0.0 ...   0.0  0.0  0.0  0.0   \n",
       "1              0.518128  0.0  0.0  0.0  0.0  0.0 ...   0.0  0.0  0.0  0.0   \n",
       "2             -0.392998  0.0  0.0  0.0  0.0  0.0 ...   0.0  0.0  0.0  0.0   \n",
       "\n",
       "   347  348  349  350  351  352  \n",
       "0  0.0  0.0  0.0  0.0  0.0  0.0  \n",
       "1  0.0  0.0  0.0  0.0  0.0  0.0  \n",
       "2  0.0  0.0  0.0  0.0  0.0  0.0  \n",
       "\n",
       "[3 rows x 711 columns]"
      ]
     },
     "execution_count": 108,
     "metadata": {},
     "output_type": "execute_result"
    }
   ],
   "source": [
    "X_train.head(3)"
   ]
  },
  {
   "cell_type": "code",
   "execution_count": 109,
   "metadata": {
    "collapsed": true
   },
   "outputs": [],
   "source": [
    "X_test = pd.concat([test_scaled, test_teams], axis=1)"
   ]
  },
  {
   "cell_type": "code",
   "execution_count": 110,
   "metadata": {
    "collapsed": false
   },
   "outputs": [
    {
     "name": "stdout",
     "output_type": "stream",
     "text": [
      "X_test.shape =  (125207, 711)\n"
     ]
    }
   ],
   "source": [
    "print 'X_test.shape = ', X_test.shape"
   ]
  },
  {
   "cell_type": "code",
   "execution_count": 111,
   "metadata": {
    "collapsed": false
   },
   "outputs": [
    {
     "data": {
      "text/html": [
       "<div>\n",
       "<table border=\"1\" class=\"dataframe\">\n",
       "  <thead>\n",
       "    <tr style=\"text-align: right;\">\n",
       "      <th></th>\n",
       "      <th>year</th>\n",
       "      <th>mean_home_score</th>\n",
       "      <th>mean_away_score</th>\n",
       "      <th>percentage_wins_home</th>\n",
       "      <th>percentage_wins_away</th>\n",
       "      <th>0</th>\n",
       "      <th>1</th>\n",
       "      <th>2</th>\n",
       "      <th>3</th>\n",
       "      <th>4</th>\n",
       "      <th>...</th>\n",
       "      <th>343</th>\n",
       "      <th>344</th>\n",
       "      <th>345</th>\n",
       "      <th>346</th>\n",
       "      <th>347</th>\n",
       "      <th>348</th>\n",
       "      <th>349</th>\n",
       "      <th>350</th>\n",
       "      <th>351</th>\n",
       "      <th>352</th>\n",
       "    </tr>\n",
       "  </thead>\n",
       "  <tbody>\n",
       "    <tr>\n",
       "      <th>0</th>\n",
       "      <td>1.873146</td>\n",
       "      <td>-1.452486</td>\n",
       "      <td>0.616305</td>\n",
       "      <td>-0.609021</td>\n",
       "      <td>0.329087</td>\n",
       "      <td>0.0</td>\n",
       "      <td>0.0</td>\n",
       "      <td>0.0</td>\n",
       "      <td>0.0</td>\n",
       "      <td>0.0</td>\n",
       "      <td>...</td>\n",
       "      <td>0.0</td>\n",
       "      <td>0.0</td>\n",
       "      <td>0.0</td>\n",
       "      <td>0.0</td>\n",
       "      <td>0.0</td>\n",
       "      <td>0.0</td>\n",
       "      <td>0.0</td>\n",
       "      <td>0.0</td>\n",
       "      <td>0.0</td>\n",
       "      <td>0.0</td>\n",
       "    </tr>\n",
       "    <tr>\n",
       "      <th>1</th>\n",
       "      <td>1.873146</td>\n",
       "      <td>0.089464</td>\n",
       "      <td>-2.046131</td>\n",
       "      <td>0.778944</td>\n",
       "      <td>-0.935227</td>\n",
       "      <td>0.0</td>\n",
       "      <td>0.0</td>\n",
       "      <td>0.0</td>\n",
       "      <td>0.0</td>\n",
       "      <td>0.0</td>\n",
       "      <td>...</td>\n",
       "      <td>0.0</td>\n",
       "      <td>0.0</td>\n",
       "      <td>0.0</td>\n",
       "      <td>0.0</td>\n",
       "      <td>0.0</td>\n",
       "      <td>0.0</td>\n",
       "      <td>0.0</td>\n",
       "      <td>0.0</td>\n",
       "      <td>0.0</td>\n",
       "      <td>0.0</td>\n",
       "    </tr>\n",
       "    <tr>\n",
       "      <th>2</th>\n",
       "      <td>1.715495</td>\n",
       "      <td>1.264283</td>\n",
       "      <td>-0.862826</td>\n",
       "      <td>0.415097</td>\n",
       "      <td>-2.705856</td>\n",
       "      <td>0.0</td>\n",
       "      <td>0.0</td>\n",
       "      <td>0.0</td>\n",
       "      <td>0.0</td>\n",
       "      <td>0.0</td>\n",
       "      <td>...</td>\n",
       "      <td>0.0</td>\n",
       "      <td>0.0</td>\n",
       "      <td>0.0</td>\n",
       "      <td>0.0</td>\n",
       "      <td>0.0</td>\n",
       "      <td>0.0</td>\n",
       "      <td>0.0</td>\n",
       "      <td>0.0</td>\n",
       "      <td>0.0</td>\n",
       "      <td>0.0</td>\n",
       "    </tr>\n",
       "  </tbody>\n",
       "</table>\n",
       "<p>3 rows × 711 columns</p>\n",
       "</div>"
      ],
      "text/plain": [
       "       year  mean_home_score  mean_away_score  percentage_wins_home  \\\n",
       "0  1.873146        -1.452486         0.616305             -0.609021   \n",
       "1  1.873146         0.089464        -2.046131              0.778944   \n",
       "2  1.715495         1.264283        -0.862826              0.415097   \n",
       "\n",
       "   percentage_wins_away    0    1    2    3    4 ...   343  344  345  346  \\\n",
       "0              0.329087  0.0  0.0  0.0  0.0  0.0 ...   0.0  0.0  0.0  0.0   \n",
       "1             -0.935227  0.0  0.0  0.0  0.0  0.0 ...   0.0  0.0  0.0  0.0   \n",
       "2             -2.705856  0.0  0.0  0.0  0.0  0.0 ...   0.0  0.0  0.0  0.0   \n",
       "\n",
       "   347  348  349  350  351  352  \n",
       "0  0.0  0.0  0.0  0.0  0.0  0.0  \n",
       "1  0.0  0.0  0.0  0.0  0.0  0.0  \n",
       "2  0.0  0.0  0.0  0.0  0.0  0.0  \n",
       "\n",
       "[3 rows x 711 columns]"
      ]
     },
     "execution_count": 111,
     "metadata": {},
     "output_type": "execute_result"
    }
   ],
   "source": [
    "X_test.head(3)"
   ]
  },
  {
   "cell_type": "markdown",
   "metadata": {},
   "source": [
    "# cross_validation"
   ]
  },
  {
   "cell_type": "code",
   "execution_count": 113,
   "metadata": {
    "collapsed": false
   },
   "outputs": [],
   "source": [
    "train_data, test_data, train_labels, test_labels = cross_validation.train_test_split(X_train, y_train,\n",
    "                                                                                     test_size=0.2, stratify = y_train)"
   ]
  },
  {
   "cell_type": "raw",
   "metadata": {},
   "source": [
    "проверка стратификации"
   ]
  },
  {
   "cell_type": "code",
   "execution_count": 114,
   "metadata": {
    "collapsed": false
   },
   "outputs": [
    {
     "name": "stdout",
     "output_type": "stream",
     "text": [
      "1\n"
     ]
    }
   ],
   "source": [
    "print np.sum(test_labels['target'] == True) / np.sum(test_labels['target'] == False)"
   ]
  },
  {
   "cell_type": "code",
   "execution_count": 115,
   "metadata": {
    "collapsed": false
   },
   "outputs": [
    {
     "name": "stdout",
     "output_type": "stream",
     "text": [
      "1\n"
     ]
    }
   ],
   "source": [
    "print np.sum(train_labels['target'] == True) / np.sum(train_labels['target'] == False)"
   ]
  },
  {
   "cell_type": "code",
   "execution_count": 116,
   "metadata": {
    "collapsed": false
   },
   "outputs": [
    {
     "name": "stdout",
     "output_type": "stream",
     "text": [
      "train_data.shape =  (81287, 711)\n",
      "test_data.shape =  (20322, 711)\n",
      "train_labels.shape =  (81287, 1)\n",
      "test_labels.shape =  (20322, 1)\n"
     ]
    }
   ],
   "source": [
    "print 'train_data.shape = ', train_data.shape\n",
    "print 'test_data.shape = ', test_data.shape\n",
    "print 'train_labels.shape = ', train_labels.shape\n",
    "print 'test_labels.shape = ', test_labels.shape"
   ]
  },
  {
   "cell_type": "code",
   "execution_count": null,
   "metadata": {
    "collapsed": true
   },
   "outputs": [],
   "source": []
  },
  {
   "cell_type": "markdown",
   "metadata": {},
   "source": [
    "# XGB"
   ]
  },
  {
   "cell_type": "markdown",
   "metadata": {},
   "source": [
    "## Первое приближение"
   ]
  },
  {
   "cell_type": "code",
   "execution_count": 237,
   "metadata": {
    "collapsed": true
   },
   "outputs": [],
   "source": [
    "train_data = X_train_hot_encod"
   ]
  },
  {
   "cell_type": "code",
   "execution_count": 238,
   "metadata": {
    "collapsed": true
   },
   "outputs": [],
   "source": [
    "train_labels = y_train"
   ]
  },
  {
   "cell_type": "code",
   "execution_count": 191,
   "metadata": {
    "collapsed": true
   },
   "outputs": [],
   "source": [
    "params = {  'max_depth': np.linspace(2, 12, 3, dtype=int), \n",
    "            'max_delta_step': np.linspace(0.03, 0.5, 3),\n",
    "            'n_estimators': np.linspace(80,160, 3, dtype=int)}"
   ]
  },
  {
   "cell_type": "code",
   "execution_count": 192,
   "metadata": {
    "collapsed": false
   },
   "outputs": [],
   "source": [
    "xgb_classifier = xgboost.XGBClassifier()"
   ]
  },
  {
   "cell_type": "code",
   "execution_count": 195,
   "metadata": {
    "collapsed": false
   },
   "outputs": [
    {
     "data": {
      "text/plain": [
       "(101609,)"
      ]
     },
     "execution_count": 195,
     "metadata": {},
     "output_type": "execute_result"
    }
   ],
   "source": [
    "y_t = np.array(train_labels).reshape(train_data.shape[0])\n",
    "y_t.shape"
   ]
  },
  {
   "cell_type": "markdown",
   "metadata": {},
   "source": [
    "# Linear_Classifier"
   ]
  },
  {
   "cell_type": "code",
   "execution_count": 117,
   "metadata": {
    "collapsed": true
   },
   "outputs": [],
   "source": [
    "lin_cl = linear_model.LogisticRegression(C=0.8)"
   ]
  },
  {
   "cell_type": "code",
   "execution_count": 118,
   "metadata": {
    "collapsed": false
   },
   "outputs": [
    {
     "name": "stderr",
     "output_type": "stream",
     "text": [
      "/Users/Roman/anaconda/lib/python2.7/site-packages/sklearn/utils/validation.py:526: DataConversionWarning: A column-vector y was passed when a 1d array was expected. Please change the shape of y to (n_samples, ), for example using ravel().\n",
      "  y = column_or_1d(y, warn=True)\n"
     ]
    },
    {
     "data": {
      "text/plain": [
       "LogisticRegression(C=0.8, class_weight=None, dual=False, fit_intercept=True,\n",
       "          intercept_scaling=1, max_iter=100, multi_class='ovr', n_jobs=1,\n",
       "          penalty='l2', random_state=None, solver='liblinear', tol=0.0001,\n",
       "          verbose=0, warm_start=False)"
      ]
     },
     "execution_count": 118,
     "metadata": {},
     "output_type": "execute_result"
    }
   ],
   "source": [
    "lin_cl.fit(train_data, train_labels)"
   ]
  },
  {
   "cell_type": "code",
   "execution_count": 126,
   "metadata": {
    "collapsed": false
   },
   "outputs": [
    {
     "data": {
      "text/html": [
       "<div>\n",
       "<table border=\"1\" class=\"dataframe\">\n",
       "  <thead>\n",
       "    <tr style=\"text-align: right;\">\n",
       "      <th></th>\n",
       "      <th>year</th>\n",
       "      <th>mean_home_score</th>\n",
       "      <th>mean_away_score</th>\n",
       "      <th>percentage_wins_home</th>\n",
       "      <th>percentage_wins_away</th>\n",
       "      <th>0</th>\n",
       "      <th>1</th>\n",
       "      <th>2</th>\n",
       "      <th>3</th>\n",
       "      <th>4</th>\n",
       "      <th>...</th>\n",
       "      <th>343</th>\n",
       "      <th>344</th>\n",
       "      <th>345</th>\n",
       "      <th>346</th>\n",
       "      <th>347</th>\n",
       "      <th>348</th>\n",
       "      <th>349</th>\n",
       "      <th>350</th>\n",
       "      <th>351</th>\n",
       "      <th>352</th>\n",
       "    </tr>\n",
       "  </thead>\n",
       "  <tbody>\n",
       "    <tr>\n",
       "      <th>0</th>\n",
       "      <td>-1.752835</td>\n",
       "      <td>1.411135</td>\n",
       "      <td>1.134001</td>\n",
       "      <td>1.573942</td>\n",
       "      <td>1.261859</td>\n",
       "      <td>0.0</td>\n",
       "      <td>0.0</td>\n",
       "      <td>0.0</td>\n",
       "      <td>0.0</td>\n",
       "      <td>0.0</td>\n",
       "      <td>...</td>\n",
       "      <td>0.0</td>\n",
       "      <td>0.0</td>\n",
       "      <td>0.0</td>\n",
       "      <td>0.0</td>\n",
       "      <td>0.0</td>\n",
       "      <td>0.0</td>\n",
       "      <td>0.0</td>\n",
       "      <td>0.0</td>\n",
       "      <td>0.0</td>\n",
       "      <td>0.0</td>\n",
       "    </tr>\n",
       "    <tr>\n",
       "      <th>1</th>\n",
       "      <td>-1.752835</td>\n",
       "      <td>0.236316</td>\n",
       "      <td>0.468392</td>\n",
       "      <td>0.019886</td>\n",
       "      <td>0.518128</td>\n",
       "      <td>0.0</td>\n",
       "      <td>0.0</td>\n",
       "      <td>0.0</td>\n",
       "      <td>0.0</td>\n",
       "      <td>0.0</td>\n",
       "      <td>...</td>\n",
       "      <td>0.0</td>\n",
       "      <td>0.0</td>\n",
       "      <td>0.0</td>\n",
       "      <td>0.0</td>\n",
       "      <td>0.0</td>\n",
       "      <td>0.0</td>\n",
       "      <td>0.0</td>\n",
       "      <td>0.0</td>\n",
       "      <td>0.0</td>\n",
       "      <td>0.0</td>\n",
       "    </tr>\n",
       "  </tbody>\n",
       "</table>\n",
       "<p>2 rows × 711 columns</p>\n",
       "</div>"
      ],
      "text/plain": [
       "       year  mean_home_score  mean_away_score  percentage_wins_home  \\\n",
       "0 -1.752835         1.411135         1.134001              1.573942   \n",
       "1 -1.752835         0.236316         0.468392              0.019886   \n",
       "\n",
       "   percentage_wins_away    0    1    2    3    4 ...   343  344  345  346  \\\n",
       "0              1.261859  0.0  0.0  0.0  0.0  0.0 ...   0.0  0.0  0.0  0.0   \n",
       "1              0.518128  0.0  0.0  0.0  0.0  0.0 ...   0.0  0.0  0.0  0.0   \n",
       "\n",
       "   347  348  349  350  351  352  \n",
       "0  0.0  0.0  0.0  0.0  0.0  0.0  \n",
       "1  0.0  0.0  0.0  0.0  0.0  0.0  \n",
       "\n",
       "[2 rows x 711 columns]"
      ]
     },
     "execution_count": 126,
     "metadata": {},
     "output_type": "execute_result"
    }
   ],
   "source": [
    "X_train.head(2)"
   ]
  },
  {
   "cell_type": "code",
   "execution_count": 125,
   "metadata": {
    "collapsed": false
   },
   "outputs": [
    {
     "data": {
      "text/plain": [
       "array([[-0.00668974,  0.06378819, -0.05108153,  0.93504147, -0.91278323,\n",
       "         0.72079846, -0.07815502,  0.43281329, -0.91981884, -1.14024575,\n",
       "        -0.30502664, -0.68693202, -0.29918212, -0.30760465,  0.23331415,\n",
       "         0.7965367 , -0.27939164, -0.39654278,  0.3669798 , -0.13714863,\n",
       "         0.35024333,  0.78196997, -0.39085981, -0.07295957,  0.79807257,\n",
       "        -1.30009247, -0.72655426, -0.11331618, -1.16255339, -0.20008637,\n",
       "         0.51941386, -0.56700546,  0.07290809,  0.44662152,  0.12461971,\n",
       "        -0.09822127, -0.11893335, -0.71696021,  0.25988168, -0.43666564,\n",
       "        -0.16045751,  0.57614053,  0.28665246,  0.60660384, -0.2942108 ,\n",
       "        -0.08527007,  0.19131387,  0.12743037, -0.62561027, -0.2033644 ,\n",
       "         0.34728898, -0.40006455,  0.31609836,  0.12105912,  0.26564679,\n",
       "         0.89148609,  0.37833594, -0.54639192, -1.06001436, -0.51449038,\n",
       "         0.79246044,  0.28183858,  0.13540458,  0.20046986, -0.93388469,\n",
       "        -0.73279018, -0.14079125,  0.2881775 ,  0.19858373, -0.02789291,\n",
       "         0.72377869,  0.0451718 , -0.80287295,  0.28402499, -0.43525672,\n",
       "        -0.64546743, -0.02004854,  1.05378052,  0.12840503,  0.92394591,\n",
       "        -0.67937756,  0.25964732,  0.68253907, -0.14761048, -0.32791931,\n",
       "         0.3379208 ,  0.14733217,  0.51686495,  0.54078588,  0.28202681,\n",
       "        -0.4753592 ,  0.31398838, -0.42825143, -0.43190105,  0.10877265,\n",
       "        -0.68591178,  0.18755318, -0.77890191,  0.03786009,  0.94125134,\n",
       "         0.69642622, -0.13344584,  0.03440923,  0.08939188, -0.0374926 ,\n",
       "        -0.24133148, -0.2315509 ,  0.51633659,  0.90053872, -0.29847826,\n",
       "         0.93241536, -0.71900884, -0.66151138, -1.15986164, -0.15775974,\n",
       "        -0.36152048,  0.18070996, -0.34746655, -0.52103821, -0.66732551,\n",
       "         0.58983642, -0.08283752, -0.37135726,  0.38606702,  0.12814051,\n",
       "        -0.02961957,  0.71819515,  0.0974226 ,  0.89038762,  0.72504576,\n",
       "        -0.68185069,  0.74846135,  0.69473196,  0.11099313, -0.50498633,\n",
       "        -0.93043373, -0.57625271, -0.26100717, -0.11060219,  0.17562791,\n",
       "         0.78024944, -0.23081311, -0.48046014, -0.00865661,  0.41843565,\n",
       "        -0.19665365, -0.32841654, -0.41978884, -0.54344312, -0.54582967,\n",
       "         0.03685265, -0.69555566,  0.04599131,  0.05275943,  0.26634133,\n",
       "         0.7316326 , -0.06737894,  0.25681841,  0.82742332, -0.53430084,\n",
       "        -0.48375169, -0.21740167,  0.32487675,  0.04385239,  0.55263003,\n",
       "         0.14351723, -0.37274753, -0.32934246, -0.0101742 , -0.23769983,\n",
       "         0.95058838, -0.05042449,  0.86232122,  0.57052849,  0.82961793,\n",
       "         0.46017841,  0.44305257,  0.43084605, -0.0810179 ,  0.29238816,\n",
       "        -0.48428302, -0.66119688, -0.21144501, -0.21012233, -0.62060608,\n",
       "        -0.49633082, -1.09915206, -0.53548609, -0.20674637, -1.21149614,\n",
       "         0.30354324, -0.3989526 ,  0.43363811,  0.22662037, -0.45438093,\n",
       "        -0.83591808,  0.11537757,  0.84289382,  0.31428146,  0.20110103,\n",
       "         0.7586868 , -0.04572048,  0.3757366 , -0.20538572, -0.25273176,\n",
       "        -0.33981256, -0.48188343,  0.04808691, -0.34202635, -1.02075646,\n",
       "         0.20198018, -0.29347328,  0.00309488,  0.0240434 , -0.13840849,\n",
       "        -0.43805563,  0.42059169,  1.29125459, -0.42252411,  0.54235955,\n",
       "        -0.52892198, -0.17119269,  0.56147265,  0.23295446,  0.35341719,\n",
       "        -0.37338357, -0.53934697,  0.60713107,  1.32242084, -0.30201679,\n",
       "        -0.58018397,  1.29032226,  0.15545405,  0.36943289,  0.48100746,\n",
       "        -0.42226937, -0.45733447,  0.59992275, -0.55206533,  0.80138173,\n",
       "         0.64331461, -0.91823774, -0.6060136 ,  0.30317562,  0.54382333,\n",
       "        -0.09256839, -0.71704306, -0.76438274,  0.83918401, -1.14262445,\n",
       "        -0.39469873,  0.1786629 , -0.37968576, -0.49499832, -0.3890664 ,\n",
       "         0.47756738,  0.38497511,  0.37782818,  0.86019058, -0.03799629,\n",
       "         0.23239865,  0.16692189, -0.08291705, -0.27045964,  0.04472734,\n",
       "        -0.16188478,  0.7686281 , -0.74405492, -0.59118671,  0.65858387,\n",
       "        -0.42779185,  0.9673769 , -0.88487105,  1.05278971,  0.41689052,\n",
       "        -1.17905625,  0.00618953,  0.52680798, -0.63955319, -0.25867491,\n",
       "         1.12790614,  0.16964294,  0.55712202, -0.18160306,  0.17857926,\n",
       "         0.41502285, -0.26745675, -0.35010639,  0.27327332, -0.30907638,\n",
       "         0.28636408,  0.13608677,  0.71685834, -0.15811437, -0.46472872,\n",
       "         0.38576119,  0.81380283, -0.35701792,  0.72723333,  0.28242958,\n",
       "        -0.0388887 ,  0.06136318, -0.73750009,  0.55702645, -0.04852614,\n",
       "         0.25893044, -1.12016114,  0.38565469,  0.33350628,  0.49700751,\n",
       "         0.69680688, -0.58135752,  0.36858927, -0.12401278, -0.03712757,\n",
       "        -0.16229221, -0.32720372, -0.17938374, -0.12318103, -0.1006818 ,\n",
       "         0.823862  , -0.51654866, -0.52714527,  0.22414347, -0.57363727,\n",
       "        -1.09657056,  0.06251531, -0.46832254, -0.59899372,  0.58229896,\n",
       "        -0.97792246,  0.55882541,  0.98410046,  0.75750671, -0.09752796,\n",
       "         0.01583874,  0.01414052, -0.64124888, -0.30139547, -0.41428732,\n",
       "        -0.94471284,  0.53558429,  0.72989007,  0.97899642, -0.70028686,\n",
       "         0.56867002, -0.2391297 ,  0.25984302,  0.28367475,  0.3112343 ,\n",
       "        -0.60971058,  0.67758602,  0.37871099,  0.10894929,  0.44209078,\n",
       "        -0.33936521, -0.44050795,  0.41624021, -0.74053091,  0.42111386,\n",
       "        -0.52363669,  1.28125889,  1.06706659,  0.60103091,  0.62680174,\n",
       "         0.15069519,  0.27234471, -0.15466319, -0.97004196,  0.26880595,\n",
       "         0.3558499 , -0.54572753,  0.10394043,  0.02726433, -0.79889377,\n",
       "         0.63431208, -0.00450628, -0.40980765,  0.97085053,  0.42775984,\n",
       "         0.1373408 ,  1.05871509,  0.28518931, -0.95290909,  0.46344071,\n",
       "        -0.18282452, -0.33909393,  0.04116285,  0.07247532, -0.11804922,\n",
       "         0.9413049 ,  0.01759518,  0.32799246,  0.18213075, -0.7197424 ,\n",
       "        -0.02593125, -0.46092207,  0.20089454,  0.06247708, -0.23530798,\n",
       "        -0.3591448 ,  0.74822377,  0.23554072, -0.36575426,  0.78620293,\n",
       "        -0.7026882 , -0.17328967, -0.25518914, -0.8526172 , -0.0487044 ,\n",
       "         0.48325142,  1.28351696,  0.24348145, -0.9315905 , -0.38190669,\n",
       "         0.14032109, -0.30821745,  0.77323498, -0.14361714, -0.03866792,\n",
       "        -0.20300541, -0.13100342,  0.0142379 , -0.47741176, -0.10912331,\n",
       "         0.45193429, -0.35931004,  0.12356797,  0.77627148, -0.03650698,\n",
       "        -1.02809301,  0.09316455, -0.52578941,  0.49053749, -0.16287922,\n",
       "        -0.86799094,  0.17762264,  0.31727375, -0.33839862, -0.15017174,\n",
       "        -0.57918891, -0.55144409, -0.00721008,  0.8901933 , -0.36428153,\n",
       "         0.55826904,  0.28791011, -0.16567148,  0.54736977, -0.31225746,\n",
       "         0.49907933, -0.27841941, -1.00245912, -0.76876038, -0.25479571,\n",
       "         0.08942068, -0.1526906 ,  0.13114849,  0.08629121,  0.30329662,\n",
       "        -0.63452489, -0.89416144,  0.2775258 , -0.97976774,  0.69895446,\n",
       "         0.71295137,  1.12119642,  0.08420489,  0.46633403,  0.01253933,\n",
       "         0.46946859,  0.0387162 ,  0.85632683, -0.42538259, -0.03435117,\n",
       "         0.19333031, -0.29180777, -0.2631966 , -0.11918965, -0.62956611,\n",
       "        -0.13902361, -0.63565572, -0.9333626 ,  0.60702245, -0.7923431 ,\n",
       "        -0.63157197, -0.12506046,  0.11061709,  1.09020214,  0.31343969,\n",
       "         0.23149257, -0.13977983,  0.14885624, -0.66296386,  0.01691315,\n",
       "         0.1808487 , -0.27479777, -0.69495954,  0.51608886,  0.25185782,\n",
       "         0.3909575 ,  0.58206881,  0.87484775,  0.11777516,  0.82576454,\n",
       "         0.07985826,  0.08057694, -0.3153248 , -0.66939972,  0.11204868,\n",
       "        -0.54335557, -0.72653456,  0.55736861,  0.66887764,  0.27724925,\n",
       "        -0.1434828 ,  0.06402267, -0.55994383, -0.31096849,  0.39130415,\n",
       "         0.19024397,  0.17379451,  0.47136236, -0.89071536, -0.07219084,\n",
       "        -0.99066794, -0.42777684, -0.84640435, -0.75995187, -0.44496916,\n",
       "        -0.43285343, -0.01107071,  0.08665922,  0.73535348,  0.76233029,\n",
       "         0.49742951,  0.31722339,  0.74907489, -0.0327316 ,  1.2937645 ,\n",
       "         0.49614898,  0.50401462,  1.3133454 ,  0.25683244,  0.92264666,\n",
       "        -0.6032613 ,  0.50112479,  0.37737623,  0.56669206,  0.13956392,\n",
       "        -0.91500515,  0.22279137, -0.02883414, -0.90245313,  0.14908998,\n",
       "         0.12541679,  0.21853447,  0.31984752,  0.04663291,  0.57493625,\n",
       "         0.25469436,  0.05078222,  0.96555271, -0.42606944,  0.57655362,\n",
       "         0.12079245, -0.00257717, -0.04985021,  0.2093089 , -0.23697876,\n",
       "        -1.45100784,  0.42173791, -0.69840098,  0.3004789 ,  0.3813023 ,\n",
       "        -0.57465558, -0.36979778, -0.45595915,  0.2256709 ,  0.67205558,\n",
       "        -0.70382438, -1.53073509,  0.22651589,  0.64225825, -1.09671587,\n",
       "        -0.33358764, -0.75627942, -0.53323897,  0.24585552,  0.4081132 ,\n",
       "         0.04886224,  0.7314205 , -0.93220351, -0.61903744,  1.01642629,\n",
       "         0.56300363, -0.50599402, -0.69183204, -0.32483701,  0.84741746,\n",
       "         0.68574782, -1.32080652,  1.26763843,  0.16877913,  0.08379434,\n",
       "         0.48291645,  0.32262856,  0.29825583, -0.21722399, -0.55709002,\n",
       "        -0.10385719, -0.90856229,  0.13312404, -0.10202362,  0.17291749,\n",
       "        -0.16632001,  0.20755315,  0.3083012 ,  0.09208046, -1.07008744,\n",
       "         0.63481603,  0.65012048, -0.48602867,  0.25347269, -0.98052927,\n",
       "         0.27638942, -0.77245488, -0.39534039,  1.32033886,  0.19375723,\n",
       "        -0.5610873 ,  0.856388  ,  0.26449263, -1.00779103, -0.33203476,\n",
       "        -0.54988008,  0.05961008,  0.04120616, -0.39794133,  0.28860333,\n",
       "         0.44175554, -0.27097754,  0.34589066, -0.57607384, -0.46318188,\n",
       "        -0.75200384,  0.18303825,  0.66695611, -0.03580105, -0.50423472,\n",
       "         0.53153885, -0.47911762,  0.01388926, -0.11718926, -0.32867664,\n",
       "         0.31971148, -0.29997011,  0.18868208, -0.41152076,  0.8604771 ,\n",
       "         0.22922123, -0.23320964,  0.04574926, -0.79426356,  0.41369609,\n",
       "        -0.28405282,  0.28369827,  0.13861633,  0.03247708,  0.34509221,\n",
       "         0.2503071 , -0.18005551,  0.02950053, -0.89353664,  0.6063903 ,\n",
       "         0.59506721, -0.13205514,  0.70231484,  0.54084287, -0.08575886,\n",
       "         0.3519662 ,  0.60788139, -0.70019751,  0.97544922, -0.81132324,\n",
       "        -0.76755934, -0.77279631,  0.1400588 , -0.23295286, -0.08461127,\n",
       "         0.61787997,  0.16675787, -0.1700654 ,  0.81847725, -0.7596328 ,\n",
       "        -0.76530906, -0.85630038,  0.74602091, -0.66816835,  0.15876024,\n",
       "         0.2287246 , -0.30440748, -0.4744737 ,  0.65974068, -0.84299749,\n",
       "        -0.1049638 ,  0.16195169, -0.3348387 ,  0.20697232,  0.1408929 ,\n",
       "        -0.46138231]])"
      ]
     },
     "execution_count": 125,
     "metadata": {},
     "output_type": "execute_result"
    }
   ],
   "source": [
    "lin_cl.coef_"
   ]
  },
  {
   "cell_type": "code",
   "execution_count": 119,
   "metadata": {
    "collapsed": false
   },
   "outputs": [
    {
     "data": {
      "text/plain": [
       "0.60089956576544035"
      ]
     },
     "execution_count": 119,
     "metadata": {},
     "output_type": "execute_result"
    }
   ],
   "source": [
    "log_loss(test_labels, lin_cl.predict_proba(test_data)[:,1])"
   ]
  },
  {
   "cell_type": "code",
   "execution_count": 120,
   "metadata": {
    "collapsed": true
   },
   "outputs": [],
   "source": [
    "y_pred = lin_cl.predict_proba(X_test)[:,1]"
   ]
  },
  {
   "cell_type": "markdown",
   "metadata": {},
   "source": [
    "# Вывод ответа"
   ]
  },
  {
   "cell_type": "code",
   "execution_count": 121,
   "metadata": {
    "collapsed": true
   },
   "outputs": [],
   "source": [
    "ss = sample_submission.copy()\n",
    "ss.target = y_pred\n",
    "ss.to_csv('ans.csv', index=False)"
   ]
  },
  {
   "cell_type": "code",
   "execution_count": null,
   "metadata": {
    "collapsed": true
   },
   "outputs": [],
   "source": []
  }
 ],
 "metadata": {
  "anaconda-cloud": {},
  "kernelspec": {
   "display_name": "Python [conda root]",
   "language": "python",
   "name": "conda-root-py"
  },
  "language_info": {
   "codemirror_mode": {
    "name": "ipython",
    "version": 2
   },
   "file_extension": ".py",
   "mimetype": "text/x-python",
   "name": "python",
   "nbconvert_exporter": "python",
   "pygments_lexer": "ipython2",
   "version": "2.7.12"
  }
 },
 "nbformat": 4,
 "nbformat_minor": 1
}
