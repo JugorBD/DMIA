{
 "cells": [
  {
   "cell_type": "code",
   "execution_count": 1,
   "metadata": {
    "collapsed": false
   },
   "outputs": [
    {
     "name": "stderr",
     "output_type": "stream",
     "text": [
      "/Users/Roman/anaconda/lib/python2.7/site-packages/sklearn/cross_validation.py:44: DeprecationWarning: This module was deprecated in version 0.18 in favor of the model_selection module into which all the refactored classes and functions are moved. Also note that the interface of the new CV iterators are different from that of this module. This module will be removed in 0.20.\n",
      "  \"This module will be removed in 0.20.\", DeprecationWarning)\n",
      "/Users/Roman/anaconda/lib/python2.7/site-packages/sklearn/grid_search.py:43: DeprecationWarning: This module was deprecated in version 0.18 in favor of the model_selection module into which all the refactored classes and functions are moved. This module will be removed in 0.20.\n",
      "  DeprecationWarning)\n"
     ]
    }
   ],
   "source": [
    "import numpy as np # calculations with arrays\n",
    "import pandas as pd # user-friendly DataFrames for data representation\n",
    "import sklearn # machine learning algorithms\n",
    "from sklearn import ensemble, linear_model\n",
    "from sklearn.metrics import log_loss\n",
    "from sklearn import cross_validation\n",
    "from sklearn import grid_search\n",
    "from sklearn.preprocessing import StandardScaler\n",
    "from sklearn.preprocessing import OneHotEncoder\n",
    "from sklearn.feature_extraction import DictVectorizer as DV\n",
    "import xgboost as xgboost\n",
    "import matplotlib.pyplot as plt # import plot functions\n",
    "# necessary to plot in jupyter notebook:\n",
    "%matplotlib inline\n",
    "import seaborn as sns # make plots beautiful"
   ]
  },
  {
   "cell_type": "markdown",
   "metadata": {},
   "source": [
    "# Ridge Classification and Logistic Regression"
   ]
  },
  {
   "cell_type": "code",
   "execution_count": 2,
   "metadata": {
    "collapsed": true
   },
   "outputs": [],
   "source": [
    "train = pd.read_csv('train2.csv')\n",
    "test = pd.read_csv('test2.csv')\n",
    "sample_submission = pd.read_csv('sample_submission.csv')"
   ]
  },
  {
   "cell_type": "code",
   "execution_count": 3,
   "metadata": {
    "collapsed": false
   },
   "outputs": [
    {
     "data": {
      "text/html": [
       "<div>\n",
       "<table border=\"1\" class=\"dataframe\">\n",
       "  <thead>\n",
       "    <tr style=\"text-align: right;\">\n",
       "      <th></th>\n",
       "      <th>year</th>\n",
       "      <th>day</th>\n",
       "      <th>team1</th>\n",
       "      <th>team2</th>\n",
       "      <th>score1</th>\n",
       "      <th>score2</th>\n",
       "      <th>target</th>\n",
       "    </tr>\n",
       "  </thead>\n",
       "  <tbody>\n",
       "    <tr>\n",
       "      <th>0</th>\n",
       "      <td>2998</td>\n",
       "      <td>19</td>\n",
       "      <td>317</td>\n",
       "      <td>131</td>\n",
       "      <td>336</td>\n",
       "      <td>278</td>\n",
       "      <td>True</td>\n",
       "    </tr>\n",
       "    <tr>\n",
       "      <th>1</th>\n",
       "      <td>2998</td>\n",
       "      <td>28</td>\n",
       "      <td>61</td>\n",
       "      <td>29</td>\n",
       "      <td>301</td>\n",
       "      <td>259</td>\n",
       "      <td>True</td>\n",
       "    </tr>\n",
       "  </tbody>\n",
       "</table>\n",
       "</div>"
      ],
      "text/plain": [
       "   year  day  team1  team2  score1  score2 target\n",
       "0  2998   19    317    131     336     278   True\n",
       "1  2998   28     61     29     301     259   True"
      ]
     },
     "execution_count": 3,
     "metadata": {},
     "output_type": "execute_result"
    }
   ],
   "source": [
    "train.head(2)"
   ]
  },
  {
   "cell_type": "code",
   "execution_count": 4,
   "metadata": {
    "collapsed": false
   },
   "outputs": [
    {
     "data": {
      "text/html": [
       "<div>\n",
       "<table border=\"1\" class=\"dataframe\">\n",
       "  <thead>\n",
       "    <tr style=\"text-align: right;\">\n",
       "      <th></th>\n",
       "      <th>Id</th>\n",
       "      <th>year</th>\n",
       "      <th>team1</th>\n",
       "      <th>team2</th>\n",
       "    </tr>\n",
       "  </thead>\n",
       "  <tbody>\n",
       "    <tr>\n",
       "      <th>0</th>\n",
       "      <td>0</td>\n",
       "      <td>3021</td>\n",
       "      <td>363</td>\n",
       "      <td>161</td>\n",
       "    </tr>\n",
       "    <tr>\n",
       "      <th>1</th>\n",
       "      <td>1</td>\n",
       "      <td>3021</td>\n",
       "      <td>286</td>\n",
       "      <td>2</td>\n",
       "    </tr>\n",
       "  </tbody>\n",
       "</table>\n",
       "</div>"
      ],
      "text/plain": [
       "   Id  year  team1  team2\n",
       "0   0  3021    363    161\n",
       "1   1  3021    286      2"
      ]
     },
     "execution_count": 4,
     "metadata": {},
     "output_type": "execute_result"
    }
   ],
   "source": [
    "test.head(2)"
   ]
  },
  {
   "cell_type": "code",
   "execution_count": 5,
   "metadata": {
    "collapsed": false
   },
   "outputs": [],
   "source": [
    "enc = OneHotEncoder(sparse=False)\n",
    "train_team1 = pd.DataFrame(enc.fit_transform(train[['team1']]))\n",
    "train_team2 = pd.DataFrame(enc.transform(train[['team2']]))\n",
    "train_teams = pd.concat([train_team1, train_team2], axis=1)\n",
    "\n",
    "test_team1 = pd.DataFrame(enc.transform(test[['team1']]))\n",
    "test_team2 = pd.DataFrame(enc.transform(test[['team2']]))\n",
    "test_teams = pd.concat([test_team1, test_team2], axis=1)"
   ]
  },
  {
   "cell_type": "code",
   "execution_count": 6,
   "metadata": {
    "collapsed": false
   },
   "outputs": [
    {
     "data": {
      "text/plain": [
       "(125207, 706)"
      ]
     },
     "execution_count": 6,
     "metadata": {},
     "output_type": "execute_result"
    }
   ],
   "source": [
    "test_teams.shape"
   ]
  },
  {
   "cell_type": "code",
   "execution_count": 7,
   "metadata": {
    "collapsed": true
   },
   "outputs": [],
   "source": [
    "X = pd.concat([train[['year']], train_teams], axis = 1)"
   ]
  },
  {
   "cell_type": "code",
   "execution_count": 8,
   "metadata": {
    "collapsed": false
   },
   "outputs": [],
   "source": [
    "X_test_submission = pd.concat([test[['year']], test_teams], axis = 1)"
   ]
  },
  {
   "cell_type": "code",
   "execution_count": 9,
   "metadata": {
    "collapsed": false
   },
   "outputs": [
    {
     "name": "stdout",
     "output_type": "stream",
     "text": [
      "(125207, 707)\n",
      "162\n",
      "1\n",
      "113\n",
      "130\n"
     ]
    }
   ],
   "source": [
    "print X_test_submission.shape\n",
    "for c in test.team2.unique():\n",
    "    if(c not in train.team1.unique()):\n",
    "        print c"
   ]
  },
  {
   "cell_type": "code",
   "execution_count": 10,
   "metadata": {
    "collapsed": false
   },
   "outputs": [],
   "source": [
    "X_train = X[X['year'] <= 3014]\n",
    "y_train = train[train['year'] <= 3014].target\n",
    "X_test = X[X['year'] > 3014]\n",
    "y_test = train[train['year'] > 3014].target"
   ]
  },
  {
   "cell_type": "code",
   "execution_count": 11,
   "metadata": {
    "collapsed": true
   },
   "outputs": [],
   "source": [
    "alg = linear_model.RidgeClassifier()"
   ]
  },
  {
   "cell_type": "code",
   "execution_count": 12,
   "metadata": {
    "collapsed": false
   },
   "outputs": [
    {
     "data": {
      "text/plain": [
       "RidgeClassifier(alpha=1.0, class_weight=None, copy_X=True, fit_intercept=True,\n",
       "        max_iter=None, normalize=False, random_state=None, solver='auto',\n",
       "        tol=0.001)"
      ]
     },
     "execution_count": 12,
     "metadata": {},
     "output_type": "execute_result"
    }
   ],
   "source": [
    "alg.fit(X_train, y_train)"
   ]
  },
  {
   "cell_type": "code",
   "execution_count": 13,
   "metadata": {
    "collapsed": false
   },
   "outputs": [],
   "source": [
    "y_pred = alg.predict(X_test)"
   ]
  },
  {
   "cell_type": "code",
   "execution_count": 14,
   "metadata": {
    "collapsed": false
   },
   "outputs": [
    {
     "data": {
      "text/plain": [
       "13.193379599483086"
      ]
     },
     "execution_count": 14,
     "metadata": {},
     "output_type": "execute_result"
    }
   ],
   "source": [
    "log_loss(y_test, y_pred = y_pred)"
   ]
  },
  {
   "cell_type": "code",
   "execution_count": 15,
   "metadata": {
    "collapsed": false
   },
   "outputs": [
    {
     "data": {
      "text/plain": [
       "array([-0.00099407, -0.05548319, -0.06027442])"
      ]
     },
     "execution_count": 15,
     "metadata": {},
     "output_type": "execute_result"
    }
   ],
   "source": [
    "alg.coef_[0, :3]"
   ]
  },
  {
   "cell_type": "code",
   "execution_count": null,
   "metadata": {
    "collapsed": true
   },
   "outputs": [],
   "source": []
  },
  {
   "cell_type": "code",
   "execution_count": null,
   "metadata": {
    "collapsed": true
   },
   "outputs": [],
   "source": []
  },
  {
   "cell_type": "code",
   "execution_count": null,
   "metadata": {
    "collapsed": true
   },
   "outputs": [],
   "source": []
  },
  {
   "cell_type": "code",
   "execution_count": null,
   "metadata": {
    "collapsed": true
   },
   "outputs": [],
   "source": []
  },
  {
   "cell_type": "markdown",
   "metadata": {},
   "source": [
    "Коэффициент при years мал"
   ]
  },
  {
   "cell_type": "markdown",
   "metadata": {},
   "source": [
    "# Взвешенная сумма алгоритмов"
   ]
  },
  {
   "cell_type": "code",
   "execution_count": 38,
   "metadata": {
    "collapsed": true
   },
   "outputs": [],
   "source": [
    "alg = linear_model.LogisticRegression(C = 0.8)\n",
    "\n",
    "param = {}\n",
    "param['max_depth'] = 25\n",
    "param['booster'] = 'gbtree'\n",
    "param['objective'] = 'binary:logistic'\n",
    "param['eval_metric'] = 'logloss'\n",
    "param['eta'] = 0.05\n",
    "\n",
    "numround = 700"
   ]
  },
  {
   "cell_type": "code",
   "execution_count": 39,
   "metadata": {
    "collapsed": true
   },
   "outputs": [],
   "source": [
    "train_data, test_data, train_labels, test_labels = sklearn.cross_validation.train_test_split(X, train.target,  \n",
    "                                                                                     test_size = 0.3)"
   ]
  },
  {
   "cell_type": "code",
   "execution_count": null,
   "metadata": {
    "collapsed": false
   },
   "outputs": [],
   "source": []
  },
  {
   "cell_type": "code",
   "execution_count": null,
   "metadata": {
    "collapsed": true
   },
   "outputs": [],
   "source": []
  },
  {
   "cell_type": "code",
   "execution_count": 40,
   "metadata": {
    "collapsed": false,
    "scrolled": true
   },
   "outputs": [
    {
     "name": "stderr",
     "output_type": "stream",
     "text": [
      "[0]\ttrain-logloss:0.691845\teval-logloss:0.691622\n",
      "[1]\ttrain-logloss:0.690467\teval-logloss:0.690226\n",
      "[2]\ttrain-logloss:0.689007\teval-logloss:0.688918\n",
      "[3]\ttrain-logloss:0.687932\teval-logloss:0.687740\n",
      "[4]\ttrain-logloss:0.686644\teval-logloss:0.686574\n",
      "[5]\ttrain-logloss:0.685556\teval-logloss:0.685707\n",
      "[6]\ttrain-logloss:0.684524\teval-logloss:0.684485\n",
      "[7]\ttrain-logloss:0.683499\teval-logloss:0.683419\n",
      "[8]\ttrain-logloss:0.682707\teval-logloss:0.682561\n",
      "[9]\ttrain-logloss:0.681612\teval-logloss:0.681675\n",
      "[10]\ttrain-logloss:0.680879\teval-logloss:0.680798\n",
      "[11]\ttrain-logloss:0.679833\teval-logloss:0.679895\n",
      "[12]\ttrain-logloss:0.679083\teval-logloss:0.679049\n",
      "[13]\ttrain-logloss:0.678238\teval-logloss:0.678253\n",
      "[14]\ttrain-logloss:0.676721\teval-logloss:0.677633\n",
      "[15]\ttrain-logloss:0.676671\teval-logloss:0.676903\n",
      "[16]\ttrain-logloss:0.675824\teval-logloss:0.676018\n",
      "[17]\ttrain-logloss:0.675001\teval-logloss:0.675170\n",
      "[18]\ttrain-logloss:0.674251\teval-logloss:0.674458\n",
      "[19]\ttrain-logloss:0.673367\teval-logloss:0.673734\n",
      "[20]\ttrain-logloss:0.672717\teval-logloss:0.672994\n",
      "[21]\ttrain-logloss:0.671841\teval-logloss:0.672242\n",
      "[22]\ttrain-logloss:0.671213\teval-logloss:0.671520\n",
      "[23]\ttrain-logloss:0.670466\teval-logloss:0.670793\n",
      "[24]\ttrain-logloss:0.669680\teval-logloss:0.670199\n",
      "[25]\ttrain-logloss:0.669018\teval-logloss:0.669438\n",
      "[26]\ttrain-logloss:0.668278\teval-logloss:0.668589\n",
      "[27]\ttrain-logloss:0.667540\teval-logloss:0.668109\n",
      "[28]\ttrain-logloss:0.666926\teval-logloss:0.667276\n",
      "[29]\ttrain-logloss:0.666096\teval-logloss:0.666611\n",
      "[30]\ttrain-logloss:0.665515\teval-logloss:0.665950\n",
      "[31]\ttrain-logloss:0.664856\teval-logloss:0.665294\n",
      "[32]\ttrain-logloss:0.664155\teval-logloss:0.664810\n",
      "[33]\ttrain-logloss:0.663500\teval-logloss:0.664032\n",
      "[34]\ttrain-logloss:0.662882\teval-logloss:0.663472\n",
      "[35]\ttrain-logloss:0.662206\teval-logloss:0.662705\n",
      "[36]\ttrain-logloss:0.661445\teval-logloss:0.662055\n",
      "[37]\ttrain-logloss:0.660840\teval-logloss:0.661453\n",
      "[38]\ttrain-logloss:0.660333\teval-logloss:0.660994\n",
      "[39]\ttrain-logloss:0.659650\teval-logloss:0.660222\n",
      "[40]\ttrain-logloss:0.658970\teval-logloss:0.659563\n",
      "[41]\ttrain-logloss:0.658371\teval-logloss:0.659097\n",
      "[42]\ttrain-logloss:0.657720\teval-logloss:0.658425\n",
      "[43]\ttrain-logloss:0.657162\teval-logloss:0.657733\n",
      "[44]\ttrain-logloss:0.656556\teval-logloss:0.657197\n",
      "[45]\ttrain-logloss:0.655895\teval-logloss:0.656460\n",
      "[46]\ttrain-logloss:0.655359\teval-logloss:0.656023\n",
      "[47]\ttrain-logloss:0.654746\teval-logloss:0.655396\n",
      "[48]\ttrain-logloss:0.653972\teval-logloss:0.654665\n",
      "[49]\ttrain-logloss:0.653372\teval-logloss:0.654083\n",
      "[50]\ttrain-logloss:0.652809\teval-logloss:0.653519\n",
      "[51]\ttrain-logloss:0.652238\teval-logloss:0.652945\n",
      "[52]\ttrain-logloss:0.651718\teval-logloss:0.652381\n",
      "[53]\ttrain-logloss:0.651154\teval-logloss:0.651802\n",
      "[54]\ttrain-logloss:0.650564\teval-logloss:0.651206\n",
      "[55]\ttrain-logloss:0.650011\teval-logloss:0.650644\n",
      "[56]\ttrain-logloss:0.649500\teval-logloss:0.650251\n",
      "[57]\ttrain-logloss:0.648930\teval-logloss:0.649590\n",
      "[58]\ttrain-logloss:0.648402\teval-logloss:0.649078\n",
      "[59]\ttrain-logloss:0.647892\teval-logloss:0.648589\n",
      "[60]\ttrain-logloss:0.647380\teval-logloss:0.648157\n",
      "[61]\ttrain-logloss:0.646713\teval-logloss:0.647498\n",
      "[62]\ttrain-logloss:0.646237\teval-logloss:0.647003\n",
      "[63]\ttrain-logloss:0.645720\teval-logloss:0.646504\n",
      "[64]\ttrain-logloss:0.645191\teval-logloss:0.645985\n",
      "[65]\ttrain-logloss:0.644632\teval-logloss:0.645425\n",
      "[66]\ttrain-logloss:0.644078\teval-logloss:0.644903\n",
      "[67]\ttrain-logloss:0.643540\teval-logloss:0.644318\n",
      "[68]\ttrain-logloss:0.643033\teval-logloss:0.643792\n",
      "[69]\ttrain-logloss:0.642492\teval-logloss:0.643225\n",
      "[70]\ttrain-logloss:0.641936\teval-logloss:0.642667\n",
      "[71]\ttrain-logloss:0.641374\teval-logloss:0.642097\n",
      "[72]\ttrain-logloss:0.640874\teval-logloss:0.641614\n",
      "[73]\ttrain-logloss:0.640395\teval-logloss:0.641144\n",
      "[74]\ttrain-logloss:0.639987\teval-logloss:0.640720\n",
      "[75]\ttrain-logloss:0.639486\teval-logloss:0.640149\n",
      "[76]\ttrain-logloss:0.639014\teval-logloss:0.639691\n",
      "[77]\ttrain-logloss:0.638489\teval-logloss:0.639187\n",
      "[78]\ttrain-logloss:0.637955\teval-logloss:0.638757\n",
      "[79]\ttrain-logloss:0.637501\teval-logloss:0.638317\n",
      "[80]\ttrain-logloss:0.637010\teval-logloss:0.637841\n",
      "[81]\ttrain-logloss:0.636525\teval-logloss:0.637385\n",
      "[82]\ttrain-logloss:0.636206\teval-logloss:0.636932\n",
      "[83]\ttrain-logloss:0.635712\teval-logloss:0.636504\n",
      "[84]\ttrain-logloss:0.635088\teval-logloss:0.635906\n",
      "[85]\ttrain-logloss:0.634598\teval-logloss:0.635395\n",
      "[86]\ttrain-logloss:0.634091\teval-logloss:0.634856\n",
      "[87]\ttrain-logloss:0.633681\teval-logloss:0.634399\n",
      "[88]\ttrain-logloss:0.633237\teval-logloss:0.633967\n",
      "[89]\ttrain-logloss:0.632672\teval-logloss:0.633440\n",
      "[90]\ttrain-logloss:0.632272\teval-logloss:0.632940\n",
      "[91]\ttrain-logloss:0.631740\teval-logloss:0.632480\n",
      "[92]\ttrain-logloss:0.631291\teval-logloss:0.632018\n",
      "[93]\ttrain-logloss:0.630862\teval-logloss:0.631586\n",
      "[94]\ttrain-logloss:0.630341\teval-logloss:0.631100\n",
      "[95]\ttrain-logloss:0.629821\teval-logloss:0.630580\n",
      "[96]\ttrain-logloss:0.629471\teval-logloss:0.630115\n",
      "[97]\ttrain-logloss:0.629037\teval-logloss:0.629682\n",
      "[98]\ttrain-logloss:0.628579\teval-logloss:0.629212\n",
      "[99]\ttrain-logloss:0.628140\teval-logloss:0.628763\n",
      "[100]\ttrain-logloss:0.627669\teval-logloss:0.628290\n",
      "[101]\ttrain-logloss:0.627158\teval-logloss:0.627855\n",
      "[102]\ttrain-logloss:0.626868\teval-logloss:0.627500\n",
      "[103]\ttrain-logloss:0.626421\teval-logloss:0.627006\n",
      "[104]\ttrain-logloss:0.625970\teval-logloss:0.626577\n",
      "[105]\ttrain-logloss:0.625514\teval-logloss:0.626188\n",
      "[106]\ttrain-logloss:0.625063\teval-logloss:0.625781\n",
      "[107]\ttrain-logloss:0.624644\teval-logloss:0.625384\n",
      "[108]\ttrain-logloss:0.624173\teval-logloss:0.624887\n",
      "[109]\ttrain-logloss:0.623704\teval-logloss:0.624424\n",
      "[110]\ttrain-logloss:0.623336\teval-logloss:0.623979\n",
      "[111]\ttrain-logloss:0.622881\teval-logloss:0.623532\n",
      "[112]\ttrain-logloss:0.622486\teval-logloss:0.623183\n",
      "[113]\ttrain-logloss:0.621994\teval-logloss:0.622758\n",
      "[114]\ttrain-logloss:0.621679\teval-logloss:0.622352\n",
      "[115]\ttrain-logloss:0.621302\teval-logloss:0.621965\n",
      "[116]\ttrain-logloss:0.620910\teval-logloss:0.621588\n",
      "[117]\ttrain-logloss:0.620525\teval-logloss:0.621217\n",
      "[118]\ttrain-logloss:0.620106\teval-logloss:0.620771\n",
      "[119]\ttrain-logloss:0.619573\teval-logloss:0.620248\n",
      "[120]\ttrain-logloss:0.619165\teval-logloss:0.619833\n",
      "[121]\ttrain-logloss:0.618687\teval-logloss:0.619364\n",
      "[122]\ttrain-logloss:0.618227\teval-logloss:0.618927\n",
      "[123]\ttrain-logloss:0.617818\teval-logloss:0.618499\n",
      "[124]\ttrain-logloss:0.617399\teval-logloss:0.618076\n",
      "[125]\ttrain-logloss:0.616973\teval-logloss:0.617674\n",
      "[126]\ttrain-logloss:0.616628\teval-logloss:0.617323\n",
      "[127]\ttrain-logloss:0.616235\teval-logloss:0.616925\n",
      "[128]\ttrain-logloss:0.615804\teval-logloss:0.616529\n",
      "[129]\ttrain-logloss:0.615453\teval-logloss:0.616197\n",
      "[130]\ttrain-logloss:0.615088\teval-logloss:0.615822\n",
      "[131]\ttrain-logloss:0.614737\teval-logloss:0.615456\n",
      "[132]\ttrain-logloss:0.614333\teval-logloss:0.615054\n",
      "[133]\ttrain-logloss:0.613946\teval-logloss:0.614664\n",
      "[134]\ttrain-logloss:0.613536\teval-logloss:0.614292\n",
      "[135]\ttrain-logloss:0.613099\teval-logloss:0.613852\n",
      "[136]\ttrain-logloss:0.612647\teval-logloss:0.613375\n",
      "[137]\ttrain-logloss:0.612189\teval-logloss:0.612912\n",
      "[138]\ttrain-logloss:0.611838\teval-logloss:0.612548\n",
      "[139]\ttrain-logloss:0.611418\teval-logloss:0.612150\n",
      "[140]\ttrain-logloss:0.611080\teval-logloss:0.611854\n",
      "[141]\ttrain-logloss:0.610661\teval-logloss:0.611389\n",
      "[142]\ttrain-logloss:0.610238\teval-logloss:0.610997\n",
      "[143]\ttrain-logloss:0.609868\teval-logloss:0.610635\n",
      "[144]\ttrain-logloss:0.609467\teval-logloss:0.610241\n",
      "[145]\ttrain-logloss:0.609060\teval-logloss:0.609827\n",
      "[146]\ttrain-logloss:0.608671\teval-logloss:0.609444\n",
      "[147]\ttrain-logloss:0.608304\teval-logloss:0.609103\n",
      "[148]\ttrain-logloss:0.607914\teval-logloss:0.608723\n",
      "[149]\ttrain-logloss:0.607508\teval-logloss:0.608351\n",
      "[150]\ttrain-logloss:0.607114\teval-logloss:0.607960\n",
      "[151]\ttrain-logloss:0.606718\teval-logloss:0.607539\n",
      "[152]\ttrain-logloss:0.606399\teval-logloss:0.607247\n",
      "[153]\ttrain-logloss:0.605878\teval-logloss:0.606938\n",
      "[154]\ttrain-logloss:0.605539\teval-logloss:0.606601\n",
      "[155]\ttrain-logloss:0.605364\teval-logloss:0.606232\n",
      "[156]\ttrain-logloss:0.604793\teval-logloss:0.605845\n",
      "[157]\ttrain-logloss:0.604458\teval-logloss:0.605523\n",
      "[158]\ttrain-logloss:0.604041\teval-logloss:0.605073\n",
      "[159]\ttrain-logloss:0.603693\teval-logloss:0.604715\n",
      "[160]\ttrain-logloss:0.603382\teval-logloss:0.604381\n",
      "[161]\ttrain-logloss:0.602997\teval-logloss:0.604006\n",
      "[162]\ttrain-logloss:0.602610\teval-logloss:0.603636\n",
      "[163]\ttrain-logloss:0.602268\teval-logloss:0.603313\n",
      "[164]\ttrain-logloss:0.601914\teval-logloss:0.602935\n",
      "[165]\ttrain-logloss:0.601525\teval-logloss:0.602545\n",
      "[166]\ttrain-logloss:0.601178\teval-logloss:0.602203\n",
      "[167]\ttrain-logloss:0.600826\teval-logloss:0.601845\n",
      "[168]\ttrain-logloss:0.600661\teval-logloss:0.601514\n",
      "[169]\ttrain-logloss:0.600337\teval-logloss:0.601168\n",
      "[170]\ttrain-logloss:0.599946\teval-logloss:0.600783\n",
      "[171]\ttrain-logloss:0.599562\teval-logloss:0.600408\n",
      "[172]\ttrain-logloss:0.599204\teval-logloss:0.600061\n",
      "[173]\ttrain-logloss:0.598883\teval-logloss:0.599744\n",
      "[174]\ttrain-logloss:0.598508\teval-logloss:0.599352\n",
      "[175]\ttrain-logloss:0.598157\teval-logloss:0.599003\n",
      "[176]\ttrain-logloss:0.597845\teval-logloss:0.598676\n",
      "[177]\ttrain-logloss:0.597552\teval-logloss:0.598377\n",
      "[178]\ttrain-logloss:0.597227\teval-logloss:0.598027\n",
      "[179]\ttrain-logloss:0.596915\teval-logloss:0.597727\n",
      "[180]\ttrain-logloss:0.596565\teval-logloss:0.597388\n",
      "[181]\ttrain-logloss:0.596197\teval-logloss:0.597016\n",
      "[182]\ttrain-logloss:0.595856\teval-logloss:0.596676\n",
      "[183]\ttrain-logloss:0.595529\teval-logloss:0.596369\n",
      "[184]\ttrain-logloss:0.595139\teval-logloss:0.595983\n",
      "[185]\ttrain-logloss:0.594802\teval-logloss:0.595651\n",
      "[186]\ttrain-logloss:0.594438\teval-logloss:0.595272\n",
      "[187]\ttrain-logloss:0.594131\teval-logloss:0.594972\n",
      "[188]\ttrain-logloss:0.593819\teval-logloss:0.594646\n",
      "[189]\ttrain-logloss:0.593467\teval-logloss:0.594315\n",
      "[190]\ttrain-logloss:0.593098\teval-logloss:0.593981\n",
      "[191]\ttrain-logloss:0.592723\teval-logloss:0.593617\n",
      "[192]\ttrain-logloss:0.592433\teval-logloss:0.593314\n",
      "[193]\ttrain-logloss:0.592097\teval-logloss:0.592947\n",
      "[194]\ttrain-logloss:0.591749\teval-logloss:0.592591\n",
      "[195]\ttrain-logloss:0.591421\teval-logloss:0.592258\n",
      "[196]\ttrain-logloss:0.591077\teval-logloss:0.591933\n",
      "[197]\ttrain-logloss:0.590777\teval-logloss:0.591625\n",
      "[198]\ttrain-logloss:0.590478\teval-logloss:0.591334\n",
      "[199]\ttrain-logloss:0.590134\teval-logloss:0.590961\n",
      "[200]\ttrain-logloss:0.589842\teval-logloss:0.590669\n",
      "[201]\ttrain-logloss:0.589525\teval-logloss:0.590362\n",
      "[202]\ttrain-logloss:0.589175\teval-logloss:0.590000\n",
      "[203]\ttrain-logloss:0.588852\teval-logloss:0.589695\n",
      "[204]\ttrain-logloss:0.588485\teval-logloss:0.589337\n",
      "[205]\ttrain-logloss:0.588181\teval-logloss:0.589023\n",
      "[206]\ttrain-logloss:0.587865\teval-logloss:0.588713\n",
      "[207]\ttrain-logloss:0.587564\teval-logloss:0.588409\n",
      "[208]\ttrain-logloss:0.587200\teval-logloss:0.588077\n",
      "[209]\ttrain-logloss:0.586876\teval-logloss:0.587787\n",
      "[210]\ttrain-logloss:0.586644\teval-logloss:0.587560\n",
      "[211]\ttrain-logloss:0.586372\teval-logloss:0.587292\n",
      "[212]\ttrain-logloss:0.586026\teval-logloss:0.586935\n",
      "[213]\ttrain-logloss:0.585734\teval-logloss:0.586649\n",
      "[214]\ttrain-logloss:0.585471\teval-logloss:0.586391\n",
      "[215]\ttrain-logloss:0.585164\teval-logloss:0.586082\n",
      "[216]\ttrain-logloss:0.584888\teval-logloss:0.585797\n",
      "[217]\ttrain-logloss:0.584565\teval-logloss:0.585474\n",
      "[218]\ttrain-logloss:0.584183\teval-logloss:0.585097\n",
      "[219]\ttrain-logloss:0.583818\teval-logloss:0.584733\n",
      "[220]\ttrain-logloss:0.583515\teval-logloss:0.584374\n",
      "[221]\ttrain-logloss:0.583160\teval-logloss:0.583989\n",
      "[222]\ttrain-logloss:0.582847\teval-logloss:0.583674\n",
      "[223]\ttrain-logloss:0.582502\teval-logloss:0.583333\n",
      "[224]\ttrain-logloss:0.582179\teval-logloss:0.583012\n",
      "[225]\ttrain-logloss:0.581896\teval-logloss:0.582730\n",
      "[226]\ttrain-logloss:0.581582\teval-logloss:0.582402\n",
      "[227]\ttrain-logloss:0.581265\teval-logloss:0.582085\n",
      "[228]\ttrain-logloss:0.580983\teval-logloss:0.581815\n",
      "[229]\ttrain-logloss:0.580645\teval-logloss:0.581469\n",
      "[230]\ttrain-logloss:0.580349\teval-logloss:0.581169\n",
      "[231]\ttrain-logloss:0.580091\teval-logloss:0.580910\n",
      "[232]\ttrain-logloss:0.579803\teval-logloss:0.580630\n",
      "[233]\ttrain-logloss:0.579557\teval-logloss:0.580403\n",
      "[234]\ttrain-logloss:0.579227\teval-logloss:0.580088\n",
      "[235]\ttrain-logloss:0.578927\teval-logloss:0.579789\n",
      "[236]\ttrain-logloss:0.578671\teval-logloss:0.579527\n",
      "[237]\ttrain-logloss:0.578377\teval-logloss:0.579233\n",
      "[238]\ttrain-logloss:0.578051\teval-logloss:0.578898\n",
      "[239]\ttrain-logloss:0.577784\teval-logloss:0.578626\n",
      "[240]\ttrain-logloss:0.577529\teval-logloss:0.578383\n",
      "[241]\ttrain-logloss:0.577260\teval-logloss:0.578122\n",
      "[242]\ttrain-logloss:0.576963\teval-logloss:0.577840\n",
      "[243]\ttrain-logloss:0.576620\teval-logloss:0.577489\n",
      "[244]\ttrain-logloss:0.576327\teval-logloss:0.577220\n",
      "[245]\ttrain-logloss:0.576048\teval-logloss:0.576954\n",
      "[246]\ttrain-logloss:0.575741\teval-logloss:0.576656\n",
      "[247]\ttrain-logloss:0.575470\teval-logloss:0.576362\n",
      "[248]\ttrain-logloss:0.575198\teval-logloss:0.576081\n",
      "[249]\ttrain-logloss:0.574896\teval-logloss:0.575766\n",
      "[250]\ttrain-logloss:0.574616\teval-logloss:0.575501\n",
      "[251]\ttrain-logloss:0.574274\teval-logloss:0.575140\n",
      "[252]\ttrain-logloss:0.573936\teval-logloss:0.574820\n",
      "[253]\ttrain-logloss:0.573607\teval-logloss:0.574474\n",
      "[254]\ttrain-logloss:0.573302\teval-logloss:0.574174\n",
      "[255]\ttrain-logloss:0.573057\teval-logloss:0.573925\n",
      "[256]\ttrain-logloss:0.572747\teval-logloss:0.573633\n",
      "[257]\ttrain-logloss:0.572496\teval-logloss:0.573373\n",
      "[258]\ttrain-logloss:0.572253\teval-logloss:0.573126\n",
      "[259]\ttrain-logloss:0.571949\teval-logloss:0.572792\n",
      "[260]\ttrain-logloss:0.571687\teval-logloss:0.572538\n",
      "[261]\ttrain-logloss:0.571421\teval-logloss:0.572293\n",
      "[262]\ttrain-logloss:0.571170\teval-logloss:0.572055\n",
      "[263]\ttrain-logloss:0.570927\teval-logloss:0.571800\n",
      "[264]\ttrain-logloss:0.570611\teval-logloss:0.571459\n",
      "[265]\ttrain-logloss:0.570328\teval-logloss:0.571163\n",
      "[266]\ttrain-logloss:0.570123\teval-logloss:0.570951\n",
      "[267]\ttrain-logloss:0.569817\teval-logloss:0.570662\n",
      "[268]\ttrain-logloss:0.569553\teval-logloss:0.570392\n",
      "[269]\ttrain-logloss:0.569281\teval-logloss:0.570114\n",
      "[270]\ttrain-logloss:0.568974\teval-logloss:0.569799\n",
      "[271]\ttrain-logloss:0.568734\teval-logloss:0.569556\n",
      "[272]\ttrain-logloss:0.568451\teval-logloss:0.569265\n",
      "[273]\ttrain-logloss:0.568100\teval-logloss:0.568942\n",
      "[274]\ttrain-logloss:0.567860\teval-logloss:0.568714\n",
      "[275]\ttrain-logloss:0.567606\teval-logloss:0.568450\n",
      "[276]\ttrain-logloss:0.567380\teval-logloss:0.568223\n",
      "[277]\ttrain-logloss:0.567131\teval-logloss:0.567995\n",
      "[278]\ttrain-logloss:0.566877\teval-logloss:0.567714\n",
      "[279]\ttrain-logloss:0.566619\teval-logloss:0.567481\n",
      "[280]\ttrain-logloss:0.566384\teval-logloss:0.567239\n",
      "[281]\ttrain-logloss:0.566123\teval-logloss:0.566977\n",
      "[282]\ttrain-logloss:0.565860\teval-logloss:0.566707\n",
      "[283]\ttrain-logloss:0.565551\teval-logloss:0.566408\n",
      "[284]\ttrain-logloss:0.565354\teval-logloss:0.566211\n",
      "[285]\ttrain-logloss:0.565140\teval-logloss:0.566013\n",
      "[286]\ttrain-logloss:0.564912\teval-logloss:0.565791\n",
      "[287]\ttrain-logloss:0.564635\teval-logloss:0.565503\n",
      "[288]\ttrain-logloss:0.564419\teval-logloss:0.565274\n",
      "[289]\ttrain-logloss:0.564122\teval-logloss:0.564945\n",
      "[290]\ttrain-logloss:0.563845\teval-logloss:0.564702\n",
      "[291]\ttrain-logloss:0.563586\teval-logloss:0.564431\n",
      "[292]\ttrain-logloss:0.563314\teval-logloss:0.564150\n",
      "[293]\ttrain-logloss:0.562975\teval-logloss:0.563818\n",
      "[294]\ttrain-logloss:0.562718\teval-logloss:0.563564\n",
      "[295]\ttrain-logloss:0.562468\teval-logloss:0.563325\n",
      "[296]\ttrain-logloss:0.562230\teval-logloss:0.563080\n",
      "[297]\ttrain-logloss:0.562015\teval-logloss:0.562848\n",
      "[298]\ttrain-logloss:0.561780\teval-logloss:0.562581\n",
      "[299]\ttrain-logloss:0.561607\teval-logloss:0.562396\n",
      "[300]\ttrain-logloss:0.561360\teval-logloss:0.562141\n",
      "[301]\ttrain-logloss:0.561097\teval-logloss:0.561882\n",
      "[302]\ttrain-logloss:0.560824\teval-logloss:0.561613\n",
      "[303]\ttrain-logloss:0.560533\teval-logloss:0.561311\n",
      "[304]\ttrain-logloss:0.560237\teval-logloss:0.561020\n",
      "[305]\ttrain-logloss:0.559962\teval-logloss:0.560729\n",
      "[306]\ttrain-logloss:0.559663\teval-logloss:0.560415\n",
      "[307]\ttrain-logloss:0.559432\teval-logloss:0.560184\n",
      "[308]\ttrain-logloss:0.559128\teval-logloss:0.559894\n",
      "[309]\ttrain-logloss:0.558866\teval-logloss:0.559606\n",
      "[310]\ttrain-logloss:0.558645\teval-logloss:0.559395\n",
      "[311]\ttrain-logloss:0.558379\teval-logloss:0.559124\n",
      "[312]\ttrain-logloss:0.558083\teval-logloss:0.558832\n",
      "[313]\ttrain-logloss:0.557850\teval-logloss:0.558613\n",
      "[314]\ttrain-logloss:0.557614\teval-logloss:0.558370\n",
      "[315]\ttrain-logloss:0.557388\teval-logloss:0.558146\n",
      "[316]\ttrain-logloss:0.557150\teval-logloss:0.557923\n",
      "[317]\ttrain-logloss:0.556908\teval-logloss:0.557681\n",
      "[318]\ttrain-logloss:0.556658\teval-logloss:0.557427\n",
      "[319]\ttrain-logloss:0.556450\teval-logloss:0.557230\n",
      "[320]\ttrain-logloss:0.556176\teval-logloss:0.556957\n",
      "[321]\ttrain-logloss:0.555838\teval-logloss:0.556720\n",
      "[322]\ttrain-logloss:0.555584\teval-logloss:0.556491\n",
      "[323]\ttrain-logloss:0.555288\teval-logloss:0.556191\n",
      "[324]\ttrain-logloss:0.555057\teval-logloss:0.555968\n",
      "[325]\ttrain-logloss:0.554891\teval-logloss:0.555719\n",
      "[326]\ttrain-logloss:0.554694\teval-logloss:0.555534\n",
      "[327]\ttrain-logloss:0.554479\teval-logloss:0.555311\n",
      "[328]\ttrain-logloss:0.554263\teval-logloss:0.555113\n",
      "[329]\ttrain-logloss:0.554020\teval-logloss:0.554869\n",
      "[330]\ttrain-logloss:0.553733\teval-logloss:0.554570\n",
      "[331]\ttrain-logloss:0.553493\teval-logloss:0.554337\n",
      "[332]\ttrain-logloss:0.553347\teval-logloss:0.554186\n",
      "[333]\ttrain-logloss:0.553069\teval-logloss:0.553986\n",
      "[334]\ttrain-logloss:0.552842\teval-logloss:0.553762\n",
      "[335]\ttrain-logloss:0.552631\teval-logloss:0.553554\n",
      "[336]\ttrain-logloss:0.552292\teval-logloss:0.553183\n",
      "[337]\ttrain-logloss:0.552023\teval-logloss:0.552948\n",
      "[338]\ttrain-logloss:0.551768\teval-logloss:0.552691\n",
      "[339]\ttrain-logloss:0.551566\teval-logloss:0.552484\n",
      "[340]\ttrain-logloss:0.551348\teval-logloss:0.552281\n",
      "[341]\ttrain-logloss:0.551039\teval-logloss:0.551972\n",
      "[342]\ttrain-logloss:0.550797\teval-logloss:0.551714\n",
      "[343]\ttrain-logloss:0.550532\teval-logloss:0.551457\n",
      "[344]\ttrain-logloss:0.550322\teval-logloss:0.551254\n",
      "[345]\ttrain-logloss:0.550109\teval-logloss:0.551034\n",
      "[346]\ttrain-logloss:0.549870\teval-logloss:0.550785\n",
      "[347]\ttrain-logloss:0.549652\teval-logloss:0.550554\n",
      "[348]\ttrain-logloss:0.549439\teval-logloss:0.550327\n",
      "[349]\ttrain-logloss:0.549234\teval-logloss:0.550140\n",
      "[350]\ttrain-logloss:0.549021\teval-logloss:0.549929\n",
      "[351]\ttrain-logloss:0.548766\teval-logloss:0.549676\n",
      "[352]\ttrain-logloss:0.548521\teval-logloss:0.549419\n",
      "[353]\ttrain-logloss:0.548298\teval-logloss:0.549194\n",
      "[354]\ttrain-logloss:0.548066\teval-logloss:0.548930\n",
      "[355]\ttrain-logloss:0.547861\teval-logloss:0.548722\n",
      "[356]\ttrain-logloss:0.547730\teval-logloss:0.548540\n",
      "[357]\ttrain-logloss:0.547471\teval-logloss:0.548252\n",
      "[358]\ttrain-logloss:0.547273\teval-logloss:0.548064\n",
      "[359]\ttrain-logloss:0.547050\teval-logloss:0.547853\n",
      "[360]\ttrain-logloss:0.546760\teval-logloss:0.547564\n",
      "[361]\ttrain-logloss:0.546501\teval-logloss:0.547290\n",
      "[362]\ttrain-logloss:0.546283\teval-logloss:0.547078\n",
      "[363]\ttrain-logloss:0.546090\teval-logloss:0.546894\n",
      "[364]\ttrain-logloss:0.545843\teval-logloss:0.546641\n",
      "[365]\ttrain-logloss:0.545613\teval-logloss:0.546409\n",
      "[366]\ttrain-logloss:0.545398\teval-logloss:0.546204\n",
      "[367]\ttrain-logloss:0.545154\teval-logloss:0.545957\n",
      "[368]\ttrain-logloss:0.544892\teval-logloss:0.545670\n",
      "[369]\ttrain-logloss:0.544670\teval-logloss:0.545443\n",
      "[370]\ttrain-logloss:0.544523\teval-logloss:0.545320\n",
      "[371]\ttrain-logloss:0.544309\teval-logloss:0.545092\n",
      "[372]\ttrain-logloss:0.544132\teval-logloss:0.544931\n",
      "[373]\ttrain-logloss:0.543948\teval-logloss:0.544745\n",
      "[374]\ttrain-logloss:0.543751\teval-logloss:0.544553\n",
      "[375]\ttrain-logloss:0.543557\teval-logloss:0.544367\n",
      "[376]\ttrain-logloss:0.543366\teval-logloss:0.544170\n",
      "[377]\ttrain-logloss:0.543107\teval-logloss:0.543911\n",
      "[378]\ttrain-logloss:0.542830\teval-logloss:0.543644\n",
      "[379]\ttrain-logloss:0.542619\teval-logloss:0.543416\n",
      "[380]\ttrain-logloss:0.542384\teval-logloss:0.543186\n",
      "[381]\ttrain-logloss:0.542128\teval-logloss:0.542985\n",
      "[382]\ttrain-logloss:0.541916\teval-logloss:0.542716\n",
      "[383]\ttrain-logloss:0.541715\teval-logloss:0.542519\n",
      "[384]\ttrain-logloss:0.541480\teval-logloss:0.542270\n",
      "[385]\ttrain-logloss:0.541260\teval-logloss:0.542051\n",
      "[386]\ttrain-logloss:0.540993\teval-logloss:0.541775\n",
      "[387]\ttrain-logloss:0.540752\teval-logloss:0.541525\n",
      "[388]\ttrain-logloss:0.540554\teval-logloss:0.541334\n",
      "[389]\ttrain-logloss:0.540351\teval-logloss:0.541125\n",
      "[390]\ttrain-logloss:0.540067\teval-logloss:0.540849\n",
      "[391]\ttrain-logloss:0.539856\teval-logloss:0.540652\n",
      "[392]\ttrain-logloss:0.539645\teval-logloss:0.540424\n",
      "[393]\ttrain-logloss:0.539437\teval-logloss:0.540234\n",
      "[394]\ttrain-logloss:0.539237\teval-logloss:0.540033\n",
      "[395]\ttrain-logloss:0.539047\teval-logloss:0.539863\n",
      "[396]\ttrain-logloss:0.538831\teval-logloss:0.539678\n",
      "[397]\ttrain-logloss:0.538615\teval-logloss:0.539435\n",
      "[398]\ttrain-logloss:0.538417\teval-logloss:0.539232\n",
      "[399]\ttrain-logloss:0.538181\teval-logloss:0.538991\n",
      "[400]\ttrain-logloss:0.537995\teval-logloss:0.538804\n",
      "[401]\ttrain-logloss:0.537831\teval-logloss:0.538649\n",
      "[402]\ttrain-logloss:0.537619\teval-logloss:0.538466\n",
      "[403]\ttrain-logloss:0.537455\teval-logloss:0.538304\n",
      "[404]\ttrain-logloss:0.537247\teval-logloss:0.538091\n",
      "[405]\ttrain-logloss:0.537020\teval-logloss:0.537849\n",
      "[406]\ttrain-logloss:0.536753\teval-logloss:0.537580\n",
      "[407]\ttrain-logloss:0.536565\teval-logloss:0.537384\n",
      "[408]\ttrain-logloss:0.536325\teval-logloss:0.537140\n",
      "[409]\ttrain-logloss:0.536117\teval-logloss:0.536938\n",
      "[410]\ttrain-logloss:0.535919\teval-logloss:0.536763\n",
      "[411]\ttrain-logloss:0.535750\teval-logloss:0.536548\n",
      "[412]\ttrain-logloss:0.535558\teval-logloss:0.536365\n",
      "[413]\ttrain-logloss:0.535338\teval-logloss:0.536127\n",
      "[414]\ttrain-logloss:0.535134\teval-logloss:0.535910\n",
      "[415]\ttrain-logloss:0.534850\teval-logloss:0.535613\n",
      "[416]\ttrain-logloss:0.534611\teval-logloss:0.535363\n",
      "[417]\ttrain-logloss:0.534423\teval-logloss:0.535185\n",
      "[418]\ttrain-logloss:0.534229\teval-logloss:0.534986\n",
      "[419]\ttrain-logloss:0.534027\teval-logloss:0.534784\n",
      "[420]\ttrain-logloss:0.533845\teval-logloss:0.534598\n",
      "[421]\ttrain-logloss:0.533658\teval-logloss:0.534409\n",
      "[422]\ttrain-logloss:0.533426\teval-logloss:0.534206\n",
      "[423]\ttrain-logloss:0.533258\teval-logloss:0.534029\n",
      "[424]\ttrain-logloss:0.533137\teval-logloss:0.533916\n",
      "[425]\ttrain-logloss:0.532976\teval-logloss:0.533781\n",
      "[426]\ttrain-logloss:0.532740\teval-logloss:0.533550\n",
      "[427]\ttrain-logloss:0.532533\teval-logloss:0.533323\n",
      "[428]\ttrain-logloss:0.532351\teval-logloss:0.533153\n",
      "[429]\ttrain-logloss:0.532180\teval-logloss:0.532995\n",
      "[430]\ttrain-logloss:0.531994\teval-logloss:0.532834\n",
      "[431]\ttrain-logloss:0.531745\teval-logloss:0.532605\n",
      "[432]\ttrain-logloss:0.531511\teval-logloss:0.532378\n",
      "[433]\ttrain-logloss:0.531284\teval-logloss:0.532160\n",
      "[434]\ttrain-logloss:0.531102\teval-logloss:0.531979\n",
      "[435]\ttrain-logloss:0.530899\teval-logloss:0.531756\n",
      "[436]\ttrain-logloss:0.530674\teval-logloss:0.531512\n",
      "[437]\ttrain-logloss:0.530471\teval-logloss:0.531305\n",
      "[438]\ttrain-logloss:0.530293\teval-logloss:0.531119\n",
      "[439]\ttrain-logloss:0.530108\teval-logloss:0.530932\n",
      "[440]\ttrain-logloss:0.529852\teval-logloss:0.530681\n",
      "[441]\ttrain-logloss:0.529675\teval-logloss:0.530512\n",
      "[442]\ttrain-logloss:0.529449\teval-logloss:0.530309\n",
      "[443]\ttrain-logloss:0.529290\teval-logloss:0.530138\n",
      "[444]\ttrain-logloss:0.529093\teval-logloss:0.529928\n",
      "[445]\ttrain-logloss:0.528913\teval-logloss:0.529750\n",
      "[446]\ttrain-logloss:0.528731\teval-logloss:0.529591\n",
      "[447]\ttrain-logloss:0.528573\teval-logloss:0.529442\n",
      "[448]\ttrain-logloss:0.528424\teval-logloss:0.529263\n",
      "[449]\ttrain-logloss:0.528225\teval-logloss:0.529043\n",
      "[450]\ttrain-logloss:0.528044\teval-logloss:0.528876\n",
      "[451]\ttrain-logloss:0.527852\teval-logloss:0.528690\n",
      "[452]\ttrain-logloss:0.527621\teval-logloss:0.528465\n",
      "[453]\ttrain-logloss:0.527468\teval-logloss:0.528323\n",
      "[454]\ttrain-logloss:0.527258\teval-logloss:0.528149\n",
      "[455]\ttrain-logloss:0.527085\teval-logloss:0.527989\n",
      "[456]\ttrain-logloss:0.526914\teval-logloss:0.527831\n",
      "[457]\ttrain-logloss:0.526704\teval-logloss:0.527623\n",
      "[458]\ttrain-logloss:0.526451\teval-logloss:0.527351\n",
      "[459]\ttrain-logloss:0.526225\teval-logloss:0.527138\n",
      "[460]\ttrain-logloss:0.525976\teval-logloss:0.526883\n",
      "[461]\ttrain-logloss:0.525778\teval-logloss:0.526686\n",
      "[462]\ttrain-logloss:0.525566\teval-logloss:0.526466\n",
      "[463]\ttrain-logloss:0.525407\teval-logloss:0.526321\n",
      "[464]\ttrain-logloss:0.525210\teval-logloss:0.526080\n",
      "[465]\ttrain-logloss:0.525025\teval-logloss:0.525901\n",
      "[466]\ttrain-logloss:0.524834\teval-logloss:0.525720\n",
      "[467]\ttrain-logloss:0.524577\teval-logloss:0.525472\n",
      "[468]\ttrain-logloss:0.524377\teval-logloss:0.525254\n",
      "[469]\ttrain-logloss:0.524124\teval-logloss:0.525008\n",
      "[470]\ttrain-logloss:0.523943\teval-logloss:0.524840\n",
      "[471]\ttrain-logloss:0.523771\teval-logloss:0.524664\n",
      "[472]\ttrain-logloss:0.523608\teval-logloss:0.524511\n",
      "[473]\ttrain-logloss:0.523398\teval-logloss:0.524300\n",
      "[474]\ttrain-logloss:0.523214\teval-logloss:0.524116\n",
      "[475]\ttrain-logloss:0.523108\teval-logloss:0.524010\n",
      "[476]\ttrain-logloss:0.522953\teval-logloss:0.523859\n",
      "[477]\ttrain-logloss:0.522805\teval-logloss:0.523713\n",
      "[478]\ttrain-logloss:0.522537\teval-logloss:0.523456\n",
      "[479]\ttrain-logloss:0.522304\teval-logloss:0.523225\n",
      "[480]\ttrain-logloss:0.522110\teval-logloss:0.523047\n",
      "[481]\ttrain-logloss:0.521897\teval-logloss:0.522837\n",
      "[482]\ttrain-logloss:0.521728\teval-logloss:0.522668\n",
      "[483]\ttrain-logloss:0.521542\teval-logloss:0.522487\n",
      "[484]\ttrain-logloss:0.521288\teval-logloss:0.522254\n",
      "[485]\ttrain-logloss:0.521072\teval-logloss:0.522043\n",
      "[486]\ttrain-logloss:0.520859\teval-logloss:0.521837\n",
      "[487]\ttrain-logloss:0.520681\teval-logloss:0.521644\n",
      "[488]\ttrain-logloss:0.520528\teval-logloss:0.521491\n",
      "[489]\ttrain-logloss:0.520360\teval-logloss:0.521332\n",
      "[490]\ttrain-logloss:0.520188\teval-logloss:0.521169\n",
      "[491]\ttrain-logloss:0.520041\teval-logloss:0.521019\n",
      "[492]\ttrain-logloss:0.519883\teval-logloss:0.520864\n",
      "[493]\ttrain-logloss:0.519633\teval-logloss:0.520606\n",
      "[494]\ttrain-logloss:0.519431\teval-logloss:0.520407\n",
      "[495]\ttrain-logloss:0.519264\teval-logloss:0.520248\n",
      "[496]\ttrain-logloss:0.519107\teval-logloss:0.520085\n",
      "[497]\ttrain-logloss:0.518941\teval-logloss:0.519924\n",
      "[498]\ttrain-logloss:0.518717\teval-logloss:0.519711\n",
      "[499]\ttrain-logloss:0.518518\teval-logloss:0.519499\n",
      "[500]\ttrain-logloss:0.518361\teval-logloss:0.519343\n",
      "[501]\ttrain-logloss:0.518218\teval-logloss:0.519208\n",
      "[502]\ttrain-logloss:0.518010\teval-logloss:0.519009\n",
      "[503]\ttrain-logloss:0.517880\teval-logloss:0.518867\n",
      "[504]\ttrain-logloss:0.517673\teval-logloss:0.518695\n",
      "[505]\ttrain-logloss:0.517495\teval-logloss:0.518507\n",
      "[506]\ttrain-logloss:0.517328\teval-logloss:0.518309\n",
      "[507]\ttrain-logloss:0.517142\teval-logloss:0.518125\n",
      "[508]\ttrain-logloss:0.516917\teval-logloss:0.517906\n",
      "[509]\ttrain-logloss:0.516701\teval-logloss:0.517691\n",
      "[510]\ttrain-logloss:0.516495\teval-logloss:0.517483\n",
      "[511]\ttrain-logloss:0.516308\teval-logloss:0.517305\n",
      "[512]\ttrain-logloss:0.516095\teval-logloss:0.517099\n",
      "[513]\ttrain-logloss:0.515939\teval-logloss:0.516948\n",
      "[514]\ttrain-logloss:0.515767\teval-logloss:0.516776\n",
      "[515]\ttrain-logloss:0.515587\teval-logloss:0.516589\n",
      "[516]\ttrain-logloss:0.515446\teval-logloss:0.516447\n",
      "[517]\ttrain-logloss:0.515316\teval-logloss:0.516315\n",
      "[518]\ttrain-logloss:0.515176\teval-logloss:0.516172\n",
      "[519]\ttrain-logloss:0.514938\teval-logloss:0.515933\n",
      "[520]\ttrain-logloss:0.514796\teval-logloss:0.515805\n",
      "[521]\ttrain-logloss:0.514629\teval-logloss:0.515620\n",
      "[522]\ttrain-logloss:0.514392\teval-logloss:0.515392\n",
      "[523]\ttrain-logloss:0.514198\teval-logloss:0.515203\n",
      "[524]\ttrain-logloss:0.514066\teval-logloss:0.515062\n",
      "[525]\ttrain-logloss:0.513907\teval-logloss:0.514922\n",
      "[526]\ttrain-logloss:0.513771\teval-logloss:0.514787\n",
      "[527]\ttrain-logloss:0.513635\teval-logloss:0.514654\n",
      "[528]\ttrain-logloss:0.513431\teval-logloss:0.514467\n",
      "[529]\ttrain-logloss:0.513256\teval-logloss:0.514288\n",
      "[530]\ttrain-logloss:0.513070\teval-logloss:0.514097\n",
      "[531]\ttrain-logloss:0.512933\teval-logloss:0.513954\n",
      "[532]\ttrain-logloss:0.512766\teval-logloss:0.513780\n",
      "[533]\ttrain-logloss:0.512550\teval-logloss:0.513578\n",
      "[534]\ttrain-logloss:0.512359\teval-logloss:0.513399\n",
      "[535]\ttrain-logloss:0.512224\teval-logloss:0.513276\n",
      "[536]\ttrain-logloss:0.512028\teval-logloss:0.513084\n",
      "[537]\ttrain-logloss:0.511823\teval-logloss:0.512872\n",
      "[538]\ttrain-logloss:0.511658\teval-logloss:0.512702\n",
      "[539]\ttrain-logloss:0.511519\teval-logloss:0.512562\n",
      "[540]\ttrain-logloss:0.511385\teval-logloss:0.512429\n",
      "[541]\ttrain-logloss:0.511239\teval-logloss:0.512275\n",
      "[542]\ttrain-logloss:0.511056\teval-logloss:0.512090\n",
      "[543]\ttrain-logloss:0.510873\teval-logloss:0.511907\n",
      "[544]\ttrain-logloss:0.510697\teval-logloss:0.511737\n",
      "[545]\ttrain-logloss:0.510548\teval-logloss:0.511578\n",
      "[546]\ttrain-logloss:0.510381\teval-logloss:0.511422\n",
      "[547]\ttrain-logloss:0.510234\teval-logloss:0.511267\n",
      "[548]\ttrain-logloss:0.510049\teval-logloss:0.511064\n",
      "[549]\ttrain-logloss:0.509893\teval-logloss:0.510914\n",
      "[550]\ttrain-logloss:0.509768\teval-logloss:0.510767\n",
      "[551]\ttrain-logloss:0.509631\teval-logloss:0.510635\n",
      "[552]\ttrain-logloss:0.509499\teval-logloss:0.510509\n",
      "[553]\ttrain-logloss:0.509374\teval-logloss:0.510407\n",
      "[554]\ttrain-logloss:0.509147\teval-logloss:0.510161\n",
      "[555]\ttrain-logloss:0.508918\teval-logloss:0.509925\n",
      "[556]\ttrain-logloss:0.508754\teval-logloss:0.509759\n",
      "[557]\ttrain-logloss:0.508605\teval-logloss:0.509611\n",
      "[558]\ttrain-logloss:0.508446\teval-logloss:0.509457\n",
      "[559]\ttrain-logloss:0.508237\teval-logloss:0.509240\n",
      "[560]\ttrain-logloss:0.508063\teval-logloss:0.509052\n",
      "[561]\ttrain-logloss:0.507893\teval-logloss:0.508881\n",
      "[562]\ttrain-logloss:0.507755\teval-logloss:0.508739\n",
      "[563]\ttrain-logloss:0.507529\teval-logloss:0.508519\n",
      "[564]\ttrain-logloss:0.507397\teval-logloss:0.508385\n",
      "[565]\ttrain-logloss:0.507227\teval-logloss:0.508211\n",
      "[566]\ttrain-logloss:0.507009\teval-logloss:0.507995\n",
      "[567]\ttrain-logloss:0.506810\teval-logloss:0.507798\n",
      "[568]\ttrain-logloss:0.506641\teval-logloss:0.507631\n",
      "[569]\ttrain-logloss:0.506517\teval-logloss:0.507512\n",
      "[570]\ttrain-logloss:0.506362\teval-logloss:0.507362\n",
      "[571]\ttrain-logloss:0.506207\teval-logloss:0.507206\n",
      "[572]\ttrain-logloss:0.506023\teval-logloss:0.507018\n",
      "[573]\ttrain-logloss:0.505879\teval-logloss:0.506877\n",
      "[574]\ttrain-logloss:0.505702\teval-logloss:0.506692\n",
      "[575]\ttrain-logloss:0.505563\teval-logloss:0.506556\n",
      "[576]\ttrain-logloss:0.505426\teval-logloss:0.506424\n",
      "[577]\ttrain-logloss:0.505293\teval-logloss:0.506309\n",
      "[578]\ttrain-logloss:0.505157\teval-logloss:0.506174\n",
      "[579]\ttrain-logloss:0.504998\teval-logloss:0.506018\n",
      "[580]\ttrain-logloss:0.504859\teval-logloss:0.505891\n",
      "[581]\ttrain-logloss:0.504669\teval-logloss:0.505693\n",
      "[582]\ttrain-logloss:0.504490\teval-logloss:0.505506\n",
      "[583]\ttrain-logloss:0.504360\teval-logloss:0.505361\n",
      "[584]\ttrain-logloss:0.504178\teval-logloss:0.505163\n",
      "[585]\ttrain-logloss:0.504043\teval-logloss:0.505012\n",
      "[586]\ttrain-logloss:0.503897\teval-logloss:0.504874\n",
      "[587]\ttrain-logloss:0.503772\teval-logloss:0.504761\n",
      "[588]\ttrain-logloss:0.503542\teval-logloss:0.504521\n",
      "[589]\ttrain-logloss:0.503341\teval-logloss:0.504306\n",
      "[590]\ttrain-logloss:0.503217\teval-logloss:0.504194\n",
      "[591]\ttrain-logloss:0.503090\teval-logloss:0.504075\n",
      "[592]\ttrain-logloss:0.502936\teval-logloss:0.503915\n",
      "[593]\ttrain-logloss:0.502739\teval-logloss:0.503693\n",
      "[594]\ttrain-logloss:0.502557\teval-logloss:0.503517\n",
      "[595]\ttrain-logloss:0.502405\teval-logloss:0.503357\n",
      "[596]\ttrain-logloss:0.502267\teval-logloss:0.503240\n",
      "[597]\ttrain-logloss:0.502115\teval-logloss:0.503093\n",
      "[598]\ttrain-logloss:0.501994\teval-logloss:0.502972\n",
      "[599]\ttrain-logloss:0.501841\teval-logloss:0.502816\n",
      "[600]\ttrain-logloss:0.501664\teval-logloss:0.502643\n",
      "[601]\ttrain-logloss:0.501526\teval-logloss:0.502516\n",
      "[602]\ttrain-logloss:0.501396\teval-logloss:0.502387\n",
      "[603]\ttrain-logloss:0.501236\teval-logloss:0.502236\n",
      "[604]\ttrain-logloss:0.501139\teval-logloss:0.502142\n",
      "[605]\ttrain-logloss:0.501035\teval-logloss:0.502047\n",
      "[606]\ttrain-logloss:0.500868\teval-logloss:0.501868\n",
      "[607]\ttrain-logloss:0.500739\teval-logloss:0.501740\n",
      "[608]\ttrain-logloss:0.500542\teval-logloss:0.501542\n",
      "[609]\ttrain-logloss:0.500407\teval-logloss:0.501413\n",
      "[610]\ttrain-logloss:0.500274\teval-logloss:0.501291\n",
      "[611]\ttrain-logloss:0.500129\teval-logloss:0.501143\n",
      "[612]\ttrain-logloss:0.499899\teval-logloss:0.500917\n",
      "[613]\ttrain-logloss:0.499779\teval-logloss:0.500803\n",
      "[614]\ttrain-logloss:0.499593\teval-logloss:0.500637\n",
      "[615]\ttrain-logloss:0.499480\teval-logloss:0.500519\n",
      "[616]\ttrain-logloss:0.499343\teval-logloss:0.500399\n",
      "[617]\ttrain-logloss:0.499203\teval-logloss:0.500257\n",
      "[618]\ttrain-logloss:0.499071\teval-logloss:0.500112\n",
      "[619]\ttrain-logloss:0.498897\teval-logloss:0.499937\n",
      "[620]\ttrain-logloss:0.498701\teval-logloss:0.499757\n",
      "[621]\ttrain-logloss:0.498556\teval-logloss:0.499610\n",
      "[622]\ttrain-logloss:0.498333\teval-logloss:0.499396\n",
      "[623]\ttrain-logloss:0.498225\teval-logloss:0.499288\n",
      "[624]\ttrain-logloss:0.498031\teval-logloss:0.499113\n",
      "[625]\ttrain-logloss:0.497870\teval-logloss:0.498926\n",
      "[626]\ttrain-logloss:0.497665\teval-logloss:0.498736\n",
      "[627]\ttrain-logloss:0.497490\teval-logloss:0.498555\n",
      "[628]\ttrain-logloss:0.497377\teval-logloss:0.498442\n",
      "[629]\ttrain-logloss:0.497168\teval-logloss:0.498232\n",
      "[630]\ttrain-logloss:0.497038\teval-logloss:0.498094\n",
      "[631]\ttrain-logloss:0.496896\teval-logloss:0.497966\n",
      "[632]\ttrain-logloss:0.496760\teval-logloss:0.497812\n",
      "[633]\ttrain-logloss:0.496616\teval-logloss:0.497660\n",
      "[634]\ttrain-logloss:0.496490\teval-logloss:0.497540\n",
      "[635]\ttrain-logloss:0.496359\teval-logloss:0.497420\n",
      "[636]\ttrain-logloss:0.496176\teval-logloss:0.497220\n",
      "[637]\ttrain-logloss:0.495998\teval-logloss:0.497051\n",
      "[638]\ttrain-logloss:0.495858\teval-logloss:0.496923\n",
      "[639]\ttrain-logloss:0.495727\teval-logloss:0.496799\n",
      "[640]\ttrain-logloss:0.495586\teval-logloss:0.496646\n",
      "[641]\ttrain-logloss:0.495399\teval-logloss:0.496448\n",
      "[642]\ttrain-logloss:0.495225\teval-logloss:0.496257\n",
      "[643]\ttrain-logloss:0.495086\teval-logloss:0.496113\n",
      "[644]\ttrain-logloss:0.494964\teval-logloss:0.495982\n",
      "[645]\ttrain-logloss:0.494831\teval-logloss:0.495856\n",
      "[646]\ttrain-logloss:0.494725\teval-logloss:0.495758\n",
      "[647]\ttrain-logloss:0.494615\teval-logloss:0.495646\n",
      "[648]\ttrain-logloss:0.494496\teval-logloss:0.495534\n",
      "[649]\ttrain-logloss:0.494344\teval-logloss:0.495379\n",
      "[650]\ttrain-logloss:0.494223\teval-logloss:0.495253\n",
      "[651]\ttrain-logloss:0.494097\teval-logloss:0.495132\n",
      "[652]\ttrain-logloss:0.493958\teval-logloss:0.494996\n",
      "[653]\ttrain-logloss:0.493773\teval-logloss:0.494803\n",
      "[654]\ttrain-logloss:0.493660\teval-logloss:0.494698\n",
      "[655]\ttrain-logloss:0.493552\teval-logloss:0.494587\n",
      "[656]\ttrain-logloss:0.493382\teval-logloss:0.494400\n",
      "[657]\ttrain-logloss:0.493244\teval-logloss:0.494273\n",
      "[658]\ttrain-logloss:0.493107\teval-logloss:0.494143\n",
      "[659]\ttrain-logloss:0.492933\teval-logloss:0.493986\n",
      "[660]\ttrain-logloss:0.492777\teval-logloss:0.493824\n",
      "[661]\ttrain-logloss:0.492635\teval-logloss:0.493683\n",
      "[662]\ttrain-logloss:0.492478\teval-logloss:0.493534\n",
      "[663]\ttrain-logloss:0.492312\teval-logloss:0.493381\n",
      "[664]\ttrain-logloss:0.492197\teval-logloss:0.493266\n",
      "[665]\ttrain-logloss:0.492071\teval-logloss:0.493149\n",
      "[666]\ttrain-logloss:0.491953\teval-logloss:0.493039\n",
      "[667]\ttrain-logloss:0.491822\teval-logloss:0.492921\n",
      "[668]\ttrain-logloss:0.491646\teval-logloss:0.492736\n",
      "[669]\ttrain-logloss:0.491500\teval-logloss:0.492595\n",
      "[670]\ttrain-logloss:0.491387\teval-logloss:0.492483\n",
      "[671]\ttrain-logloss:0.491242\teval-logloss:0.492329\n",
      "[672]\ttrain-logloss:0.491098\teval-logloss:0.492188\n",
      "[673]\ttrain-logloss:0.490987\teval-logloss:0.492078\n",
      "[674]\ttrain-logloss:0.490794\teval-logloss:0.491871\n",
      "[675]\ttrain-logloss:0.490672\teval-logloss:0.491740\n",
      "[676]\ttrain-logloss:0.490518\teval-logloss:0.491597\n",
      "[677]\ttrain-logloss:0.490320\teval-logloss:0.491408\n",
      "[678]\ttrain-logloss:0.490184\teval-logloss:0.491271\n",
      "[679]\ttrain-logloss:0.490032\teval-logloss:0.491124\n",
      "[680]\ttrain-logloss:0.489873\teval-logloss:0.490978\n",
      "[681]\ttrain-logloss:0.489707\teval-logloss:0.490818\n",
      "[682]\ttrain-logloss:0.489546\teval-logloss:0.490664\n",
      "[683]\ttrain-logloss:0.489407\teval-logloss:0.490521\n",
      "[684]\ttrain-logloss:0.489269\teval-logloss:0.490364\n",
      "[685]\ttrain-logloss:0.489151\teval-logloss:0.490248\n",
      "[686]\ttrain-logloss:0.489013\teval-logloss:0.490123\n",
      "[687]\ttrain-logloss:0.488876\teval-logloss:0.489990\n",
      "[688]\ttrain-logloss:0.488775\teval-logloss:0.489897\n",
      "[689]\ttrain-logloss:0.488602\teval-logloss:0.489720\n",
      "[690]\ttrain-logloss:0.488477\teval-logloss:0.489597\n",
      "[691]\ttrain-logloss:0.488355\teval-logloss:0.489479\n",
      "[692]\ttrain-logloss:0.488240\teval-logloss:0.489366\n",
      "[693]\ttrain-logloss:0.488125\teval-logloss:0.489256\n",
      "[694]\ttrain-logloss:0.487991\teval-logloss:0.489130\n",
      "[695]\ttrain-logloss:0.487884\teval-logloss:0.489027\n",
      "[696]\ttrain-logloss:0.487780\teval-logloss:0.488925\n",
      "[697]\ttrain-logloss:0.487676\teval-logloss:0.488819\n",
      "[698]\ttrain-logloss:0.487565\teval-logloss:0.488708\n",
      "[699]\ttrain-logloss:0.487443\teval-logloss:0.488577\n"
     ]
    }
   ],
   "source": [
    "Xdatatrain = xgboost.DMatrix(data = X, label = train.target)\n",
    "Xdatatest = xgboost.DMatrix(data = test_data, label = test_labels)\n",
    "\n",
    "plst = list(param.items())\n",
    "watchlist = [(Xdatatrain, 'train'), (Xdatatest, 'eval')]            \n",
    "\n",
    "bst = xgboost.train(plst, Xdatatrain, numround, evals = watchlist)"
   ]
  },
  {
   "cell_type": "code",
   "execution_count": 41,
   "metadata": {
    "collapsed": false
   },
   "outputs": [
    {
     "name": "stdout",
     "output_type": "stream",
     "text": [
      "Log_loss alg =  0.591960325205\n",
      "Log_loss bst =  0.489412404029\n"
     ]
    }
   ],
   "source": [
    "alg.fit(X, train.target)\n",
    "y_pred_alg = alg.predict_proba(X_test)[:, 1]\n",
    "print \"Log_loss alg = \", log_loss(y_test, y_pred_alg)\n",
    "y_pred_bst = bst.predict(xgboost.DMatrix(X_test))\n",
    "print \"Log_loss bst = \", log_loss(y_test, y_pred_bst)"
   ]
  },
  {
   "cell_type": "code",
   "execution_count": 70,
   "metadata": {
    "collapsed": false
   },
   "outputs": [],
   "source": [
    "def losses_func(w):\n",
    "    return log_loss(test_labels, (y_pred_alg*w[0] + y_pred_bst*w[1]))"
   ]
  },
  {
   "cell_type": "code",
   "execution_count": 71,
   "metadata": {
    "collapsed": true
   },
   "outputs": [],
   "source": [
    "import scipy.optimize as opt"
   ]
  },
  {
   "cell_type": "code",
   "execution_count": 72,
   "metadata": {
    "collapsed": false
   },
   "outputs": [],
   "source": [
    "x = opt.minimize(losses_func, method='Nelder-Mead', x0=[-1, 2])"
   ]
  },
  {
   "cell_type": "code",
   "execution_count": 73,
   "metadata": {
    "collapsed": false
   },
   "outputs": [
    {
     "name": "stdout",
     "output_type": "stream",
     "text": [
      "0.582819318456\n"
     ]
    }
   ],
   "source": [
    "print x.fun"
   ]
  },
  {
   "cell_type": "code",
   "execution_count": 42,
   "metadata": {
    "collapsed": false
   },
   "outputs": [],
   "source": [
    "y_test_alg_submission = alg.predict_proba(X_test_submission)[:,1]\n",
    "y_test_bst_submission = bst.predict(xgboost.DMatrix(X_test_submission))\n",
    "y_test_submission = y_test_alg_submission*0.58 + y_test_bst_submission*(1-0.58)"
   ]
  },
  {
   "cell_type": "code",
   "execution_count": 43,
   "metadata": {
    "collapsed": false
   },
   "outputs": [],
   "source": [
    "ss = sample_submission.copy()\n",
    "\n",
    "for i in range(len(y_test_submission)):\n",
    "    c = y_test_submission[i]\n",
    "    if(c <= 0.02):\n",
    "        y_test_submission[i] = 0.0\n",
    "    if(c >= 0.98):\n",
    "        y_test_submission[i] = 1.0\n",
    "        \n",
    "for c in y_test_submission:\n",
    "    if(c < 0 or c>1):\n",
    "        print c\n",
    "        \n",
    "ss.target = y_test_submission\n",
    "ss.to_csv('Double-alg-xgboost-lin_part1.csv', index = False)"
   ]
  },
  {
   "cell_type": "code",
   "execution_count": null,
   "metadata": {
    "collapsed": true
   },
   "outputs": [],
   "source": []
  },
  {
   "cell_type": "code",
   "execution_count": null,
   "metadata": {
    "collapsed": true
   },
   "outputs": [],
   "source": []
  }
 ],
 "metadata": {
  "kernelspec": {
   "display_name": "Python [conda root]",
   "language": "python",
   "name": "conda-root-py"
  },
  "language_info": {
   "codemirror_mode": {
    "name": "ipython",
    "version": 2
   },
   "file_extension": ".py",
   "mimetype": "text/x-python",
   "name": "python",
   "nbconvert_exporter": "python",
   "pygments_lexer": "ipython2",
   "version": "2.7.12"
  }
 },
 "nbformat": 4,
 "nbformat_minor": 0
}
