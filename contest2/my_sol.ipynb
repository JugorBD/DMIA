{
 "cells": [
  {
   "cell_type": "code",
   "execution_count": 1,
   "metadata": {
    "collapsed": false
   },
   "outputs": [
    {
     "name": "stderr",
     "output_type": "stream",
     "text": [
      "/Users/Roman/anaconda/lib/python2.7/site-packages/sklearn/cross_validation.py:44: DeprecationWarning: This module was deprecated in version 0.18 in favor of the model_selection module into which all the refactored classes and functions are moved. Also note that the interface of the new CV iterators are different from that of this module. This module will be removed in 0.20.\n",
      "  \"This module will be removed in 0.20.\", DeprecationWarning)\n"
     ]
    }
   ],
   "source": [
    "import numpy as np\n",
    "import pandas as pd\n",
    "import sklearn\n",
    "from sklearn.linear_model import LinearRegression\n",
    "from sklearn.cross_validation import cross_val_score\n",
    "from sklearn.feature_extraction.text import HashingVectorizer, CountVectorizer\n",
    "from sklearn import manifold, decomposition, linear_model, ensemble, neighbors, cross_validation\n",
    "%matplotlib inline\n",
    "import seaborn as sns\n",
    "import sklearn\n",
    "import matplotlib.pyplot as plt\n",
    "import xgboost\n",
    "import re\n",
    "import nltk\n",
    "import pymorphy2\n",
    "\n",
    "from heamy.dataset import Dataset\n",
    "from heamy.estimator import Regressor, Classifier\n",
    "from heamy.pipeline import ModelsPipeline\n"
   ]
  },
  {
   "cell_type": "markdown",
   "metadata": {},
   "source": [
    "### будем использовать в качестве метрики RMSE"
   ]
  },
  {
   "cell_type": "code",
   "execution_count": 2,
   "metadata": {
    "collapsed": true
   },
   "outputs": [],
   "source": [
    "def rmse(x,y):\n",
    "    return np.mean((x - y) ** 2) ** 0.5"
   ]
  },
  {
   "cell_type": "markdown",
   "metadata": {},
   "source": [
    "### загрузка данных url_domain_train. Пока работаем только с ними"
   ]
  },
  {
   "cell_type": "code",
   "execution_count": 3,
   "metadata": {
    "collapsed": false
   },
   "outputs": [],
   "source": [
    "urls_train_df = pd.read_csv('data/url_domain_train.csv', header=None, delimiter='\\t')"
   ]
  },
  {
   "cell_type": "code",
   "execution_count": 4,
   "metadata": {
    "collapsed": false
   },
   "outputs": [
    {
     "data": {
      "text/html": [
       "<div>\n",
       "<table border=\"1\" class=\"dataframe\">\n",
       "  <thead>\n",
       "    <tr style=\"text-align: right;\">\n",
       "      <th></th>\n",
       "      <th>id</th>\n",
       "      <th>url</th>\n",
       "      <th>count</th>\n",
       "    </tr>\n",
       "  </thead>\n",
       "  <tbody>\n",
       "    <tr>\n",
       "      <th>0</th>\n",
       "      <td>000000014B60815F65B38258011B6C01</td>\n",
       "      <td>login.rutracker.org</td>\n",
       "      <td>1</td>\n",
       "    </tr>\n",
       "    <tr>\n",
       "      <th>1</th>\n",
       "      <td>000000014B60815F65B38258011B6C01</td>\n",
       "      <td>rutracker.org</td>\n",
       "      <td>4</td>\n",
       "    </tr>\n",
       "    <tr>\n",
       "      <th>2</th>\n",
       "      <td>000000014C03DA2A47AC433A0C755201</td>\n",
       "      <td>admin.tour-spb.net</td>\n",
       "      <td>1</td>\n",
       "    </tr>\n",
       "    <tr>\n",
       "      <th>3</th>\n",
       "      <td>000000014C03DA2A47AC433A0C755201</td>\n",
       "      <td>czinfo.ru</td>\n",
       "      <td>1</td>\n",
       "    </tr>\n",
       "    <tr>\n",
       "      <th>4</th>\n",
       "      <td>000000014C03DA2A47AC433A0C755201</td>\n",
       "      <td>forumsostav.ru</td>\n",
       "      <td>1</td>\n",
       "    </tr>\n",
       "  </tbody>\n",
       "</table>\n",
       "</div>"
      ],
      "text/plain": [
       "                                 id                  url  count\n",
       "0  000000014B60815F65B38258011B6C01  login.rutracker.org      1\n",
       "1  000000014B60815F65B38258011B6C01        rutracker.org      4\n",
       "2  000000014C03DA2A47AC433A0C755201   admin.tour-spb.net      1\n",
       "3  000000014C03DA2A47AC433A0C755201            czinfo.ru      1\n",
       "4  000000014C03DA2A47AC433A0C755201       forumsostav.ru      1"
      ]
     },
     "execution_count": 4,
     "metadata": {},
     "output_type": "execute_result"
    }
   ],
   "source": [
    "urls_train_df.columns = ['id', 'url', 'count']\n",
    "urls_train_df.head()"
   ]
  },
  {
   "cell_type": "markdown",
   "metadata": {},
   "source": [
    "### нужно учесть count"
   ]
  },
  {
   "cell_type": "markdown",
   "metadata": {},
   "source": [
    "#### попробуем разбивать url'ы на части: login.rutracker.org $\\to$ 'login rutracker org'"
   ]
  },
  {
   "cell_type": "code",
   "execution_count": 5,
   "metadata": {
    "collapsed": false
   },
   "outputs": [
    {
     "data": {
      "text/html": [
       "<div>\n",
       "<table border=\"1\" class=\"dataframe\">\n",
       "  <thead>\n",
       "    <tr style=\"text-align: right;\">\n",
       "      <th></th>\n",
       "      <th>id</th>\n",
       "      <th>url</th>\n",
       "      <th>count</th>\n",
       "      <th>array_of_url</th>\n",
       "    </tr>\n",
       "  </thead>\n",
       "  <tbody>\n",
       "    <tr>\n",
       "      <th>0</th>\n",
       "      <td>000000014B60815F65B38258011B6C01</td>\n",
       "      <td>login.rutracker.org</td>\n",
       "      <td>1</td>\n",
       "      <td>[login, rutracker, org]</td>\n",
       "    </tr>\n",
       "    <tr>\n",
       "      <th>1</th>\n",
       "      <td>000000014B60815F65B38258011B6C01</td>\n",
       "      <td>rutracker.org</td>\n",
       "      <td>4</td>\n",
       "      <td>[rutracker, org, rutracker, org, rutracker, or...</td>\n",
       "    </tr>\n",
       "    <tr>\n",
       "      <th>2</th>\n",
       "      <td>000000014C03DA2A47AC433A0C755201</td>\n",
       "      <td>admin.tour-spb.net</td>\n",
       "      <td>1</td>\n",
       "      <td>[admin, tour, spb, net]</td>\n",
       "    </tr>\n",
       "    <tr>\n",
       "      <th>3</th>\n",
       "      <td>000000014C03DA2A47AC433A0C755201</td>\n",
       "      <td>czinfo.ru</td>\n",
       "      <td>1</td>\n",
       "      <td>[czinfo, ru]</td>\n",
       "    </tr>\n",
       "    <tr>\n",
       "      <th>4</th>\n",
       "      <td>000000014C03DA2A47AC433A0C755201</td>\n",
       "      <td>forumsostav.ru</td>\n",
       "      <td>1</td>\n",
       "      <td>[forumsostav, ru]</td>\n",
       "    </tr>\n",
       "  </tbody>\n",
       "</table>\n",
       "</div>"
      ],
      "text/plain": [
       "                                 id                  url  count  \\\n",
       "0  000000014B60815F65B38258011B6C01  login.rutracker.org      1   \n",
       "1  000000014B60815F65B38258011B6C01        rutracker.org      4   \n",
       "2  000000014C03DA2A47AC433A0C755201   admin.tour-spb.net      1   \n",
       "3  000000014C03DA2A47AC433A0C755201            czinfo.ru      1   \n",
       "4  000000014C03DA2A47AC433A0C755201       forumsostav.ru      1   \n",
       "\n",
       "                                        array_of_url  \n",
       "0                            [login, rutracker, org]  \n",
       "1  [rutracker, org, rutracker, org, rutracker, or...  \n",
       "2                            [admin, tour, spb, net]  \n",
       "3                                       [czinfo, ru]  \n",
       "4                                  [forumsostav, ru]  "
      ]
     },
     "execution_count": 5,
     "metadata": {},
     "output_type": "execute_result"
    }
   ],
   "source": [
    "sep_tmp = urls_train_df\n",
    "sep_tmp['url'] = sep_tmp['url'].astype('str')\n",
    "sep_tmp['space'] = ' '\n",
    "sep_tmp['array_of_url'] = (sep_tmp['url'] + sep_tmp['space']).apply(lambda x: re.findall(r\"[\\w']+\",x)) * sep_tmp['count']\n",
    "sep_tmp.drop(['space'], axis = 1, inplace=True)\n",
    "sep_tmp.head()"
   ]
  },
  {
   "cell_type": "code",
   "execution_count": 6,
   "metadata": {
    "collapsed": false
   },
   "outputs": [
    {
     "data": {
      "text/html": [
       "<div>\n",
       "<table border=\"1\" class=\"dataframe\">\n",
       "  <thead>\n",
       "    <tr style=\"text-align: right;\">\n",
       "      <th></th>\n",
       "      <th>array_of_url</th>\n",
       "    </tr>\n",
       "    <tr>\n",
       "      <th>id</th>\n",
       "      <th></th>\n",
       "    </tr>\n",
       "  </thead>\n",
       "  <tbody>\n",
       "    <tr>\n",
       "      <th>000000013CB5719C0000A2C90002C101</th>\n",
       "      <td>[[id, rambler, ru], [mail, rambler, ru], [r0, ...</td>\n",
       "    </tr>\n",
       "    <tr>\n",
       "      <th>00000001442BE24000001B7D00F50801</th>\n",
       "      <td>[[1prime, ru], [autorambler, ru], [chellak, ru...</td>\n",
       "    </tr>\n",
       "    <tr>\n",
       "      <th>00000001448580F800003F1B31FB0901</th>\n",
       "      <td>[[bosch, korolev, ru]]</td>\n",
       "    </tr>\n",
       "    <tr>\n",
       "      <th>0000000145BDB2FF000157971645E901</th>\n",
       "      <td>[[aptekanizkihcen, ua], [colady, ru], [gorod, ...</td>\n",
       "    </tr>\n",
       "    <tr>\n",
       "      <th>000000014602771F0000DB9359714C01</th>\n",
       "      <td>[[astrorok, ru], [diets, ru], [edaplus, info],...</td>\n",
       "    </tr>\n",
       "  </tbody>\n",
       "</table>\n",
       "</div>"
      ],
      "text/plain": [
       "                                                                       array_of_url\n",
       "id                                                                                 \n",
       "000000013CB5719C0000A2C90002C101  [[id, rambler, ru], [mail, rambler, ru], [r0, ...\n",
       "00000001442BE24000001B7D00F50801  [[1prime, ru], [autorambler, ru], [chellak, ru...\n",
       "00000001448580F800003F1B31FB0901                             [[bosch, korolev, ru]]\n",
       "0000000145BDB2FF000157971645E901  [[aptekanizkihcen, ua], [colady, ru], [gorod, ...\n",
       "000000014602771F0000DB9359714C01  [[astrorok, ru], [diets, ru], [edaplus, info],..."
      ]
     },
     "execution_count": 6,
     "metadata": {},
     "output_type": "execute_result"
    }
   ],
   "source": [
    "sep_URLS = pd.DataFrame(sep_tmp.groupby('id').array_of_url.apply(lambda x: x.tolist()))\n",
    "sep_URLS.head()"
   ]
  },
  {
   "cell_type": "markdown",
   "metadata": {},
   "source": [
    "#### без разбиения самих url'ов"
   ]
  },
  {
   "cell_type": "code",
   "execution_count": null,
   "metadata": {
    "collapsed": false
   },
   "outputs": [],
   "source": [
    "tmp = urls_train_df\n",
    "tmp['url'] = tmp['url'].astype('str')\n",
    "tmp['space'] = ' '\n",
    "tmp['array_of_url'] = (tmp['url'] + tmp['space']).apply(lambda x: x.split(' ')[:-1]) * tmp['count']\n",
    "tmp.drop(['space'], axis = 1, inplace=True)\n",
    "tmp.head()"
   ]
  },
  {
   "cell_type": "code",
   "execution_count": null,
   "metadata": {
    "collapsed": false
   },
   "outputs": [],
   "source": [
    "URLS = pd.DataFrame(tmp.groupby('id').array_of_url.apply(lambda x: x.tolist()))"
   ]
  },
  {
   "cell_type": "code",
   "execution_count": 7,
   "metadata": {
    "collapsed": false
   },
   "outputs": [
    {
     "data": {
      "text/html": [
       "<div>\n",
       "<table border=\"1\" class=\"dataframe\">\n",
       "  <thead>\n",
       "    <tr style=\"text-align: right;\">\n",
       "      <th></th>\n",
       "      <th>array_of_url</th>\n",
       "    </tr>\n",
       "    <tr>\n",
       "      <th>id</th>\n",
       "      <th></th>\n",
       "    </tr>\n",
       "  </thead>\n",
       "  <tbody>\n",
       "    <tr>\n",
       "      <th>000000013CB5719C0000A2C90002C101</th>\n",
       "      <td>[[id, rambler, ru], [mail, rambler, ru], [r0, ...</td>\n",
       "    </tr>\n",
       "    <tr>\n",
       "      <th>00000001442BE24000001B7D00F50801</th>\n",
       "      <td>[[1prime, ru], [autorambler, ru], [chellak, ru...</td>\n",
       "    </tr>\n",
       "    <tr>\n",
       "      <th>00000001448580F800003F1B31FB0901</th>\n",
       "      <td>[[bosch, korolev, ru]]</td>\n",
       "    </tr>\n",
       "    <tr>\n",
       "      <th>0000000145BDB2FF000157971645E901</th>\n",
       "      <td>[[aptekanizkihcen, ua], [colady, ru], [gorod, ...</td>\n",
       "    </tr>\n",
       "    <tr>\n",
       "      <th>000000014602771F0000DB9359714C01</th>\n",
       "      <td>[[astrorok, ru], [diets, ru], [edaplus, info],...</td>\n",
       "    </tr>\n",
       "  </tbody>\n",
       "</table>\n",
       "</div>"
      ],
      "text/plain": [
       "                                                                       array_of_url\n",
       "id                                                                                 \n",
       "000000013CB5719C0000A2C90002C101  [[id, rambler, ru], [mail, rambler, ru], [r0, ...\n",
       "00000001442BE24000001B7D00F50801  [[1prime, ru], [autorambler, ru], [chellak, ru...\n",
       "00000001448580F800003F1B31FB0901                             [[bosch, korolev, ru]]\n",
       "0000000145BDB2FF000157971645E901  [[aptekanizkihcen, ua], [colady, ru], [gorod, ...\n",
       "000000014602771F0000DB9359714C01  [[astrorok, ru], [diets, ru], [edaplus, info],..."
      ]
     },
     "execution_count": 7,
     "metadata": {},
     "output_type": "execute_result"
    }
   ],
   "source": [
    "sep_URLS.head()"
   ]
  },
  {
   "cell_type": "code",
   "execution_count": null,
   "metadata": {
    "collapsed": false
   },
   "outputs": [],
   "source": [
    "URLS.head()"
   ]
  },
  {
   "cell_type": "code",
   "execution_count": 8,
   "metadata": {
    "collapsed": true
   },
   "outputs": [],
   "source": [
    "def sep_f(x):\n",
    "    a = []\n",
    "    for i in range(len(x)):\n",
    "        for j in range(len(x[i])):\n",
    "            a.append(x[i][j])\n",
    "    return \" \".join(a)"
   ]
  },
  {
   "cell_type": "code",
   "execution_count": 22,
   "metadata": {
    "collapsed": false
   },
   "outputs": [],
   "source": [
    "def f(x):\n",
    "    a = []\n",
    "    for i in range(len(x)):\n",
    "        for j in range(len(x[i])):\n",
    "            a.append(x[i][j])\n",
    "    return a"
   ]
  },
  {
   "cell_type": "code",
   "execution_count": null,
   "metadata": {
    "collapsed": false
   },
   "outputs": [],
   "source": [
    "URLS['list'] = URLS.array_of_url.apply(f)\n",
    "URLS.drop(['array_of_url'], axis = 1, inplace=True)"
   ]
  },
  {
   "cell_type": "code",
   "execution_count": 9,
   "metadata": {
    "collapsed": true
   },
   "outputs": [],
   "source": [
    "sep_URLS['list'] = sep_URLS.array_of_url.apply(sep_f)\n",
    "sep_URLS.drop(['array_of_url'], axis = 1, inplace=True)"
   ]
  },
  {
   "cell_type": "code",
   "execution_count": 10,
   "metadata": {
    "collapsed": false
   },
   "outputs": [
    {
     "ename": "NameError",
     "evalue": "name 'URLS' is not defined",
     "output_type": "error",
     "traceback": [
      "\u001b[0;31m---------------------------------------------------------------------------\u001b[0m",
      "\u001b[0;31mNameError\u001b[0m                                 Traceback (most recent call last)",
      "\u001b[0;32m<ipython-input-10-cf2d55d4f013>\u001b[0m in \u001b[0;36m<module>\u001b[0;34m()\u001b[0m\n\u001b[0;32m----> 1\u001b[0;31m \u001b[0mURLS\u001b[0m\u001b[0;34m[\u001b[0m\u001b[0;34m'id'\u001b[0m\u001b[0;34m]\u001b[0m \u001b[0;34m=\u001b[0m \u001b[0mURLS\u001b[0m\u001b[0;34m.\u001b[0m\u001b[0mindex\u001b[0m\u001b[0;34m\u001b[0m\u001b[0m\n\u001b[0m\u001b[1;32m      2\u001b[0m \u001b[0mURLS\u001b[0m\u001b[0;34m.\u001b[0m\u001b[0mindex\u001b[0m \u001b[0;34m=\u001b[0m \u001b[0mrange\u001b[0m\u001b[0;34m(\u001b[0m\u001b[0mlen\u001b[0m\u001b[0;34m(\u001b[0m\u001b[0mURLS\u001b[0m\u001b[0;34m)\u001b[0m\u001b[0;34m)\u001b[0m\u001b[0;34m\u001b[0m\u001b[0m\n\u001b[1;32m      3\u001b[0m \u001b[0mURLS\u001b[0m\u001b[0;34m.\u001b[0m\u001b[0mcolumns\u001b[0m \u001b[0;34m=\u001b[0m \u001b[0;34m[\u001b[0m\u001b[0;34m'urls'\u001b[0m\u001b[0;34m,\u001b[0m \u001b[0;34m'id'\u001b[0m\u001b[0;34m]\u001b[0m\u001b[0;34m\u001b[0m\u001b[0m\n",
      "\u001b[0;31mNameError\u001b[0m: name 'URLS' is not defined"
     ]
    }
   ],
   "source": [
    "URLS['id'] = URLS.index\n",
    "URLS.index = range(len(URLS))\n",
    "URLS.columns = ['urls', 'id']"
   ]
  },
  {
   "cell_type": "code",
   "execution_count": 11,
   "metadata": {
    "collapsed": true
   },
   "outputs": [],
   "source": [
    "sep_URLS['id'] = sep_URLS.index\n",
    "sep_URLS.index = range(len(sep_URLS))\n",
    "sep_URLS.columns = ['urls', 'id']"
   ]
  },
  {
   "cell_type": "code",
   "execution_count": 12,
   "metadata": {
    "collapsed": false
   },
   "outputs": [
    {
     "data": {
      "text/html": [
       "<div>\n",
       "<table border=\"1\" class=\"dataframe\">\n",
       "  <thead>\n",
       "    <tr style=\"text-align: right;\">\n",
       "      <th></th>\n",
       "      <th>id</th>\n",
       "      <th>age</th>\n",
       "    </tr>\n",
       "  </thead>\n",
       "  <tbody>\n",
       "    <tr>\n",
       "      <th>0</th>\n",
       "      <td>000000013CB5719C0000A2C90002C101</td>\n",
       "      <td>53</td>\n",
       "    </tr>\n",
       "    <tr>\n",
       "      <th>1</th>\n",
       "      <td>00000001442BE24000001B7D00F50801</td>\n",
       "      <td>48</td>\n",
       "    </tr>\n",
       "    <tr>\n",
       "      <th>2</th>\n",
       "      <td>00000001448580F800003F1B31FB0901</td>\n",
       "      <td>28</td>\n",
       "    </tr>\n",
       "    <tr>\n",
       "      <th>3</th>\n",
       "      <td>0000000145BDB2FF000157971645E901</td>\n",
       "      <td>44</td>\n",
       "    </tr>\n",
       "    <tr>\n",
       "      <th>4</th>\n",
       "      <td>000000014602771F0000DB9359714C01</td>\n",
       "      <td>48</td>\n",
       "    </tr>\n",
       "  </tbody>\n",
       "</table>\n",
       "</div>"
      ],
      "text/plain": [
       "                                 id  age\n",
       "0  000000013CB5719C0000A2C90002C101   53\n",
       "1  00000001442BE24000001B7D00F50801   48\n",
       "2  00000001448580F800003F1B31FB0901   28\n",
       "3  0000000145BDB2FF000157971645E901   44\n",
       "4  000000014602771F0000DB9359714C01   48"
      ]
     },
     "execution_count": 12,
     "metadata": {},
     "output_type": "execute_result"
    }
   ],
   "source": [
    "age_train_df = pd.read_csv('data/age_profile_train.csv', header=None, delimiter='\\t')\n",
    "age_train_df.columns = ['id', 'age']\n",
    "age_train_df.head()"
   ]
  },
  {
   "cell_type": "code",
   "execution_count": null,
   "metadata": {
    "collapsed": false
   },
   "outputs": [],
   "source": [
    "train_df = URLS.merge(age_train_df, on='id', how='left')"
   ]
  },
  {
   "cell_type": "code",
   "execution_count": 13,
   "metadata": {
    "collapsed": true
   },
   "outputs": [],
   "source": [
    "sep_train_df = sep_URLS.merge(age_train_df, on = 'id', how='left')"
   ]
  },
  {
   "cell_type": "code",
   "execution_count": null,
   "metadata": {
    "collapsed": false
   },
   "outputs": [],
   "source": [
    "train_df.head()"
   ]
  },
  {
   "cell_type": "code",
   "execution_count": null,
   "metadata": {
    "collapsed": false
   },
   "outputs": [],
   "source": [
    "sep_train_df.head()"
   ]
  },
  {
   "cell_type": "code",
   "execution_count": null,
   "metadata": {
    "collapsed": false
   },
   "outputs": [],
   "source": [
    "sep_train_df.urls[1]"
   ]
  },
  {
   "cell_type": "markdown",
   "metadata": {},
   "source": [
    "### стемминг слов"
   ]
  },
  {
   "cell_type": "code",
   "execution_count": null,
   "metadata": {
    "collapsed": true
   },
   "outputs": [],
   "source": [
    "stemmer = nltk.stem.LancasterStemmer()"
   ]
  },
  {
   "cell_type": "code",
   "execution_count": null,
   "metadata": {
    "collapsed": true
   },
   "outputs": [],
   "source": [
    "def stemming(x):\n",
    "    ret_array = []\n",
    "    array = x.split(\" \")\n",
    "    for word in array:\n",
    "        ret_array.append(stemmer.stem(word))\n",
    "    return \" \".join(ret_array)"
   ]
  },
  {
   "cell_type": "code",
   "execution_count": null,
   "metadata": {
    "collapsed": false
   },
   "outputs": [],
   "source": [
    "stemming(sep_train_df.urls[1])"
   ]
  },
  {
   "cell_type": "code",
   "execution_count": null,
   "metadata": {
    "collapsed": true
   },
   "outputs": [],
   "source": [
    "stem_train_df = sep_train_df.copy()"
   ]
  },
  {
   "cell_type": "code",
   "execution_count": null,
   "metadata": {
    "collapsed": false
   },
   "outputs": [],
   "source": [
    "stem_train_df.urls = stem_train_df.urls.apply(lambda x: stemming(x))"
   ]
  },
  {
   "cell_type": "code",
   "execution_count": null,
   "metadata": {
    "collapsed": false
   },
   "outputs": [],
   "source": [
    "sep_train_df.head()"
   ]
  },
  {
   "cell_type": "code",
   "execution_count": null,
   "metadata": {
    "collapsed": false
   },
   "outputs": [],
   "source": [
    "stem_train_df.head()"
   ]
  },
  {
   "cell_type": "markdown",
   "metadata": {},
   "source": [
    "### начнём делать кросс-валидацию и обработку признаков"
   ]
  },
  {
   "cell_type": "code",
   "execution_count": 14,
   "metadata": {
    "collapsed": true
   },
   "outputs": [],
   "source": [
    "y_urls = sep_train_df.age.values"
   ]
  },
  {
   "cell_type": "code",
   "execution_count": null,
   "metadata": {
    "collapsed": false
   },
   "outputs": [],
   "source": [
    "train_df.urls = train_df.urls.apply(lambda x: \" \".join(x))"
   ]
  },
  {
   "cell_type": "code",
   "execution_count": null,
   "metadata": {
    "collapsed": false
   },
   "outputs": [],
   "source": [
    "train_df.urls[:2]"
   ]
  },
  {
   "cell_type": "code",
   "execution_count": null,
   "metadata": {
    "collapsed": false
   },
   "outputs": [],
   "source": [
    "sep_train_df.urls[:2]"
   ]
  },
  {
   "cell_type": "code",
   "execution_count": null,
   "metadata": {
    "collapsed": false
   },
   "outputs": [],
   "source": [
    "stem_train_df.urls[:2]"
   ]
  },
  {
   "cell_type": "code",
   "execution_count": 15,
   "metadata": {
    "collapsed": false
   },
   "outputs": [
    {
     "ename": "NameError",
     "evalue": "name 'train_df' is not defined",
     "output_type": "error",
     "traceback": [
      "\u001b[0;31m---------------------------------------------------------------------------\u001b[0m",
      "\u001b[0;31mNameError\u001b[0m                                 Traceback (most recent call last)",
      "\u001b[0;32m<ipython-input-15-7acb5e63f3d0>\u001b[0m in \u001b[0;36m<module>\u001b[0;34m()\u001b[0m\n\u001b[1;32m      1\u001b[0m \u001b[0mtfidf\u001b[0m \u001b[0;34m=\u001b[0m \u001b[0msklearn\u001b[0m\u001b[0;34m.\u001b[0m\u001b[0mfeature_extraction\u001b[0m\u001b[0;34m.\u001b[0m\u001b[0mtext\u001b[0m\u001b[0;34m.\u001b[0m\u001b[0mTfidfVectorizer\u001b[0m\u001b[0;34m(\u001b[0m\u001b[0;34m)\u001b[0m\u001b[0;34m\u001b[0m\u001b[0m\n\u001b[0;32m----> 2\u001b[0;31m \u001b[0mX_urls\u001b[0m \u001b[0;34m=\u001b[0m \u001b[0mtfidf\u001b[0m\u001b[0;34m.\u001b[0m\u001b[0mfit_transform\u001b[0m\u001b[0;34m(\u001b[0m\u001b[0mtrain_df\u001b[0m\u001b[0;34m.\u001b[0m\u001b[0murls\u001b[0m\u001b[0;34m.\u001b[0m\u001b[0mvalues\u001b[0m\u001b[0;34m)\u001b[0m\u001b[0;34m\u001b[0m\u001b[0m\n\u001b[0m",
      "\u001b[0;31mNameError\u001b[0m: name 'train_df' is not defined"
     ]
    }
   ],
   "source": [
    "tfidf = sklearn.feature_extraction.text.TfidfVectorizer()\n",
    "X = tfidf.fit_transform(train_df.urls.values)"
   ]
  },
  {
   "cell_type": "code",
   "execution_count": 70,
   "metadata": {
    "collapsed": true
   },
   "outputs": [],
   "source": [
    "tfidf = sklearn.feature_extraction.text.TfidfVectorizer()\n",
    "sep_X = tfidf.fit_transform(sep_train_df.urls.values)"
   ]
  },
  {
   "cell_type": "code",
   "execution_count": null,
   "metadata": {
    "collapsed": true
   },
   "outputs": [],
   "source": [
    "tfidf = sklearn.feature_extraction.text.TfidfVectorizer()\n",
    "stem_X = tfidf.fit_transform(stem_train_df.urls.values)"
   ]
  },
  {
   "cell_type": "code",
   "execution_count": null,
   "metadata": {
    "collapsed": false
   },
   "outputs": [],
   "source": [
    "print sep_X.shape\n",
    "print X.shape\n",
    "print stem_X.shape"
   ]
  },
  {
   "cell_type": "code",
   "execution_count": null,
   "metadata": {
    "collapsed": false
   },
   "outputs": [],
   "source": [
    "score = []\n",
    "sep_score = []\n",
    "stem_score = []\n",
    "for k in range(5):\n",
    "    mean = []\n",
    "    sep_mean = []\n",
    "    stem_mean = []\n",
    "    for i in range(5):\n",
    "\n",
    "    \n",
    "        #train_data, test_data, y_train, y_test = cross_validation.train_test_split(X_nmf, y, \\\n",
    "        #                                                             test_size = 0.3)\n",
    "    \n",
    "        #xgb_rg = xgboost.XGBRegressor(n_estimators=n, learning_rate=0.03)\n",
    "        #xgb_rg.fit(train_data, y_train)\n",
    "        #print 'xgboost_rmse = ', rmse(xgb_rg.predict(test_data), y_test)\n",
    "        #mean.append(rmse(xgb_rg.predict(test_data), y_test))\n",
    "        \n",
    "        train_data, test_data, y_train, y_test = cross_validation.train_test_split(X, y,\\\n",
    "                                                                                  test_size = 0.3)\n",
    "        lin_reg = linear_model.SGDRegressor(n_iter=350, alpha=0.000008)\n",
    "        lin_reg.fit(train_data, y_train)\n",
    "        print \"usual = \",rmse(lin_reg.predict(test_data), y_test)\n",
    "        mean.append(rmse(lin_reg.predict(test_data), y_test))\n",
    "        \n",
    "        train_data, test_data, y_train, y_test = cross_validation.train_test_split(sep_X, y,\\\n",
    "                                                                                    test_size = 0.3)\n",
    "        \n",
    "        lin_reg = linear_model.SGDRegressor(n_iter=350, alpha=0.000008)\n",
    "        lin_reg.fit(train_data, y_train)\n",
    "        print 'with sep urls ',rmse(lin_reg.predict(test_data), y_test)\n",
    "        sep_mean.append(rmse(lin_reg.predict(test_data), y_test))\n",
    "        \n",
    "        train_data, test_data, y_train, y_test = cross_validation.train_test_split(stem_X, y,\\\n",
    "                                                                                    test_size = 0.3)\n",
    "        \n",
    "        lin_reg = linear_model.SGDRegressor(n_iter=450, alpha=0.000008)\n",
    "        lin_reg.fit(train_data, y_train)\n",
    "        print 'with stem urls ',rmse(lin_reg.predict(test_data), y_test)\n",
    "        stem_mean.append(rmse(lin_reg.predict(test_data), y_test))\n",
    "        \n",
    "    score.append(np.mean(mean))\n",
    "    sep_score.append(np.mean(sep_mean))\n",
    "    stem_score.append(np.mean(stem_mean))\n",
    "print np.mean(score)\n",
    "print 'in general with sep =', np.mean(sep_score)\n",
    "print 'in general with stem =', np.mean(stem_score)\n",
    "    "
   ]
  },
  {
   "cell_type": "markdown",
   "metadata": {},
   "source": [
    "### svd"
   ]
  },
  {
   "cell_type": "code",
   "execution_count": null,
   "metadata": {
    "collapsed": true
   },
   "outputs": [],
   "source": [
    "from sklearn import pipeline, preprocessing, feature_extraction"
   ]
  },
  {
   "cell_type": "code",
   "execution_count": null,
   "metadata": {
    "collapsed": false
   },
   "outputs": [],
   "source": [
    "# обычный датасет\n",
    "dataset1 = Dataset(X[itrain, :], y[itrain], X[itest, :])\n",
    "# NMF\n",
    "dataset2 = Dataset(X_nmf[itrain, :], y[itrain], X_nmf[itest, :])\n",
    "\n",
    "# линейная модель на обычных данных\n",
    "lr = Regressor(dataset=dataset1, \n",
    "                     estimator=linear_model.LinearRegression,\n",
    "                     parameters={'normalize': True},\n",
    "                     name='lr')\n",
    "\n",
    "# линейная модель на TFIDF от обычных данных\n",
    "def tfidf_lr_(X_train, y_train, X_test, y_test=None, random_state=8888):\n",
    "    model = pipeline.Pipeline([('tfidf', feature_extraction.text.TfidfTransformer()), \n",
    "                                ('linear_model', linear_model.LinearRegression())])\n",
    "    model.fit(X_train, y_train)\n",
    "    return model.predict(X_test)\n",
    "\n",
    "tfidf_lr = Regressor(dataset=dataset1,\n",
    "                     estimator=tfidf_lr_,\n",
    "                     name='tfidf_lr')\n",
    "\n",
    "# ExtraTrees на NMF\n",
    "rf = Regressor(dataset=dataset2, \n",
    "                     estimator=ensemble.ExtraTreesRegressor,\n",
    "                     parameters={'n_estimators': 100, 'n_jobs': -1},\n",
    "                     name='rf')\n",
    "\n",
    "# Stack two models\n",
    "# Returns new dataset with out-of-fold predictions\n",
    "meta_pipeline = ModelsPipeline(lr, tfidf_lr, rf)\n",
    "stack_ds = meta_pipeline.blend(proportion=0.2,seed=111)\n",
    "\n",
    "# Train LinearRegression on stacked data (second stage)\n",
    "stacker = Regressor(dataset=stack_ds, estimator=LinearRegression)\n",
    "results = stacker.predict()\n",
    "\n",
    "print rmse(y[itest], results)"
   ]
  },
  {
   "cell_type": "code",
   "execution_count": null,
   "metadata": {
    "collapsed": true
   },
   "outputs": [],
   "source": []
  },
  {
   "cell_type": "markdown",
   "metadata": {},
   "source": [
    "### Теперь загрузим title_unify_train"
   ]
  },
  {
   "cell_type": "code",
   "execution_count": 17,
   "metadata": {
    "collapsed": false
   },
   "outputs": [
    {
     "data": {
      "text/html": [
       "<div>\n",
       "<table border=\"1\" class=\"dataframe\">\n",
       "  <thead>\n",
       "    <tr style=\"text-align: right;\">\n",
       "      <th></th>\n",
       "      <th>0</th>\n",
       "      <th>1</th>\n",
       "      <th>2</th>\n",
       "    </tr>\n",
       "  </thead>\n",
       "  <tbody>\n",
       "    <tr>\n",
       "      <th>0</th>\n",
       "      <td>000000014B6D41C13D777E8314725401</td>\n",
       "      <td>коляна лента прикол</td>\n",
       "      <td>1</td>\n",
       "    </tr>\n",
       "    <tr>\n",
       "      <th>1</th>\n",
       "      <td>0000000150707ACB8A82451C0307BC01</td>\n",
       "      <td>candi410 rambler ru входящая рамблер-почта</td>\n",
       "      <td>1</td>\n",
       "    </tr>\n",
       "    <tr>\n",
       "      <th>2</th>\n",
       "      <td>0000000150707ACB8A82451C0307BC01</td>\n",
       "      <td>cosmopolitan витамин волос для женщина журнал ...</td>\n",
       "      <td>1</td>\n",
       "    </tr>\n",
       "    <tr>\n",
       "      <th>3</th>\n",
       "      <td>0000000150707ACB8A82451C0307BC01</td>\n",
       "      <td>realbox бокс для интернет-магазин страница тов...</td>\n",
       "      <td>1</td>\n",
       "    </tr>\n",
       "    <tr>\n",
       "      <th>4</th>\n",
       "      <td>0000000150707ACB8A82451C0307BC01</td>\n",
       "      <td>realbox бокс для интернет-магазин товар экипир...</td>\n",
       "      <td>2</td>\n",
       "    </tr>\n",
       "  </tbody>\n",
       "</table>\n",
       "</div>"
      ],
      "text/plain": [
       "                                  0  \\\n",
       "0  000000014B6D41C13D777E8314725401   \n",
       "1  0000000150707ACB8A82451C0307BC01   \n",
       "2  0000000150707ACB8A82451C0307BC01   \n",
       "3  0000000150707ACB8A82451C0307BC01   \n",
       "4  0000000150707ACB8A82451C0307BC01   \n",
       "\n",
       "                                                   1  2  \n",
       "0                                коляна лента прикол  1  \n",
       "1         candi410 rambler ru входящая рамблер-почта  1  \n",
       "2  cosmopolitan витамин волос для женщина журнал ...  1  \n",
       "3  realbox бокс для интернет-магазин страница тов...  1  \n",
       "4  realbox бокс для интернет-магазин товар экипир...  2  "
      ]
     },
     "execution_count": 17,
     "metadata": {},
     "output_type": "execute_result"
    }
   ],
   "source": [
    "title_train = pd.read_csv('data/title_unify_train.csv', header=None, sep='\\t')\n",
    "title_train.head()"
   ]
  },
  {
   "cell_type": "code",
   "execution_count": 18,
   "metadata": {
    "collapsed": true
   },
   "outputs": [],
   "source": [
    "title_train.columns = ['id', 'unify', 'count']"
   ]
  },
  {
   "cell_type": "code",
   "execution_count": 19,
   "metadata": {
    "collapsed": false
   },
   "outputs": [
    {
     "data": {
      "text/html": [
       "<div>\n",
       "<table border=\"1\" class=\"dataframe\">\n",
       "  <thead>\n",
       "    <tr style=\"text-align: right;\">\n",
       "      <th></th>\n",
       "      <th>id</th>\n",
       "      <th>unify</th>\n",
       "      <th>count</th>\n",
       "      <th>array_of_unify</th>\n",
       "    </tr>\n",
       "  </thead>\n",
       "  <tbody>\n",
       "    <tr>\n",
       "      <th>0</th>\n",
       "      <td>000000014B6D41C13D777E8314725401</td>\n",
       "      <td>коляна лента прикол</td>\n",
       "      <td>1</td>\n",
       "      <td>[коляна, лента, прикол]</td>\n",
       "    </tr>\n",
       "    <tr>\n",
       "      <th>1</th>\n",
       "      <td>0000000150707ACB8A82451C0307BC01</td>\n",
       "      <td>candi410 rambler ru входящая рамблер-почта</td>\n",
       "      <td>1</td>\n",
       "      <td>[candi410, rambler, ru, входящая, рамблер-почта]</td>\n",
       "    </tr>\n",
       "    <tr>\n",
       "      <th>2</th>\n",
       "      <td>0000000150707ACB8A82451C0307BC01</td>\n",
       "      <td>cosmopolitan витамин волос для женщина журнал ...</td>\n",
       "      <td>1</td>\n",
       "      <td>[cosmopolitan, витамин, волос, для, женщина, ж...</td>\n",
       "    </tr>\n",
       "    <tr>\n",
       "      <th>3</th>\n",
       "      <td>0000000150707ACB8A82451C0307BC01</td>\n",
       "      <td>realbox бокс для интернет-магазин страница тов...</td>\n",
       "      <td>1</td>\n",
       "      <td>[realbox, бокс, для, интернет-магазин, страниц...</td>\n",
       "    </tr>\n",
       "    <tr>\n",
       "      <th>4</th>\n",
       "      <td>0000000150707ACB8A82451C0307BC01</td>\n",
       "      <td>realbox бокс для интернет-магазин товар экипир...</td>\n",
       "      <td>2</td>\n",
       "      <td>[realbox, бокс, для, интернет-магазин, товар, ...</td>\n",
       "    </tr>\n",
       "  </tbody>\n",
       "</table>\n",
       "</div>"
      ],
      "text/plain": [
       "                                 id  \\\n",
       "0  000000014B6D41C13D777E8314725401   \n",
       "1  0000000150707ACB8A82451C0307BC01   \n",
       "2  0000000150707ACB8A82451C0307BC01   \n",
       "3  0000000150707ACB8A82451C0307BC01   \n",
       "4  0000000150707ACB8A82451C0307BC01   \n",
       "\n",
       "                                               unify  count  \\\n",
       "0                                коляна лента прикол      1   \n",
       "1         candi410 rambler ru входящая рамблер-почта      1   \n",
       "2  cosmopolitan витамин волос для женщина журнал ...      1   \n",
       "3  realbox бокс для интернет-магазин страница тов...      1   \n",
       "4  realbox бокс для интернет-магазин товар экипир...      2   \n",
       "\n",
       "                                      array_of_unify  \n",
       "0                            [коляна, лента, прикол]  \n",
       "1   [candi410, rambler, ru, входящая, рамблер-почта]  \n",
       "2  [cosmopolitan, витамин, волос, для, женщина, ж...  \n",
       "3  [realbox, бокс, для, интернет-магазин, страниц...  \n",
       "4  [realbox, бокс, для, интернет-магазин, товар, ...  "
      ]
     },
     "execution_count": 19,
     "metadata": {},
     "output_type": "execute_result"
    }
   ],
   "source": [
    "tmp = title_train\n",
    "tmp['unify'] = tmp['unify'].astype('str')\n",
    "tmp['space'] = ' '\n",
    "tmp['array_of_unify'] = (tmp['unify'] + tmp['space']).apply(lambda x: x.split(' ')[:-1]) * tmp['count']\n",
    "tmp.drop(['space'], axis = 1, inplace=True)\n",
    "tmp.head()"
   ]
  },
  {
   "cell_type": "code",
   "execution_count": 20,
   "metadata": {
    "collapsed": false
   },
   "outputs": [],
   "source": [
    "UNIFY = pd.DataFrame(tmp.groupby('id').array_of_unify.apply(lambda x: x.tolist()))"
   ]
  },
  {
   "cell_type": "code",
   "execution_count": 23,
   "metadata": {
    "collapsed": false
   },
   "outputs": [],
   "source": [
    "UNIFY['list'] = UNIFY.array_of_unify.apply(f)\n",
    "UNIFY.drop(['array_of_unify'], axis = 1, inplace=True)"
   ]
  },
  {
   "cell_type": "code",
   "execution_count": 24,
   "metadata": {
    "collapsed": false
   },
   "outputs": [
    {
     "data": {
      "text/html": [
       "<div>\n",
       "<table border=\"1\" class=\"dataframe\">\n",
       "  <thead>\n",
       "    <tr style=\"text-align: right;\">\n",
       "      <th></th>\n",
       "      <th>unify</th>\n",
       "      <th>id</th>\n",
       "    </tr>\n",
       "  </thead>\n",
       "  <tbody>\n",
       "    <tr>\n",
       "      <th>0</th>\n",
       "      <td>[бесплатный, надёжный, почта, рамблер, электро...</td>\n",
       "      <td>000000013CB5719C0000A2C90002C101</td>\n",
       "    </tr>\n",
       "    <tr>\n",
       "      <th>1</th>\n",
       "      <td>[24-х, 34-х, до, договор, неделя, новость, пре...</td>\n",
       "      <td>00000001442BE24000001B7D00F50801</td>\n",
       "    </tr>\n",
       "    <tr>\n",
       "      <th>2</th>\n",
       "      <td>[авто, бош, контакт, королёв, сервис, авто, бо...</td>\n",
       "      <td>00000001448580F800003F1B31FB0901</td>\n",
       "    </tr>\n",
       "    <tr>\n",
       "      <th>3</th>\n",
       "      <td>[ua, втрать, війни, донбасі, за, на, новини, о...</td>\n",
       "      <td>0000000145BDB2FF000157971645E901</td>\n",
       "    </tr>\n",
       "    <tr>\n",
       "      <th>4</th>\n",
       "      <td>[black, walnut, грецкий, орех, чёрный, inmomen...</td>\n",
       "      <td>000000014602771F0000DB9359714C01</td>\n",
       "    </tr>\n",
       "  </tbody>\n",
       "</table>\n",
       "</div>"
      ],
      "text/plain": [
       "                                               unify  \\\n",
       "0  [бесплатный, надёжный, почта, рамблер, электро...   \n",
       "1  [24-х, 34-х, до, договор, неделя, новость, пре...   \n",
       "2  [авто, бош, контакт, королёв, сервис, авто, бо...   \n",
       "3  [ua, втрать, війни, донбасі, за, на, новини, о...   \n",
       "4  [black, walnut, грецкий, орех, чёрный, inmomen...   \n",
       "\n",
       "                                 id  \n",
       "0  000000013CB5719C0000A2C90002C101  \n",
       "1  00000001442BE24000001B7D00F50801  \n",
       "2  00000001448580F800003F1B31FB0901  \n",
       "3  0000000145BDB2FF000157971645E901  \n",
       "4  000000014602771F0000DB9359714C01  "
      ]
     },
     "execution_count": 24,
     "metadata": {},
     "output_type": "execute_result"
    }
   ],
   "source": [
    "UNIFY['id'] = UNIFY.index\n",
    "UNIFY.index = range(len(UNIFY))\n",
    "UNIFY.columns = ['unify', 'id']\n",
    "UNIFY.head()"
   ]
  },
  {
   "cell_type": "code",
   "execution_count": 25,
   "metadata": {
    "collapsed": false
   },
   "outputs": [
    {
     "data": {
      "text/html": [
       "<div>\n",
       "<table border=\"1\" class=\"dataframe\">\n",
       "  <thead>\n",
       "    <tr style=\"text-align: right;\">\n",
       "      <th></th>\n",
       "      <th>unify</th>\n",
       "      <th>id</th>\n",
       "      <th>age</th>\n",
       "    </tr>\n",
       "  </thead>\n",
       "  <tbody>\n",
       "    <tr>\n",
       "      <th>0</th>\n",
       "      <td>[бесплатный, надёжный, почта, рамблер, электро...</td>\n",
       "      <td>000000013CB5719C0000A2C90002C101</td>\n",
       "      <td>53</td>\n",
       "    </tr>\n",
       "    <tr>\n",
       "      <th>1</th>\n",
       "      <td>[24-х, 34-х, до, договор, неделя, новость, пре...</td>\n",
       "      <td>00000001442BE24000001B7D00F50801</td>\n",
       "      <td>48</td>\n",
       "    </tr>\n",
       "    <tr>\n",
       "      <th>2</th>\n",
       "      <td>[авто, бош, контакт, королёв, сервис, авто, бо...</td>\n",
       "      <td>00000001448580F800003F1B31FB0901</td>\n",
       "      <td>28</td>\n",
       "    </tr>\n",
       "    <tr>\n",
       "      <th>3</th>\n",
       "      <td>[ua, втрать, війни, донбасі, за, на, новини, о...</td>\n",
       "      <td>0000000145BDB2FF000157971645E901</td>\n",
       "      <td>44</td>\n",
       "    </tr>\n",
       "    <tr>\n",
       "      <th>4</th>\n",
       "      <td>[black, walnut, грецкий, орех, чёрный, inmomen...</td>\n",
       "      <td>000000014602771F0000DB9359714C01</td>\n",
       "      <td>48</td>\n",
       "    </tr>\n",
       "  </tbody>\n",
       "</table>\n",
       "</div>"
      ],
      "text/plain": [
       "                                               unify  \\\n",
       "0  [бесплатный, надёжный, почта, рамблер, электро...   \n",
       "1  [24-х, 34-х, до, договор, неделя, новость, пре...   \n",
       "2  [авто, бош, контакт, королёв, сервис, авто, бо...   \n",
       "3  [ua, втрать, війни, донбасі, за, на, новини, о...   \n",
       "4  [black, walnut, грецкий, орех, чёрный, inmomen...   \n",
       "\n",
       "                                 id  age  \n",
       "0  000000013CB5719C0000A2C90002C101   53  \n",
       "1  00000001442BE24000001B7D00F50801   48  \n",
       "2  00000001448580F800003F1B31FB0901   28  \n",
       "3  0000000145BDB2FF000157971645E901   44  \n",
       "4  000000014602771F0000DB9359714C01   48  "
      ]
     },
     "execution_count": 25,
     "metadata": {},
     "output_type": "execute_result"
    }
   ],
   "source": [
    "train_un = UNIFY.merge(age_train_df, on='id', how='left')\n",
    "train_un.head()"
   ]
  },
  {
   "cell_type": "code",
   "execution_count": 26,
   "metadata": {
    "collapsed": true
   },
   "outputs": [],
   "source": [
    "morph = pymorphy2.MorphAnalyzer()"
   ]
  },
  {
   "cell_type": "code",
   "execution_count": null,
   "metadata": {
    "collapsed": false
   },
   "outputs": [],
   "source": [
    "print type(u'прив')"
   ]
  },
  {
   "cell_type": "code",
   "execution_count": null,
   "metadata": {
    "collapsed": false
   },
   "outputs": [],
   "source": [
    "p = morph.parse(u'привет')[0]\n",
    "p.normal_form"
   ]
  },
  {
   "cell_type": "code",
   "execution_count": null,
   "metadata": {
    "collapsed": false
   },
   "outputs": [],
   "source": [
    "p = morph.parse(u'привет -ды ls -a')[0]\n",
    "print p.normal_form\n",
    "print type(p.normal_form)"
   ]
  },
  {
   "cell_type": "code",
   "execution_count": 27,
   "metadata": {
    "collapsed": false
   },
   "outputs": [],
   "source": [
    "def norm_form(x):\n",
    "    tmp = \" \".join(x)\n",
    "    string = unicode(tmp,'utf-8','ignore')\n",
    "    p = morph.parse(string)[0]\n",
    "    return p.normal_form"
   ]
  },
  {
   "cell_type": "code",
   "execution_count": 28,
   "metadata": {
    "collapsed": true
   },
   "outputs": [],
   "source": [
    "train_morph = train_un.copy()"
   ]
  },
  {
   "cell_type": "code",
   "execution_count": 29,
   "metadata": {
    "collapsed": false
   },
   "outputs": [],
   "source": [
    "train_morph.unify = train_morph.unify.apply(lambda x: norm_form(x))"
   ]
  },
  {
   "cell_type": "code",
   "execution_count": null,
   "metadata": {
    "collapsed": false
   },
   "outputs": [],
   "source": [
    "train_morph.head()"
   ]
  },
  {
   "cell_type": "code",
   "execution_count": 83,
   "metadata": {
    "collapsed": false
   },
   "outputs": [],
   "source": [
    "tfidf = sklearn.feature_extraction.text.TfidfVectorizer()\n",
    "morph_X = tfidf.fit_transform(train_morph.unify.values)"
   ]
  },
  {
   "cell_type": "code",
   "execution_count": 31,
   "metadata": {
    "collapsed": true
   },
   "outputs": [],
   "source": [
    "morph_y = train_morph.age"
   ]
  },
  {
   "cell_type": "code",
   "execution_count": null,
   "metadata": {
    "collapsed": false
   },
   "outputs": [],
   "source": [
    "score = []\n",
    "\n",
    "for k in range(5):\n",
    "    mean = []\n",
    "    for i in range(5):\n",
    "        train_data, test_data, y_train, y_test = cross_validation.train_test_split(morph_X, y,\\\n",
    "                                                                                    test_size = 0.3)\n",
    "        \n",
    "        lin_reg = linear_model.SGDRegressor(n_iter=550, alpha=0.00003)\n",
    "        lin_reg.fit(train_data, y_train)\n",
    "        print rmse(lin_reg.predict(test_data), y_test)\n",
    "        mean.append(rmse(lin_reg.predict(test_data), y_test))\n",
    "        \n",
    "    score.append(np.mean(mean))\n",
    "print np.mean(score)"
   ]
  },
  {
   "cell_type": "code",
   "execution_count": null,
   "metadata": {
    "collapsed": true
   },
   "outputs": [],
   "source": []
  },
  {
   "cell_type": "code",
   "execution_count": null,
   "metadata": {
    "collapsed": false
   },
   "outputs": [],
   "source": [
    "# обычный датасет\n",
    "dataset1 = Dataset(X[itrain, :], y[itrain], X[itest, :])\n",
    "# NMF\n",
    "dataset2 = Dataset(X_nmf[itrain, :], y[itrain], X_nmf[itest, :])\n",
    "\n",
    "# линейная модель на обычных данных\n",
    "lr = Regressor(dataset=dataset1, \n",
    "                     estimator=linear_model.LinearRegression,\n",
    "                     parameters={'normalize': True},\n",
    "                     name='lr')\n",
    "\n",
    "# линейная модель на TFIDF от обычных данных\n",
    "def tfidf_lr_(X_train, y_train, X_test, y_test=None, random_state=8888):\n",
    "    model = pipeline.Pipeline([('tfidf', feature_extraction.text.TfidfTransformer()), \n",
    "                                ('linear_model', linear_model.LinearRegression())])\n",
    "    model.fit(X_train, y_train)\n",
    "    return model.predict(X_test)\n",
    "\n",
    "tfidf_lr = Regressor(dataset=dataset1,\n",
    "                     estimator=tfidf_lr_,\n",
    "                     name='tfidf_lr')\n",
    "\n",
    "# ExtraTrees на NMF\n",
    "rf = Regressor(dataset=dataset2, \n",
    "                     estimator=ensemble.ExtraTreesRegressor,\n",
    "                     parameters={'n_estimators': 100, 'n_jobs': -1},\n",
    "                     name='rf')\n",
    "\n",
    "# Stack two models\n",
    "# Returns new dataset with out-of-fold predictions\n",
    "meta_pipeline = ModelsPipeline(lr, tfidf_lr, rf)\n",
    "stack_ds = meta_pipeline.blend(proportion=0.2,seed=111)\n",
    "\n",
    "# Train LinearRegression on stacked data (second stage)\n",
    "stacker = Regressor(dataset=stack_ds, estimator=LinearRegression)\n",
    "results = stacker.predict()\n",
    "\n",
    "print rmse(y[itest], results)"
   ]
  },
  {
   "cell_type": "code",
   "execution_count": null,
   "metadata": {
    "collapsed": true
   },
   "outputs": [],
   "source": []
  },
  {
   "cell_type": "code",
   "execution_count": null,
   "metadata": {
    "collapsed": true
   },
   "outputs": [],
   "source": []
  },
  {
   "cell_type": "code",
   "execution_count": null,
   "metadata": {
    "collapsed": true
   },
   "outputs": [],
   "source": []
  },
  {
   "cell_type": "code",
   "execution_count": null,
   "metadata": {
    "collapsed": true
   },
   "outputs": [],
   "source": []
  },
  {
   "cell_type": "markdown",
   "metadata": {},
   "source": [
    "### данные для отправки"
   ]
  },
  {
   "cell_type": "code",
   "execution_count": 60,
   "metadata": {
    "collapsed": false
   },
   "outputs": [
    {
     "data": {
      "text/plain": [
       "19974"
      ]
     },
     "execution_count": 60,
     "metadata": {},
     "output_type": "execute_result"
    }
   ],
   "source": [
    "urls_test_df = pd.read_csv('data/url_domain_test.csv', header=None, delimiter='\\t')\n",
    "urls_test_df.columns = ['id', 'url', 'count']\n",
    "urls_test_df.id.nunique()"
   ]
  },
  {
   "cell_type": "code",
   "execution_count": 61,
   "metadata": {
    "collapsed": false
   },
   "outputs": [
    {
     "data": {
      "text/html": [
       "<div>\n",
       "<table border=\"1\" class=\"dataframe\">\n",
       "  <thead>\n",
       "    <tr style=\"text-align: right;\">\n",
       "      <th></th>\n",
       "      <th>id</th>\n",
       "      <th>url</th>\n",
       "      <th>count</th>\n",
       "    </tr>\n",
       "  </thead>\n",
       "  <tbody>\n",
       "    <tr>\n",
       "      <th>0</th>\n",
       "      <td>0000000151004FF4ADD746DA10685A01</td>\n",
       "      <td>afisha.ru</td>\n",
       "      <td>2</td>\n",
       "    </tr>\n",
       "    <tr>\n",
       "      <th>1</th>\n",
       "      <td>0000000151004FF4ADD746DA10685A01</td>\n",
       "      <td>aif.ru</td>\n",
       "      <td>1</td>\n",
       "    </tr>\n",
       "    <tr>\n",
       "      <th>2</th>\n",
       "      <td>0000000151004FF4ADD746DA10685A01</td>\n",
       "      <td>aimfar.solution.weborama.fr</td>\n",
       "      <td>1</td>\n",
       "    </tr>\n",
       "    <tr>\n",
       "      <th>3</th>\n",
       "      <td>0000000151004FF4ADD746DA10685A01</td>\n",
       "      <td>alkotest.ru</td>\n",
       "      <td>1</td>\n",
       "    </tr>\n",
       "    <tr>\n",
       "      <th>4</th>\n",
       "      <td>0000000151004FF4ADD746DA10685A01</td>\n",
       "      <td>aptekamos.ru</td>\n",
       "      <td>1</td>\n",
       "    </tr>\n",
       "  </tbody>\n",
       "</table>\n",
       "</div>"
      ],
      "text/plain": [
       "                                 id                          url  count\n",
       "0  0000000151004FF4ADD746DA10685A01                    afisha.ru      2\n",
       "1  0000000151004FF4ADD746DA10685A01                       aif.ru      1\n",
       "2  0000000151004FF4ADD746DA10685A01  aimfar.solution.weborama.fr      1\n",
       "3  0000000151004FF4ADD746DA10685A01                  alkotest.ru      1\n",
       "4  0000000151004FF4ADD746DA10685A01                 aptekamos.ru      1"
      ]
     },
     "execution_count": 61,
     "metadata": {},
     "output_type": "execute_result"
    }
   ],
   "source": [
    "urls_test_df.head()"
   ]
  },
  {
   "cell_type": "code",
   "execution_count": 62,
   "metadata": {
    "collapsed": false
   },
   "outputs": [
    {
     "data": {
      "text/html": [
       "<div>\n",
       "<table border=\"1\" class=\"dataframe\">\n",
       "  <thead>\n",
       "    <tr style=\"text-align: right;\">\n",
       "      <th></th>\n",
       "      <th>id</th>\n",
       "      <th>url</th>\n",
       "      <th>count</th>\n",
       "      <th>array_of_url</th>\n",
       "    </tr>\n",
       "  </thead>\n",
       "  <tbody>\n",
       "    <tr>\n",
       "      <th>0</th>\n",
       "      <td>0000000151004FF4ADD746DA10685A01</td>\n",
       "      <td>afisha.ru</td>\n",
       "      <td>2</td>\n",
       "      <td>[afisha, ru, afisha, ru]</td>\n",
       "    </tr>\n",
       "    <tr>\n",
       "      <th>1</th>\n",
       "      <td>0000000151004FF4ADD746DA10685A01</td>\n",
       "      <td>aif.ru</td>\n",
       "      <td>1</td>\n",
       "      <td>[aif, ru]</td>\n",
       "    </tr>\n",
       "    <tr>\n",
       "      <th>2</th>\n",
       "      <td>0000000151004FF4ADD746DA10685A01</td>\n",
       "      <td>aimfar.solution.weborama.fr</td>\n",
       "      <td>1</td>\n",
       "      <td>[aimfar, solution, weborama, fr]</td>\n",
       "    </tr>\n",
       "    <tr>\n",
       "      <th>3</th>\n",
       "      <td>0000000151004FF4ADD746DA10685A01</td>\n",
       "      <td>alkotest.ru</td>\n",
       "      <td>1</td>\n",
       "      <td>[alkotest, ru]</td>\n",
       "    </tr>\n",
       "    <tr>\n",
       "      <th>4</th>\n",
       "      <td>0000000151004FF4ADD746DA10685A01</td>\n",
       "      <td>aptekamos.ru</td>\n",
       "      <td>1</td>\n",
       "      <td>[aptekamos, ru]</td>\n",
       "    </tr>\n",
       "  </tbody>\n",
       "</table>\n",
       "</div>"
      ],
      "text/plain": [
       "                                 id                          url  count  \\\n",
       "0  0000000151004FF4ADD746DA10685A01                    afisha.ru      2   \n",
       "1  0000000151004FF4ADD746DA10685A01                       aif.ru      1   \n",
       "2  0000000151004FF4ADD746DA10685A01  aimfar.solution.weborama.fr      1   \n",
       "3  0000000151004FF4ADD746DA10685A01                  alkotest.ru      1   \n",
       "4  0000000151004FF4ADD746DA10685A01                 aptekamos.ru      1   \n",
       "\n",
       "                       array_of_url  \n",
       "0          [afisha, ru, afisha, ru]  \n",
       "1                         [aif, ru]  \n",
       "2  [aimfar, solution, weborama, fr]  \n",
       "3                    [alkotest, ru]  \n",
       "4                   [aptekamos, ru]  "
      ]
     },
     "execution_count": 62,
     "metadata": {},
     "output_type": "execute_result"
    }
   ],
   "source": [
    "sep_tmp = urls_test_df\n",
    "sep_tmp['url'] = sep_tmp['url'].astype('str')\n",
    "sep_tmp['space'] = ' '\n",
    "sep_tmp['array_of_url'] = (sep_tmp['url'] + sep_tmp['space']).apply(lambda x: re.findall(r\"[\\w']+\",x)) * sep_tmp['count']\n",
    "sep_tmp.drop(['space'], axis = 1, inplace=True)\n",
    "sep_tmp.head()"
   ]
  },
  {
   "cell_type": "code",
   "execution_count": 63,
   "metadata": {
    "collapsed": true
   },
   "outputs": [],
   "source": [
    "TEST_URLS = pd.DataFrame(sep_tmp.groupby('id').array_of_url.apply(lambda x: x.tolist()))"
   ]
  },
  {
   "cell_type": "code",
   "execution_count": 64,
   "metadata": {
    "collapsed": true
   },
   "outputs": [],
   "source": [
    "TEST_URLS['list'] = TEST_URLS.array_of_url.apply(sep_f)\n",
    "TEST_URLS.drop(['array_of_url'], axis = 1, inplace=True)"
   ]
  },
  {
   "cell_type": "code",
   "execution_count": 65,
   "metadata": {
    "collapsed": false
   },
   "outputs": [
    {
     "data": {
      "text/html": [
       "<div>\n",
       "<table border=\"1\" class=\"dataframe\">\n",
       "  <thead>\n",
       "    <tr style=\"text-align: right;\">\n",
       "      <th></th>\n",
       "      <th>urls</th>\n",
       "      <th>id</th>\n",
       "    </tr>\n",
       "  </thead>\n",
       "  <tbody>\n",
       "    <tr>\n",
       "      <th>0</th>\n",
       "      <td>1000bankov ru 1tv ru 1tv ru 1tv ru 1tv ru 1tv ...</td>\n",
       "      <td>000000014A02348E701552980349FF01</td>\n",
       "    </tr>\n",
       "    <tr>\n",
       "      <th>1</th>\n",
       "      <td>autorambler ru bilettorg ru dsol druzhba ru fa...</td>\n",
       "      <td>000000014A10EA183BF8594A0B2AB201</td>\n",
       "    </tr>\n",
       "    <tr>\n",
       "      <th>2</th>\n",
       "      <td>photosight ru photosight ru photosight ru phot...</td>\n",
       "      <td>000000014A4FE5C33A929D4C26943601</td>\n",
       "    </tr>\n",
       "    <tr>\n",
       "      <th>3</th>\n",
       "      <td>base consultant ru dogovor obrazets ru fd ru m...</td>\n",
       "      <td>000000014B7BB9957784A9BC0AC9F401</td>\n",
       "    </tr>\n",
       "    <tr>\n",
       "      <th>4</th>\n",
       "      <td>assessor ru assessor ru audit it ru base garan...</td>\n",
       "      <td>000000014C7749F896D82C2B01E8B801</td>\n",
       "    </tr>\n",
       "  </tbody>\n",
       "</table>\n",
       "</div>"
      ],
      "text/plain": [
       "                                                urls  \\\n",
       "0  1000bankov ru 1tv ru 1tv ru 1tv ru 1tv ru 1tv ...   \n",
       "1  autorambler ru bilettorg ru dsol druzhba ru fa...   \n",
       "2  photosight ru photosight ru photosight ru phot...   \n",
       "3  base consultant ru dogovor obrazets ru fd ru m...   \n",
       "4  assessor ru assessor ru audit it ru base garan...   \n",
       "\n",
       "                                 id  \n",
       "0  000000014A02348E701552980349FF01  \n",
       "1  000000014A10EA183BF8594A0B2AB201  \n",
       "2  000000014A4FE5C33A929D4C26943601  \n",
       "3  000000014B7BB9957784A9BC0AC9F401  \n",
       "4  000000014C7749F896D82C2B01E8B801  "
      ]
     },
     "execution_count": 65,
     "metadata": {},
     "output_type": "execute_result"
    }
   ],
   "source": [
    "TEST_URLS['id'] = TEST_URLS.index\n",
    "TEST_URLS.index = range(len(TEST_URLS))\n",
    "TEST_URLS.columns = ['urls', 'id']\n",
    "TEST_URLS.head()"
   ]
  },
  {
   "cell_type": "code",
   "execution_count": 71,
   "metadata": {
    "collapsed": true
   },
   "outputs": [],
   "source": [
    "X_test_urls = tfidf.transform(TEST_URLS.urls.values)"
   ]
  },
  {
   "cell_type": "code",
   "execution_count": 72,
   "metadata": {
    "collapsed": false
   },
   "outputs": [
    {
     "data": {
      "text/plain": [
       "(19974, 101680)"
      ]
     },
     "execution_count": 72,
     "metadata": {},
     "output_type": "execute_result"
    }
   ],
   "source": [
    "X_test_urls.shape"
   ]
  },
  {
   "cell_type": "code",
   "execution_count": 73,
   "metadata": {
    "collapsed": false
   },
   "outputs": [
    {
     "data": {
      "text/plain": [
       "(118603, 101680)"
      ]
     },
     "execution_count": 73,
     "metadata": {},
     "output_type": "execute_result"
    }
   ],
   "source": [
    "sep_X.shape"
   ]
  },
  {
   "cell_type": "code",
   "execution_count": null,
   "metadata": {
    "collapsed": true
   },
   "outputs": [],
   "source": []
  },
  {
   "cell_type": "code",
   "execution_count": 74,
   "metadata": {
    "collapsed": false
   },
   "outputs": [
    {
     "data": {
      "text/plain": [
       "SGDRegressor(alpha=6e-06, average=False, epsilon=0.1, eta0=0.01,\n",
       "       fit_intercept=True, l1_ratio=0.15, learning_rate='invscaling',\n",
       "       loss='squared_loss', n_iter=750, penalty='l2', power_t=0.25,\n",
       "       random_state=None, shuffle=True, verbose=0, warm_start=False)"
      ]
     },
     "execution_count": 74,
     "metadata": {},
     "output_type": "execute_result"
    }
   ],
   "source": [
    "lin_reg = linear_model.SGDRegressor(n_iter=750, alpha=0.000006)\n",
    "lin_reg.fit(sep_X, y_urls)"
   ]
  },
  {
   "cell_type": "code",
   "execution_count": 75,
   "metadata": {
    "collapsed": false
   },
   "outputs": [],
   "source": [
    "urls_pred = lin_reg.predict(X_test_urls)"
   ]
  },
  {
   "cell_type": "markdown",
   "metadata": {},
   "source": [
    "### теперь прогноз по title"
   ]
  },
  {
   "cell_type": "code",
   "execution_count": 76,
   "metadata": {
    "collapsed": false
   },
   "outputs": [
    {
     "data": {
      "text/plain": [
       "19960"
      ]
     },
     "execution_count": 76,
     "metadata": {},
     "output_type": "execute_result"
    }
   ],
   "source": [
    "titles_test_df = pd.read_csv('data/title_unify_test.csv', header=None, delimiter='\\t')\n",
    "titles_test_df.columns = ['id', 'unify', 'count']\n",
    "titles_test_df.id.nunique()"
   ]
  },
  {
   "cell_type": "code",
   "execution_count": 77,
   "metadata": {
    "collapsed": false
   },
   "outputs": [
    {
     "data": {
      "text/html": [
       "<div>\n",
       "<table border=\"1\" class=\"dataframe\">\n",
       "  <thead>\n",
       "    <tr style=\"text-align: right;\">\n",
       "      <th></th>\n",
       "      <th>id</th>\n",
       "      <th>unify</th>\n",
       "      <th>count</th>\n",
       "      <th>array_of_unify</th>\n",
       "    </tr>\n",
       "  </thead>\n",
       "  <tbody>\n",
       "    <tr>\n",
       "      <th>0</th>\n",
       "      <td>0000000151790DCC1E8322AF0B6FA701</td>\n",
       "      <td>20-километровый амур китай мост недвижимость п...</td>\n",
       "      <td>2</td>\n",
       "      <td>[20-километровый, амур, китай, мост, недвижимо...</td>\n",
       "    </tr>\n",
       "    <tr>\n",
       "      <th>1</th>\n",
       "      <td>0000000151790DCC1E8322AF0B6FA701</td>\n",
       "      <td>24-х 34-х до договор неделя новость предложить...</td>\n",
       "      <td>1</td>\n",
       "      <td>[24-х, 34-х, до, договор, неделя, новость, пре...</td>\n",
       "    </tr>\n",
       "    <tr>\n",
       "      <th>2</th>\n",
       "      <td>0000000151790DCC1E8322AF0B6FA701</td>\n",
       "      <td>3xl armour compress heatgear long size sleev s...</td>\n",
       "      <td>1</td>\n",
       "      <td>[3xl, armour, compress, heatgear, long, size, ...</td>\n",
       "    </tr>\n",
       "    <tr>\n",
       "      <th>3</th>\n",
       "      <td>0000000151790DCC1E8322AF0B6FA701</td>\n",
       "      <td>4-е ca зачёт медальный место новость ои-2012 п...</td>\n",
       "      <td>1</td>\n",
       "      <td>[4-е, ca, зачёт, медальный, место, новость, ои...</td>\n",
       "    </tr>\n",
       "    <tr>\n",
       "      <th>4</th>\n",
       "      <td>0000000151790DCC1E8322AF0B6FA701</td>\n",
       "      <td>4-колёсный moi-bebik oregon oscar ru коляска к...</td>\n",
       "      <td>1</td>\n",
       "      <td>[4-колёсный, moi-bebik, oregon, oscar, ru, кол...</td>\n",
       "    </tr>\n",
       "  </tbody>\n",
       "</table>\n",
       "</div>"
      ],
      "text/plain": [
       "                                 id  \\\n",
       "0  0000000151790DCC1E8322AF0B6FA701   \n",
       "1  0000000151790DCC1E8322AF0B6FA701   \n",
       "2  0000000151790DCC1E8322AF0B6FA701   \n",
       "3  0000000151790DCC1E8322AF0B6FA701   \n",
       "4  0000000151790DCC1E8322AF0B6FA701   \n",
       "\n",
       "                                               unify  count  \\\n",
       "0  20-километровый амур китай мост недвижимость п...      2   \n",
       "1  24-х 34-х до договор неделя новость предложить...      1   \n",
       "2  3xl armour compress heatgear long size sleev s...      1   \n",
       "3  4-е ca зачёт медальный место новость ои-2012 п...      1   \n",
       "4  4-колёсный moi-bebik oregon oscar ru коляска к...      1   \n",
       "\n",
       "                                      array_of_unify  \n",
       "0  [20-километровый, амур, китай, мост, недвижимо...  \n",
       "1  [24-х, 34-х, до, договор, неделя, новость, пре...  \n",
       "2  [3xl, armour, compress, heatgear, long, size, ...  \n",
       "3  [4-е, ca, зачёт, медальный, место, новость, ои...  \n",
       "4  [4-колёсный, moi-bebik, oregon, oscar, ru, кол...  "
      ]
     },
     "execution_count": 77,
     "metadata": {},
     "output_type": "execute_result"
    }
   ],
   "source": [
    "tmp = titles_test_df\n",
    "tmp['unify'] = tmp['unify'].astype('str')\n",
    "tmp['space'] = ' '\n",
    "tmp['array_of_unify'] = (tmp['unify'] + tmp['space']).apply(lambda x: x.split(' ')[:-1]) * tmp['count']\n",
    "tmp.drop(['space'], axis = 1, inplace=True)\n",
    "tmp.head()"
   ]
  },
  {
   "cell_type": "code",
   "execution_count": 78,
   "metadata": {
    "collapsed": true
   },
   "outputs": [],
   "source": [
    "UNIFY_TEST = pd.DataFrame(tmp.groupby('id').array_of_unify.apply(lambda x: x.tolist()))"
   ]
  },
  {
   "cell_type": "code",
   "execution_count": 79,
   "metadata": {
    "collapsed": true
   },
   "outputs": [],
   "source": [
    "UNIFY_TEST['list'] = UNIFY_TEST.array_of_unify.apply(f)\n",
    "UNIFY_TEST.drop(['array_of_unify'], axis = 1, inplace=True)"
   ]
  },
  {
   "cell_type": "code",
   "execution_count": 80,
   "metadata": {
    "collapsed": false
   },
   "outputs": [
    {
     "data": {
      "text/html": [
       "<div>\n",
       "<table border=\"1\" class=\"dataframe\">\n",
       "  <thead>\n",
       "    <tr style=\"text-align: right;\">\n",
       "      <th></th>\n",
       "      <th>unify</th>\n",
       "      <th>id</th>\n",
       "    </tr>\n",
       "  </thead>\n",
       "  <tbody>\n",
       "    <tr>\n",
       "      <th>0</th>\n",
       "      <td>[11-й, гектар, дом, коммунизм, на, набережная,...</td>\n",
       "      <td>000000014A02348E701552980349FF01</td>\n",
       "    </tr>\n",
       "    <tr>\n",
       "      <th>1</th>\n",
       "      <td>[20-летний, выглядеть, девушка, как, королева,...</td>\n",
       "      <td>000000014A10EA183BF8594A0B2AB201</td>\n",
       "    </tr>\n",
       "    <tr>\n",
       "      <th>2</th>\n",
       "      <td>[медийный, портал, рамблер, медийный, портал, ...</td>\n",
       "      <td>000000014A4FE5C33A929D4C26943601</td>\n",
       "    </tr>\n",
       "    <tr>\n",
       "      <th>3</th>\n",
       "      <td>[бесплатно, код, онлайн, срочно, статистика, и...</td>\n",
       "      <td>000000014B7BB9957784A9BC0AC9F401</td>\n",
       "    </tr>\n",
       "    <tr>\n",
       "      <th>4</th>\n",
       "      <td>[bank, privat, автокредитование, банковский, б...</td>\n",
       "      <td>000000014C7749F896D82C2B01E8B801</td>\n",
       "    </tr>\n",
       "  </tbody>\n",
       "</table>\n",
       "</div>"
      ],
      "text/plain": [
       "                                               unify  \\\n",
       "0  [11-й, гектар, дом, коммунизм, на, набережная,...   \n",
       "1  [20-летний, выглядеть, девушка, как, королева,...   \n",
       "2  [медийный, портал, рамблер, медийный, портал, ...   \n",
       "3  [бесплатно, код, онлайн, срочно, статистика, и...   \n",
       "4  [bank, privat, автокредитование, банковский, б...   \n",
       "\n",
       "                                 id  \n",
       "0  000000014A02348E701552980349FF01  \n",
       "1  000000014A10EA183BF8594A0B2AB201  \n",
       "2  000000014A4FE5C33A929D4C26943601  \n",
       "3  000000014B7BB9957784A9BC0AC9F401  \n",
       "4  000000014C7749F896D82C2B01E8B801  "
      ]
     },
     "execution_count": 80,
     "metadata": {},
     "output_type": "execute_result"
    }
   ],
   "source": [
    "UNIFY_TEST['id'] = UNIFY_TEST.index\n",
    "UNIFY_TEST.index = range(len(UNIFY_TEST))\n",
    "UNIFY_TEST.columns = ['unify', 'id']\n",
    "UNIFY_TEST.head()"
   ]
  },
  {
   "cell_type": "code",
   "execution_count": 81,
   "metadata": {
    "collapsed": true
   },
   "outputs": [],
   "source": [
    "UNIFY_TEST.unify = UNIFY_TEST.unify.apply(lambda x: norm_form(x))"
   ]
  },
  {
   "cell_type": "code",
   "execution_count": 84,
   "metadata": {
    "collapsed": false
   },
   "outputs": [],
   "source": [
    "X_test_titles = tfidf.transform(UNIFY_TEST.unify.values)"
   ]
  },
  {
   "cell_type": "code",
   "execution_count": 85,
   "metadata": {
    "collapsed": false
   },
   "outputs": [
    {
     "data": {
      "text/plain": [
       "SGDRegressor(alpha=6e-06, average=False, epsilon=0.1, eta0=0.01,\n",
       "       fit_intercept=True, l1_ratio=0.15, learning_rate='invscaling',\n",
       "       loss='squared_loss', n_iter=750, penalty='l2', power_t=0.25,\n",
       "       random_state=None, shuffle=True, verbose=0, warm_start=False)"
      ]
     },
     "execution_count": 85,
     "metadata": {},
     "output_type": "execute_result"
    }
   ],
   "source": [
    "lin_reg = linear_model.SGDRegressor(n_iter=750, alpha=0.000006)\n",
    "lin_reg.fit(morph_X, morph_y)"
   ]
  },
  {
   "cell_type": "code",
   "execution_count": 87,
   "metadata": {
    "collapsed": false
   },
   "outputs": [],
   "source": [
    "titles_pred = lin_reg.predict(X_test_titles)"
   ]
  },
  {
   "cell_type": "code",
   "execution_count": null,
   "metadata": {
    "collapsed": true
   },
   "outputs": [],
   "source": []
  },
  {
   "cell_type": "code",
   "execution_count": 88,
   "metadata": {
    "collapsed": false
   },
   "outputs": [
    {
     "name": "stdout",
     "output_type": "stream",
     "text": [
      "(19974,)\n",
      "(19960,)\n"
     ]
    }
   ],
   "source": [
    "print urls_pred.shape\n",
    "print titles_pred.shape"
   ]
  },
  {
   "cell_type": "code",
   "execution_count": null,
   "metadata": {
    "collapsed": true
   },
   "outputs": [],
   "source": []
  },
  {
   "cell_type": "code",
   "execution_count": null,
   "metadata": {
    "collapsed": true
   },
   "outputs": [],
   "source": []
  },
  {
   "cell_type": "code",
   "execution_count": 94,
   "metadata": {
    "collapsed": true
   },
   "outputs": [],
   "source": [
    "TEST_URLS['age'] = urls_pred"
   ]
  },
  {
   "cell_type": "code",
   "execution_count": 95,
   "metadata": {
    "collapsed": false
   },
   "outputs": [],
   "source": [
    "TEST_URLS = TEST_URLS[['id', 'age']]\n",
    "TEST_URLS.columns = ['Id', 'age']"
   ]
  },
  {
   "cell_type": "code",
   "execution_count": 96,
   "metadata": {
    "collapsed": false
   },
   "outputs": [],
   "source": [
    "mean_array = TEST_URLS.age.mean()"
   ]
  },
  {
   "cell_type": "code",
   "execution_count": 97,
   "metadata": {
    "collapsed": false
   },
   "outputs": [
    {
     "data": {
      "text/plain": [
       "37.937767259367305"
      ]
     },
     "execution_count": 97,
     "metadata": {},
     "output_type": "execute_result"
    }
   ],
   "source": [
    "mean_array"
   ]
  },
  {
   "cell_type": "code",
   "execution_count": 98,
   "metadata": {
    "collapsed": false
   },
   "outputs": [
    {
     "data": {
      "text/html": [
       "<div>\n",
       "<table border=\"1\" class=\"dataframe\">\n",
       "  <thead>\n",
       "    <tr style=\"text-align: right;\">\n",
       "      <th></th>\n",
       "      <th>Id</th>\n",
       "      <th>age</th>\n",
       "    </tr>\n",
       "  </thead>\n",
       "  <tbody>\n",
       "    <tr>\n",
       "      <th>0</th>\n",
       "      <td>000000014A02348E701552980349FF01</td>\n",
       "      <td>40.647063</td>\n",
       "    </tr>\n",
       "    <tr>\n",
       "      <th>1</th>\n",
       "      <td>000000014A10EA183BF8594A0B2AB201</td>\n",
       "      <td>42.375781</td>\n",
       "    </tr>\n",
       "    <tr>\n",
       "      <th>2</th>\n",
       "      <td>000000014A4FE5C33A929D4C26943601</td>\n",
       "      <td>44.362142</td>\n",
       "    </tr>\n",
       "    <tr>\n",
       "      <th>3</th>\n",
       "      <td>000000014B7BB9957784A9BC0AC9F401</td>\n",
       "      <td>33.832962</td>\n",
       "    </tr>\n",
       "    <tr>\n",
       "      <th>4</th>\n",
       "      <td>000000014C7749F896D82C2B01E8B801</td>\n",
       "      <td>39.507316</td>\n",
       "    </tr>\n",
       "  </tbody>\n",
       "</table>\n",
       "</div>"
      ],
      "text/plain": [
       "                                 Id        age\n",
       "0  000000014A02348E701552980349FF01  40.647063\n",
       "1  000000014A10EA183BF8594A0B2AB201  42.375781\n",
       "2  000000014A4FE5C33A929D4C26943601  44.362142\n",
       "3  000000014B7BB9957784A9BC0AC9F401  33.832962\n",
       "4  000000014C7749F896D82C2B01E8B801  39.507316"
      ]
     },
     "execution_count": 98,
     "metadata": {},
     "output_type": "execute_result"
    }
   ],
   "source": [
    "TEST_URLS.head()"
   ]
  },
  {
   "cell_type": "code",
   "execution_count": null,
   "metadata": {
    "collapsed": true
   },
   "outputs": [],
   "source": []
  },
  {
   "cell_type": "code",
   "execution_count": null,
   "metadata": {
    "collapsed": true
   },
   "outputs": [],
   "source": []
  },
  {
   "cell_type": "code",
   "execution_count": null,
   "metadata": {
    "collapsed": true
   },
   "outputs": [],
   "source": []
  },
  {
   "cell_type": "code",
   "execution_count": 99,
   "metadata": {
    "collapsed": false
   },
   "outputs": [
    {
     "data": {
      "text/plain": [
       "array([ 37.93776726,  37.93776726,  37.93776726,  37.93776726,\n",
       "        37.93776726,  37.93776726,  37.93776726,  37.93776726,\n",
       "        37.93776726,  37.93776726])"
      ]
     },
     "execution_count": 99,
     "metadata": {},
     "output_type": "execute_result"
    }
   ],
   "source": [
    "mean_array*np.ones(10)"
   ]
  },
  {
   "cell_type": "code",
   "execution_count": 100,
   "metadata": {
    "collapsed": false
   },
   "outputs": [
    {
     "data": {
      "text/html": [
       "<div>\n",
       "<table border=\"1\" class=\"dataframe\">\n",
       "  <thead>\n",
       "    <tr style=\"text-align: right;\">\n",
       "      <th></th>\n",
       "      <th>Id</th>\n",
       "      <th>age</th>\n",
       "    </tr>\n",
       "  </thead>\n",
       "  <tbody>\n",
       "    <tr>\n",
       "      <th>0</th>\n",
       "      <td>000000014A02348E701552980349FF01</td>\n",
       "      <td>36.04347</td>\n",
       "    </tr>\n",
       "    <tr>\n",
       "      <th>1</th>\n",
       "      <td>000000014A10EA183BF8594A0B2AB201</td>\n",
       "      <td>36.04347</td>\n",
       "    </tr>\n",
       "    <tr>\n",
       "      <th>2</th>\n",
       "      <td>000000014A4FE5C33A929D4C26943601</td>\n",
       "      <td>36.04347</td>\n",
       "    </tr>\n",
       "    <tr>\n",
       "      <th>3</th>\n",
       "      <td>000000014B7BB9957784A9BC0AC9F401</td>\n",
       "      <td>36.04347</td>\n",
       "    </tr>\n",
       "    <tr>\n",
       "      <th>4</th>\n",
       "      <td>000000014C7749F896D82C2B01E8B801</td>\n",
       "      <td>36.04347</td>\n",
       "    </tr>\n",
       "  </tbody>\n",
       "</table>\n",
       "</div>"
      ],
      "text/plain": [
       "                                 Id       age\n",
       "0  000000014A02348E701552980349FF01  36.04347\n",
       "1  000000014A10EA183BF8594A0B2AB201  36.04347\n",
       "2  000000014A4FE5C33A929D4C26943601  36.04347\n",
       "3  000000014B7BB9957784A9BC0AC9F401  36.04347\n",
       "4  000000014C7749F896D82C2B01E8B801  36.04347"
      ]
     },
     "execution_count": 100,
     "metadata": {},
     "output_type": "execute_result"
    }
   ],
   "source": [
    "random_sol = pd.read_csv('data/sample_submission.csv')\n",
    "random_sol.head()"
   ]
  },
  {
   "cell_type": "code",
   "execution_count": 101,
   "metadata": {
    "collapsed": false
   },
   "outputs": [],
   "source": [
    "miss_idx = set(random_sol.Id.values) - set(TEST_URLS.Id.values)\n",
    "miss_df = pd.DataFrame(zip(list(miss_idx), mean_array*np.ones(len(miss_idx))))\n",
    "miss_df.columns = ['Id', 'age']"
   ]
  },
  {
   "cell_type": "code",
   "execution_count": 102,
   "metadata": {
    "collapsed": false
   },
   "outputs": [],
   "source": [
    "TEST_URLS = TEST_URLS.append(miss_df, ignore_index=True)"
   ]
  },
  {
   "cell_type": "code",
   "execution_count": null,
   "metadata": {
    "collapsed": true
   },
   "outputs": [],
   "source": []
  },
  {
   "cell_type": "code",
   "execution_count": 116,
   "metadata": {
    "collapsed": false
   },
   "outputs": [
    {
     "data": {
      "text/plain": [
       "array([ 40.64706285,  42.37578091,  44.36214191, ...,  35.65001423,\n",
       "        35.75656319,  38.389404  ])"
      ]
     },
     "execution_count": 116,
     "metadata": {},
     "output_type": "execute_result"
    }
   ],
   "source": [
    "urls_pred"
   ]
  },
  {
   "cell_type": "code",
   "execution_count": 117,
   "metadata": {
    "collapsed": false
   },
   "outputs": [
    {
     "data": {
      "text/plain": [
       "array([ 39.21377511,  38.75144059,  34.34612484, ...,  29.9630085 ,\n",
       "        38.61773698,  36.34510389])"
      ]
     },
     "execution_count": 117,
     "metadata": {},
     "output_type": "execute_result"
    }
   ],
   "source": [
    "titles_pred"
   ]
  },
  {
   "cell_type": "code",
   "execution_count": null,
   "metadata": {
    "collapsed": true
   },
   "outputs": [],
   "source": []
  },
  {
   "cell_type": "code",
   "execution_count": null,
   "metadata": {
    "collapsed": true
   },
   "outputs": [],
   "source": []
  },
  {
   "cell_type": "code",
   "execution_count": null,
   "metadata": {
    "collapsed": true
   },
   "outputs": [],
   "source": []
  },
  {
   "cell_type": "code",
   "execution_count": null,
   "metadata": {
    "collapsed": true
   },
   "outputs": [],
   "source": []
  },
  {
   "cell_type": "code",
   "execution_count": 118,
   "metadata": {
    "collapsed": true
   },
   "outputs": [],
   "source": [
    "mean_array = UNIFY_TEST.age.mean()"
   ]
  },
  {
   "cell_type": "code",
   "execution_count": null,
   "metadata": {
    "collapsed": true
   },
   "outputs": [],
   "source": []
  },
  {
   "cell_type": "code",
   "execution_count": null,
   "metadata": {
    "collapsed": true
   },
   "outputs": [],
   "source": []
  },
  {
   "cell_type": "code",
   "execution_count": 103,
   "metadata": {
    "collapsed": true
   },
   "outputs": [],
   "source": [
    "UNIFY_TEST['age'] = titles_pred"
   ]
  },
  {
   "cell_type": "code",
   "execution_count": 104,
   "metadata": {
    "collapsed": true
   },
   "outputs": [],
   "source": [
    "UNIFY_TEST = UNIFY_TEST[['id', 'age']]\n",
    "UNIFY_TEST.columns = ['Id', 'age']"
   ]
  },
  {
   "cell_type": "code",
   "execution_count": 106,
   "metadata": {
    "collapsed": true
   },
   "outputs": [],
   "source": [
    "miss_idx = set(random_sol.Id.values) - set(UNIFY_TEST.Id.values)\n",
    "miss_df = pd.DataFrame(zip(list(miss_idx), mean_array*np.ones(len(miss_idx))))\n",
    "miss_df.columns = ['Id', 'age']"
   ]
  },
  {
   "cell_type": "code",
   "execution_count": 107,
   "metadata": {
    "collapsed": true
   },
   "outputs": [],
   "source": [
    "UNIFY_TEST = UNIFY_TEST.append(miss_df, ignore_index=True)"
   ]
  },
  {
   "cell_type": "code",
   "execution_count": 108,
   "metadata": {
    "collapsed": false
   },
   "outputs": [
    {
     "name": "stdout",
     "output_type": "stream",
     "text": [
      "(19979, 2)\n",
      "(19979, 2)\n"
     ]
    }
   ],
   "source": [
    "print UNIFY_TEST.shape\n",
    "print TEST_URLS.shape"
   ]
  },
  {
   "cell_type": "code",
   "execution_count": null,
   "metadata": {
    "collapsed": true
   },
   "outputs": [],
   "source": []
  },
  {
   "cell_type": "code",
   "execution_count": 109,
   "metadata": {
    "collapsed": true
   },
   "outputs": [],
   "source": [
    "TEST = TEST_URLS.copy()"
   ]
  },
  {
   "cell_type": "code",
   "execution_count": null,
   "metadata": {
    "collapsed": true
   },
   "outputs": [],
   "source": []
  },
  {
   "cell_type": "code",
   "execution_count": 127,
   "metadata": {
    "collapsed": false
   },
   "outputs": [],
   "source": [
    "TEST['age'] = TEST_URLS['age']"
   ]
  },
  {
   "cell_type": "code",
   "execution_count": 128,
   "metadata": {
    "collapsed": false
   },
   "outputs": [
    {
     "data": {
      "text/html": [
       "<div>\n",
       "<table border=\"1\" class=\"dataframe\">\n",
       "  <thead>\n",
       "    <tr style=\"text-align: right;\">\n",
       "      <th></th>\n",
       "      <th>Id</th>\n",
       "      <th>age</th>\n",
       "    </tr>\n",
       "  </thead>\n",
       "  <tbody>\n",
       "    <tr>\n",
       "      <th>0</th>\n",
       "      <td>000000014A02348E701552980349FF01</td>\n",
       "      <td>40.647063</td>\n",
       "    </tr>\n",
       "    <tr>\n",
       "      <th>1</th>\n",
       "      <td>000000014A10EA183BF8594A0B2AB201</td>\n",
       "      <td>42.375781</td>\n",
       "    </tr>\n",
       "    <tr>\n",
       "      <th>2</th>\n",
       "      <td>000000014A4FE5C33A929D4C26943601</td>\n",
       "      <td>44.362142</td>\n",
       "    </tr>\n",
       "    <tr>\n",
       "      <th>3</th>\n",
       "      <td>000000014B7BB9957784A9BC0AC9F401</td>\n",
       "      <td>33.832962</td>\n",
       "    </tr>\n",
       "    <tr>\n",
       "      <th>4</th>\n",
       "      <td>000000014C7749F896D82C2B01E8B801</td>\n",
       "      <td>39.507316</td>\n",
       "    </tr>\n",
       "  </tbody>\n",
       "</table>\n",
       "</div>"
      ],
      "text/plain": [
       "                                 Id        age\n",
       "0  000000014A02348E701552980349FF01  40.647063\n",
       "1  000000014A10EA183BF8594A0B2AB201  42.375781\n",
       "2  000000014A4FE5C33A929D4C26943601  44.362142\n",
       "3  000000014B7BB9957784A9BC0AC9F401  33.832962\n",
       "4  000000014C7749F896D82C2B01E8B801  39.507316"
      ]
     },
     "execution_count": 128,
     "metadata": {},
     "output_type": "execute_result"
    }
   ],
   "source": [
    "TEST.head()"
   ]
  },
  {
   "cell_type": "code",
   "execution_count": null,
   "metadata": {
    "collapsed": true
   },
   "outputs": [],
   "source": []
  },
  {
   "cell_type": "code",
   "execution_count": null,
   "metadata": {
    "collapsed": true
   },
   "outputs": [],
   "source": []
  },
  {
   "cell_type": "code",
   "execution_count": 129,
   "metadata": {
    "collapsed": true
   },
   "outputs": [],
   "source": [
    "TEST.to_csv('my_solution.csv', index=False)"
   ]
  },
  {
   "cell_type": "code",
   "execution_count": 130,
   "metadata": {
    "collapsed": false
   },
   "outputs": [
    {
     "data": {
      "text/plain": [
       "(19979, 2)"
      ]
     },
     "execution_count": 130,
     "metadata": {},
     "output_type": "execute_result"
    }
   ],
   "source": [
    "TEST.shape"
   ]
  },
  {
   "cell_type": "code",
   "execution_count": 126,
   "metadata": {
    "collapsed": false
   },
   "outputs": [
    {
     "name": "stdout",
     "output_type": "stream",
     "text": [
      "(613388, 4)\n",
      "(19979, 2)\n"
     ]
    }
   ],
   "source": [
    "print urls_test_df.shape\n",
    "print TEST_URLS.shape"
   ]
  },
  {
   "cell_type": "code",
   "execution_count": null,
   "metadata": {
    "collapsed": false
   },
   "outputs": [],
   "source": [
    "print urls_test_df.id.nunique()\n",
    "print TEST_URLS.id.nunique()"
   ]
  },
  {
   "cell_type": "code",
   "execution_count": null,
   "metadata": {
    "collapsed": true
   },
   "outputs": [],
   "source": []
  }
 ],
 "metadata": {
  "anaconda-cloud": {},
  "kernelspec": {
   "display_name": "Python [conda root]",
   "language": "python",
   "name": "conda-root-py"
  },
  "language_info": {
   "codemirror_mode": {
    "name": "ipython",
    "version": 2
   },
   "file_extension": ".py",
   "mimetype": "text/x-python",
   "name": "python",
   "nbconvert_exporter": "python",
   "pygments_lexer": "ipython2",
   "version": "2.7.12"
  }
 },
 "nbformat": 4,
 "nbformat_minor": 1
}
