{
 "cells": [
  {
   "cell_type": "code",
   "execution_count": 1,
   "metadata": {
    "collapsed": false
   },
   "outputs": [
    {
     "name": "stderr",
     "output_type": "stream",
     "text": [
      "/Users/Roman/anaconda/lib/python2.7/site-packages/sklearn/cross_validation.py:44: DeprecationWarning: This module was deprecated in version 0.18 in favor of the model_selection module into which all the refactored classes and functions are moved. Also note that the interface of the new CV iterators are different from that of this module. This module will be removed in 0.20.\n",
      "  \"This module will be removed in 0.20.\", DeprecationWarning)\n",
      "/Users/Roman/anaconda/lib/python2.7/site-packages/sklearn/grid_search.py:43: DeprecationWarning: This module was deprecated in version 0.18 in favor of the model_selection module into which all the refactored classes and functions are moved. This module will be removed in 0.20.\n",
      "  DeprecationWarning)\n"
     ]
    }
   ],
   "source": [
    "import numpy as np # calculations with arrays\n",
    "import pandas as pd # user-friendly DataFrames for data representation\n",
    "import sklearn # machine learning algorithms\n",
    "from sklearn import ensemble, linear_model, cross_validation, grid_search\n",
    "from sklearn.metrics import log_loss\n",
    "from sklearn.preprocessing import StandardScaler\n",
    "from sklearn.preprocessing import OneHotEncoder\n",
    "from sklearn.feature_extraction import DictVectorizer as DV\n",
    "import xgboost as xgboost\n",
    "import matplotlib.pyplot as plt # import plot functions\n",
    "# necessary to plot in jupyter notebook:\n",
    "%matplotlib inline\n",
    "import seaborn as sns # make plots beautiful"
   ]
  },
  {
   "cell_type": "code",
   "execution_count": 2,
   "metadata": {
    "collapsed": false
   },
   "outputs": [
    {
     "data": {
      "text/html": [
       "<div>\n",
       "<table border=\"1\" class=\"dataframe\">\n",
       "  <thead>\n",
       "    <tr style=\"text-align: right;\">\n",
       "      <th></th>\n",
       "      <th>customer_id</th>\n",
       "      <th>gender</th>\n",
       "    </tr>\n",
       "  </thead>\n",
       "  <tbody>\n",
       "    <tr>\n",
       "      <th>0</th>\n",
       "      <td>75562265</td>\n",
       "      <td>0</td>\n",
       "    </tr>\n",
       "    <tr>\n",
       "      <th>1</th>\n",
       "      <td>10928546</td>\n",
       "      <td>1</td>\n",
       "    </tr>\n",
       "  </tbody>\n",
       "</table>\n",
       "</div>"
      ],
      "text/plain": [
       "   customer_id  gender\n",
       "0     75562265       0\n",
       "1     10928546       1"
      ]
     },
     "execution_count": 2,
     "metadata": {},
     "output_type": "execute_result"
    }
   ],
   "source": [
    "customers_gender = pd.read_csv('customers_gender_train.csv')\n",
    "customers_gender.head(2)"
   ]
  },
  {
   "cell_type": "code",
   "execution_count": 3,
   "metadata": {
    "collapsed": false
   },
   "outputs": [
    {
     "data": {
      "text/html": [
       "<div>\n",
       "<table border=\"1\" class=\"dataframe\">\n",
       "  <thead>\n",
       "    <tr style=\"text-align: right;\">\n",
       "      <th></th>\n",
       "      <th>mcc_code</th>\n",
       "      <th>mcc_description</th>\n",
       "    </tr>\n",
       "  </thead>\n",
       "  <tbody>\n",
       "    <tr>\n",
       "      <th>0</th>\n",
       "      <td>742</td>\n",
       "      <td>Ветеринарные услуги</td>\n",
       "    </tr>\n",
       "    <tr>\n",
       "      <th>1</th>\n",
       "      <td>1711</td>\n",
       "      <td>Генеральные подрядчики по вентиляции, теплосна...</td>\n",
       "    </tr>\n",
       "    <tr>\n",
       "      <th>2</th>\n",
       "      <td>1731</td>\n",
       "      <td>Подрядчики по электричеству</td>\n",
       "    </tr>\n",
       "    <tr>\n",
       "      <th>3</th>\n",
       "      <td>1799</td>\n",
       "      <td>Подрядчики, специализированная торговля — нигд...</td>\n",
       "    </tr>\n",
       "    <tr>\n",
       "      <th>4</th>\n",
       "      <td>2741</td>\n",
       "      <td>Разнообразные издательства/печатное дело</td>\n",
       "    </tr>\n",
       "  </tbody>\n",
       "</table>\n",
       "</div>"
      ],
      "text/plain": [
       "   mcc_code                                    mcc_description\n",
       "0       742                                Ветеринарные услуги\n",
       "1      1711  Генеральные подрядчики по вентиляции, теплосна...\n",
       "2      1731                        Подрядчики по электричеству\n",
       "3      1799  Подрядчики, специализированная торговля — нигд...\n",
       "4      2741           Разнообразные издательства/печатное дело"
      ]
     },
     "execution_count": 3,
     "metadata": {},
     "output_type": "execute_result"
    }
   ],
   "source": [
    "tr_mcc_codes = pd.read_csv('tr_mcc_codes.csv', sep=';')\n",
    "tr_mcc_codes.head(5)"
   ]
  },
  {
   "cell_type": "code",
   "execution_count": 4,
   "metadata": {
    "collapsed": false
   },
   "outputs": [
    {
     "name": "stdout",
     "output_type": "stream",
     "text": [
      "184\n"
     ]
    },
    {
     "data": {
      "text/plain": [
       "array([ 742, 1711, 1731, 1799, 2741, 3000, 3351, 3501, 4111, 4112, 4121,\n",
       "       4131, 4214, 4215, 4411, 4511, 4722, 4784, 4789, 4812, 4814, 4816,\n",
       "       4829, 4899, 4900, 5013, 5039, 5044, 5045, 5047, 5065, 5072, 5074,\n",
       "       5085, 5094, 5099, 5111, 5122, 5131, 5137, 5169, 5172, 5192, 5193,\n",
       "       5199, 5200, 5211, 5231, 5251, 5261, 5300, 5309, 5310, 5311, 5331,\n",
       "       5399, 5411, 5422, 5441, 5451, 5462, 5499, 5511, 5532, 5533, 5541,\n",
       "       5542, 5571, 5599, 5611, 5621, 5631, 5641, 5651, 5655, 5661, 5681,\n",
       "       5691, 5697, 5699, 5712, 5713, 5714, 5719, 5722, 5732, 5733, 5734,\n",
       "       5735, 5811, 5812, 5813, 5814, 5816, 5912, 5921, 5931, 5940, 5941,\n",
       "       5942, 5943, 5944, 5945, 5946, 5947, 5948, 5949, 5950, 5964, 5965,\n",
       "       5967, 5968, 5969, 5970, 5971, 5976, 5977, 5983, 5992, 5993, 5994,\n",
       "       5995, 5999, 6010, 6011, 6012, 6051, 6211, 6300, 6513, 6536, 7011,\n",
       "       7210, 7216, 7221, 7230, 7273, 7278, 7298, 7299, 7311, 7338, 7372,\n",
       "       7375, 7395, 7399, 7512, 7523, 7531, 7538, 7542, 7629, 7699, 7829,\n",
       "       7832, 7841, 7922, 7932, 7933, 7991, 7993, 7994, 7995, 7996, 7997,\n",
       "       7999, 8011, 8021, 8043, 8062, 8071, 8099, 8220, 8244, 8299, 8398,\n",
       "       8641, 8699, 8999, 9211, 9222, 9311, 9399, 9402])"
      ]
     },
     "execution_count": 4,
     "metadata": {},
     "output_type": "execute_result"
    }
   ],
   "source": [
    "print len(tr_mcc_codes.mcc_code.unique())\n",
    "tr_mcc_codes.mcc_code.unique()"
   ]
  },
  {
   "cell_type": "code",
   "execution_count": 5,
   "metadata": {
    "collapsed": false
   },
   "outputs": [],
   "source": [
    "transactions = pd.read_csv('transactions.csv')"
   ]
  },
  {
   "cell_type": "code",
   "execution_count": 6,
   "metadata": {
    "collapsed": false
   },
   "outputs": [
    {
     "data": {
      "text/html": [
       "<div>\n",
       "<table border=\"1\" class=\"dataframe\">\n",
       "  <thead>\n",
       "    <tr style=\"text-align: right;\">\n",
       "      <th></th>\n",
       "      <th>customer_id</th>\n",
       "      <th>tr_datetime</th>\n",
       "      <th>mcc_code</th>\n",
       "      <th>tr_type</th>\n",
       "      <th>amount</th>\n",
       "      <th>term_id</th>\n",
       "    </tr>\n",
       "  </thead>\n",
       "  <tbody>\n",
       "    <tr>\n",
       "      <th>0</th>\n",
       "      <td>39026145</td>\n",
       "      <td>0 10:23:26</td>\n",
       "      <td>4814</td>\n",
       "      <td>1030</td>\n",
       "      <td>-2245.92</td>\n",
       "      <td>NaN</td>\n",
       "    </tr>\n",
       "    <tr>\n",
       "      <th>1</th>\n",
       "      <td>39026145</td>\n",
       "      <td>1 10:19:29</td>\n",
       "      <td>6011</td>\n",
       "      <td>7010</td>\n",
       "      <td>56147.89</td>\n",
       "      <td>NaN</td>\n",
       "    </tr>\n",
       "  </tbody>\n",
       "</table>\n",
       "</div>"
      ],
      "text/plain": [
       "   customer_id tr_datetime  mcc_code  tr_type    amount term_id\n",
       "0     39026145  0 10:23:26      4814     1030  -2245.92     NaN\n",
       "1     39026145  1 10:19:29      6011     7010  56147.89     NaN"
      ]
     },
     "execution_count": 6,
     "metadata": {},
     "output_type": "execute_result"
    }
   ],
   "source": [
    "transactions.head(2)"
   ]
  },
  {
   "cell_type": "code",
   "execution_count": 7,
   "metadata": {
    "collapsed": false
   },
   "outputs": [
    {
     "data": {
      "text/html": [
       "<div>\n",
       "<table border=\"1\" class=\"dataframe\">\n",
       "  <thead>\n",
       "    <tr style=\"text-align: right;\">\n",
       "      <th></th>\n",
       "      <th>tr_type</th>\n",
       "      <th>tr_description</th>\n",
       "    </tr>\n",
       "  </thead>\n",
       "  <tbody>\n",
       "    <tr>\n",
       "      <th>0</th>\n",
       "      <td>3200</td>\n",
       "      <td>Плата за предоставление услуг посредством моби...</td>\n",
       "    </tr>\n",
       "    <tr>\n",
       "      <th>1</th>\n",
       "      <td>3210</td>\n",
       "      <td>Плата за предоставление отчета по счету карты ...</td>\n",
       "    </tr>\n",
       "    <tr>\n",
       "      <th>2</th>\n",
       "      <td>3800</td>\n",
       "      <td>Плата за обслуживание банковской карты (за пер...</td>\n",
       "    </tr>\n",
       "    <tr>\n",
       "      <th>3</th>\n",
       "      <td>4000</td>\n",
       "      <td>Плата за получение наличных в Сбербанке</td>\n",
       "    </tr>\n",
       "    <tr>\n",
       "      <th>4</th>\n",
       "      <td>4001</td>\n",
       "      <td>Плата за получение наличных в Сбербанке (в дру...</td>\n",
       "    </tr>\n",
       "  </tbody>\n",
       "</table>\n",
       "</div>"
      ],
      "text/plain": [
       "   tr_type                                     tr_description\n",
       "0     3200  Плата за предоставление услуг посредством моби...\n",
       "1     3210  Плата за предоставление отчета по счету карты ...\n",
       "2     3800  Плата за обслуживание банковской карты (за пер...\n",
       "3     4000            Плата за получение наличных в Сбербанке\n",
       "4     4001  Плата за получение наличных в Сбербанке (в дру..."
      ]
     },
     "execution_count": 7,
     "metadata": {},
     "output_type": "execute_result"
    }
   ],
   "source": [
    "tr_type = pd.read_csv('tr_types.csv', sep=';')\n",
    "tr_type.head(5)"
   ]
  },
  {
   "cell_type": "markdown",
   "metadata": {},
   "source": [
    "# фичиинжиниринг "
   ]
  },
  {
   "cell_type": "code",
   "execution_count": null,
   "metadata": {
    "collapsed": true
   },
   "outputs": [],
   "source": []
  },
  {
   "cell_type": "code",
   "execution_count": 8,
   "metadata": {
    "collapsed": true
   },
   "outputs": [],
   "source": [
    "customer_id_and_mcc_codes = transactions.groupby('customer_id') \\\n",
    "                    .apply(lambda x: x[['mcc_code']].unstack().value_counts()) \\\n",
    "                    .unstack() \\\n",
    "                    .fillna(0)"
   ]
  },
  {
   "cell_type": "code",
   "execution_count": 9,
   "metadata": {
    "collapsed": false
   },
   "outputs": [
    {
     "data": {
      "text/html": [
       "<div>\n",
       "<table border=\"1\" class=\"dataframe\">\n",
       "  <thead>\n",
       "    <tr style=\"text-align: right;\">\n",
       "      <th></th>\n",
       "      <th>742</th>\n",
       "      <th>1711</th>\n",
       "      <th>1731</th>\n",
       "      <th>1799</th>\n",
       "      <th>2741</th>\n",
       "      <th>3000</th>\n",
       "      <th>3351</th>\n",
       "      <th>3501</th>\n",
       "      <th>4111</th>\n",
       "      <th>4112</th>\n",
       "      <th>...</th>\n",
       "      <th>8299</th>\n",
       "      <th>8398</th>\n",
       "      <th>8641</th>\n",
       "      <th>8699</th>\n",
       "      <th>8999</th>\n",
       "      <th>9211</th>\n",
       "      <th>9222</th>\n",
       "      <th>9311</th>\n",
       "      <th>9399</th>\n",
       "      <th>9402</th>\n",
       "    </tr>\n",
       "    <tr>\n",
       "      <th>customer_id</th>\n",
       "      <th></th>\n",
       "      <th></th>\n",
       "      <th></th>\n",
       "      <th></th>\n",
       "      <th></th>\n",
       "      <th></th>\n",
       "      <th></th>\n",
       "      <th></th>\n",
       "      <th></th>\n",
       "      <th></th>\n",
       "      <th></th>\n",
       "      <th></th>\n",
       "      <th></th>\n",
       "      <th></th>\n",
       "      <th></th>\n",
       "      <th></th>\n",
       "      <th></th>\n",
       "      <th></th>\n",
       "      <th></th>\n",
       "      <th></th>\n",
       "      <th></th>\n",
       "    </tr>\n",
       "  </thead>\n",
       "  <tbody>\n",
       "    <tr>\n",
       "      <th>6815</th>\n",
       "      <td>0.0</td>\n",
       "      <td>0.0</td>\n",
       "      <td>0.0</td>\n",
       "      <td>0.0</td>\n",
       "      <td>0.0</td>\n",
       "      <td>0.0</td>\n",
       "      <td>0.0</td>\n",
       "      <td>0.0</td>\n",
       "      <td>0.0</td>\n",
       "      <td>0.0</td>\n",
       "      <td>...</td>\n",
       "      <td>0.0</td>\n",
       "      <td>0.0</td>\n",
       "      <td>0.0</td>\n",
       "      <td>0.0</td>\n",
       "      <td>0.0</td>\n",
       "      <td>0.0</td>\n",
       "      <td>0.0</td>\n",
       "      <td>0.0</td>\n",
       "      <td>0.0</td>\n",
       "      <td>0.0</td>\n",
       "    </tr>\n",
       "    <tr>\n",
       "      <th>22899</th>\n",
       "      <td>0.0</td>\n",
       "      <td>0.0</td>\n",
       "      <td>0.0</td>\n",
       "      <td>0.0</td>\n",
       "      <td>0.0</td>\n",
       "      <td>0.0</td>\n",
       "      <td>0.0</td>\n",
       "      <td>0.0</td>\n",
       "      <td>0.0</td>\n",
       "      <td>0.0</td>\n",
       "      <td>...</td>\n",
       "      <td>0.0</td>\n",
       "      <td>0.0</td>\n",
       "      <td>0.0</td>\n",
       "      <td>0.0</td>\n",
       "      <td>0.0</td>\n",
       "      <td>0.0</td>\n",
       "      <td>0.0</td>\n",
       "      <td>0.0</td>\n",
       "      <td>0.0</td>\n",
       "      <td>0.0</td>\n",
       "    </tr>\n",
       "    <tr>\n",
       "      <th>27914</th>\n",
       "      <td>0.0</td>\n",
       "      <td>0.0</td>\n",
       "      <td>0.0</td>\n",
       "      <td>0.0</td>\n",
       "      <td>0.0</td>\n",
       "      <td>0.0</td>\n",
       "      <td>0.0</td>\n",
       "      <td>0.0</td>\n",
       "      <td>0.0</td>\n",
       "      <td>0.0</td>\n",
       "      <td>...</td>\n",
       "      <td>0.0</td>\n",
       "      <td>0.0</td>\n",
       "      <td>0.0</td>\n",
       "      <td>0.0</td>\n",
       "      <td>0.0</td>\n",
       "      <td>0.0</td>\n",
       "      <td>0.0</td>\n",
       "      <td>0.0</td>\n",
       "      <td>0.0</td>\n",
       "      <td>0.0</td>\n",
       "    </tr>\n",
       "    <tr>\n",
       "      <th>28753</th>\n",
       "      <td>0.0</td>\n",
       "      <td>0.0</td>\n",
       "      <td>0.0</td>\n",
       "      <td>0.0</td>\n",
       "      <td>0.0</td>\n",
       "      <td>0.0</td>\n",
       "      <td>0.0</td>\n",
       "      <td>0.0</td>\n",
       "      <td>0.0</td>\n",
       "      <td>0.0</td>\n",
       "      <td>...</td>\n",
       "      <td>0.0</td>\n",
       "      <td>0.0</td>\n",
       "      <td>0.0</td>\n",
       "      <td>0.0</td>\n",
       "      <td>2.0</td>\n",
       "      <td>0.0</td>\n",
       "      <td>0.0</td>\n",
       "      <td>0.0</td>\n",
       "      <td>0.0</td>\n",
       "      <td>0.0</td>\n",
       "    </tr>\n",
       "    <tr>\n",
       "      <th>31385</th>\n",
       "      <td>0.0</td>\n",
       "      <td>0.0</td>\n",
       "      <td>0.0</td>\n",
       "      <td>0.0</td>\n",
       "      <td>0.0</td>\n",
       "      <td>0.0</td>\n",
       "      <td>0.0</td>\n",
       "      <td>0.0</td>\n",
       "      <td>0.0</td>\n",
       "      <td>0.0</td>\n",
       "      <td>...</td>\n",
       "      <td>0.0</td>\n",
       "      <td>0.0</td>\n",
       "      <td>0.0</td>\n",
       "      <td>0.0</td>\n",
       "      <td>0.0</td>\n",
       "      <td>0.0</td>\n",
       "      <td>0.0</td>\n",
       "      <td>0.0</td>\n",
       "      <td>0.0</td>\n",
       "      <td>0.0</td>\n",
       "    </tr>\n",
       "  </tbody>\n",
       "</table>\n",
       "<p>5 rows × 184 columns</p>\n",
       "</div>"
      ],
      "text/plain": [
       "             742   1711  1731  1799  2741  3000  3351  3501  4111  4112  ...   \\\n",
       "customer_id                                                              ...    \n",
       "6815          0.0   0.0   0.0   0.0   0.0   0.0   0.0   0.0   0.0   0.0  ...    \n",
       "22899         0.0   0.0   0.0   0.0   0.0   0.0   0.0   0.0   0.0   0.0  ...    \n",
       "27914         0.0   0.0   0.0   0.0   0.0   0.0   0.0   0.0   0.0   0.0  ...    \n",
       "28753         0.0   0.0   0.0   0.0   0.0   0.0   0.0   0.0   0.0   0.0  ...    \n",
       "31385         0.0   0.0   0.0   0.0   0.0   0.0   0.0   0.0   0.0   0.0  ...    \n",
       "\n",
       "             8299  8398  8641  8699  8999  9211  9222  9311  9399  9402  \n",
       "customer_id                                                              \n",
       "6815          0.0   0.0   0.0   0.0   0.0   0.0   0.0   0.0   0.0   0.0  \n",
       "22899         0.0   0.0   0.0   0.0   0.0   0.0   0.0   0.0   0.0   0.0  \n",
       "27914         0.0   0.0   0.0   0.0   0.0   0.0   0.0   0.0   0.0   0.0  \n",
       "28753         0.0   0.0   0.0   0.0   2.0   0.0   0.0   0.0   0.0   0.0  \n",
       "31385         0.0   0.0   0.0   0.0   0.0   0.0   0.0   0.0   0.0   0.0  \n",
       "\n",
       "[5 rows x 184 columns]"
      ]
     },
     "execution_count": 9,
     "metadata": {},
     "output_type": "execute_result"
    }
   ],
   "source": [
    "customer_id_and_mcc_codes.head(5)"
   ]
  },
  {
   "cell_type": "code",
   "execution_count": 10,
   "metadata": {
    "collapsed": false
   },
   "outputs": [
    {
     "data": {
      "text/plain": [
       "(15000, 184)"
      ]
     },
     "execution_count": 10,
     "metadata": {},
     "output_type": "execute_result"
    }
   ],
   "source": [
    "customer_id_and_mcc_codes.shape"
   ]
  },
  {
   "cell_type": "code",
   "execution_count": null,
   "metadata": {
    "collapsed": true
   },
   "outputs": [],
   "source": []
  },
  {
   "cell_type": "code",
   "execution_count": null,
   "metadata": {
    "collapsed": true
   },
   "outputs": [],
   "source": []
  },
  {
   "cell_type": "code",
   "execution_count": 11,
   "metadata": {
    "collapsed": false
   },
   "outputs": [],
   "source": [
    "customer_id_mean_amount = transactions.groupby('customer_id') \\\n",
    "                    .apply(lambda x: x[['amount']].unstack().mean())  \\\n",
    "                    .fillna(0)"
   ]
  },
  {
   "cell_type": "code",
   "execution_count": 12,
   "metadata": {
    "collapsed": false
   },
   "outputs": [
    {
     "data": {
      "text/plain": [
       "customer_id\n",
       "6815     -5528.561372\n",
       "22899    -2691.438419\n",
       "27914   -26820.061441\n",
       "28753   -90293.479116\n",
       "31385    -5972.612548\n",
       "38084    -2069.954916\n",
       "42096    -5907.505855\n",
       "49101   -38776.769231\n",
       "49793   -47815.367700\n",
       "50940   -14489.383559\n",
       "52926     -481.620225\n",
       "53395     5920.972308\n",
       "70680   -27378.525765\n",
       "78659      177.146301\n",
       "81626   -15959.492961\n",
       "dtype: float64"
      ]
     },
     "execution_count": 12,
     "metadata": {},
     "output_type": "execute_result"
    }
   ],
   "source": [
    "customer_id_mean_amount.head(15)"
   ]
  },
  {
   "cell_type": "code",
   "execution_count": 13,
   "metadata": {
    "collapsed": false
   },
   "outputs": [
    {
     "data": {
      "text/plain": [
       "(15000,)"
      ]
     },
     "execution_count": 13,
     "metadata": {},
     "output_type": "execute_result"
    }
   ],
   "source": [
    "customer_id_mean_amount.shape"
   ]
  },
  {
   "cell_type": "code",
   "execution_count": null,
   "metadata": {
    "collapsed": true
   },
   "outputs": [],
   "source": []
  },
  {
   "cell_type": "code",
   "execution_count": null,
   "metadata": {
    "collapsed": true
   },
   "outputs": [],
   "source": []
  },
  {
   "cell_type": "code",
   "execution_count": null,
   "metadata": {
    "collapsed": true
   },
   "outputs": [],
   "source": []
  },
  {
   "cell_type": "code",
   "execution_count": 14,
   "metadata": {
    "collapsed": true
   },
   "outputs": [],
   "source": [
    "customer_id_and_tr_type = transactions.groupby('customer_id') \\\n",
    "                    .apply(lambda x: x[['tr_type']].unstack().value_counts()) \\\n",
    "                    .unstack() \\\n",
    "                    .fillna(0)"
   ]
  },
  {
   "cell_type": "code",
   "execution_count": 15,
   "metadata": {
    "collapsed": false
   },
   "outputs": [
    {
     "data": {
      "text/html": [
       "<div>\n",
       "<table border=\"1\" class=\"dataframe\">\n",
       "  <thead>\n",
       "    <tr style=\"text-align: right;\">\n",
       "      <th></th>\n",
       "      <th>1000</th>\n",
       "      <th>1010</th>\n",
       "      <th>1030</th>\n",
       "      <th>1100</th>\n",
       "      <th>1110</th>\n",
       "      <th>1200</th>\n",
       "      <th>1210</th>\n",
       "      <th>1310</th>\n",
       "      <th>1410</th>\n",
       "      <th>1510</th>\n",
       "      <th>...</th>\n",
       "      <th>7040</th>\n",
       "      <th>7041</th>\n",
       "      <th>7044</th>\n",
       "      <th>7070</th>\n",
       "      <th>7071</th>\n",
       "      <th>7074</th>\n",
       "      <th>7075</th>\n",
       "      <th>8100</th>\n",
       "      <th>8145</th>\n",
       "      <th>8146</th>\n",
       "    </tr>\n",
       "    <tr>\n",
       "      <th>customer_id</th>\n",
       "      <th></th>\n",
       "      <th></th>\n",
       "      <th></th>\n",
       "      <th></th>\n",
       "      <th></th>\n",
       "      <th></th>\n",
       "      <th></th>\n",
       "      <th></th>\n",
       "      <th></th>\n",
       "      <th></th>\n",
       "      <th></th>\n",
       "      <th></th>\n",
       "      <th></th>\n",
       "      <th></th>\n",
       "      <th></th>\n",
       "      <th></th>\n",
       "      <th></th>\n",
       "      <th></th>\n",
       "      <th></th>\n",
       "      <th></th>\n",
       "      <th></th>\n",
       "    </tr>\n",
       "  </thead>\n",
       "  <tbody>\n",
       "    <tr>\n",
       "      <th>6815</th>\n",
       "      <td>0.0</td>\n",
       "      <td>42.0</td>\n",
       "      <td>90.0</td>\n",
       "      <td>0.0</td>\n",
       "      <td>18.0</td>\n",
       "      <td>0.0</td>\n",
       "      <td>0.0</td>\n",
       "      <td>0.0</td>\n",
       "      <td>0.0</td>\n",
       "      <td>0.0</td>\n",
       "      <td>...</td>\n",
       "      <td>0.0</td>\n",
       "      <td>0.0</td>\n",
       "      <td>0.0</td>\n",
       "      <td>0.0</td>\n",
       "      <td>0.0</td>\n",
       "      <td>0.0</td>\n",
       "      <td>0.0</td>\n",
       "      <td>0.0</td>\n",
       "      <td>0.0</td>\n",
       "      <td>0.0</td>\n",
       "    </tr>\n",
       "    <tr>\n",
       "      <th>22899</th>\n",
       "      <td>0.0</td>\n",
       "      <td>6.0</td>\n",
       "      <td>47.0</td>\n",
       "      <td>0.0</td>\n",
       "      <td>27.0</td>\n",
       "      <td>1.0</td>\n",
       "      <td>0.0</td>\n",
       "      <td>0.0</td>\n",
       "      <td>0.0</td>\n",
       "      <td>0.0</td>\n",
       "      <td>...</td>\n",
       "      <td>0.0</td>\n",
       "      <td>0.0</td>\n",
       "      <td>0.0</td>\n",
       "      <td>9.0</td>\n",
       "      <td>3.0</td>\n",
       "      <td>0.0</td>\n",
       "      <td>1.0</td>\n",
       "      <td>0.0</td>\n",
       "      <td>0.0</td>\n",
       "      <td>0.0</td>\n",
       "    </tr>\n",
       "    <tr>\n",
       "      <th>27914</th>\n",
       "      <td>0.0</td>\n",
       "      <td>0.0</td>\n",
       "      <td>58.0</td>\n",
       "      <td>0.0</td>\n",
       "      <td>1.0</td>\n",
       "      <td>2.0</td>\n",
       "      <td>0.0</td>\n",
       "      <td>0.0</td>\n",
       "      <td>0.0</td>\n",
       "      <td>0.0</td>\n",
       "      <td>...</td>\n",
       "      <td>0.0</td>\n",
       "      <td>0.0</td>\n",
       "      <td>0.0</td>\n",
       "      <td>0.0</td>\n",
       "      <td>0.0</td>\n",
       "      <td>0.0</td>\n",
       "      <td>0.0</td>\n",
       "      <td>0.0</td>\n",
       "      <td>0.0</td>\n",
       "      <td>0.0</td>\n",
       "    </tr>\n",
       "    <tr>\n",
       "      <th>28753</th>\n",
       "      <td>0.0</td>\n",
       "      <td>89.0</td>\n",
       "      <td>25.0</td>\n",
       "      <td>3.0</td>\n",
       "      <td>65.0</td>\n",
       "      <td>0.0</td>\n",
       "      <td>0.0</td>\n",
       "      <td>0.0</td>\n",
       "      <td>0.0</td>\n",
       "      <td>0.0</td>\n",
       "      <td>...</td>\n",
       "      <td>1.0</td>\n",
       "      <td>0.0</td>\n",
       "      <td>0.0</td>\n",
       "      <td>14.0</td>\n",
       "      <td>0.0</td>\n",
       "      <td>0.0</td>\n",
       "      <td>0.0</td>\n",
       "      <td>0.0</td>\n",
       "      <td>0.0</td>\n",
       "      <td>0.0</td>\n",
       "    </tr>\n",
       "    <tr>\n",
       "      <th>31385</th>\n",
       "      <td>0.0</td>\n",
       "      <td>75.0</td>\n",
       "      <td>125.0</td>\n",
       "      <td>0.0</td>\n",
       "      <td>75.0</td>\n",
       "      <td>0.0</td>\n",
       "      <td>0.0</td>\n",
       "      <td>0.0</td>\n",
       "      <td>0.0</td>\n",
       "      <td>0.0</td>\n",
       "      <td>...</td>\n",
       "      <td>0.0</td>\n",
       "      <td>0.0</td>\n",
       "      <td>0.0</td>\n",
       "      <td>1.0</td>\n",
       "      <td>0.0</td>\n",
       "      <td>0.0</td>\n",
       "      <td>0.0</td>\n",
       "      <td>0.0</td>\n",
       "      <td>0.0</td>\n",
       "      <td>0.0</td>\n",
       "    </tr>\n",
       "  </tbody>\n",
       "</table>\n",
       "<p>5 rows × 77 columns</p>\n",
       "</div>"
      ],
      "text/plain": [
       "             1000  1010   1030  1100  1110  1200  1210  1310  1410  1510  \\\n",
       "customer_id                                                                \n",
       "6815          0.0  42.0   90.0   0.0  18.0   0.0   0.0   0.0   0.0   0.0   \n",
       "22899         0.0   6.0   47.0   0.0  27.0   1.0   0.0   0.0   0.0   0.0   \n",
       "27914         0.0   0.0   58.0   0.0   1.0   2.0   0.0   0.0   0.0   0.0   \n",
       "28753         0.0  89.0   25.0   3.0  65.0   0.0   0.0   0.0   0.0   0.0   \n",
       "31385         0.0  75.0  125.0   0.0  75.0   0.0   0.0   0.0   0.0   0.0   \n",
       "\n",
       "             ...   7040  7041  7044  7070  7071  7074  7075  8100  8145  8146  \n",
       "customer_id  ...                                                               \n",
       "6815         ...    0.0   0.0   0.0   0.0   0.0   0.0   0.0   0.0   0.0   0.0  \n",
       "22899        ...    0.0   0.0   0.0   9.0   3.0   0.0   1.0   0.0   0.0   0.0  \n",
       "27914        ...    0.0   0.0   0.0   0.0   0.0   0.0   0.0   0.0   0.0   0.0  \n",
       "28753        ...    1.0   0.0   0.0  14.0   0.0   0.0   0.0   0.0   0.0   0.0  \n",
       "31385        ...    0.0   0.0   0.0   1.0   0.0   0.0   0.0   0.0   0.0   0.0  \n",
       "\n",
       "[5 rows x 77 columns]"
      ]
     },
     "execution_count": 15,
     "metadata": {},
     "output_type": "execute_result"
    }
   ],
   "source": [
    "customer_id_and_tr_type.head(5)"
   ]
  },
  {
   "cell_type": "code",
   "execution_count": null,
   "metadata": {
    "collapsed": true
   },
   "outputs": [],
   "source": []
  },
  {
   "cell_type": "code",
   "execution_count": null,
   "metadata": {
    "collapsed": true
   },
   "outputs": [],
   "source": []
  },
  {
   "cell_type": "code",
   "execution_count": 16,
   "metadata": {
    "collapsed": true
   },
   "outputs": [],
   "source": [
    "X = pd.concat([customer_id_and_mcc_codes, customer_id_and_tr_type, customer_id_mean_amount], axis=1).reset_index()"
   ]
  },
  {
   "cell_type": "code",
   "execution_count": 17,
   "metadata": {
    "collapsed": false
   },
   "outputs": [
    {
     "data": {
      "text/html": [
       "<div>\n",
       "<table border=\"1\" class=\"dataframe\">\n",
       "  <thead>\n",
       "    <tr style=\"text-align: right;\">\n",
       "      <th></th>\n",
       "      <th>customer_id</th>\n",
       "      <th>742</th>\n",
       "      <th>1711</th>\n",
       "      <th>1731</th>\n",
       "      <th>1799</th>\n",
       "      <th>2741</th>\n",
       "      <th>3000</th>\n",
       "      <th>3351</th>\n",
       "      <th>3501</th>\n",
       "      <th>4111</th>\n",
       "      <th>...</th>\n",
       "      <th>7041</th>\n",
       "      <th>7044</th>\n",
       "      <th>7070</th>\n",
       "      <th>7071</th>\n",
       "      <th>7074</th>\n",
       "      <th>7075</th>\n",
       "      <th>8100</th>\n",
       "      <th>8145</th>\n",
       "      <th>8146</th>\n",
       "      <th>0</th>\n",
       "    </tr>\n",
       "  </thead>\n",
       "  <tbody>\n",
       "    <tr>\n",
       "      <th>0</th>\n",
       "      <td>6815</td>\n",
       "      <td>0.0</td>\n",
       "      <td>0.0</td>\n",
       "      <td>0.0</td>\n",
       "      <td>0.0</td>\n",
       "      <td>0.0</td>\n",
       "      <td>0.0</td>\n",
       "      <td>0.0</td>\n",
       "      <td>0.0</td>\n",
       "      <td>0.0</td>\n",
       "      <td>...</td>\n",
       "      <td>0.0</td>\n",
       "      <td>0.0</td>\n",
       "      <td>0.0</td>\n",
       "      <td>0.0</td>\n",
       "      <td>0.0</td>\n",
       "      <td>0.0</td>\n",
       "      <td>0.0</td>\n",
       "      <td>0.0</td>\n",
       "      <td>0.0</td>\n",
       "      <td>-5528.561372</td>\n",
       "    </tr>\n",
       "    <tr>\n",
       "      <th>1</th>\n",
       "      <td>22899</td>\n",
       "      <td>0.0</td>\n",
       "      <td>0.0</td>\n",
       "      <td>0.0</td>\n",
       "      <td>0.0</td>\n",
       "      <td>0.0</td>\n",
       "      <td>0.0</td>\n",
       "      <td>0.0</td>\n",
       "      <td>0.0</td>\n",
       "      <td>0.0</td>\n",
       "      <td>...</td>\n",
       "      <td>0.0</td>\n",
       "      <td>0.0</td>\n",
       "      <td>9.0</td>\n",
       "      <td>3.0</td>\n",
       "      <td>0.0</td>\n",
       "      <td>1.0</td>\n",
       "      <td>0.0</td>\n",
       "      <td>0.0</td>\n",
       "      <td>0.0</td>\n",
       "      <td>-2691.438419</td>\n",
       "    </tr>\n",
       "    <tr>\n",
       "      <th>2</th>\n",
       "      <td>27914</td>\n",
       "      <td>0.0</td>\n",
       "      <td>0.0</td>\n",
       "      <td>0.0</td>\n",
       "      <td>0.0</td>\n",
       "      <td>0.0</td>\n",
       "      <td>0.0</td>\n",
       "      <td>0.0</td>\n",
       "      <td>0.0</td>\n",
       "      <td>0.0</td>\n",
       "      <td>...</td>\n",
       "      <td>0.0</td>\n",
       "      <td>0.0</td>\n",
       "      <td>0.0</td>\n",
       "      <td>0.0</td>\n",
       "      <td>0.0</td>\n",
       "      <td>0.0</td>\n",
       "      <td>0.0</td>\n",
       "      <td>0.0</td>\n",
       "      <td>0.0</td>\n",
       "      <td>-26820.061441</td>\n",
       "    </tr>\n",
       "    <tr>\n",
       "      <th>3</th>\n",
       "      <td>28753</td>\n",
       "      <td>0.0</td>\n",
       "      <td>0.0</td>\n",
       "      <td>0.0</td>\n",
       "      <td>0.0</td>\n",
       "      <td>0.0</td>\n",
       "      <td>0.0</td>\n",
       "      <td>0.0</td>\n",
       "      <td>0.0</td>\n",
       "      <td>0.0</td>\n",
       "      <td>...</td>\n",
       "      <td>0.0</td>\n",
       "      <td>0.0</td>\n",
       "      <td>14.0</td>\n",
       "      <td>0.0</td>\n",
       "      <td>0.0</td>\n",
       "      <td>0.0</td>\n",
       "      <td>0.0</td>\n",
       "      <td>0.0</td>\n",
       "      <td>0.0</td>\n",
       "      <td>-90293.479116</td>\n",
       "    </tr>\n",
       "    <tr>\n",
       "      <th>4</th>\n",
       "      <td>31385</td>\n",
       "      <td>0.0</td>\n",
       "      <td>0.0</td>\n",
       "      <td>0.0</td>\n",
       "      <td>0.0</td>\n",
       "      <td>0.0</td>\n",
       "      <td>0.0</td>\n",
       "      <td>0.0</td>\n",
       "      <td>0.0</td>\n",
       "      <td>0.0</td>\n",
       "      <td>...</td>\n",
       "      <td>0.0</td>\n",
       "      <td>0.0</td>\n",
       "      <td>1.0</td>\n",
       "      <td>0.0</td>\n",
       "      <td>0.0</td>\n",
       "      <td>0.0</td>\n",
       "      <td>0.0</td>\n",
       "      <td>0.0</td>\n",
       "      <td>0.0</td>\n",
       "      <td>-5972.612548</td>\n",
       "    </tr>\n",
       "  </tbody>\n",
       "</table>\n",
       "<p>5 rows × 263 columns</p>\n",
       "</div>"
      ],
      "text/plain": [
       "   customer_id  742  1711  1731  1799  2741  3000  3351  3501  4111  \\\n",
       "0         6815  0.0   0.0   0.0   0.0   0.0   0.0   0.0   0.0   0.0   \n",
       "1        22899  0.0   0.0   0.0   0.0   0.0   0.0   0.0   0.0   0.0   \n",
       "2        27914  0.0   0.0   0.0   0.0   0.0   0.0   0.0   0.0   0.0   \n",
       "3        28753  0.0   0.0   0.0   0.0   0.0   0.0   0.0   0.0   0.0   \n",
       "4        31385  0.0   0.0   0.0   0.0   0.0   0.0   0.0   0.0   0.0   \n",
       "\n",
       "       ...       7041  7044  7070  7071  7074  7075  8100  8145  8146  \\\n",
       "0      ...        0.0   0.0   0.0   0.0   0.0   0.0   0.0   0.0   0.0   \n",
       "1      ...        0.0   0.0   9.0   3.0   0.0   1.0   0.0   0.0   0.0   \n",
       "2      ...        0.0   0.0   0.0   0.0   0.0   0.0   0.0   0.0   0.0   \n",
       "3      ...        0.0   0.0  14.0   0.0   0.0   0.0   0.0   0.0   0.0   \n",
       "4      ...        0.0   0.0   1.0   0.0   0.0   0.0   0.0   0.0   0.0   \n",
       "\n",
       "              0  \n",
       "0  -5528.561372  \n",
       "1  -2691.438419  \n",
       "2 -26820.061441  \n",
       "3 -90293.479116  \n",
       "4  -5972.612548  \n",
       "\n",
       "[5 rows x 263 columns]"
      ]
     },
     "execution_count": 17,
     "metadata": {},
     "output_type": "execute_result"
    }
   ],
   "source": [
    "X.head(5)"
   ]
  },
  {
   "cell_type": "code",
   "execution_count": 18,
   "metadata": {
    "collapsed": false
   },
   "outputs": [],
   "source": [
    "X = X.set_index('customer_id')"
   ]
  },
  {
   "cell_type": "code",
   "execution_count": 19,
   "metadata": {
    "collapsed": false
   },
   "outputs": [
    {
     "data": {
      "text/plain": [
       "Index([ 742, 1711, 1731, 1799, 2741, 3000, 3351, 3501, 4111, 4112,\n",
       "       ...\n",
       "       7041, 7044, 7070, 7071, 7074, 7075, 8100, 8145, 8146,    0],\n",
       "      dtype='object', length=262)"
      ]
     },
     "execution_count": 19,
     "metadata": {},
     "output_type": "execute_result"
    }
   ],
   "source": [
    "X.columns"
   ]
  },
  {
   "cell_type": "code",
   "execution_count": 20,
   "metadata": {
    "collapsed": false
   },
   "outputs": [
    {
     "data": {
      "text/html": [
       "<div>\n",
       "<table border=\"1\" class=\"dataframe\">\n",
       "  <thead>\n",
       "    <tr style=\"text-align: right;\">\n",
       "      <th></th>\n",
       "      <th>742</th>\n",
       "      <th>1711</th>\n",
       "      <th>1731</th>\n",
       "      <th>1799</th>\n",
       "      <th>2741</th>\n",
       "      <th>3000</th>\n",
       "      <th>3351</th>\n",
       "      <th>3501</th>\n",
       "      <th>4111</th>\n",
       "      <th>4112</th>\n",
       "      <th>...</th>\n",
       "      <th>7041</th>\n",
       "      <th>7044</th>\n",
       "      <th>7070</th>\n",
       "      <th>7071</th>\n",
       "      <th>7074</th>\n",
       "      <th>7075</th>\n",
       "      <th>8100</th>\n",
       "      <th>8145</th>\n",
       "      <th>8146</th>\n",
       "      <th>0</th>\n",
       "    </tr>\n",
       "    <tr>\n",
       "      <th>customer_id</th>\n",
       "      <th></th>\n",
       "      <th></th>\n",
       "      <th></th>\n",
       "      <th></th>\n",
       "      <th></th>\n",
       "      <th></th>\n",
       "      <th></th>\n",
       "      <th></th>\n",
       "      <th></th>\n",
       "      <th></th>\n",
       "      <th></th>\n",
       "      <th></th>\n",
       "      <th></th>\n",
       "      <th></th>\n",
       "      <th></th>\n",
       "      <th></th>\n",
       "      <th></th>\n",
       "      <th></th>\n",
       "      <th></th>\n",
       "      <th></th>\n",
       "      <th></th>\n",
       "    </tr>\n",
       "  </thead>\n",
       "  <tbody>\n",
       "    <tr>\n",
       "      <th>6815</th>\n",
       "      <td>0.0</td>\n",
       "      <td>0.0</td>\n",
       "      <td>0.0</td>\n",
       "      <td>0.0</td>\n",
       "      <td>0.0</td>\n",
       "      <td>0.0</td>\n",
       "      <td>0.0</td>\n",
       "      <td>0.0</td>\n",
       "      <td>0.0</td>\n",
       "      <td>0.0</td>\n",
       "      <td>...</td>\n",
       "      <td>0.0</td>\n",
       "      <td>0.0</td>\n",
       "      <td>0.0</td>\n",
       "      <td>0.0</td>\n",
       "      <td>0.0</td>\n",
       "      <td>0.0</td>\n",
       "      <td>0.0</td>\n",
       "      <td>0.0</td>\n",
       "      <td>0.0</td>\n",
       "      <td>-5528.561372</td>\n",
       "    </tr>\n",
       "    <tr>\n",
       "      <th>22899</th>\n",
       "      <td>0.0</td>\n",
       "      <td>0.0</td>\n",
       "      <td>0.0</td>\n",
       "      <td>0.0</td>\n",
       "      <td>0.0</td>\n",
       "      <td>0.0</td>\n",
       "      <td>0.0</td>\n",
       "      <td>0.0</td>\n",
       "      <td>0.0</td>\n",
       "      <td>0.0</td>\n",
       "      <td>...</td>\n",
       "      <td>0.0</td>\n",
       "      <td>0.0</td>\n",
       "      <td>9.0</td>\n",
       "      <td>3.0</td>\n",
       "      <td>0.0</td>\n",
       "      <td>1.0</td>\n",
       "      <td>0.0</td>\n",
       "      <td>0.0</td>\n",
       "      <td>0.0</td>\n",
       "      <td>-2691.438419</td>\n",
       "    </tr>\n",
       "    <tr>\n",
       "      <th>27914</th>\n",
       "      <td>0.0</td>\n",
       "      <td>0.0</td>\n",
       "      <td>0.0</td>\n",
       "      <td>0.0</td>\n",
       "      <td>0.0</td>\n",
       "      <td>0.0</td>\n",
       "      <td>0.0</td>\n",
       "      <td>0.0</td>\n",
       "      <td>0.0</td>\n",
       "      <td>0.0</td>\n",
       "      <td>...</td>\n",
       "      <td>0.0</td>\n",
       "      <td>0.0</td>\n",
       "      <td>0.0</td>\n",
       "      <td>0.0</td>\n",
       "      <td>0.0</td>\n",
       "      <td>0.0</td>\n",
       "      <td>0.0</td>\n",
       "      <td>0.0</td>\n",
       "      <td>0.0</td>\n",
       "      <td>-26820.061441</td>\n",
       "    </tr>\n",
       "    <tr>\n",
       "      <th>28753</th>\n",
       "      <td>0.0</td>\n",
       "      <td>0.0</td>\n",
       "      <td>0.0</td>\n",
       "      <td>0.0</td>\n",
       "      <td>0.0</td>\n",
       "      <td>0.0</td>\n",
       "      <td>0.0</td>\n",
       "      <td>0.0</td>\n",
       "      <td>0.0</td>\n",
       "      <td>0.0</td>\n",
       "      <td>...</td>\n",
       "      <td>0.0</td>\n",
       "      <td>0.0</td>\n",
       "      <td>14.0</td>\n",
       "      <td>0.0</td>\n",
       "      <td>0.0</td>\n",
       "      <td>0.0</td>\n",
       "      <td>0.0</td>\n",
       "      <td>0.0</td>\n",
       "      <td>0.0</td>\n",
       "      <td>-90293.479116</td>\n",
       "    </tr>\n",
       "    <tr>\n",
       "      <th>31385</th>\n",
       "      <td>0.0</td>\n",
       "      <td>0.0</td>\n",
       "      <td>0.0</td>\n",
       "      <td>0.0</td>\n",
       "      <td>0.0</td>\n",
       "      <td>0.0</td>\n",
       "      <td>0.0</td>\n",
       "      <td>0.0</td>\n",
       "      <td>0.0</td>\n",
       "      <td>0.0</td>\n",
       "      <td>...</td>\n",
       "      <td>0.0</td>\n",
       "      <td>0.0</td>\n",
       "      <td>1.0</td>\n",
       "      <td>0.0</td>\n",
       "      <td>0.0</td>\n",
       "      <td>0.0</td>\n",
       "      <td>0.0</td>\n",
       "      <td>0.0</td>\n",
       "      <td>0.0</td>\n",
       "      <td>-5972.612548</td>\n",
       "    </tr>\n",
       "  </tbody>\n",
       "</table>\n",
       "<p>5 rows × 262 columns</p>\n",
       "</div>"
      ],
      "text/plain": [
       "             742   1711  1731  1799  2741  3000  3351  3501  4111  4112  \\\n",
       "customer_id                                                               \n",
       "6815          0.0   0.0   0.0   0.0   0.0   0.0   0.0   0.0   0.0   0.0   \n",
       "22899         0.0   0.0   0.0   0.0   0.0   0.0   0.0   0.0   0.0   0.0   \n",
       "27914         0.0   0.0   0.0   0.0   0.0   0.0   0.0   0.0   0.0   0.0   \n",
       "28753         0.0   0.0   0.0   0.0   0.0   0.0   0.0   0.0   0.0   0.0   \n",
       "31385         0.0   0.0   0.0   0.0   0.0   0.0   0.0   0.0   0.0   0.0   \n",
       "\n",
       "                 ...       7041  7044  7070  7071  7074  7075  8100  8145  \\\n",
       "customer_id      ...                                                        \n",
       "6815             ...        0.0   0.0   0.0   0.0   0.0   0.0   0.0   0.0   \n",
       "22899            ...        0.0   0.0   9.0   3.0   0.0   1.0   0.0   0.0   \n",
       "27914            ...        0.0   0.0   0.0   0.0   0.0   0.0   0.0   0.0   \n",
       "28753            ...        0.0   0.0  14.0   0.0   0.0   0.0   0.0   0.0   \n",
       "31385            ...        0.0   0.0   1.0   0.0   0.0   0.0   0.0   0.0   \n",
       "\n",
       "             8146          0     \n",
       "customer_id                      \n",
       "6815          0.0  -5528.561372  \n",
       "22899         0.0  -2691.438419  \n",
       "27914         0.0 -26820.061441  \n",
       "28753         0.0 -90293.479116  \n",
       "31385         0.0  -5972.612548  \n",
       "\n",
       "[5 rows x 262 columns]"
      ]
     },
     "execution_count": 20,
     "metadata": {},
     "output_type": "execute_result"
    }
   ],
   "source": [
    "X.head(5)"
   ]
  },
  {
   "cell_type": "code",
   "execution_count": 21,
   "metadata": {
    "collapsed": false
   },
   "outputs": [],
   "source": [
    "customers_gender = customers_gender.set_index('customer_id')"
   ]
  },
  {
   "cell_type": "code",
   "execution_count": 22,
   "metadata": {
    "collapsed": false
   },
   "outputs": [],
   "source": [
    "y = customers_gender.loc[X.index].gender\n",
    "y = y.reset_index()\n",
    "del y['customer_id']\n",
    "y = y.dropna(0)"
   ]
  },
  {
   "cell_type": "code",
   "execution_count": null,
   "metadata": {
    "collapsed": true
   },
   "outputs": [],
   "source": []
  },
  {
   "cell_type": "code",
   "execution_count": 23,
   "metadata": {
    "collapsed": false
   },
   "outputs": [
    {
     "data": {
      "text/html": [
       "<div>\n",
       "<table border=\"1\" class=\"dataframe\">\n",
       "  <thead>\n",
       "    <tr style=\"text-align: right;\">\n",
       "      <th></th>\n",
       "      <th>gender</th>\n",
       "    </tr>\n",
       "    <tr>\n",
       "      <th>customer_id</th>\n",
       "      <th></th>\n",
       "    </tr>\n",
       "  </thead>\n",
       "  <tbody>\n",
       "    <tr>\n",
       "      <th>6815</th>\n",
       "      <td>0</td>\n",
       "    </tr>\n",
       "    <tr>\n",
       "      <th>22899</th>\n",
       "      <td>1</td>\n",
       "    </tr>\n",
       "    <tr>\n",
       "      <th>27914</th>\n",
       "      <td>1</td>\n",
       "    </tr>\n",
       "    <tr>\n",
       "      <th>28753</th>\n",
       "      <td>0</td>\n",
       "    </tr>\n",
       "    <tr>\n",
       "      <th>31385</th>\n",
       "      <td>0</td>\n",
       "    </tr>\n",
       "    <tr>\n",
       "      <th>38084</th>\n",
       "      <td>0</td>\n",
       "    </tr>\n",
       "    <tr>\n",
       "      <th>42096</th>\n",
       "      <td>0</td>\n",
       "    </tr>\n",
       "    <tr>\n",
       "      <th>49793</th>\n",
       "      <td>1</td>\n",
       "    </tr>\n",
       "    <tr>\n",
       "      <th>50940</th>\n",
       "      <td>0</td>\n",
       "    </tr>\n",
       "    <tr>\n",
       "      <th>52926</th>\n",
       "      <td>1</td>\n",
       "    </tr>\n",
       "  </tbody>\n",
       "</table>\n",
       "</div>"
      ],
      "text/plain": [
       "             gender\n",
       "customer_id        \n",
       "6815              0\n",
       "22899             1\n",
       "27914             1\n",
       "28753             0\n",
       "31385             0\n",
       "38084             0\n",
       "42096             0\n",
       "49793             1\n",
       "50940             0\n",
       "52926             1"
      ]
     },
     "execution_count": 23,
     "metadata": {},
     "output_type": "execute_result"
    }
   ],
   "source": [
    "customers_gender.sort_index().head(10)"
   ]
  },
  {
   "cell_type": "code",
   "execution_count": 24,
   "metadata": {
    "collapsed": false
   },
   "outputs": [
    {
     "data": {
      "text/html": [
       "<div>\n",
       "<table border=\"1\" class=\"dataframe\">\n",
       "  <thead>\n",
       "    <tr style=\"text-align: right;\">\n",
       "      <th></th>\n",
       "      <th>gender</th>\n",
       "    </tr>\n",
       "  </thead>\n",
       "  <tbody>\n",
       "    <tr>\n",
       "      <th>0</th>\n",
       "      <td>0.0</td>\n",
       "    </tr>\n",
       "    <tr>\n",
       "      <th>1</th>\n",
       "      <td>1.0</td>\n",
       "    </tr>\n",
       "    <tr>\n",
       "      <th>2</th>\n",
       "      <td>1.0</td>\n",
       "    </tr>\n",
       "    <tr>\n",
       "      <th>3</th>\n",
       "      <td>0.0</td>\n",
       "    </tr>\n",
       "    <tr>\n",
       "      <th>4</th>\n",
       "      <td>0.0</td>\n",
       "    </tr>\n",
       "    <tr>\n",
       "      <th>5</th>\n",
       "      <td>0.0</td>\n",
       "    </tr>\n",
       "    <tr>\n",
       "      <th>6</th>\n",
       "      <td>0.0</td>\n",
       "    </tr>\n",
       "    <tr>\n",
       "      <th>8</th>\n",
       "      <td>1.0</td>\n",
       "    </tr>\n",
       "    <tr>\n",
       "      <th>9</th>\n",
       "      <td>0.0</td>\n",
       "    </tr>\n",
       "    <tr>\n",
       "      <th>10</th>\n",
       "      <td>1.0</td>\n",
       "    </tr>\n",
       "  </tbody>\n",
       "</table>\n",
       "</div>"
      ],
      "text/plain": [
       "    gender\n",
       "0      0.0\n",
       "1      1.0\n",
       "2      1.0\n",
       "3      0.0\n",
       "4      0.0\n",
       "5      0.0\n",
       "6      0.0\n",
       "8      1.0\n",
       "9      0.0\n",
       "10     1.0"
      ]
     },
     "execution_count": 24,
     "metadata": {},
     "output_type": "execute_result"
    }
   ],
   "source": [
    "y.head(10)"
   ]
  },
  {
   "cell_type": "markdown",
   "metadata": {},
   "source": [
    "# X_train - данные для обучения\n",
    "# y - метки для обучения"
   ]
  },
  {
   "cell_type": "code",
   "execution_count": 25,
   "metadata": {
    "collapsed": false
   },
   "outputs": [],
   "source": [
    "X_train = X.reset_index()\n",
    "X_train = X_train.loc[y.index].set_index('customer_id')"
   ]
  },
  {
   "cell_type": "code",
   "execution_count": 26,
   "metadata": {
    "collapsed": false
   },
   "outputs": [
    {
     "data": {
      "text/plain": [
       "(12000, 262)"
      ]
     },
     "execution_count": 26,
     "metadata": {},
     "output_type": "execute_result"
    }
   ],
   "source": [
    "X_train.shape"
   ]
  },
  {
   "cell_type": "code",
   "execution_count": 27,
   "metadata": {
    "collapsed": false
   },
   "outputs": [
    {
     "data": {
      "text/html": [
       "<div>\n",
       "<table border=\"1\" class=\"dataframe\">\n",
       "  <thead>\n",
       "    <tr style=\"text-align: right;\">\n",
       "      <th></th>\n",
       "      <th>742</th>\n",
       "      <th>1711</th>\n",
       "      <th>1731</th>\n",
       "      <th>1799</th>\n",
       "      <th>2741</th>\n",
       "      <th>3000</th>\n",
       "      <th>3351</th>\n",
       "      <th>3501</th>\n",
       "      <th>4111</th>\n",
       "      <th>4112</th>\n",
       "      <th>...</th>\n",
       "      <th>7041</th>\n",
       "      <th>7044</th>\n",
       "      <th>7070</th>\n",
       "      <th>7071</th>\n",
       "      <th>7074</th>\n",
       "      <th>7075</th>\n",
       "      <th>8100</th>\n",
       "      <th>8145</th>\n",
       "      <th>8146</th>\n",
       "      <th>0</th>\n",
       "    </tr>\n",
       "    <tr>\n",
       "      <th>customer_id</th>\n",
       "      <th></th>\n",
       "      <th></th>\n",
       "      <th></th>\n",
       "      <th></th>\n",
       "      <th></th>\n",
       "      <th></th>\n",
       "      <th></th>\n",
       "      <th></th>\n",
       "      <th></th>\n",
       "      <th></th>\n",
       "      <th></th>\n",
       "      <th></th>\n",
       "      <th></th>\n",
       "      <th></th>\n",
       "      <th></th>\n",
       "      <th></th>\n",
       "      <th></th>\n",
       "      <th></th>\n",
       "      <th></th>\n",
       "      <th></th>\n",
       "      <th></th>\n",
       "    </tr>\n",
       "  </thead>\n",
       "  <tbody>\n",
       "    <tr>\n",
       "      <th>6815</th>\n",
       "      <td>0.0</td>\n",
       "      <td>0.0</td>\n",
       "      <td>0.0</td>\n",
       "      <td>0.0</td>\n",
       "      <td>0.0</td>\n",
       "      <td>0.0</td>\n",
       "      <td>0.0</td>\n",
       "      <td>0.0</td>\n",
       "      <td>0.0</td>\n",
       "      <td>0.0</td>\n",
       "      <td>...</td>\n",
       "      <td>0.0</td>\n",
       "      <td>0.0</td>\n",
       "      <td>0.0</td>\n",
       "      <td>0.0</td>\n",
       "      <td>0.0</td>\n",
       "      <td>0.0</td>\n",
       "      <td>0.0</td>\n",
       "      <td>0.0</td>\n",
       "      <td>0.0</td>\n",
       "      <td>-5528.561372</td>\n",
       "    </tr>\n",
       "    <tr>\n",
       "      <th>22899</th>\n",
       "      <td>0.0</td>\n",
       "      <td>0.0</td>\n",
       "      <td>0.0</td>\n",
       "      <td>0.0</td>\n",
       "      <td>0.0</td>\n",
       "      <td>0.0</td>\n",
       "      <td>0.0</td>\n",
       "      <td>0.0</td>\n",
       "      <td>0.0</td>\n",
       "      <td>0.0</td>\n",
       "      <td>...</td>\n",
       "      <td>0.0</td>\n",
       "      <td>0.0</td>\n",
       "      <td>9.0</td>\n",
       "      <td>3.0</td>\n",
       "      <td>0.0</td>\n",
       "      <td>1.0</td>\n",
       "      <td>0.0</td>\n",
       "      <td>0.0</td>\n",
       "      <td>0.0</td>\n",
       "      <td>-2691.438419</td>\n",
       "    </tr>\n",
       "  </tbody>\n",
       "</table>\n",
       "<p>2 rows × 262 columns</p>\n",
       "</div>"
      ],
      "text/plain": [
       "             742   1711  1731  1799  2741  3000  3351  3501  4111  4112  \\\n",
       "customer_id                                                               \n",
       "6815          0.0   0.0   0.0   0.0   0.0   0.0   0.0   0.0   0.0   0.0   \n",
       "22899         0.0   0.0   0.0   0.0   0.0   0.0   0.0   0.0   0.0   0.0   \n",
       "\n",
       "                ...       7041  7044  7070  7071  7074  7075  8100  8145  \\\n",
       "customer_id     ...                                                        \n",
       "6815            ...        0.0   0.0   0.0   0.0   0.0   0.0   0.0   0.0   \n",
       "22899           ...        0.0   0.0   9.0   3.0   0.0   1.0   0.0   0.0   \n",
       "\n",
       "             8146         0     \n",
       "customer_id                     \n",
       "6815          0.0 -5528.561372  \n",
       "22899         0.0 -2691.438419  \n",
       "\n",
       "[2 rows x 262 columns]"
      ]
     },
     "execution_count": 27,
     "metadata": {},
     "output_type": "execute_result"
    }
   ],
   "source": [
    "X_train.head(2)"
   ]
  },
  {
   "cell_type": "code",
   "execution_count": 28,
   "metadata": {
    "collapsed": false
   },
   "outputs": [
    {
     "data": {
      "text/plain": [
       "Index([ 742, 1711, 1731, 1799, 2741, 3000, 3351, 3501, 4111, 4112,\n",
       "       ...\n",
       "       7041, 7044, 7070, 7071, 7074, 7075, 8100, 8145, 8146,    0],\n",
       "      dtype='object', length=262)"
      ]
     },
     "execution_count": 28,
     "metadata": {},
     "output_type": "execute_result"
    }
   ],
   "source": [
    "X_train.columns"
   ]
  },
  {
   "cell_type": "code",
   "execution_count": 29,
   "metadata": {
    "collapsed": false
   },
   "outputs": [
    {
     "data": {
      "text/html": [
       "<div>\n",
       "<table border=\"1\" class=\"dataframe\">\n",
       "  <thead>\n",
       "    <tr style=\"text-align: right;\">\n",
       "      <th></th>\n",
       "      <th>gender</th>\n",
       "    </tr>\n",
       "  </thead>\n",
       "  <tbody>\n",
       "    <tr>\n",
       "      <th>0</th>\n",
       "      <td>0.0</td>\n",
       "    </tr>\n",
       "    <tr>\n",
       "      <th>1</th>\n",
       "      <td>1.0</td>\n",
       "    </tr>\n",
       "    <tr>\n",
       "      <th>2</th>\n",
       "      <td>1.0</td>\n",
       "    </tr>\n",
       "    <tr>\n",
       "      <th>3</th>\n",
       "      <td>0.0</td>\n",
       "    </tr>\n",
       "    <tr>\n",
       "      <th>4</th>\n",
       "      <td>0.0</td>\n",
       "    </tr>\n",
       "    <tr>\n",
       "      <th>5</th>\n",
       "      <td>0.0</td>\n",
       "    </tr>\n",
       "    <tr>\n",
       "      <th>6</th>\n",
       "      <td>0.0</td>\n",
       "    </tr>\n",
       "    <tr>\n",
       "      <th>8</th>\n",
       "      <td>1.0</td>\n",
       "    </tr>\n",
       "    <tr>\n",
       "      <th>9</th>\n",
       "      <td>0.0</td>\n",
       "    </tr>\n",
       "    <tr>\n",
       "      <th>10</th>\n",
       "      <td>1.0</td>\n",
       "    </tr>\n",
       "  </tbody>\n",
       "</table>\n",
       "</div>"
      ],
      "text/plain": [
       "    gender\n",
       "0      0.0\n",
       "1      1.0\n",
       "2      1.0\n",
       "3      0.0\n",
       "4      0.0\n",
       "5      0.0\n",
       "6      0.0\n",
       "8      1.0\n",
       "9      0.0\n",
       "10     1.0"
      ]
     },
     "execution_count": 29,
     "metadata": {},
     "output_type": "execute_result"
    }
   ],
   "source": [
    "y.head(10)"
   ]
  },
  {
   "cell_type": "code",
   "execution_count": 30,
   "metadata": {
    "collapsed": false
   },
   "outputs": [
    {
     "data": {
      "text/plain": [
       "(12000, 1)"
      ]
     },
     "execution_count": 30,
     "metadata": {},
     "output_type": "execute_result"
    }
   ],
   "source": [
    "y.shape"
   ]
  },
  {
   "cell_type": "code",
   "execution_count": null,
   "metadata": {
    "collapsed": true
   },
   "outputs": [],
   "source": []
  },
  {
   "cell_type": "code",
   "execution_count": 31,
   "metadata": {
    "collapsed": false
   },
   "outputs": [
    {
     "name": "stderr",
     "output_type": "stream",
     "text": [
      "/Users/Roman/anaconda/lib/python2.7/site-packages/ipykernel/__main__.py:2: DataConversionWarning: A column-vector y was passed when a 1d array was expected. Please change the shape of y to (n_samples,), for example using ravel().\n",
      "  from ipykernel import kernelapp as app\n"
     ]
    },
    {
     "name": "stdout",
     "output_type": "stream",
     "text": [
      "[  1.19426521e-03   6.36001257e-04   3.33863587e-04   4.21495946e-04\n",
      "   1.59467806e-04   1.91916069e-03   1.67814579e-04   6.60535789e-04\n",
      "   2.05750355e-03   3.79258439e-03   1.04074930e-03   5.99284820e-04\n",
      "   4.70256837e-04   7.93722331e-04   1.43696958e-04   2.65702568e-03\n",
      "   2.60374750e-03   6.84094778e-04   2.16168067e-03   7.94584922e-03\n",
      "   1.73735278e-02   4.57926949e-03   1.12199503e-02   2.44624499e-03\n",
      "   4.85630127e-03   1.68200450e-03   1.39906583e-03   5.28181148e-04\n",
      "   1.88394751e-03   2.44908375e-04   1.02476883e-03   4.12484062e-04\n",
      "   1.09925356e-03   2.03506183e-04   6.38540161e-04   7.04799739e-04\n",
      "   5.47200022e-04   9.74636049e-04   6.73639856e-04   4.91185131e-04\n",
      "   3.35828674e-04   3.35303332e-04   7.33615760e-04   7.46600682e-04\n",
      "   7.14528066e-04   6.78885154e-03   1.15409918e-02   1.67430219e-03\n",
      "   5.96856112e-03   7.43430251e-03   2.43195738e-03   1.53836955e-03\n",
      "   8.73086814e-04   6.38216784e-03   9.40176400e-03   4.33828417e-03\n",
      "   1.30407198e-02   1.08414218e-03   1.45196132e-03   1.03987296e-03\n",
      "   1.08705577e-03   1.12550465e-02   9.00991962e-03   3.72228725e-03\n",
      "   3.28974775e-02   3.97738040e-02   1.26243017e-03   5.15640218e-04\n",
      "   4.50649951e-04   3.50688177e-03   1.54972464e-02   7.48315606e-03\n",
      "   6.27088238e-03   1.25980853e-02   4.16347563e-03   1.55101441e-02\n",
      "   2.07820760e-03   1.52976024e-02   1.48960087e-04   8.34335425e-03\n",
      "   4.89993773e-03   8.07954668e-04   3.50298547e-03   3.48111858e-03\n",
      "   8.00746468e-03   1.27407637e-02   8.47195051e-04   5.71149937e-03\n",
      "   2.74669918e-03   1.31253073e-03   9.03229976e-03   4.51858555e-03\n",
      "   8.76987833e-03   1.51149299e-03   1.54451133e-02   9.27280413e-03\n",
      "   2.86504200e-04   2.96259595e-04   7.39496453e-03   5.27235915e-03\n",
      "   5.80220355e-03   5.13552329e-03   5.54461962e-03   1.19384937e-03\n",
      "   3.26111241e-03   3.57091182e-03   3.17841282e-03   1.09346530e-03\n",
      "   4.25643366e-03   1.45347723e-04   3.69076681e-04   5.11410470e-04\n",
      "   1.23851950e-04   5.97846411e-04   2.54973638e-04   6.90810238e-04\n",
      "   2.40990913e-02   1.04612062e-02   4.59308657e-03   1.12642776e-03\n",
      "   5.48673953e-04   4.03108737e-03   7.69681275e-03   1.22615924e-02\n",
      "   1.95842379e-02   4.47512801e-03   3.19065815e-03   1.03661797e-03\n",
      "   2.90116341e-03   1.08001062e-04   4.06484117e-03   4.67501562e-03\n",
      "   2.14107719e-04   4.12831628e-04   5.96869471e-04   3.39954084e-03\n",
      "   4.51645478e-04   3.96979897e-04   1.86045600e-03   1.63038376e-03\n",
      "   4.95193638e-03   1.05904695e-04   1.16001152e-03   3.03658455e-04\n",
      "   3.21008684e-04   3.45672348e-03   4.78686134e-04   1.53527271e-03\n",
      "   3.27278765e-04   7.98142260e-03   2.56478961e-03   3.51167003e-04\n",
      "   6.89519688e-04   8.56092201e-05   6.12293094e-03   4.31771594e-04\n",
      "   1.95916318e-03   1.69174686e-04   1.09725870e-03   8.48509039e-04\n",
      "   1.27563558e-03   8.62222012e-03   3.98012352e-03   6.15627676e-04\n",
      "   2.00412292e-03   1.90058135e-03   1.55010101e-03   2.25057969e-03\n",
      "   2.92270997e-03   5.74077631e-04   6.61437173e-04   4.78248548e-03\n",
      "   1.71731821e-04   1.20731876e-04   7.10721895e-04   5.11727079e-04\n",
      "   1.75002323e-03   1.13782951e-04   6.25563684e-03   8.20702356e-05\n",
      "   1.21249812e-03   5.93104738e-04   2.26662600e-03   3.20348123e-04\n",
      "   2.58450263e-04   1.31988615e-02   1.75235054e-02   7.61244544e-03\n",
      "   1.56748677e-02   5.76218638e-03   2.15064306e-03   2.46541597e-04\n",
      "   1.88816236e-04   2.05099871e-05   2.36489156e-05   2.04369100e-02\n",
      "   1.01747231e-02   9.73129904e-03   1.75005462e-03   3.31416794e-04\n",
      "   5.89492619e-03   2.51234508e-04   1.84935437e-03   3.24663502e-03\n",
      "   1.06891644e-02   6.81208784e-03   1.27426343e-03   3.47184101e-04\n",
      "   9.59420925e-03   6.19552115e-03   3.34880119e-03   4.39991071e-04\n",
      "   1.20991256e-03   9.87014706e-04   8.44089664e-03   4.87773659e-03\n",
      "   1.38222898e-03   3.83475310e-04   1.07330988e-03   0.00000000e+00\n",
      "   1.54649462e-03   3.42796729e-05   6.73318687e-03   3.17783797e-04\n",
      "   6.21022440e-03   2.30323534e-03   3.83690510e-04   1.18769991e-03\n",
      "   3.76167485e-04   5.39921979e-03   1.00572134e-04   1.51950254e-03\n",
      "   2.20387712e-03   1.57020429e-04   2.91186267e-03   1.91093808e-03\n",
      "   5.83503102e-03   2.53548488e-03   9.51398666e-04   1.45345026e-02\n",
      "   4.49674363e-03   2.50310923e-03   3.31564613e-04   6.49553273e-03\n",
      "   4.10122470e-03   4.71954627e-04   1.68503644e-04   9.67116636e-03\n",
      "   6.76044016e-03   1.40060157e-03   8.14446022e-04   9.94850674e-04\n",
      "   4.18347550e-04   2.11940082e-05   1.04158419e-02   6.85489197e-03\n",
      "   1.81865025e-03   5.82874661e-04   1.04085269e-04   1.33226780e-05\n",
      "   8.17881163e-05   2.31949134e-02]\n"
     ]
    }
   ],
   "source": [
    "model = sklearn.ensemble.ExtraTreesClassifier(n_estimators=50)\n",
    "model.fit(X_train, y)\n",
    "print model.feature_importances_"
   ]
  },
  {
   "cell_type": "code",
   "execution_count": null,
   "metadata": {
    "collapsed": true
   },
   "outputs": [],
   "source": []
  },
  {
   "cell_type": "markdown",
   "metadata": {
    "collapsed": true
   },
   "source": [
    "## X_train – данные для обучения, y – метки для обучения"
   ]
  },
  {
   "cell_type": "markdown",
   "metadata": {},
   "source": [
    "# XGB and RF parametrs"
   ]
  },
  {
   "cell_type": "code",
   "execution_count": 32,
   "metadata": {
    "collapsed": true
   },
   "outputs": [],
   "source": [
    "param = {}\n",
    "param['max_depth'] = 6\n",
    "param['booster'] = 'gbtree'\n",
    "param['objective'] = 'binary:logistic'\n",
    "param['eval_metric'] = 'auc'\n",
    "param['eta'] = 0.05\n",
    "param['subsample'] = 0.6\n",
    "param['tree_method'] = 'exact'\n",
    "\n",
    "numround = 400"
   ]
  },
  {
   "cell_type": "code",
   "execution_count": 56,
   "metadata": {
    "collapsed": false
   },
   "outputs": [
    {
     "name": "stderr",
     "output_type": "stream",
     "text": [
      "/Users/Roman/anaconda/lib/python2.7/site-packages/ipykernel/__main__.py:26: DataConversionWarning: A column-vector y was passed when a 1d array was expected. Please change the shape of y to (n_samples,), for example using ravel().\n"
     ]
    },
    {
     "name": "stdout",
     "output_type": "stream",
     "text": [
      "xgb_score =  0.865100671756\n",
      "rf_score =  0.854564222174\n",
      "xgb_score =  0.869014022319\n",
      "rf_score =  0.853244892027\n",
      "xgb_score =  0.861661440048\n",
      "rf_score =  0.84807950464\n",
      "xgb_score =  0.866213900316\n",
      "rf_score =  0.853055557855\n",
      "xgb_score =  0.86188232999\n",
      "rf_score =  0.850092607468\n",
      "xgb_score =  0.870877834221\n",
      "rf_score =  0.855804337925\n",
      "xgb_score =  0.860527725823\n",
      "rf_score =  0.852048946931\n",
      "xgb_score =  0.861625009292\n",
      "rf_score =  0.851288490899\n",
      "xgb_score =  0.871157457371\n",
      "rf_score =  0.862338153837\n",
      "xgb_score =  0.867846744941\n",
      "rf_score =  0.853930894242\n",
      "xgb_score =  0.862438481461\n",
      "rf_score =  0.849881807805\n",
      "xgb_score =  0.879986488628\n",
      "rf_score =  0.872605623622\n",
      "xgb_score =  0.862455765846\n",
      "rf_score =  0.848220578522\n",
      "xgb_score =  0.874420525865\n",
      "rf_score =  0.861004042375\n",
      "xgb_score =  0.865218262024\n",
      "rf_score =  0.85324299689\n",
      "      rf_mean =  0.85324299689\n",
      "      xgb_mean =  0.865218262024\n",
      "xgb_score =  0.870002305688\n",
      "rf_score =  0.861540776095\n",
      "xgb_score =  0.871226015056\n",
      "rf_score =  0.862202976279\n",
      "xgb_score =  0.867967093151\n",
      "rf_score =  0.853217573585\n",
      "xgb_score =  0.875098577477\n",
      "rf_score =  0.861954110362\n",
      "xgb_score =  0.869435095914\n",
      "rf_score =  0.85475359295\n",
      "xgb_score =  0.871007007949\n",
      "rf_score =  0.858792275962\n",
      "xgb_score =  0.874030460474\n",
      "rf_score =  0.861268937106\n",
      "xgb_score =  0.869111730178\n",
      "rf_score =  0.853425524403\n",
      "xgb_score =  0.876304806349\n",
      "rf_score =  0.863909677642\n",
      "xgb_score =  0.868443306506\n",
      "rf_score =  0.85394411886\n",
      "xgb_score =  0.868255227524\n",
      "rf_score =  0.856988992262\n",
      "xgb_score =  0.873290827082\n",
      "rf_score =  0.85929645223\n",
      "xgb_score =  0.869450323949\n",
      "rf_score =  0.860785547947\n",
      "xgb_score =  0.874958990622\n",
      "rf_score =  0.854535000141\n",
      "xgb_score =  0.876661674874\n",
      "rf_score =  0.864648354365\n",
      "      rf_mean =  0.864648354365\n",
      "      xgb_mean =  0.876661674874\n",
      "xgb_score =  0.8707620779\n",
      "rf_score =  0.856035059791\n",
      "xgb_score =  0.871877828054\n",
      "rf_score =  0.859192446209\n",
      "xgb_score =  0.874431015196\n",
      "rf_score =  0.858779954084\n",
      "xgb_score =  0.872836019023\n",
      "rf_score =  0.860148213131\n",
      "xgb_score =  0.867610135726\n",
      "rf_score =  0.858418971128\n",
      "xgb_score =  0.874385247558\n",
      "rf_score =  0.85930118798\n",
      "xgb_score =  0.87755182501\n",
      "rf_score =  0.862225070259\n",
      "xgb_score =  0.872735720976\n",
      "rf_score =  0.858097112277\n",
      "xgb_score =  0.869485544654\n",
      "rf_score =  0.86262014902\n",
      "xgb_score =  0.876038392611\n",
      "rf_score =  0.861573844316\n",
      "xgb_score =  0.869452598522\n",
      "rf_score =  0.855897759127\n",
      "xgb_score =  0.874750177871\n",
      "rf_score =  0.860973468591\n",
      "xgb_score =  0.873271136432\n",
      "rf_score =  0.858167611729\n",
      "xgb_score =  0.877139471892\n",
      "rf_score =  0.867043223052\n",
      "xgb_score =  0.868781582838\n",
      "rf_score =  0.853934545832\n",
      "      rf_mean =  0.853934545832\n",
      "      xgb_mean =  0.868781582838\n",
      "xgb_score =  0.866648619172\n",
      "rf_score =  0.86077985817\n",
      "xgb_score =  0.876542980829\n",
      "rf_score =  0.864808630523\n",
      "xgb_score =  0.871261170348\n",
      "rf_score =  0.86358746754\n",
      "xgb_score =  0.880627996341\n",
      "rf_score =  0.86632646678\n",
      "xgb_score =  0.870318903614\n",
      "rf_score =  0.861018665812\n",
      "xgb_score =  0.870829573078\n",
      "rf_score =  0.864527092738\n",
      "xgb_score =  0.866873924617\n",
      "rf_score =  0.855224134091\n",
      "xgb_score =  0.879418449397\n",
      "rf_score =  0.862874249979\n",
      "xgb_score =  0.878904041154\n",
      "rf_score =  0.862358866325\n",
      "xgb_score =  0.869026322105\n",
      "rf_score =  0.854963005205\n",
      "xgb_score =  0.877306264553\n",
      "rf_score =  0.866755796104\n",
      "xgb_score =  0.864951631813\n",
      "rf_score =  0.85413817997\n",
      "xgb_score =  0.871478049355\n",
      "rf_score =  0.863113240685\n",
      "xgb_score =  0.874210929119\n",
      "rf_score =  0.859173731866\n",
      "xgb_score =  0.878127212386\n",
      "rf_score =  0.865896630889\n",
      "      rf_mean =  0.865896630889\n",
      "      xgb_mean =  0.878127212386\n",
      "xgb_score =  0.874016335119\n",
      "rf_score =  0.861848070319\n",
      "xgb_score =  0.877091176675\n",
      "rf_score =  0.868969316298\n",
      "xgb_score =  0.869766569428\n",
      "rf_score =  0.857566269081\n",
      "xgb_score =  0.8805415403\n",
      "rf_score =  0.868004549214\n",
      "xgb_score =  0.861818895582\n",
      "rf_score =  0.854154622848\n",
      "xgb_score =  0.86446428114\n",
      "rf_score =  0.858278884473\n",
      "xgb_score =  0.870836964792\n",
      "rf_score =  0.862877729358\n",
      "xgb_score =  0.862566796361\n",
      "rf_score =  0.84600750579\n",
      "xgb_score =  0.865777802939\n",
      "rf_score =  0.856189709119\n",
      "xgb_score =  0.869800501139\n",
      "rf_score =  0.856783586785\n",
      "xgb_score =  0.875688514169\n",
      "rf_score =  0.863405839372\n",
      "xgb_score =  0.868027355065\n",
      "rf_score =  0.856293311648\n",
      "xgb_score =  0.874043956241\n",
      "rf_score =  0.858809987042\n",
      "xgb_score =  0.863905385282\n",
      "rf_score =  0.857910029325\n",
      "xgb_score =  0.869795969203\n",
      "rf_score =  0.855792349209\n",
      "      rf_mean =  0.855792349209\n",
      "      xgb_mean =  0.869795969203\n",
      "xgb_score =  0.866057930897\n",
      "rf_score =  0.860065419708\n",
      "xgb_score =  0.867759105499\n",
      "rf_score =  0.861272905312\n",
      "xgb_score =  0.869982038001\n",
      "rf_score =  0.860895183434\n",
      "xgb_score =  0.871957279325\n",
      "rf_score =  0.866936526789\n",
      "xgb_score =  0.865514669228\n",
      "rf_score =  0.860071669184\n",
      "xgb_score =  0.867095207682\n",
      "rf_score =  0.867591413069\n",
      "xgb_score =  0.872055311408\n",
      "rf_score =  0.86777412015\n",
      "xgb_score =  0.86785973257\n",
      "rf_score =  0.86107082032\n",
      "xgb_score =  0.863991664712\n",
      "rf_score =  0.857445013306\n",
      "xgb_score =  0.873778834666\n",
      "rf_score =  0.863449016635\n",
      "xgb_score =  0.862181591372\n",
      "rf_score =  0.858008617125\n",
      "xgb_score =  0.868131068343\n",
      "rf_score =  0.860817699544\n",
      "xgb_score =  0.877977467416\n",
      "rf_score =  0.868503456353\n",
      "xgb_score =  0.861227926894\n",
      "rf_score =  0.849252793098\n",
      "xgb_score =  0.867776273209\n",
      "rf_score =  0.861113928989\n",
      "      rf_mean =  0.861113928989\n",
      "      xgb_mean =  0.867776273209\n",
      "xgb_score =  0.863794772463\n",
      "rf_score =  0.859870767287\n",
      "xgb_score =  0.863271273728\n",
      "rf_score =  0.854094432479\n",
      "xgb_score =  0.866550136201\n",
      "rf_score =  0.854610007168\n",
      "xgb_score =  0.874611713296\n",
      "rf_score =  0.866593605759\n",
      "xgb_score =  0.868207766547\n",
      "rf_score =  0.861277439372\n",
      "xgb_score =  0.861455389345\n",
      "rf_score =  0.855327787998\n",
      "xgb_score =  0.86374281256\n",
      "rf_score =  0.859110224664\n",
      "xgb_score =  0.863585986641\n",
      "rf_score =  0.856974570596\n",
      "xgb_score =  0.868456872628\n",
      "rf_score =  0.860224877489\n",
      "xgb_score =  0.86621614921\n",
      "rf_score =  0.86075424868\n",
      "xgb_score =  0.866511451387\n",
      "rf_score =  0.857077809882\n",
      "xgb_score =  0.868615199665\n",
      "rf_score =  0.862105725358\n",
      "xgb_score =  0.86803420927\n",
      "rf_score =  0.858682654769\n",
      "xgb_score =  0.874381775812\n",
      "rf_score =  0.869093457723\n",
      "xgb_score =  0.869189057749\n",
      "rf_score =  0.863653141578\n",
      "      rf_mean =  0.863653141578\n",
      "      xgb_mean =  0.869189057749\n",
      "xgb_score =  0.864325888524\n",
      "rf_score =  0.862748395813\n",
      "xgb_score =  0.864121453574\n",
      "rf_score =  0.860185035925\n",
      "xgb_score =  0.861459023099\n",
      "rf_score =  0.859669334892\n",
      "xgb_score =  0.857309994782\n",
      "rf_score =  0.853673149419\n",
      "xgb_score =  0.864620254052\n",
      "rf_score =  0.855808384501\n",
      "xgb_score =  0.866296929211\n",
      "rf_score =  0.854947842047\n",
      "xgb_score =  0.86818042562\n",
      "rf_score =  0.862257894718\n",
      "xgb_score =  0.867579737759\n",
      "rf_score =  0.863509350535\n",
      "xgb_score =  0.86331200391\n",
      "rf_score =  0.859201989928\n",
      "xgb_score =  0.872917234439\n",
      "rf_score =  0.873749212791\n",
      "xgb_score =  0.868757333687\n",
      "rf_score =  0.86542823433\n",
      "xgb_score =  0.86501031854\n",
      "rf_score =  0.8596303725\n",
      "xgb_score =  0.858493901321\n",
      "rf_score =  0.851715654806\n",
      "xgb_score =  0.863273519713\n",
      "rf_score =  0.858841462366\n",
      "xgb_score =  0.86258463726\n",
      "rf_score =  0.854932749129\n",
      "      rf_mean =  0.854932749129\n",
      "      xgb_mean =  0.86258463726\n",
      "xgb_score =  0.870995990504\n",
      "rf_score =  0.866987988517\n",
      "xgb_score =  0.865905790333\n",
      "rf_score =  0.860869831956\n",
      "xgb_score =  0.870072089976\n",
      "rf_score =  0.865296390176\n",
      "xgb_score =  0.863160036743\n",
      "rf_score =  0.859116837091\n",
      "xgb_score =  0.853019518513\n",
      "rf_score =  0.852554152468\n",
      "xgb_score =  0.866459813862\n",
      "rf_score =  0.859498161296\n",
      "xgb_score =  0.86988106082\n",
      "rf_score =  0.860306837924\n",
      "xgb_score =  0.862853679818\n",
      "rf_score =  0.862487549973\n",
      "xgb_score =  0.871902021923\n",
      "rf_score =  0.864799355989\n",
      "xgb_score =  0.865899494477\n",
      "rf_score =  0.861512582367\n",
      "xgb_score =  0.856080958459\n",
      "rf_score =  0.854716760051\n",
      "xgb_score =  0.865844649507\n",
      "rf_score =  0.860090123574\n",
      "xgb_score =  0.860667934873\n",
      "rf_score =  0.851450295691\n",
      "xgb_score =  0.867986879754\n",
      "rf_score =  0.859730822362\n",
      "xgb_score =  0.864176653249\n",
      "rf_score =  0.855024956872\n",
      "      rf_mean =  0.855024956872\n",
      "      xgb_mean =  0.864176653249\n",
      "xgb_score =  0.864041781405\n",
      "rf_score =  0.85541243194\n",
      "xgb_score =  0.862157947794\n",
      "rf_score =  0.855113462144\n",
      "xgb_score =  0.854102672139\n",
      "rf_score =  0.850328240807\n",
      "xgb_score =  0.868392263561\n",
      "rf_score =  0.86607982614\n",
      "xgb_score =  0.866247282788\n",
      "rf_score =  0.859817126857\n",
      "xgb_score =  0.867172607141\n",
      "rf_score =  0.862594307217\n",
      "xgb_score =  0.850182143818\n",
      "rf_score =  0.845500874249\n",
      "xgb_score =  0.854102093447\n",
      "rf_score =  0.845663801829\n",
      "xgb_score =  0.859963086941\n",
      "rf_score =  0.852872798973\n",
      "xgb_score =  0.870045319431\n",
      "rf_score =  0.863286689109\n",
      "xgb_score =  0.863792926532\n",
      "rf_score =  0.857400305902\n",
      "xgb_score =  0.851688018208\n",
      "rf_score =  0.847910329244\n",
      "xgb_score =  0.863311185023\n",
      "rf_score =  0.85127546292\n",
      "xgb_score =  0.863429432089\n",
      "rf_score =  0.857746229208\n",
      "xgb_score =  0.87002963882\n",
      "rf_score =  0.859759787703\n",
      "      rf_mean =  0.859759787703\n",
      "      xgb_mean =  0.87002963882\n"
     ]
    }
   ],
   "source": [
    "mean_rf = []\n",
    "mean_xgb = []\n",
    "\n",
    "max_depth_rf = [10, 12, 14, 16, 18, 20, 22, 24, 26, 30]\n",
    "max_depth_xgb = [2, 3, 4, 5, 6, 7, 8, 10, 12, 14]\n",
    "\n",
    "for i,k in zip(max_depth_rf, max_depth_xgb):\n",
    "    for j in range(15):\n",
    "        \n",
    "        param['max_depth'] = k\n",
    "        \n",
    "        roc_auc_score_rf = []\n",
    "        roc_auc_score_xgb = []\n",
    "        \n",
    "        train_data, test_data, y_train, y_test = cross_validation.train_test_split(X_train, y, test_size=0.35)\n",
    "    \n",
    "        ## xgb_cl\n",
    "        Xdatatrain = xgboost.DMatrix(data = train_data, label = y_train.gender)\n",
    "        Xdatatest = xgboost.DMatrix(data = test_data, label = y_test.gender)\n",
    "        plst = list(param.items())\n",
    "        watchlist = [(Xdatatrain, 'train'), (Xdatatest, 'eval')]            \n",
    "        xgb_cl = xgboost.train(params = plst, dtrain = Xdatatrain, num_boost_round = numround)\n",
    "    \n",
    "        ## rf\n",
    "        rf = sklearn.ensemble.RandomForestClassifier(n_estimators=150, max_depth=i)\n",
    "        rf.fit(train_data, y_train)\n",
    "    \n",
    "        res_xgb = sklearn.metrics.roc_auc_score(y_test, xgb_cl.predict(Xdatatest))\n",
    "        print 'xgb_score = ', res_xgb\n",
    "        roc_auc_score_xgb.append(res_xgb)\n",
    "\n",
    "        res_rf = sklearn.metrics.roc_auc_score(y_test, rf.predict_proba(test_data)[ : , 1])\n",
    "        print 'rf_score = ', res_rf\n",
    "        roc_auc_score_rf.append(res_rf)\n",
    "\n",
    "\n",
    "   \n",
    "    mean_rf.append(np.array(roc_auc_score_rf).mean())\n",
    "    print '      rf_mean = ', np.array(roc_auc_score_rf).mean()\n",
    "    mean_xgb.append(np.array(roc_auc_score_xgb).mean())\n",
    "    print '      xgb_mean = ', np.array(roc_auc_score_xgb).mean()"
   ]
  },
  {
   "cell_type": "code",
   "execution_count": 59,
   "metadata": {
    "collapsed": false
   },
   "outputs": [
    {
     "data": {
      "text/plain": [
       "<matplotlib.legend.Legend at 0x116f64cd0>"
      ]
     },
     "execution_count": 59,
     "metadata": {},
     "output_type": "execute_result"
    },
    {
     "data": {
      "image/png": "[encoded data removed]",
      "text/plain": [
       "<matplotlib.figure.Figure at 0x116f64b90>"
      ]
     },
     "metadata": {},
     "output_type": "display_data"
    }
   ],
   "source": [
    "plt.plot(max_depth_rf, mean_rf, c='b')\n",
    "plt.xlabel('max_depth')\n",
    "plt.ylabel('roc_auc_score')\n",
    "plt.legend(['random_forest_score'], loc=0)"
   ]
  },
  {
   "cell_type": "code",
   "execution_count": 60,
   "metadata": {
    "collapsed": false
   },
   "outputs": [
    {
     "data": {
      "text/plain": [
       "<matplotlib.legend.Legend at 0x11902f5d0>"
      ]
     },
     "execution_count": 60,
     "metadata": {},
     "output_type": "execute_result"
    },
    {
     "data": {
      "image/png": "[encoded data removed]",
      "text/plain": [
       "<matplotlib.figure.Figure at 0x11902f390>"
      ]
     },
     "metadata": {},
     "output_type": "display_data"
    }
   ],
   "source": [
    "plt.plot(max_depth_xgb, mean_xgb, c='r')\n",
    "plt.xlabel('max_depth')\n",
    "plt.ylabel('roc_auc_score')\n",
    "plt.legend(['xgb_score'], loc=0)"
   ]
  },
  {
   "cell_type": "code",
   "execution_count": null,
   "metadata": {
    "collapsed": true
   },
   "outputs": [],
   "source": []
  },
  {
   "cell_type": "markdown",
   "metadata": {},
   "source": [
    "# AdaBoost"
   ]
  },
  {
   "cell_type": "markdown",
   "metadata": {},
   "source": [
    "### n_est"
   ]
  },
  {
   "cell_type": "code",
   "execution_count": 96,
   "metadata": {
    "collapsed": false
   },
   "outputs": [],
   "source": [
    "n_est = [30, 50, 70, 90, 110, 130, 150]"
   ]
  },
  {
   "cell_type": "code",
   "execution_count": 97,
   "metadata": {
    "collapsed": false
   },
   "outputs": [],
   "source": [
    "mean_ada = []\n",
    "\n",
    "for n in n_est:\n",
    "    for i in range(10):\n",
    "        \n",
    "        roc_auc_score_ada = []\n",
    "        \n",
    "        train_data, test_data, y_train, y_test = cross_validation.train_test_split(X_train, y, test_size=0.35)\n",
    "        \n",
    "        base_rf = sklearn.ensemble.RandomForestClassifier(n_estimators=10, max_depth=4)\n",
    "        ada_cl = sklearn.ensemble.AdaBoostClassifier(n_estimators=n)\n",
    "        ada_cl.fit(train_data, y_train)\n",
    "        \n",
    "        res_ada = sklearn.metrics.roc_auc_score(y_test, ada_cl.predict_proba(test_data)[ : , 1])\n",
    "        #print res_ada\n",
    "        roc_auc_score_ada.append(res_ada)\n",
    "    mean_ada.append(np.array(roc_auc_score_ada).mean())\n",
    "        "
   ]
  },
  {
   "cell_type": "code",
   "execution_count": 98,
   "metadata": {
    "collapsed": false
   },
   "outputs": [
    {
     "data": {
      "text/plain": [
       "[<matplotlib.lines.Line2D at 0x118c455d0>]"
      ]
     },
     "execution_count": 98,
     "metadata": {},
     "output_type": "execute_result"
    },
    {
     "data": {
      "image/png": "[encoded data removed]",
      "text/plain": [
       "<matplotlib.figure.Figure at 0x11a55fe50>"
      ]
     },
     "metadata": {},
     "output_type": "display_data"
    }
   ],
   "source": [
    "plt.plot(n_est, mean_ada)"
   ]
  },
  {
   "cell_type": "code",
   "execution_count": null,
   "metadata": {
    "collapsed": true
   },
   "outputs": [],
   "source": []
  },
  {
   "cell_type": "code",
   "execution_count": null,
   "metadata": {
    "collapsed": true
   },
   "outputs": [],
   "source": []
  },
  {
   "cell_type": "markdown",
   "metadata": {},
   "source": [
    "### base_est"
   ]
  },
  {
   "cell_type": "code",
   "execution_count": 53,
   "metadata": {
    "collapsed": false
   },
   "outputs": [
    {
     "name": "stdout",
     "output_type": "stream",
     "text": [
      "0.868446804672\n",
      "0.872128534121\n",
      "0.8688153433\n",
      "0.860501811915\n",
      "0.850064053575\n",
      "0.853307351617\n"
     ]
    }
   ],
   "source": [
    "mean_ada = []\n",
    "rf_max_depth = [2, 4, 6, 8, 10, 12]\n",
    "\n",
    "for max_depth in rf_max_depth:\n",
    "    for i in range(10):\n",
    "        \n",
    "        roc_auc_score_ada = []\n",
    "        \n",
    "        train_data, test_data, y_train, y_test = cross_validation.train_test_split(X_train, y, test_size=0.35)\n",
    "        base_rf = sklearn.ensemble.RandomForestClassifier(n_estimators=10, max_depth=max_depth)\n",
    "        \n",
    "        ada_cl = sklearn.ensemble.AdaBoostClassifier(base_estimator=base_rf, n_estimators=110)\n",
    "        ada_cl.fit(train_data, y_train)\n",
    "        \n",
    "        res_ada = sklearn.metrics.roc_auc_score(y_test, ada_cl.predict_proba(test_data)[ : , 1])\n",
    "        #print res_ada\n",
    "        roc_auc_score_ada.append(res_ada)\n",
    "    mean_ada.append(np.array(roc_auc_score_ada).mean())\n",
    "    print np.array(roc_auc_score_ada).mean()"
   ]
  },
  {
   "cell_type": "code",
   "execution_count": 54,
   "metadata": {
    "collapsed": false
   },
   "outputs": [
    {
     "data": {
      "text/plain": [
       "[<matplotlib.lines.Line2D at 0x11680bc50>]"
      ]
     },
     "execution_count": 54,
     "metadata": {},
     "output_type": "execute_result"
    },
    {
     "data": {
      "image/png": "[encoded data removed]",
      "text/plain": [
       "<matplotlib.figure.Figure at 0x11be05890>"
      ]
     },
     "metadata": {},
     "output_type": "display_data"
    }
   ],
   "source": [
    "plt.plot(rf_max_depth, mean_ada)"
   ]
  },
  {
   "cell_type": "code",
   "execution_count": null,
   "metadata": {
    "collapsed": true
   },
   "outputs": [],
   "source": []
  },
  {
   "cell_type": "code",
   "execution_count": null,
   "metadata": {
    "collapsed": true
   },
   "outputs": [],
   "source": []
  },
  {
   "cell_type": "markdown",
   "metadata": {},
   "source": [
    "# General model"
   ]
  },
  {
   "cell_type": "code",
   "execution_count": 62,
   "metadata": {
    "collapsed": true
   },
   "outputs": [],
   "source": [
    "param = {}\n",
    "param['max_depth'] = 5\n",
    "param['booster'] = 'gbtree'\n",
    "param['objective'] = 'binary:logistic'\n",
    "param['eval_metric'] = 'auc'\n",
    "param['eta'] = 0.05\n",
    "param['subsample'] = 0.6\n",
    "param['tree_method'] = 'exact'\n",
    "\n",
    "numround = 400"
   ]
  },
  {
   "cell_type": "code",
   "execution_count": 99,
   "metadata": {
    "collapsed": false
   },
   "outputs": [
    {
     "name": "stderr",
     "output_type": "stream",
     "text": [
      "/Users/Roman/anaconda/lib/python2.7/site-packages/ipykernel/__main__.py:18: DataConversionWarning: A column-vector y was passed when a 1d array was expected. Please change the shape of y to (n_samples,), for example using ravel().\n"
     ]
    }
   ],
   "source": [
    "C_param = [0.2, 0.3, 0.4, 0.6, 1., 1.2]\n",
    "lin_mean = []\n",
    "\n",
    "for c in C_param:\n",
    "    \n",
    "    for i in range(6):\n",
    "        \n",
    "        lin_metric = []\n",
    "        \n",
    "        train_data, test_data, y_train, y_test = cross_validation.train_test_split(X_train, y, test_size=0.4)\n",
    "    \n",
    "        Xdatatrain = xgboost.DMatrix(data = train_data, label = y_train.gender)\n",
    "        plst = list(param.items())\n",
    "        watchlist = [(Xdatatrain, 'train')]            \n",
    "        xgb_cl = xgboost.train(plst, Xdatatrain, numround)\n",
    "    \n",
    "        rf = sklearn.ensemble.RandomForestClassifier(n_estimators=200, max_depth=16)\n",
    "        rf.fit(train_data, y_train)\n",
    "        \n",
    "        base_rf = sklearn.ensemble.RandomForestClassifier(n_estimators=10, max_depth=4)\n",
    "        ada_cl = sklearn.ensemble.AdaBoostClassifier(base_estimator=base_rf, n_estimators=70)\n",
    "        ada_cl.fit(train_data, y_train)\n",
    "        \n",
    "        \n",
    "    \n",
    "        Xdatatest = xgboost.DMatrix(data = test_data, label = y_test.gender)\n",
    "    \n",
    "        xgb_pred = np.array(xgb_cl.predict(Xdatatest))\n",
    "        rf_pred = np.array(rf.predict_proba(test_data)[:,1])\n",
    "        ada_pred = np.array(ada_cl.predict_proba(test_data)[:,1])\n",
    "    \n",
    "        combine_pred = pd.DataFrame([xgb_pred.T, rf_pred.T, ada_pred.T]).T\n",
    "\n",
    "        combine_train, combine_test, combine_y_train, combine_y_test = cross_validation.train_test_split(combine_pred,\n",
    "                                                                                                     y_test,\n",
    "                                                                                                    stratify=y_test,\n",
    "                                                                                                    test_size=0.4)\n",
    "    \n",
    "        lin_cl = linear_model.LogisticRegression(penalty='l1',C=c)\n",
    "        lin_cl.fit(combine_train, combine_y_train)\n",
    "    \n",
    "        lin_metric.append(sklearn.metrics.roc_auc_score(combine_y_test, lin_cl.predict_proba(combine_test)[:,1]))\n",
    "    lin_mean.append(np.array(lin_metric).mean())"
   ]
  },
  {
   "cell_type": "code",
   "execution_count": 100,
   "metadata": {
    "collapsed": false
   },
   "outputs": [
    {
     "data": {
      "text/plain": [
       "[<matplotlib.lines.Line2D at 0x11e0ad850>]"
      ]
     },
     "execution_count": 100,
     "metadata": {},
     "output_type": "execute_result"
    },
    {
     "data": {
      "image/png": "[encoded data removed]",
      "text/plain": [
       "<matplotlib.figure.Figure at 0x118c438d0>"
      ]
     },
     "metadata": {},
     "output_type": "display_data"
    }
   ],
   "source": [
    "plt.plot(C_param, lin_mean)"
   ]
  },
  {
   "cell_type": "markdown",
   "metadata": {},
   "source": [
    "# Make submission"
   ]
  },
  {
   "cell_type": "code",
   "execution_count": 153,
   "metadata": {
    "collapsed": true
   },
   "outputs": [],
   "source": [
    "train_data, test_data, y_train, y_test = cross_validation.train_test_split(X_train, y, test_size=0.05)"
   ]
  },
  {
   "cell_type": "markdown",
   "metadata": {},
   "source": [
    "#### xgb_fit"
   ]
  },
  {
   "cell_type": "code",
   "execution_count": 154,
   "metadata": {
    "collapsed": true
   },
   "outputs": [],
   "source": [
    "param = {}\n",
    "param['max_depth'] = 5\n",
    "param['booster'] = 'gbtree'\n",
    "param['objective'] = 'binary:logistic'\n",
    "param['eval_metric'] = 'auc'\n",
    "param['eta'] = 0.05\n",
    "param['subsample'] = 0.6\n",
    "param['tree_method'] = 'exact'\n",
    "\n",
    "numround = 400"
   ]
  },
  {
   "cell_type": "code",
   "execution_count": 155,
   "metadata": {
    "collapsed": false
   },
   "outputs": [],
   "source": [
    "Xdatatrain = xgboost.DMatrix(data = train_data, label = y_train.gender)\n",
    "plst = list(param.items())\n",
    "watchlist = [(Xdatatrain, 'train')]            \n",
    "xgb_cl = xgboost.train(plst, Xdatatrain, numround)"
   ]
  },
  {
   "cell_type": "markdown",
   "metadata": {},
   "source": [
    "### RF_fit"
   ]
  },
  {
   "cell_type": "code",
   "execution_count": 156,
   "metadata": {
    "collapsed": true
   },
   "outputs": [],
   "source": [
    "rf = sklearn.ensemble.RandomForestClassifier(n_estimators=250, max_depth=16)"
   ]
  },
  {
   "cell_type": "code",
   "execution_count": 157,
   "metadata": {
    "collapsed": false
   },
   "outputs": [
    {
     "name": "stderr",
     "output_type": "stream",
     "text": [
      "/Users/Roman/anaconda/lib/python2.7/site-packages/ipykernel/__main__.py:1: DataConversionWarning: A column-vector y was passed when a 1d array was expected. Please change the shape of y to (n_samples,), for example using ravel().\n",
      "  if __name__ == '__main__':\n"
     ]
    },
    {
     "data": {
      "text/plain": [
       "RandomForestClassifier(bootstrap=True, class_weight=None, criterion='gini',\n",
       "            max_depth=16, max_features='auto', max_leaf_nodes=None,\n",
       "            min_impurity_split=1e-07, min_samples_leaf=1,\n",
       "            min_samples_split=2, min_weight_fraction_leaf=0.0,\n",
       "            n_estimators=250, n_jobs=1, oob_score=False, random_state=None,\n",
       "            verbose=0, warm_start=False)"
      ]
     },
     "execution_count": 157,
     "metadata": {},
     "output_type": "execute_result"
    }
   ],
   "source": [
    "rf.fit(train_data, y_train)"
   ]
  },
  {
   "cell_type": "markdown",
   "metadata": {
    "collapsed": true
   },
   "source": [
    "### ada_fit"
   ]
  },
  {
   "cell_type": "code",
   "execution_count": 64,
   "metadata": {
    "collapsed": true
   },
   "outputs": [],
   "source": [
    "base_rf = sklearn.ensemble.RandomForestClassifier(n_estimators=10, max_depth=4)\n",
    "ada_cl = sklearn.ensemble.AdaBoostClassifier(base_estimator=base_rf, n_estimators=70)"
   ]
  },
  {
   "cell_type": "code",
   "execution_count": 65,
   "metadata": {
    "collapsed": false
   },
   "outputs": [
    {
     "data": {
      "text/plain": [
       "AdaBoostClassifier(algorithm='SAMME.R',\n",
       "          base_estimator=RandomForestClassifier(bootstrap=True, class_weight=None, criterion='gini',\n",
       "            max_depth=4, max_features='auto', max_leaf_nodes=None,\n",
       "            min_impurity_split=1e-07, min_samples_leaf=1,\n",
       "            min_samples_split=2, min_weight_fraction_leaf=0.0,\n",
       "            n_estimators=10, n_jobs=1, oob_score=False, random_state=None,\n",
       "            verbose=0, warm_start=False),\n",
       "          learning_rate=1.0, n_estimators=110, random_state=None)"
      ]
     },
     "execution_count": 65,
     "metadata": {},
     "output_type": "execute_result"
    }
   ],
   "source": [
    "ada_cl.fit(train_data, y_train)"
   ]
  },
  {
   "cell_type": "markdown",
   "metadata": {},
   "source": [
    "## Optimization "
   ]
  },
  {
   "cell_type": "code",
   "execution_count": 127,
   "metadata": {
    "collapsed": true
   },
   "outputs": [],
   "source": [
    "Xdatatest = xgboost.DMatrix(data = test_data, label = y_test.gender)\n",
    "xgb_pred_ans = np.array(xgb_cl.predict(Xdatatest))\n",
    "\n",
    "\n",
    "rf_pred_ans = np.array(rf.predict_proba(test_data)[:,1])"
   ]
  },
  {
   "cell_type": "code",
   "execution_count": 128,
   "metadata": {
    "collapsed": false
   },
   "outputs": [
    {
     "data": {
      "text/plain": [
       "(3960,)"
      ]
     },
     "execution_count": 128,
     "metadata": {},
     "output_type": "execute_result"
    }
   ],
   "source": [
    "rf_pred_ans.shape"
   ]
  },
  {
   "cell_type": "code",
   "execution_count": 129,
   "metadata": {
    "collapsed": false
   },
   "outputs": [
    {
     "data": {
      "text/plain": [
       "(3960,)"
      ]
     },
     "execution_count": 129,
     "metadata": {},
     "output_type": "execute_result"
    }
   ],
   "source": [
    "xgb_pred_ans.shape"
   ]
  },
  {
   "cell_type": "code",
   "execution_count": 130,
   "metadata": {
    "collapsed": false
   },
   "outputs": [
    {
     "data": {
      "text/plain": [
       "(3960, 1)"
      ]
     },
     "execution_count": 130,
     "metadata": {},
     "output_type": "execute_result"
    }
   ],
   "source": [
    "y_test.shape"
   ]
  },
  {
   "cell_type": "code",
   "execution_count": 135,
   "metadata": {
    "collapsed": true
   },
   "outputs": [],
   "source": [
    "def losses_func(w):\n",
    "    return -sklearn.metrics.roc_auc_score(y_test, (xgb_pred_ans*w[0] + rf_pred_ans*w[1]))"
   ]
  },
  {
   "cell_type": "code",
   "execution_count": 136,
   "metadata": {
    "collapsed": false
   },
   "outputs": [],
   "source": [
    "import scipy.optimize as opt\n",
    "x = opt.minimize(losses_func, method='Nelder-Mead', x0=[0.5, 0.5])"
   ]
  },
  {
   "cell_type": "code",
   "execution_count": 151,
   "metadata": {
    "collapsed": false
   },
   "outputs": [
    {
     "name": "stdout",
     "output_type": "stream",
     "text": [
      " final_simplex: (array([[ 0.65244371,  0.31937613],\n",
      "       [ 0.6525367 ,  0.31940298],\n",
      "       [ 0.65237973,  0.31933203]]), array([-0.86999232, -0.86999206, -0.8699918 ]))\n",
      "           fun: -0.86999231770660823\n",
      "       message: 'Optimization terminated successfully.'\n",
      "          nfev: 56\n",
      "           nit: 23\n",
      "        status: 0\n",
      "       success: True\n",
      "             x: array([ 0.65244371,  0.31937613])\n",
      "-0.869992317707\n"
     ]
    }
   ],
   "source": [
    "print x\n",
    "print x.fun"
   ]
  },
  {
   "cell_type": "markdown",
   "metadata": {},
   "source": [
    "### lin_clas.fit"
   ]
  },
  {
   "cell_type": "code",
   "execution_count": 66,
   "metadata": {
    "collapsed": true
   },
   "outputs": [],
   "source": [
    "Xdatatest = xgboost.DMatrix(data = test_data, label = y_test.gender)"
   ]
  },
  {
   "cell_type": "code",
   "execution_count": 72,
   "metadata": {
    "collapsed": false
   },
   "outputs": [],
   "source": [
    "xgb_pred_ans = np.array(xgb_cl.predict(Xdatatest))\n",
    "rf_pred_ans = np.array(rf.predict_proba(test_data)[:,1])\n",
    "#ada_pred_ans = np.array(ada_cl.predict_proba(test_data)[:,1])\n",
    "    \n",
    "combine_pred_lin_cl_fit = pd.DataFrame([xgb_pred_ans.T, rf_pred_ans.T]).T"
   ]
  },
  {
   "cell_type": "code",
   "execution_count": 95,
   "metadata": {
    "collapsed": false
   },
   "outputs": [
    {
     "data": {
      "text/plain": [
       "array([ 0.49722893,  0.49854019,  0.5003506 ,  0.48361565,  0.48578268,\n",
       "        0.49590025,  0.46722023,  0.49396984,  0.5077956 ,  0.51593824,\n",
       "        0.49706136,  0.48361607,  0.51220977,  0.49542903,  0.48685334])"
      ]
     },
     "execution_count": 95,
     "metadata": {},
     "output_type": "execute_result"
    }
   ],
   "source": [
    "ada_pred_ans[:15]"
   ]
  },
  {
   "cell_type": "code",
   "execution_count": 73,
   "metadata": {
    "collapsed": false
   },
   "outputs": [
    {
     "data": {
      "text/plain": [
       "(4200, 3)"
      ]
     },
     "execution_count": 73,
     "metadata": {},
     "output_type": "execute_result"
    }
   ],
   "source": [
    "combine_pred_lin_cl_fit.shape"
   ]
  },
  {
   "cell_type": "code",
   "execution_count": 80,
   "metadata": {
    "collapsed": false
   },
   "outputs": [
    {
     "data": {
      "text/html": [
       "<div>\n",
       "<table border=\"1\" class=\"dataframe\">\n",
       "  <thead>\n",
       "    <tr style=\"text-align: right;\">\n",
       "      <th></th>\n",
       "      <th>0</th>\n",
       "      <th>1</th>\n",
       "      <th>2</th>\n",
       "    </tr>\n",
       "  </thead>\n",
       "  <tbody>\n",
       "    <tr>\n",
       "      <th>0</th>\n",
       "      <td>0.278545</td>\n",
       "      <td>0.384509</td>\n",
       "      <td>0.497229</td>\n",
       "    </tr>\n",
       "    <tr>\n",
       "      <th>1</th>\n",
       "      <td>0.367557</td>\n",
       "      <td>0.391353</td>\n",
       "      <td>0.498540</td>\n",
       "    </tr>\n",
       "    <tr>\n",
       "      <th>2</th>\n",
       "      <td>0.461203</td>\n",
       "      <td>0.395952</td>\n",
       "      <td>0.500351</td>\n",
       "    </tr>\n",
       "  </tbody>\n",
       "</table>\n",
       "</div>"
      ],
      "text/plain": [
       "          0         1         2\n",
       "0  0.278545  0.384509  0.497229\n",
       "1  0.367557  0.391353  0.498540\n",
       "2  0.461203  0.395952  0.500351"
      ]
     },
     "execution_count": 80,
     "metadata": {},
     "output_type": "execute_result"
    }
   ],
   "source": [
    "combine_pred_lin_cl_fit.head(3)"
   ]
  },
  {
   "cell_type": "code",
   "execution_count": 81,
   "metadata": {
    "collapsed": false
   },
   "outputs": [
    {
     "data": {
      "text/plain": [
       "LogisticRegression(C=0.4, class_weight=None, dual=False, fit_intercept=True,\n",
       "          intercept_scaling=1, max_iter=100, multi_class='ovr', n_jobs=1,\n",
       "          penalty='l2', random_state=None, solver='liblinear', tol=0.0001,\n",
       "          verbose=0, warm_start=False)"
      ]
     },
     "execution_count": 81,
     "metadata": {},
     "output_type": "execute_result"
    }
   ],
   "source": [
    "lin_cl = linear_model.LogisticRegression(C=0.4)\n",
    "lin_cl.fit(combine_pred_lin_cl_fit, y_test)"
   ]
  },
  {
   "cell_type": "markdown",
   "metadata": {
    "collapsed": true
   },
   "source": []
  },
  {
   "cell_type": "markdown",
   "metadata": {},
   "source": [
    "# submission"
   ]
  },
  {
   "cell_type": "markdown",
   "metadata": {},
   "source": [
    "### xgb_part"
   ]
  },
  {
   "cell_type": "code",
   "execution_count": 139,
   "metadata": {
    "collapsed": false
   },
   "outputs": [],
   "source": [
    "X_test = X.drop(customers_gender.index)"
   ]
  },
  {
   "cell_type": "code",
   "execution_count": 140,
   "metadata": {
    "collapsed": false
   },
   "outputs": [],
   "source": [
    "Xtestset = xgboost.DMatrix(data = X_test)"
   ]
  },
  {
   "cell_type": "code",
   "execution_count": 141,
   "metadata": {
    "collapsed": true
   },
   "outputs": [],
   "source": [
    "xgb_ans = np.array(xgb_cl.predict(Xtestset))"
   ]
  },
  {
   "cell_type": "markdown",
   "metadata": {},
   "source": [
    "### rf_part"
   ]
  },
  {
   "cell_type": "code",
   "execution_count": 142,
   "metadata": {
    "collapsed": true
   },
   "outputs": [],
   "source": [
    "rf_ans = np.array(rf.predict_proba(X_test))[:,1]"
   ]
  },
  {
   "cell_type": "markdown",
   "metadata": {
    "collapsed": true
   },
   "source": [
    "## ada_part"
   ]
  },
  {
   "cell_type": "code",
   "execution_count": 86,
   "metadata": {
    "collapsed": true
   },
   "outputs": [],
   "source": [
    "ada_ans = np.array(ada_cl.predict_proba(X_test))[:,1]"
   ]
  },
  {
   "cell_type": "code",
   "execution_count": null,
   "metadata": {
    "collapsed": true
   },
   "outputs": [],
   "source": []
  },
  {
   "cell_type": "code",
   "execution_count": 143,
   "metadata": {
    "collapsed": true
   },
   "outputs": [],
   "source": [
    "combine_pred = pd.DataFrame([xgb_ans.T, rf_ans.T]).T"
   ]
  },
  {
   "cell_type": "code",
   "execution_count": 144,
   "metadata": {
    "collapsed": false
   },
   "outputs": [
    {
     "data": {
      "text/plain": [
       "(3000, 262)"
      ]
     },
     "execution_count": 144,
     "metadata": {},
     "output_type": "execute_result"
    }
   ],
   "source": [
    "X_test.shape"
   ]
  },
  {
   "cell_type": "code",
   "execution_count": 145,
   "metadata": {
    "collapsed": false
   },
   "outputs": [
    {
     "data": {
      "text/plain": [
       "(3000, 2)"
      ]
     },
     "execution_count": 145,
     "metadata": {},
     "output_type": "execute_result"
    }
   ],
   "source": [
    "combine_pred.shape"
   ]
  },
  {
   "cell_type": "code",
   "execution_count": 146,
   "metadata": {
    "collapsed": false
   },
   "outputs": [
    {
     "data": {
      "text/html": [
       "<div>\n",
       "<table border=\"1\" class=\"dataframe\">\n",
       "  <thead>\n",
       "    <tr style=\"text-align: right;\">\n",
       "      <th></th>\n",
       "      <th>0</th>\n",
       "      <th>1</th>\n",
       "    </tr>\n",
       "  </thead>\n",
       "  <tbody>\n",
       "    <tr>\n",
       "      <th>0</th>\n",
       "      <td>0.298080</td>\n",
       "      <td>0.575456</td>\n",
       "    </tr>\n",
       "    <tr>\n",
       "      <th>1</th>\n",
       "      <td>0.494784</td>\n",
       "      <td>0.579878</td>\n",
       "    </tr>\n",
       "  </tbody>\n",
       "</table>\n",
       "</div>"
      ],
      "text/plain": [
       "          0         1\n",
       "0  0.298080  0.575456\n",
       "1  0.494784  0.579878"
      ]
     },
     "execution_count": 146,
     "metadata": {},
     "output_type": "execute_result"
    }
   ],
   "source": [
    "combine_pred.head(2)"
   ]
  },
  {
   "cell_type": "code",
   "execution_count": 91,
   "metadata": {
    "collapsed": false
   },
   "outputs": [],
   "source": [
    "result = pd.DataFrame(X_test.index, columns=['customer_id'])\n",
    "result['gender'] = lin_cl.predict_proba(combine_pred)[:,1]\n",
    "result.to_csv('my_sol.csv', index=False)"
   ]
  },
  {
   "cell_type": "code",
   "execution_count": 92,
   "metadata": {
    "collapsed": false
   },
   "outputs": [
    {
     "data": {
      "text/plain": [
       "array([[ 4.09088677,  2.53562011, -0.86453817]])"
      ]
     },
     "execution_count": 92,
     "metadata": {},
     "output_type": "execute_result"
    }
   ],
   "source": [
    "lin_cl.coef_"
   ]
  },
  {
   "cell_type": "code",
   "execution_count": null,
   "metadata": {
    "collapsed": true
   },
   "outputs": [],
   "source": []
  },
  {
   "cell_type": "code",
   "execution_count": null,
   "metadata": {
    "collapsed": true
   },
   "outputs": [],
   "source": []
  },
  {
   "cell_type": "markdown",
   "metadata": {},
   "source": [
    "## Only XGBOOST"
   ]
  },
  {
   "cell_type": "code",
   "execution_count": 32,
   "metadata": {
    "collapsed": true
   },
   "outputs": [],
   "source": [
    "param = {}\n",
    "param['max_depth'] = 5\n",
    "param['booster'] = 'gbtree'\n",
    "param['objective'] = 'binary:logistic'\n",
    "param['eval_metric'] = 'auc'\n",
    "param['eta'] = 0.05\n",
    "param['subsample'] = 0.6\n",
    "param['tree_method'] = 'exact'\n",
    "\n",
    "numround = 400"
   ]
  },
  {
   "cell_type": "code",
   "execution_count": 33,
   "metadata": {
    "collapsed": true
   },
   "outputs": [],
   "source": [
    "Xdatatrain = xgboost.DMatrix(data = X_train, label = y.gender)\n",
    "plst = list(param.items())\n",
    "watchlist = [(Xdatatrain, 'train')]            \n",
    "xgb_cl = xgboost.train(plst, Xdatatrain, numround)"
   ]
  },
  {
   "cell_type": "code",
   "execution_count": 37,
   "metadata": {
    "collapsed": false
   },
   "outputs": [],
   "source": [
    "result = pd.DataFrame(X_test.index, columns=['customer_id'])\n",
    "result['gender'] = xgb_cl.predict(Xtestset)\n",
    "result.to_csv('my_sol.csv', index=False)"
   ]
  },
  {
   "cell_type": "markdown",
   "metadata": {
    "collapsed": true
   },
   "source": [
    "# Submit with OPT coefs"
   ]
  },
  {
   "cell_type": "code",
   "execution_count": 158,
   "metadata": {
    "collapsed": true
   },
   "outputs": [],
   "source": [
    "X_test = X.drop(customers_gender.index)\n",
    "Xtestset = xgboost.DMatrix(data = X_test)"
   ]
  },
  {
   "cell_type": "code",
   "execution_count": 159,
   "metadata": {
    "collapsed": true
   },
   "outputs": [],
   "source": [
    "xgb_ans = np.array(xgb_cl.predict(Xtestset))"
   ]
  },
  {
   "cell_type": "code",
   "execution_count": null,
   "metadata": {
    "collapsed": true
   },
   "outputs": [],
   "source": []
  },
  {
   "cell_type": "code",
   "execution_count": 160,
   "metadata": {
    "collapsed": true
   },
   "outputs": [],
   "source": [
    "rf_ans = np.array(rf.predict_proba(X_test))[:,1]"
   ]
  },
  {
   "cell_type": "code",
   "execution_count": 166,
   "metadata": {
    "collapsed": true
   },
   "outputs": [],
   "source": [
    "result = pd.DataFrame(X_test.index, columns=['customer_id'])\n",
    "result['gender'] = xgb_ans * 0.65244371 + (1-0.65244370) * rf_ans\n",
    "result.head(2)\n",
    "result.to_csv('my_sol.csv', index=False)"
   ]
  },
  {
   "cell_type": "code",
   "execution_count": 168,
   "metadata": {
    "collapsed": false
   },
   "outputs": [
    {
     "data": {
      "text/plain": [
       "(3000, 2)"
      ]
     },
     "execution_count": 168,
     "metadata": {},
     "output_type": "execute_result"
    }
   ],
   "source": [
    "result.shape"
   ]
  },
  {
   "cell_type": "code",
   "execution_count": null,
   "metadata": {
    "collapsed": true
   },
   "outputs": [],
   "source": []
  }
 ],
 "metadata": {
  "anaconda-cloud": {},
  "kernelspec": {
   "display_name": "Python [conda root]",
   "language": "python",
   "name": "conda-root-py"
  },
  "language_info": {
   "codemirror_mode": {
    "name": "ipython",
    "version": 2
   },
   "file_extension": ".py",
   "mimetype": "text/x-python",
   "name": "python",
   "nbconvert_exporter": "python",
   "pygments_lexer": "ipython2",
   "version": "2.7.12"
  }
 },
 "nbformat": 4,
 "nbformat_minor": 1
}
