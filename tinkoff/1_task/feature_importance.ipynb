{
 "cells": [
  {
   "cell_type": "code",
   "execution_count": 1,
   "metadata": {
    "collapsed": false
   },
   "outputs": [
    {
     "name": "stderr",
     "output_type": "stream",
     "text": [
      "/Users/Roman/anaconda/lib/python3.6/site-packages/sklearn/cross_validation.py:44: DeprecationWarning: This module was deprecated in version 0.18 in favor of the model_selection module into which all the refactored classes and functions are moved. Also note that the interface of the new CV iterators are different from that of this module. This module will be removed in 0.20.\n",
      "  \"This module will be removed in 0.20.\", DeprecationWarning)\n"
     ]
    }
   ],
   "source": [
    "import numpy as np\n",
    "import pandas as pd\n",
    "import matplotlib.pyplot as plt\n",
    "%matplotlib inline\n",
    "\n",
    "from sklearn.pipeline import Pipeline\n",
    "from sklearn.linear_model import LinearRegression\n",
    "from sklearn.cross_validation import cross_val_score, train_test_split\n",
    "from sklearn.feature_extraction.text import TfidfVectorizer\n",
    "from sklearn import manifold, decomposition, linear_model, ensemble, neighbors, cross_validation, metrics"
   ]
  },
  {
   "cell_type": "code",
   "execution_count": 2,
   "metadata": {
    "collapsed": false
   },
   "outputs": [
    {
     "name": "stdout",
     "output_type": "stream",
     "text": [
      "<class 'pandas.core.frame.DataFrame'>\n",
      "RangeIndex: 170746 entries, 0 to 170745\n",
      "Data columns (total 51 columns):\n",
      "gender                   170746 non-null int64\n",
      "age                      170746 non-null int64\n",
      "credit_sum               170746 non-null float64\n",
      "credit_month             170746 non-null int64\n",
      "tariff_id                170746 non-null float64\n",
      "score_shk                170746 non-null float64\n",
      "living_region            170746 non-null float64\n",
      "monthly_income           170746 non-null float64\n",
      "credit_count             170746 non-null float64\n",
      "overdue_credit_count     170746 non-null float64\n",
      "high_edu                 170746 non-null bool\n",
      "not_work                 170746 non-null bool\n",
      "usual_workers            170746 non-null bool\n",
      "head_workers             170746 non-null bool\n",
      "have_business            170746 non-null bool\n",
      "single                   170746 non-null bool\n",
      "target_job_position      170746 non-null float64\n",
      "target_marital_status    170746 non-null float64\n",
      "target_education         170746 non-null float64\n",
      "target_tariff_id         170746 non-null float64\n",
      "education_ACD            170746 non-null int64\n",
      "education_GRD            170746 non-null int64\n",
      "education_PGR            170746 non-null int64\n",
      "education_SCH            170746 non-null int64\n",
      "education_UGR            170746 non-null int64\n",
      "job_position_ATP         170746 non-null int64\n",
      "job_position_BIS         170746 non-null int64\n",
      "job_position_BIU         170746 non-null int64\n",
      "job_position_DIR         170746 non-null int64\n",
      "job_position_HSK         170746 non-null int64\n",
      "job_position_INP         170746 non-null int64\n",
      "job_position_INV         170746 non-null int64\n",
      "job_position_NOR         170746 non-null int64\n",
      "job_position_ONB         170746 non-null int64\n",
      "job_position_PNA         170746 non-null int64\n",
      "job_position_PNI         170746 non-null int64\n",
      "job_position_PNS         170746 non-null int64\n",
      "job_position_PNV         170746 non-null int64\n",
      "job_position_SPC         170746 non-null int64\n",
      "job_position_UMN         170746 non-null int64\n",
      "job_position_WOI         170746 non-null int64\n",
      "job_position_WRK         170746 non-null int64\n",
      "job_position_WRP         170746 non-null int64\n",
      "marital_status_CIV       170746 non-null int64\n",
      "marital_status_DIV       170746 non-null int64\n",
      "marital_status_MAR       170746 non-null int64\n",
      "marital_status_UNM       170746 non-null int64\n",
      "marital_status_WID       170746 non-null int64\n",
      "credit_pay               170746 non-null float64\n",
      "money_for_life           170746 non-null float64\n",
      "dif_city                 170746 non-null float64\n",
      "dtypes: bool(6), float64(14), int64(31)\n",
      "memory usage: 59.6 MB\n"
     ]
    }
   ],
   "source": [
    "train = pd.read_csv(\"datasets/train_base.csv\")\n",
    "y = train.target\n",
    "train.drop([\"target\",\"client_id\"], axis=1, inplace=True)\n",
    "train.info()"
   ]
  },
  {
   "cell_type": "code",
   "execution_count": 4,
   "metadata": {
    "collapsed": false
   },
   "outputs": [
    {
     "name": "stdout",
     "output_type": "stream",
     "text": [
      "0.739660059758\n"
     ]
    }
   ],
   "source": [
    "train_data, test_data, y_train, y_test = train_test_split(train, y, test_size = 0.25, stratify = y)\n",
    "rf = ensemble.RandomForestClassifier(n_estimators=250, class_weight=\"balanced\", max_features='auto', n_jobs=-1)\n",
    "rf.fit(train_data, y_train)\n",
    "preds = rf.predict_proba(test_data)\n",
    "print(metrics.roc_auc_score(y_test, preds[:,1]))"
   ]
  },
  {
   "cell_type": "code",
   "execution_count": null,
   "metadata": {
    "collapsed": false
   },
   "outputs": [],
   "source": [
    "plt.scatter(x = np.arange(len(train_data.columns)), y=rf.feature_importances_)"
   ]
  },
  {
   "cell_type": "code",
   "execution_count": null,
   "metadata": {
    "collapsed": false
   },
   "outputs": [],
   "source": [
    "importances = rf.feature_importances_\n",
    "indices = np.argsort(importances)[::-1]\n",
    "std = np.std([tree.feature_importances_ for tree in rf.estimators_],\n",
    "             axis=0)"
   ]
  },
  {
   "cell_type": "code",
   "execution_count": null,
   "metadata": {
    "collapsed": false
   },
   "outputs": [],
   "source": [
    "plt.figure(figsize=(30,6))\n",
    "plt.title(\"Feature importances\")\n",
    "plt.bar(range(14), importances[indices][:14],\n",
    "       color=\"r\", yerr=std[indices][:14], align=\"center\")\n",
    "plt.xticks(range(14), train_data[indices[:14]])\n",
    "plt.xlim([-1, 14])\n",
    "plt.show()"
   ]
  },
  {
   "cell_type": "code",
   "execution_count": null,
   "metadata": {
    "collapsed": false
   },
   "outputs": [],
   "source": [
    "plt.hist(np.diff(test.score_shk), bins=100)"
   ]
  }
 ],
 "metadata": {
  "anaconda-cloud": {},
  "kernelspec": {
   "display_name": "Python 3",
   "language": "python",
   "name": "python3"
  },
  "language_info": {
   "codemirror_mode": {
    "name": "ipython",
    "version": 3
   },
   "file_extension": ".py",
   "mimetype": "text/x-python",
   "name": "python",
   "nbconvert_exporter": "python",
   "pygments_lexer": "ipython3",
   "version": "3.6.0"
  }
 },
 "nbformat": 4,
 "nbformat_minor": 1
}
