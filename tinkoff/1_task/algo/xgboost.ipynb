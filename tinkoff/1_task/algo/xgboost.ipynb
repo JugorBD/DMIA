{
 "cells": [
  {
   "cell_type": "code",
   "execution_count": 1,
   "metadata": {
    "collapsed": false
   },
   "outputs": [
    {
     "name": "stderr",
     "output_type": "stream",
     "text": [
      "/Users/Roman/anaconda/lib/python3.6/site-packages/sklearn/cross_validation.py:44: DeprecationWarning: This module was deprecated in version 0.18 in favor of the model_selection module into which all the refactored classes and functions are moved. Also note that the interface of the new CV iterators are different from that of this module. This module will be removed in 0.20.\n",
      "  \"This module will be removed in 0.20.\", DeprecationWarning)\n"
     ]
    }
   ],
   "source": [
    "import numpy as np\n",
    "import pandas as pd\n",
    "import matplotlib.pyplot as plt\n",
    "%matplotlib inline\n",
    "\n",
    "from sklearn.pipeline import Pipeline\n",
    "from sklearn.linear_model import LinearRegression\n",
    "from sklearn.cross_validation import cross_val_score, train_test_split\n",
    "from sklearn.feature_extraction.text import TfidfVectorizer\n",
    "from sklearn import manifold, decomposition, linear_model, ensemble, neighbors, cross_validation, metrics\n",
    "\n",
    "\n",
    "import xgboost\n",
    "from xgboost import DMatrix"
   ]
  },
  {
   "cell_type": "code",
   "execution_count": 2,
   "metadata": {
    "collapsed": false
   },
   "outputs": [],
   "source": [
    "train = pd.read_csv(\"../datasets/train_base.csv\")\n",
    "test = pd.read_csv(\"../datasets/test_base.csv\")"
   ]
  },
  {
   "cell_type": "code",
   "execution_count": 3,
   "metadata": {
    "collapsed": false
   },
   "outputs": [
    {
     "data": {
      "text/html": [
       "<div>\n",
       "<table border=\"1\" class=\"dataframe\">\n",
       "  <thead>\n",
       "    <tr style=\"text-align: right;\">\n",
       "      <th></th>\n",
       "      <th>client_id</th>\n",
       "      <th>gender</th>\n",
       "      <th>age</th>\n",
       "      <th>credit_sum</th>\n",
       "      <th>credit_month</th>\n",
       "      <th>tariff_id</th>\n",
       "      <th>score_shk</th>\n",
       "      <th>living_region</th>\n",
       "      <th>monthly_income</th>\n",
       "      <th>credit_count</th>\n",
       "      <th>...</th>\n",
       "      <th>job_position_WRP</th>\n",
       "      <th>marital_status_CIV</th>\n",
       "      <th>marital_status_DIV</th>\n",
       "      <th>marital_status_MAR</th>\n",
       "      <th>marital_status_UNM</th>\n",
       "      <th>marital_status_WID</th>\n",
       "      <th>credit_pay</th>\n",
       "      <th>money_for_life</th>\n",
       "      <th>dif_city</th>\n",
       "      <th>target</th>\n",
       "    </tr>\n",
       "  </thead>\n",
       "  <tbody>\n",
       "    <tr>\n",
       "      <th>0</th>\n",
       "      <td>1</td>\n",
       "      <td>1</td>\n",
       "      <td>48</td>\n",
       "      <td>59998.0</td>\n",
       "      <td>10</td>\n",
       "      <td>1.6</td>\n",
       "      <td>0.770249</td>\n",
       "      <td>37297.641479</td>\n",
       "      <td>30000.0</td>\n",
       "      <td>1.0</td>\n",
       "      <td>...</td>\n",
       "      <td>0</td>\n",
       "      <td>0</td>\n",
       "      <td>0</td>\n",
       "      <td>1</td>\n",
       "      <td>0</td>\n",
       "      <td>0</td>\n",
       "      <td>5999.800000</td>\n",
       "      <td>24000.200000</td>\n",
       "      <td>-7297.641479</td>\n",
       "      <td>0</td>\n",
       "    </tr>\n",
       "    <tr>\n",
       "      <th>1</th>\n",
       "      <td>2</td>\n",
       "      <td>0</td>\n",
       "      <td>28</td>\n",
       "      <td>10889.0</td>\n",
       "      <td>6</td>\n",
       "      <td>1.1</td>\n",
       "      <td>0.248514</td>\n",
       "      <td>57219.334894</td>\n",
       "      <td>43000.0</td>\n",
       "      <td>2.0</td>\n",
       "      <td>...</td>\n",
       "      <td>0</td>\n",
       "      <td>0</td>\n",
       "      <td>0</td>\n",
       "      <td>1</td>\n",
       "      <td>0</td>\n",
       "      <td>0</td>\n",
       "      <td>1814.833333</td>\n",
       "      <td>41185.166667</td>\n",
       "      <td>-14219.334894</td>\n",
       "      <td>0</td>\n",
       "    </tr>\n",
       "  </tbody>\n",
       "</table>\n",
       "<p>2 rows × 53 columns</p>\n",
       "</div>"
      ],
      "text/plain": [
       "   client_id  gender  age  credit_sum  credit_month  tariff_id  score_shk  \\\n",
       "0          1       1   48     59998.0            10        1.6   0.770249   \n",
       "1          2       0   28     10889.0             6        1.1   0.248514   \n",
       "\n",
       "   living_region  monthly_income  credit_count   ...    job_position_WRP  \\\n",
       "0   37297.641479         30000.0           1.0   ...                   0   \n",
       "1   57219.334894         43000.0           2.0   ...                   0   \n",
       "\n",
       "  marital_status_CIV marital_status_DIV marital_status_MAR marital_status_UNM  \\\n",
       "0                  0                  0                  1                  0   \n",
       "1                  0                  0                  1                  0   \n",
       "\n",
       "  marital_status_WID   credit_pay  money_for_life      dif_city  target  \n",
       "0                  0  5999.800000    24000.200000  -7297.641479       0  \n",
       "1                  0  1814.833333    41185.166667 -14219.334894       0  \n",
       "\n",
       "[2 rows x 53 columns]"
      ]
     },
     "execution_count": 3,
     "metadata": {},
     "output_type": "execute_result"
    }
   ],
   "source": [
    "train.head(2)"
   ]
  },
  {
   "cell_type": "code",
   "execution_count": 4,
   "metadata": {
    "collapsed": false
   },
   "outputs": [],
   "source": [
    "y = train.target\n",
    "train.drop(\"target\", axis=1, inplace=True)\n",
    "train.drop(\"client_id\", axis=1, inplace=True)\n",
    "\n",
    "ans = test[[\"client_id\"]]\n",
    "test.drop(\"client_id\", axis=1, inplace=True)"
   ]
  },
  {
   "cell_type": "code",
   "execution_count": 5,
   "metadata": {
    "collapsed": false
   },
   "outputs": [],
   "source": [
    "Dtrain = DMatrix(data=train.to_sparse(), label=y)"
   ]
  },
  {
   "cell_type": "code",
   "execution_count": 6,
   "metadata": {
    "collapsed": true
   },
   "outputs": [],
   "source": [
    "seed = 0\n",
    "np.random.seed(seed=seed)"
   ]
  },
  {
   "cell_type": "code",
   "execution_count": 9,
   "metadata": {
    "collapsed": false
   },
   "outputs": [
    {
     "name": "stdout",
     "output_type": "stream",
     "text": [
      "[0]\ttrain-auc:0.71423+0.00190277\ttest-auc:0.710527+0.0014376\n",
      "[25]\ttrain-auc:0.768292+0.00031682\ttest-auc:0.757606+0.00128008\n",
      "[50]\ttrain-auc:0.780066+0.000285646\ttest-auc:0.762935+0.0006824\n",
      "[75]\ttrain-auc:0.786699+0.00133588\ttest-auc:0.764337+0.000812095\n",
      "[100]\ttrain-auc:0.791638+0.000864781\ttest-auc:0.764913+0.00099811\n",
      "[125]\ttrain-auc:0.796025+0.000987236\ttest-auc:0.765381+0.00107375\n",
      "[150]\ttrain-auc:0.800411+0.00104445\ttest-auc:0.7655+0.000935577\n",
      "[175]\ttrain-auc:0.804273+0.00146155\ttest-auc:0.765378+0.000956299\n"
     ]
    }
   ],
   "source": [
    "param = {\n",
    "    \"max_depth\" : 5,\n",
    "    \"eta\" : 0.15,\n",
    "    \"objective\": \"binary:logistic\",\n",
    "    \"eval_metric\": \"auc\",\n",
    "}\n",
    "\n",
    "numround = 400\n",
    "history = xgboost.cv(params=param, dtrain=Dtrain, num_boost_round=numround, nfold=3, stratified=True,\\\n",
    "                     early_stopping_rounds=25, verbose_eval=25, seed=seed)"
   ]
  },
  {
   "cell_type": "code",
   "execution_count": null,
   "metadata": {
    "collapsed": false
   },
   "outputs": [],
   "source": [
    "history.tail(2)"
   ]
  },
  {
   "cell_type": "code",
   "execution_count": null,
   "metadata": {
    "collapsed": false
   },
   "outputs": [],
   "source": [
    "from hyperopt import hp\n",
    "from hyperopt import fmin, tpe, hp, STATUS_OK, Trials"
   ]
  },
  {
   "cell_type": "code",
   "execution_count": null,
   "metadata": {
    "collapsed": false,
    "scrolled": false
   },
   "outputs": [],
   "source": [
    "def objective(space):\n",
    "    print(space)\n",
    "    \n",
    "    \n",
    "    \n",
    "    \n",
    "    res = metrics.roc_auc_score(y_test, y_ans)\n",
    "    print(res)\n",
    "    return{'loss': -res, 'status': STATUS_OK}\n",
    "\n",
    "\n",
    "space ={\n",
    "        'n_estimators' : hp.quniform('n_estimators', 100, 600, 1),\n",
    "        'eta' : hp.uniform('eta', 0.01, 0.4),\n",
    "        'max_depth' : hp.quniform('max_depth', 3, 10, 1),\n",
    "}\n",
    "\n",
    "\n",
    "trials = Trials()\n",
    "best = fmin(fn=objective,\n",
    "            space=space,\n",
    "            algo=tpe.suggest,\n",
    "            max_evals=75,\n",
    "            trials=trials)\n",
    "\n",
    "print(best)"
   ]
  },
  {
   "cell_type": "code",
   "execution_count": null,
   "metadata": {
    "collapsed": false
   },
   "outputs": [],
   "source": [
    "print test.shape"
   ]
  },
  {
   "cell_type": "code",
   "execution_count": 10,
   "metadata": {
    "collapsed": false
   },
   "outputs": [],
   "source": [
    "param = {\n",
    "    \"max_depth\" : 5,\n",
    "    \"eta\" : 0.12,\n",
    "    \"objective\": \"binary:logistic\",\n",
    "    \"eval_metric\": \"auc\",\n",
    "}\n",
    "\n",
    "numround = 160\n",
    "bst = xgboost.train(params=param, dtrain=Dtrain, num_boost_round=numround)"
   ]
  },
  {
   "cell_type": "code",
   "execution_count": 11,
   "metadata": {
    "collapsed": false
   },
   "outputs": [
    {
     "name": "stderr",
     "output_type": "stream",
     "text": [
      "/Users/Roman/anaconda/lib/python3.6/site-packages/ipykernel/__main__.py:2: SettingWithCopyWarning: \n",
      "A value is trying to be set on a copy of a slice from a DataFrame.\n",
      "Try using .loc[row_indexer,col_indexer] = value instead\n",
      "\n",
      "See the caveats in the documentation: http://pandas.pydata.org/pandas-docs/stable/indexing.html#indexing-view-versus-copy\n",
      "  from ipykernel import kernelapp as app\n",
      "/Users/Roman/anaconda/lib/python3.6/site-packages/pandas/core/frame.py:2834: SettingWithCopyWarning: \n",
      "A value is trying to be set on a copy of a slice from a DataFrame\n",
      "\n",
      "See the caveats in the documentation: http://pandas.pydata.org/pandas-docs/stable/indexing.html#indexing-view-versus-copy\n",
      "  **kwargs)\n"
     ]
    }
   ],
   "source": [
    "y_ans = bst.predict(DMatrix(data=test.to_sparse()))\n",
    "ans['val'] = y_ans\n",
    "ans.rename(columns={\"client_id\":\"_ID_\", \"val\":\"_VAL_\"}, inplace=True)\n",
    "ans.to_csv(\"../solutions/xgboost_base_test.csv\", index=False, sep=\",\", header=False)"
   ]
  },
  {
   "cell_type": "code",
   "execution_count": null,
   "metadata": {
    "collapsed": true
   },
   "outputs": [],
   "source": []
  }
 ],
 "metadata": {
  "anaconda-cloud": {},
  "kernelspec": {
   "display_name": "Python 3",
   "language": "python",
   "name": "python3"
  },
  "language_info": {
   "codemirror_mode": {
    "name": "ipython",
    "version": 3
   },
   "file_extension": ".py",
   "mimetype": "text/x-python",
   "name": "python",
   "nbconvert_exporter": "python",
   "pygments_lexer": "ipython3",
   "version": "3.6.0"
  }
 },
 "nbformat": 4,
 "nbformat_minor": 1
}
