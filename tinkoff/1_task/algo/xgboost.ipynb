{
 "cells": [
  {
   "cell_type": "code",
   "execution_count": 1,
   "metadata": {
    "collapsed": false
   },
   "outputs": [
    {
     "name": "stderr",
     "output_type": "stream",
     "text": [
      "/Users/Roman/anaconda/lib/python3.6/site-packages/sklearn/cross_validation.py:44: DeprecationWarning: This module was deprecated in version 0.18 in favor of the model_selection module into which all the refactored classes and functions are moved. Also note that the interface of the new CV iterators are different from that of this module. This module will be removed in 0.20.\n",
      "  \"This module will be removed in 0.20.\", DeprecationWarning)\n"
     ]
    }
   ],
   "source": [
    "import numpy as np\n",
    "import pandas as pd\n",
    "import matplotlib.pyplot as plt\n",
    "%matplotlib inline\n",
    "\n",
    "from sklearn.pipeline import Pipeline\n",
    "from sklearn.linear_model import LinearRegression\n",
    "from sklearn.cross_validation import cross_val_score, train_test_split\n",
    "from sklearn.feature_extraction.text import TfidfVectorizer\n",
    "from sklearn import manifold, decomposition, linear_model, ensemble, neighbors, cross_validation, metrics\n",
    "\n",
    "\n",
    "import xgboost\n",
    "from xgboost import DMatrix"
   ]
  },
  {
   "cell_type": "code",
   "execution_count": 45,
   "metadata": {
    "collapsed": false
   },
   "outputs": [],
   "source": [
    "train = pd.read_csv(\"../datasets/train_without_oversampling_sigmoid_shk.csv\")\n",
    "test = pd.read_csv(\"../datasets/test_without_oversampling_shk.csv\")"
   ]
  },
  {
   "cell_type": "code",
   "execution_count": 46,
   "metadata": {
    "collapsed": false
   },
   "outputs": [],
   "source": [
    "y = train.target\n",
    "train.drop(\"target\", axis=1, inplace=True)\n",
    "train.drop(\"client_id\", axis=1, inplace=True)\n",
    "\n",
    "ans = test[[\"client_id\"]]\n",
    "test.drop(\"client_id\", axis=1, inplace=True)"
   ]
  },
  {
   "cell_type": "code",
   "execution_count": 47,
   "metadata": {
    "collapsed": false
   },
   "outputs": [],
   "source": [
    "Dtrain = DMatrix(data=train.to_sparse(), label=y)"
   ]
  },
  {
   "cell_type": "code",
   "execution_count": 48,
   "metadata": {
    "collapsed": true
   },
   "outputs": [],
   "source": [
    "seed = 0\n",
    "np.random.seed(seed=seed)"
   ]
  },
  {
   "cell_type": "code",
   "execution_count": 49,
   "metadata": {
    "collapsed": false
   },
   "outputs": [
    {
     "name": "stdout",
     "output_type": "stream",
     "text": [
      "[0]\ttrain-auc:0.754274+0.00137568\ttest-auc:0.735893+0.0030782\n",
      "[25]\ttrain-auc:0.788698+0.000415323\ttest-auc:0.754167+0.00194882\n",
      "[50]\ttrain-auc:0.804261+0.000685741\ttest-auc:0.757865+0.00166833\n",
      "[75]\ttrain-auc:0.818823+0.000528663\ttest-auc:0.760028+0.00162164\n",
      "[100]\ttrain-auc:0.831525+0.000449956\ttest-auc:0.761211+0.00162835\n",
      "[125]\ttrain-auc:0.843533+0.000179635\ttest-auc:0.762078+0.00131463\n",
      "[150]\ttrain-auc:0.853756+0.000977566\ttest-auc:0.762642+0.00141715\n",
      "[175]\ttrain-auc:0.861022+0.00131443\ttest-auc:0.76309+0.00142443\n",
      "[200]\ttrain-auc:0.86669+0.00159413\ttest-auc:0.763386+0.00140179\n",
      "[225]\ttrain-auc:0.871633+0.00186638\ttest-auc:0.763738+0.00132419\n",
      "[250]\ttrain-auc:0.875901+0.00208631\ttest-auc:0.76397+0.00142113\n",
      "[275]\ttrain-auc:0.879737+0.00206034\ttest-auc:0.764145+0.00146395\n",
      "[300]\ttrain-auc:0.88359+0.0024612\ttest-auc:0.764212+0.00148428\n",
      "[325]\ttrain-auc:0.887294+0.0022311\ttest-auc:0.764216+0.00151981\n"
     ]
    }
   ],
   "source": [
    "param = {\n",
    "    \"max_depth\" : 10,\n",
    "    \"eta\" : 0.03,\n",
    "    \"objective\": \"binary:logistic\",\n",
    "    \"eval_metric\": \"auc\",\n",
    "    \"max_delta_step\": 2,\n",
    "    \"alpha\": 2,\n",
    "    \"lambda\": 2,\n",
    "    \"colsample_bytree\": 0.8,\n",
    "}\n",
    "\n",
    "numround = 400\n",
    "history = xgboost.cv(params=param, dtrain=Dtrain, num_boost_round=numround, nfold=3, stratified=True,\\\n",
    "                     early_stopping_rounds=25, verbose_eval=25, seed=seed)"
   ]
  },
  {
   "cell_type": "code",
   "execution_count": 50,
   "metadata": {
    "collapsed": false
   },
   "outputs": [
    {
     "data": {
      "text/html": [
       "<div>\n",
       "<table border=\"1\" class=\"dataframe\">\n",
       "  <thead>\n",
       "    <tr style=\"text-align: right;\">\n",
       "      <th></th>\n",
       "      <th>test-auc-mean</th>\n",
       "      <th>test-auc-std</th>\n",
       "      <th>train-auc-mean</th>\n",
       "      <th>train-auc-std</th>\n",
       "    </tr>\n",
       "  </thead>\n",
       "  <tbody>\n",
       "    <tr>\n",
       "      <th>306</th>\n",
       "      <td>0.764242</td>\n",
       "      <td>0.001494</td>\n",
       "      <td>0.884415</td>\n",
       "      <td>0.002313</td>\n",
       "    </tr>\n",
       "    <tr>\n",
       "      <th>307</th>\n",
       "      <td>0.764268</td>\n",
       "      <td>0.001500</td>\n",
       "      <td>0.884698</td>\n",
       "      <td>0.002201</td>\n",
       "    </tr>\n",
       "  </tbody>\n",
       "</table>\n",
       "</div>"
      ],
      "text/plain": [
       "     test-auc-mean  test-auc-std  train-auc-mean  train-auc-std\n",
       "306       0.764242      0.001494        0.884415       0.002313\n",
       "307       0.764268      0.001500        0.884698       0.002201"
      ]
     },
     "execution_count": 50,
     "metadata": {},
     "output_type": "execute_result"
    }
   ],
   "source": [
    "history.tail(2)"
   ]
  },
  {
   "cell_type": "code",
   "execution_count": null,
   "metadata": {
    "collapsed": false
   },
   "outputs": [],
   "source": [
    "from hyperopt import hp\n",
    "from hyperopt import fmin, tpe, hp, STATUS_OK, Trials"
   ]
  },
  {
   "cell_type": "code",
   "execution_count": null,
   "metadata": {
    "collapsed": false,
    "scrolled": false
   },
   "outputs": [],
   "source": [
    "def objective(space):\n",
    "    print(space)\n",
    "    \n",
    "    \n",
    "    \n",
    "    \n",
    "    res = metrics.roc_auc_score(y_test, y_ans)\n",
    "    print(res)\n",
    "    return{'loss': -res, 'status': STATUS_OK}\n",
    "\n",
    "\n",
    "space ={\n",
    "        'n_estimators' : hp.quniform('n_estimators', 100, 600, 1),\n",
    "        'eta' : hp.uniform('eta', 0.01, 0.4),\n",
    "        'max_depth' : hp.quniform('max_depth', 3, 10, 1),\n",
    "}\n",
    "\n",
    "\n",
    "trials = Trials()\n",
    "best = fmin(fn=objective,\n",
    "            space=space,\n",
    "            algo=tpe.suggest,\n",
    "            max_evals=75,\n",
    "            trials=trials)\n",
    "\n",
    "print(best)"
   ]
  },
  {
   "cell_type": "code",
   "execution_count": null,
   "metadata": {
    "collapsed": false
   },
   "outputs": [],
   "source": [
    "print test.shape"
   ]
  },
  {
   "cell_type": "code",
   "execution_count": 53,
   "metadata": {
    "collapsed": false
   },
   "outputs": [],
   "source": [
    "param = {\n",
    "    \"max_depth\" : 9,\n",
    "    \"eta\" : 0.05,\n",
    "    \"objective\": \"binary:logistic\",\n",
    "    \"eval_metric\": \"auc\",\n",
    "    \"max_delta_step\": 2,\n",
    "    \"alpha\": 2,\n",
    "    \"lambda\": 2,\n",
    "}\n",
    "\n",
    "numround = 400\n",
    "bst = xgboost.train(params=param, dtrain=Dtrain, num_boost_round=numround)"
   ]
  },
  {
   "cell_type": "code",
   "execution_count": 54,
   "metadata": {
    "collapsed": false
   },
   "outputs": [
    {
     "name": "stderr",
     "output_type": "stream",
     "text": [
      "/Users/Roman/anaconda/lib/python3.6/site-packages/ipykernel/__main__.py:2: SettingWithCopyWarning: \n",
      "A value is trying to be set on a copy of a slice from a DataFrame.\n",
      "Try using .loc[row_indexer,col_indexer] = value instead\n",
      "\n",
      "See the caveats in the documentation: http://pandas.pydata.org/pandas-docs/stable/indexing.html#indexing-view-versus-copy\n",
      "  from ipykernel import kernelapp as app\n",
      "/Users/Roman/anaconda/lib/python3.6/site-packages/pandas/core/frame.py:2834: SettingWithCopyWarning: \n",
      "A value is trying to be set on a copy of a slice from a DataFrame\n",
      "\n",
      "See the caveats in the documentation: http://pandas.pydata.org/pandas-docs/stable/indexing.html#indexing-view-versus-copy\n",
      "  **kwargs)\n"
     ]
    }
   ],
   "source": [
    "y_ans = bst.predict(DMatrix(data=test.to_sparse()))\n",
    "ans['val'] = y_ans\n",
    "ans.rename(columns={\"client_id\":\"_ID_\", \"val\":\"_VAL_\"}, inplace=True)\n",
    "ans.to_csv(\"../solutions/xgboost_random_oversampling_sigmoid_shk.csv\", index=False, sep=\",\", header=False)"
   ]
  },
  {
   "cell_type": "code",
   "execution_count": null,
   "metadata": {
    "collapsed": true
   },
   "outputs": [],
   "source": []
  }
 ],
 "metadata": {
  "anaconda-cloud": {},
  "kernelspec": {
   "display_name": "Python 3",
   "language": "python",
   "name": "python3"
  },
  "language_info": {
   "codemirror_mode": {
    "name": "ipython",
    "version": 3
   },
   "file_extension": ".py",
   "mimetype": "text/x-python",
   "name": "python",
   "nbconvert_exporter": "python",
   "pygments_lexer": "ipython3",
   "version": "3.6.0"
  }
 },
 "nbformat": 4,
 "nbformat_minor": 1
}
