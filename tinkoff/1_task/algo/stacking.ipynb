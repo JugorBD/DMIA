{
 "cells": [
  {
   "cell_type": "code",
   "execution_count": 1,
   "metadata": {
    "collapsed": false
   },
   "outputs": [
    {
     "name": "stderr",
     "output_type": "stream",
     "text": [
      "/Users/Roman/anaconda/lib/python3.6/site-packages/sklearn/cross_validation.py:44: DeprecationWarning: This module was deprecated in version 0.18 in favor of the model_selection module into which all the refactored classes and functions are moved. Also note that the interface of the new CV iterators are different from that of this module. This module will be removed in 0.20.\n",
      "  \"This module will be removed in 0.20.\", DeprecationWarning)\n"
     ]
    }
   ],
   "source": [
    "import numpy as np\n",
    "import pandas as pd\n",
    "import matplotlib.pyplot as plt\n",
    "%matplotlib inline\n",
    "\n",
    "from sklearn.pipeline import Pipeline\n",
    "from sklearn.linear_model import LinearRegression\n",
    "from sklearn.cross_validation import cross_val_score, train_test_split\n",
    "from sklearn.feature_extraction.text import TfidfVectorizer\n",
    "from sklearn import manifold, decomposition, linear_model, ensemble, neighbors, cross_validation,\\\n",
    "metrics, model_selection, base, neighbors, svm, preprocessing\n",
    "\n",
    "\n",
    "\n",
    "import xgboost\n",
    "from xgboost import DMatrix"
   ]
  },
  {
   "cell_type": "code",
   "execution_count": 2,
   "metadata": {
    "collapsed": true
   },
   "outputs": [],
   "source": [
    "datasets_name = [\"base\", \"credit_pay\", \"target_encode\", \"simple\"]"
   ]
  },
  {
   "cell_type": "code",
   "execution_count": 3,
   "metadata": {
    "collapsed": true
   },
   "outputs": [],
   "source": [
    "train_datasets = [pd.read_csv(\"../datasets/train_{0}.csv\".format(name)) for name in datasets_name]\n",
    "test_datasets = [pd.read_csv(\"../datasets/test_{0}.csv\".format(name)) for name in datasets_name]"
   ]
  },
  {
   "cell_type": "code",
   "execution_count": 4,
   "metadata": {
    "collapsed": false
   },
   "outputs": [],
   "source": [
    "targets = []\n",
    "ans = []\n",
    "for train, test in zip(train_datasets, test_datasets):\n",
    "    targets.append(train.target)\n",
    "    train.drop(\"target\", axis=1, inplace=True)\n",
    "    train.drop(\"client_id\", axis=1, inplace=True)\n",
    "\n",
    "    ans.append(test[[\"client_id\"]])\n",
    "    test.drop(\"client_id\", axis=1, inplace=True)"
   ]
  },
  {
   "cell_type": "code",
   "execution_count": 5,
   "metadata": {
    "collapsed": true
   },
   "outputs": [],
   "source": [
    "seed = 0\n",
    "np.random.seed(seed=seed)"
   ]
  },
  {
   "cell_type": "code",
   "execution_count": 6,
   "metadata": {
    "collapsed": false
   },
   "outputs": [],
   "source": [
    "ET_gini = ensemble.ExtraTreesClassifier(n_estimators=700, n_jobs=-1, bootstrap=True, max_features=0.4, \n",
    "                          max_depth=25, criterion='gini', random_state = 0, class_weight = \"balanced\")\n",
    "\n",
    "ET_entropy = ensemble.ExtraTreesClassifier(n_estimators=700, n_jobs=-1, bootstrap=True, max_features=0.4, \n",
    "                          max_depth=25, criterion=\"entropy\", random_state = 0, class_weight = \"balanced\")\n",
    "\n",
    "RF_gini = ensemble.RandomForestClassifier(n_estimators=700, n_jobs=-1, max_depth=25, max_features=0.4, random_state=0,\n",
    "                                    class_weight = \"balanced\")\n",
    "\n",
    "RF_entropy = ensemble.RandomForestClassifier(n_estimators=700, n_jobs=-1, max_depth=25, max_features=0.4,\\\n",
    "                                             criterion=\"entropy\", random_state=0, class_weight = \"balanced\")\n",
    "\n",
    "adaboost = ensemble.AdaBoostClassifier(n_estimators=250, learning_rate=0.07, random_state=0)\n",
    "\n",
    "lin_cl = linear_model.LogisticRegression(C=0.85, penalty=\"l1\", class_weight=\"balanced\", n_jobs=-1,\\\n",
    "                                         random_state=0)\n",
    "\n",
    "xgb = xgboost.XGBClassifier(max_depth=5, learning_rate=0.1, n_estimators=300, seed=0)"
   ]
  },
  {
   "cell_type": "code",
   "execution_count": 7,
   "metadata": {
    "collapsed": false
   },
   "outputs": [],
   "source": [
    "cv = cross_validation.StratifiedKFold(y=targets[0], n_folds=6, random_state=seed)"
   ]
  },
  {
   "cell_type": "code",
   "execution_count": 8,
   "metadata": {
    "collapsed": false
   },
   "outputs": [],
   "source": [
    "model = [ET_gini, ET_entropy, RF_gini, RF_entropy, adaboost, lin_cl, xgb]\n",
    "model_name = [\"ET_gini\", \"ET_entropy\", \"RF_gini\", \"RF_entropy\", \"adaboost\", \"lin_cl\", \"xgb\"]"
   ]
  },
  {
   "cell_type": "code",
   "execution_count": 10,
   "metadata": {
    "collapsed": false,
    "scrolled": true
   },
   "outputs": [
    {
     "name": "stdout",
     "output_type": "stream",
     "text": [
      "0 -th dataset\n",
      "ET_gini  is fitting...\n"
     ]
    },
    {
     "name": "stderr",
     "output_type": "stream",
     "text": [
      "[Parallel(n_jobs=-1)]: Done   3 out of   6 | elapsed:  8.5min remaining:  8.5min\n",
      "[Parallel(n_jobs=-1)]: Done   6 out of   6 | elapsed: 12.7min finished\n"
     ]
    },
    {
     "name": "stdout",
     "output_type": "stream",
     "text": [
      "0.722831688309\n",
      "ET_entropy  is fitting...\n"
     ]
    },
    {
     "name": "stderr",
     "output_type": "stream",
     "text": [
      "[Parallel(n_jobs=-1)]: Done   3 out of   6 | elapsed:  8.9min remaining:  8.9min\n",
      "[Parallel(n_jobs=-1)]: Done   6 out of   6 | elapsed: 13.3min finished\n"
     ]
    },
    {
     "name": "stdout",
     "output_type": "stream",
     "text": [
      "0.724086492335\n",
      "RF_gini  is fitting...\n"
     ]
    },
    {
     "name": "stderr",
     "output_type": "stream",
     "text": [
      "[Parallel(n_jobs=-1)]: Done   3 out of   6 | elapsed: 17.1min remaining: 17.1min\n",
      "[Parallel(n_jobs=-1)]: Done   6 out of   6 | elapsed: 25.7min finished\n"
     ]
    },
    {
     "name": "stdout",
     "output_type": "stream",
     "text": [
      "0.743061736697\n",
      "RF_entropy  is fitting...\n"
     ]
    },
    {
     "name": "stderr",
     "output_type": "stream",
     "text": [
      "[Parallel(n_jobs=-1)]: Done   3 out of   6 | elapsed: 19.8min remaining: 19.8min\n",
      "[Parallel(n_jobs=-1)]: Done   6 out of   6 | elapsed: 29.6min finished\n"
     ]
    },
    {
     "name": "stdout",
     "output_type": "stream",
     "text": [
      "0.742559422047\n",
      "adaboost  is fitting...\n"
     ]
    },
    {
     "name": "stderr",
     "output_type": "stream",
     "text": [
      "[Parallel(n_jobs=-1)]: Done   3 out of   6 | elapsed:  1.6min remaining:  1.6min\n",
      "[Parallel(n_jobs=-1)]: Done   6 out of   6 | elapsed:  2.5min finished\n"
     ]
    },
    {
     "name": "stdout",
     "output_type": "stream",
     "text": [
      "0.7449234981\n",
      "lin_cl  is fitting...\n"
     ]
    },
    {
     "name": "stderr",
     "output_type": "stream",
     "text": [
      "[Parallel(n_jobs=-1)]: Done   3 out of   6 | elapsed:  2.1min remaining:  2.1min\n",
      "[Parallel(n_jobs=-1)]: Done   6 out of   6 | elapsed:  3.0min finished\n"
     ]
    },
    {
     "name": "stdout",
     "output_type": "stream",
     "text": [
      "0.709024430725\n",
      "xgb  is fitting...\n"
     ]
    },
    {
     "name": "stderr",
     "output_type": "stream",
     "text": [
      "[Parallel(n_jobs=-1)]: Done   3 out of   6 | elapsed:  3.6min remaining:  3.6min\n",
      "[Parallel(n_jobs=-1)]: Done   6 out of   6 | elapsed:  5.5min finished\n"
     ]
    },
    {
     "name": "stdout",
     "output_type": "stream",
     "text": [
      "0.767639861843\n",
      "1 -th dataset\n",
      "ET_gini  is fitting...\n"
     ]
    },
    {
     "name": "stderr",
     "output_type": "stream",
     "text": [
      "[Parallel(n_jobs=-1)]: Done   3 out of   6 | elapsed:  4.7min remaining:  4.7min\n",
      "[Parallel(n_jobs=-1)]: Done   6 out of   6 | elapsed:  6.9min finished\n"
     ]
    },
    {
     "name": "stdout",
     "output_type": "stream",
     "text": [
      "0.72729866885\n",
      "ET_entropy  is fitting...\n"
     ]
    },
    {
     "name": "stderr",
     "output_type": "stream",
     "text": [
      "[Parallel(n_jobs=-1)]: Done   3 out of   6 | elapsed:  5.0min remaining:  5.0min\n",
      "[Parallel(n_jobs=-1)]: Done   6 out of   6 | elapsed:  7.3min finished\n"
     ]
    },
    {
     "name": "stdout",
     "output_type": "stream",
     "text": [
      "0.727649118877\n",
      "RF_gini  is fitting...\n"
     ]
    },
    {
     "name": "stderr",
     "output_type": "stream",
     "text": [
      "[Parallel(n_jobs=-1)]: Done   3 out of   6 | elapsed: 11.4min remaining: 11.4min\n",
      "[Parallel(n_jobs=-1)]: Done   6 out of   6 | elapsed: 17.1min finished\n"
     ]
    },
    {
     "name": "stdout",
     "output_type": "stream",
     "text": [
      "0.741950261329\n",
      "RF_entropy  is fitting...\n"
     ]
    },
    {
     "name": "stderr",
     "output_type": "stream",
     "text": [
      "[Parallel(n_jobs=-1)]: Done   3 out of   6 | elapsed: 14.0min remaining: 14.0min\n",
      "[Parallel(n_jobs=-1)]: Done   6 out of   6 | elapsed: 21.0min finished\n"
     ]
    },
    {
     "name": "stdout",
     "output_type": "stream",
     "text": [
      "0.741276492022\n",
      "adaboost  is fitting...\n"
     ]
    },
    {
     "name": "stderr",
     "output_type": "stream",
     "text": [
      "[Parallel(n_jobs=-1)]: Done   3 out of   6 | elapsed:  1.1min remaining:  1.1min\n",
      "[Parallel(n_jobs=-1)]: Done   6 out of   6 | elapsed:  1.8min finished\n"
     ]
    },
    {
     "name": "stdout",
     "output_type": "stream",
     "text": [
      "0.733585371963\n",
      "lin_cl  is fitting...\n"
     ]
    },
    {
     "name": "stderr",
     "output_type": "stream",
     "text": [
      "[Parallel(n_jobs=-1)]: Done   3 out of   6 | elapsed:   43.6s remaining:   43.6s\n",
      "[Parallel(n_jobs=-1)]: Done   6 out of   6 | elapsed:  1.1min finished\n"
     ]
    },
    {
     "name": "stdout",
     "output_type": "stream",
     "text": [
      "0.644954041342\n",
      "xgb  is fitting...\n"
     ]
    },
    {
     "name": "stderr",
     "output_type": "stream",
     "text": [
      "[Parallel(n_jobs=-1)]: Done   3 out of   6 | elapsed:  1.9min remaining:  1.9min\n",
      "[Parallel(n_jobs=-1)]: Done   6 out of   6 | elapsed:  2.8min finished\n"
     ]
    },
    {
     "name": "stdout",
     "output_type": "stream",
     "text": [
      "0.766071042964\n",
      "2 -th dataset\n",
      "ET_gini  is fitting...\n"
     ]
    },
    {
     "name": "stderr",
     "output_type": "stream",
     "text": [
      "[Parallel(n_jobs=-1)]: Done   3 out of   6 | elapsed: 20.4min remaining: 20.4min\n",
      "[Parallel(n_jobs=-1)]: Done   6 out of   6 | elapsed: 30.4min finished\n"
     ]
    },
    {
     "name": "stdout",
     "output_type": "stream",
     "text": [
      "0.743905973568\n",
      "ET_entropy  is fitting...\n"
     ]
    },
    {
     "name": "stderr",
     "output_type": "stream",
     "text": [
      "[Parallel(n_jobs=-1)]: Done   3 out of   6 | elapsed: 20.5min remaining: 20.5min\n",
      "[Parallel(n_jobs=-1)]: Done   6 out of   6 | elapsed: 30.6min finished\n"
     ]
    },
    {
     "name": "stdout",
     "output_type": "stream",
     "text": [
      "0.743904359433\n",
      "RF_gini  is fitting...\n"
     ]
    },
    {
     "name": "stderr",
     "output_type": "stream",
     "text": [
      "[Parallel(n_jobs=-1)]: Done   3 out of   6 | elapsed: 25.2min remaining: 25.2min\n",
      "[Parallel(n_jobs=-1)]: Done   6 out of   6 | elapsed: 37.7min finished\n"
     ]
    },
    {
     "name": "stdout",
     "output_type": "stream",
     "text": [
      "0.747828359768\n",
      "RF_entropy  is fitting...\n"
     ]
    },
    {
     "name": "stderr",
     "output_type": "stream",
     "text": [
      "[Parallel(n_jobs=-1)]: Done   3 out of   6 | elapsed: 27.1min remaining: 27.1min\n",
      "[Parallel(n_jobs=-1)]: Done   6 out of   6 | elapsed: 40.7min finished\n"
     ]
    },
    {
     "name": "stdout",
     "output_type": "stream",
     "text": [
      "0.745144128619\n",
      "adaboost  is fitting...\n"
     ]
    },
    {
     "name": "stderr",
     "output_type": "stream",
     "text": [
      "[Parallel(n_jobs=-1)]: Done   3 out of   6 | elapsed:  1.8min remaining:  1.8min\n",
      "[Parallel(n_jobs=-1)]: Done   6 out of   6 | elapsed:  2.8min finished\n"
     ]
    },
    {
     "name": "stdout",
     "output_type": "stream",
     "text": [
      "0.744389104704\n",
      "lin_cl  is fitting...\n"
     ]
    },
    {
     "name": "stderr",
     "output_type": "stream",
     "text": [
      "[Parallel(n_jobs=-1)]: Done   3 out of   6 | elapsed:  1.5min remaining:  1.5min\n",
      "[Parallel(n_jobs=-1)]: Done   6 out of   6 | elapsed:  2.0min finished\n"
     ]
    },
    {
     "name": "stdout",
     "output_type": "stream",
     "text": [
      "0.709734127352\n",
      "xgb  is fitting...\n"
     ]
    },
    {
     "name": "stderr",
     "output_type": "stream",
     "text": [
      "[Parallel(n_jobs=-1)]: Done   3 out of   6 | elapsed:  5.4min remaining:  5.4min\n",
      "[Parallel(n_jobs=-1)]: Done   6 out of   6 | elapsed:  8.4min finished\n"
     ]
    },
    {
     "name": "stdout",
     "output_type": "stream",
     "text": [
      "0.767511398227\n",
      "3 -th dataset\n",
      "ET_gini  is fitting...\n"
     ]
    },
    {
     "name": "stderr",
     "output_type": "stream",
     "text": [
      "[Parallel(n_jobs=-1)]: Done   3 out of   6 | elapsed: 22.3min remaining: 22.3min\n",
      "[Parallel(n_jobs=-1)]: Done   6 out of   6 | elapsed: 33.3min finished\n"
     ]
    },
    {
     "name": "stdout",
     "output_type": "stream",
     "text": [
      "0.7360619085\n",
      "ET_entropy  is fitting...\n"
     ]
    },
    {
     "name": "stderr",
     "output_type": "stream",
     "text": [
      "[Parallel(n_jobs=-1)]: Done   3 out of   6 | elapsed: 22.6min remaining: 22.6min\n",
      "[Parallel(n_jobs=-1)]: Done   6 out of   6 | elapsed: 33.8min finished\n"
     ]
    },
    {
     "name": "stdout",
     "output_type": "stream",
     "text": [
      "0.737088046564\n",
      "RF_gini  is fitting...\n"
     ]
    },
    {
     "name": "stderr",
     "output_type": "stream",
     "text": [
      "[Parallel(n_jobs=-1)]: Done   3 out of   6 | elapsed: 25.5min remaining: 25.5min\n",
      "[Parallel(n_jobs=-1)]: Done   6 out of   6 | elapsed: 38.0min finished\n"
     ]
    },
    {
     "name": "stdout",
     "output_type": "stream",
     "text": [
      "0.744787131711\n",
      "RF_entropy  is fitting...\n"
     ]
    },
    {
     "name": "stderr",
     "output_type": "stream",
     "text": [
      "[Parallel(n_jobs=-1)]: Done   3 out of   6 | elapsed: 26.9min remaining: 26.9min\n",
      "[Parallel(n_jobs=-1)]: Done   6 out of   6 | elapsed: 39.8min finished\n"
     ]
    },
    {
     "name": "stdout",
     "output_type": "stream",
     "text": [
      "0.742533226484\n",
      "adaboost  is fitting...\n"
     ]
    },
    {
     "name": "stderr",
     "output_type": "stream",
     "text": [
      "[Parallel(n_jobs=-1)]: Done   3 out of   6 | elapsed:  1.8min remaining:  1.8min\n",
      "[Parallel(n_jobs=-1)]: Done   6 out of   6 | elapsed:  2.8min finished\n"
     ]
    },
    {
     "name": "stdout",
     "output_type": "stream",
     "text": [
      "0.732426281305\n",
      "lin_cl  is fitting...\n"
     ]
    },
    {
     "name": "stderr",
     "output_type": "stream",
     "text": [
      "[Parallel(n_jobs=-1)]: Done   3 out of   6 | elapsed:  2.9min remaining:  2.9min\n",
      "[Parallel(n_jobs=-1)]: Done   6 out of   6 | elapsed:  4.3min finished\n"
     ]
    },
    {
     "name": "stdout",
     "output_type": "stream",
     "text": [
      "0.655178517621\n",
      "xgb  is fitting...\n"
     ]
    },
    {
     "name": "stderr",
     "output_type": "stream",
     "text": [
      "[Parallel(n_jobs=-1)]: Done   3 out of   6 | elapsed:  6.0min remaining:  6.0min\n",
      "[Parallel(n_jobs=-1)]: Done   6 out of   6 | elapsed:  9.4min finished\n"
     ]
    },
    {
     "name": "stdout",
     "output_type": "stream",
     "text": [
      "0.766437616021\n"
     ]
    }
   ],
   "source": [
    "model = [ET_gini, ET_entropy, RF_gini, RF_entropy, adaboost, lin_cl, xgb]\n",
    "model_name = [\"ET_gini\", \"ET_entropy\", \"RF_gini\", \"RF_entropy\", \"adaboost\", \"lin_cl\", \"xgb\"]\n",
    "\n",
    "for train, test, index in zip(train_datasets, test_datasets, range(len(train_datasets))):\n",
    "\n",
    "    print(index,\"-th dataset\")\n",
    "    y = targets[index]\n",
    "    for clf, name in zip(model, model_name):\n",
    "        print(name,\" is fitting...\")\n",
    "        pred_train = model_selection.cross_val_predict(estimator=clf, X=train, y=y, cv = cv,\\\n",
    "                                                   n_jobs=-1, method=\"predict_proba\", verbose=2)\n",
    "        clf.fit(X=train, y=y)\n",
    "    \n",
    "        pred_test = pd.DataFrame(clf.predict_proba(test)[:,1], columns=[name])\n",
    "        pred_train = pd.DataFrame(pred_train[:,1], columns=[name])\n",
    "        print(metrics.roc_auc_score(y, pred_train))\n",
    "        pred_train.to_csv(\"../stacking/{0}_train_{1}.csv\".format(datasets_name[index], name), index=0)\n",
    "        pred_test.to_csv(\"../stacking/{0}_test_{1}.csv\".format(datasets_name[index], name), index=0)"
   ]
  },
  {
   "cell_type": "code",
   "execution_count": 9,
   "metadata": {
    "collapsed": false
   },
   "outputs": [
    {
     "name": "stdout",
     "output_type": "stream",
     "text": [
      "../stacking/base_train_ET_gini.csv\n",
      "../stacking/base_test_ET_gini.csv\n",
      "../stacking/base_train_ET_entropy.csv\n",
      "../stacking/base_test_ET_entropy.csv\n",
      "../stacking/base_train_RF_gini.csv\n",
      "../stacking/base_test_RF_gini.csv\n",
      "../stacking/base_train_RF_entropy.csv\n",
      "../stacking/base_test_RF_entropy.csv\n",
      "../stacking/base_train_adaboost.csv\n",
      "../stacking/base_test_adaboost.csv\n",
      "../stacking/base_train_lin_cl.csv\n",
      "../stacking/base_test_lin_cl.csv\n",
      "../stacking/base_train_xgb.csv\n",
      "../stacking/base_test_xgb.csv\n",
      "../stacking/credit_pay_train_ET_gini.csv\n",
      "../stacking/credit_pay_test_ET_gini.csv\n",
      "../stacking/credit_pay_train_ET_entropy.csv\n",
      "../stacking/credit_pay_test_ET_entropy.csv\n",
      "../stacking/credit_pay_train_RF_gini.csv\n",
      "../stacking/credit_pay_test_RF_gini.csv\n",
      "../stacking/credit_pay_train_RF_entropy.csv\n",
      "../stacking/credit_pay_test_RF_entropy.csv\n",
      "../stacking/credit_pay_train_adaboost.csv\n",
      "../stacking/credit_pay_test_adaboost.csv\n",
      "../stacking/credit_pay_train_lin_cl.csv\n",
      "../stacking/credit_pay_test_lin_cl.csv\n",
      "../stacking/credit_pay_train_xgb.csv\n",
      "../stacking/credit_pay_test_xgb.csv\n",
      "../stacking/target_encode_train_ET_gini.csv\n",
      "../stacking/target_encode_test_ET_gini.csv\n",
      "../stacking/target_encode_train_ET_entropy.csv\n",
      "../stacking/target_encode_test_ET_entropy.csv\n",
      "../stacking/target_encode_train_RF_gini.csv\n",
      "../stacking/target_encode_test_RF_gini.csv\n",
      "../stacking/target_encode_train_RF_entropy.csv\n",
      "../stacking/target_encode_test_RF_entropy.csv\n",
      "../stacking/target_encode_train_adaboost.csv\n",
      "../stacking/target_encode_test_adaboost.csv\n",
      "../stacking/target_encode_train_lin_cl.csv\n",
      "../stacking/target_encode_test_lin_cl.csv\n",
      "../stacking/target_encode_train_xgb.csv\n",
      "../stacking/target_encode_test_xgb.csv\n",
      "../stacking/simple_train_ET_gini.csv\n",
      "../stacking/simple_test_ET_gini.csv\n",
      "../stacking/simple_train_ET_entropy.csv\n",
      "../stacking/simple_test_ET_entropy.csv\n",
      "../stacking/simple_train_RF_gini.csv\n",
      "../stacking/simple_test_RF_gini.csv\n",
      "../stacking/simple_train_RF_entropy.csv\n",
      "../stacking/simple_test_RF_entropy.csv\n",
      "../stacking/simple_train_adaboost.csv\n",
      "../stacking/simple_test_adaboost.csv\n",
      "../stacking/simple_train_lin_cl.csv\n",
      "../stacking/simple_test_lin_cl.csv\n",
      "../stacking/simple_train_xgb.csv\n",
      "../stacking/simple_test_xgb.csv\n"
     ]
    }
   ],
   "source": [
    "stack_train_datasets = []\n",
    "stack_test_datasets = []\n",
    "for index in range(len(datasets_name)):\n",
    "    for name in model_name:\n",
    "        train_file_name = \"../stacking/{0}_train_{1}.csv\".format(datasets_name[index], name)\n",
    "        print(train_file_name)\n",
    "        pred_train = pd.read_csv(train_file_name)\n",
    "        pred_train.columns = [\"{0}_train_{1}\".format(datasets_name[index], name)]\n",
    "        \n",
    "        test_file_name = \"../stacking/{0}_test_{1}.csv\".format(datasets_name[index], name)\n",
    "        print(test_file_name)\n",
    "        pred_test = pd.read_csv(test_file_name)\n",
    "        pred_test.columns = [\"{0}_test_{1}\".format(datasets_name[index], name)]\n",
    "        \n",
    "        stack_train_datasets.append(pred_train)\n",
    "        stack_test_datasets.append(pred_test)"
   ]
  },
  {
   "cell_type": "code",
   "execution_count": 10,
   "metadata": {
    "collapsed": true
   },
   "outputs": [],
   "source": [
    "stack_train = pd.concat(stack_train_datasets, axis=1)\n",
    "stack_test = pd.concat(stack_test_datasets, axis=1)\n",
    "y = targets[0]"
   ]
  },
  {
   "cell_type": "code",
   "execution_count": 11,
   "metadata": {
    "collapsed": false
   },
   "outputs": [],
   "source": [
    "stack_train = stack_train.rank()\n",
    "min_max_scaler = preprocessing.MinMaxScaler()\n",
    "stack_train = pd.DataFrame(min_max_scaler.fit_transform(stack_train), columns=stack_train.columns)"
   ]
  },
  {
   "cell_type": "code",
   "execution_count": 12,
   "metadata": {
    "collapsed": false
   },
   "outputs": [
    {
     "data": {
      "text/plain": [
       "base_train_ET_gini                0.821709\n",
       "base_train_ET_entropy             0.824647\n",
       "base_train_RF_gini                0.888419\n",
       "base_train_RF_entropy             0.889848\n",
       "base_train_adaboost               0.902269\n",
       "base_train_lin_cl                 0.767201\n",
       "base_train_xgb                    1.000000\n",
       "credit_pay_train_ET_gini          0.837607\n",
       "credit_pay_train_ET_entropy       0.838409\n",
       "credit_pay_train_RF_gini          0.882111\n",
       "credit_pay_train_RF_entropy       0.882934\n",
       "credit_pay_train_adaboost         0.857455\n",
       "credit_pay_train_lin_cl           0.556452\n",
       "credit_pay_train_xgb              0.980336\n",
       "target_encode_train_ET_gini       0.891576\n",
       "target_encode_train_ET_entropy    0.892651\n",
       "target_encode_train_RF_gini       0.898581\n",
       "target_encode_train_RF_entropy    0.896397\n",
       "target_encode_train_adaboost      0.898673\n",
       "target_encode_train_lin_cl        0.753452\n",
       "target_encode_train_xgb           0.979443\n",
       "simple_train_ET_gini              0.854785\n",
       "simple_train_ET_entropy           0.858842\n",
       "simple_train_RF_gini              0.888822\n",
       "simple_train_RF_entropy           0.886465\n",
       "simple_train_adaboost             0.855080\n",
       "simple_train_lin_cl               0.574382\n",
       "simple_train_xgb                  0.969801\n",
       "Name: base_train_xgb, dtype: float64"
      ]
     },
     "execution_count": 12,
     "metadata": {},
     "output_type": "execute_result"
    }
   ],
   "source": [
    "stack_train.corr().loc[\"base_train_xgb\"]"
   ]
  },
  {
   "cell_type": "code",
   "execution_count": 13,
   "metadata": {
    "collapsed": true
   },
   "outputs": [],
   "source": [
    "y = targets[0]"
   ]
  },
  {
   "cell_type": "code",
   "execution_count": 14,
   "metadata": {
    "collapsed": false
   },
   "outputs": [],
   "source": [
    "columns = stack_test.columns\n",
    "stack_test = pd.DataFrame(min_max_scaler.transform(stack_test), columns=stack_test.columns)\n",
    "sol =  0.5859 * stack_test.base_test_xgb + (1-0.5859) * stack_test[columns[27]]\n",
    "sol = 0.6970 * sol + (1-0.6970) * stack_test[columns[20]]\n",
    "sol = 0.9091 * sol + (1-0.9091) * stack_test[columns[16]]"
   ]
  },
  {
   "cell_type": "code",
   "execution_count": 15,
   "metadata": {
    "collapsed": false
   },
   "outputs": [
    {
     "name": "stderr",
     "output_type": "stream",
     "text": [
      "/Users/Roman/anaconda/lib/python3.6/site-packages/sklearn/preprocessing/data.py:321: DeprecationWarning: Passing 1d arrays as data is deprecated in 0.17 and will raise ValueError in 0.19. Reshape your data either using X.reshape(-1, 1) if your data has a single feature or X.reshape(1, -1) if it contains a single sample.\n",
      "  warnings.warn(DEPRECATION_MSG_1D, DeprecationWarning)\n",
      "/Users/Roman/anaconda/lib/python3.6/site-packages/sklearn/preprocessing/data.py:356: DeprecationWarning: Passing 1d arrays as data is deprecated in 0.17 and will raise ValueError in 0.19. Reshape your data either using X.reshape(-1, 1) if your data has a single feature or X.reshape(1, -1) if it contains a single sample.\n",
      "  warnings.warn(DEPRECATION_MSG_1D, DeprecationWarning)\n"
     ]
    },
    {
     "data": {
      "text/plain": [
       "array([ 0.06672655,  0.15621536,  0.31662877, ...,  0.02355083,\n",
       "        0.31366991,  0.07786225])"
      ]
     },
     "execution_count": 15,
     "metadata": {},
     "output_type": "execute_result"
    }
   ],
   "source": [
    "sol = min_max_scaler.fit_transform(sol)\n",
    "sol"
   ]
  },
  {
   "cell_type": "code",
   "execution_count": 16,
   "metadata": {
    "collapsed": false
   },
   "outputs": [
    {
     "name": "stderr",
     "output_type": "stream",
     "text": [
      "/Users/Roman/anaconda/lib/python3.6/site-packages/ipykernel/__main__.py:2: SettingWithCopyWarning: \n",
      "A value is trying to be set on a copy of a slice from a DataFrame.\n",
      "Try using .loc[row_indexer,col_indexer] = value instead\n",
      "\n",
      "See the caveats in the documentation: http://pandas.pydata.org/pandas-docs/stable/indexing.html#indexing-view-versus-copy\n",
      "  from ipykernel import kernelapp as app\n",
      "/Users/Roman/anaconda/lib/python3.6/site-packages/pandas/core/frame.py:2834: SettingWithCopyWarning: \n",
      "A value is trying to be set on a copy of a slice from a DataFrame\n",
      "\n",
      "See the caveats in the documentation: http://pandas.pydata.org/pandas-docs/stable/indexing.html#indexing-view-versus-copy\n",
      "  **kwargs)\n"
     ]
    }
   ],
   "source": [
    "ans = ans[0]\n",
    "ans['val'] = sol\n",
    "ans.rename(columns={\"client_id\":\"_ID_\", \"val\":\"_VAL_\"}, inplace=True)\n",
    "ans.to_csv(\"../solutions/stacking.csv\", index=False, sep=\",\", header=False)"
   ]
  },
  {
   "cell_type": "code",
   "execution_count": null,
   "metadata": {
    "collapsed": true
   },
   "outputs": [],
   "source": []
  }
 ],
 "metadata": {
  "anaconda-cloud": {},
  "kernelspec": {
   "display_name": "Python 3",
   "language": "python",
   "name": "python3"
  },
  "language_info": {
   "codemirror_mode": {
    "name": "ipython",
    "version": 3
   },
   "file_extension": ".py",
   "mimetype": "text/x-python",
   "name": "python",
   "nbconvert_exporter": "python",
   "pygments_lexer": "ipython3",
   "version": "3.6.0"
  }
 },
 "nbformat": 4,
 "nbformat_minor": 1
}
