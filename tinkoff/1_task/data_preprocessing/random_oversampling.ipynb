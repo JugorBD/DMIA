{
 "cells": [
  {
   "cell_type": "markdown",
   "metadata": {
    "collapsed": false
   },
   "source": [
    "Задача 1. Выбор кредита от Tinkoff.ru\n",
    "В credit_train.csv содержится 170746 строк с данными о клиентах сети магазинов электроники, в этих магазинах они подали заявки на кредит. Колонка open_account_flg содержит 1 если клиент выбрал Тинькофф и 0 в противном случае. В credit_test.csv содержится 91940 строк с данными, для каждой строки следует предсказать возьмет ли соответствующий ей человек кредит в Тинькофф.\n",
    "Метрикой качества в задаче является AUC \n",
    "\n",
    "education - образование:\n",
    "\n",
    "    SCH - начальное, среднее\n",
    "    PGR -  второе высшее\n",
    "    GRD - высшее\n",
    "    UGR - неполное высшее\n",
    "    ACD - ученая степень\n",
    "    \n",
    "    \n",
    "job_position - работа\n",
    "\n",
    "    SPC - неруководящий сотрудник, специалист\n",
    "    DIR - руководитель организации\n",
    "    HSK - домохозяйка\n",
    "    INV - не работает, инвалидность\n",
    "    WOI - работает на ИП\n",
    "    WRK - неруководящий сотрудник, рабочий\n",
    "    UMN -  руководитель подразделения\n",
    "    NOR - не работает\n",
    "    PNS - пенсионер\n",
    "    BIS - собственный бизнес \n",
    "    INP - ИП\n",
    "   \n",
    "marital_status - семейное положение\n",
    "\n",
    "    UNM - холост/не замужем\n",
    "    DIV - разведен(а)\n",
    "    MAR - женат/замужем\n",
    "    WID - вдовец/вдова\n",
    "    CIV - гражданский брак\n",
    "    \n",
    "gender - пол \n",
    "\n",
    "age - возраст\n",
    "\n",
    "credit_sum - сумма кредита\n",
    "\n",
    "credit_month - срок кредитования\n",
    "\n",
    "tariff_id - номер предлагаемого тарифа\n",
    "\n",
    "living_region - регион проживания\n",
    "\n",
    "montly_income - заработная плата в месяц\n",
    "\n",
    "credit_count - количество кредитов у клиента\n",
    "\n",
    "overdue_credit_count - количество просроченных кредитов\n",
    "\n",
    "score_shk - неизвестный индекс кредитоспособности\n",
    "    "
   ]
  },
  {
   "cell_type": "code",
   "execution_count": 1,
   "metadata": {
    "collapsed": false
   },
   "outputs": [
    {
     "name": "stderr",
     "output_type": "stream",
     "text": [
      "/Users/Roman/anaconda/lib/python3.6/site-packages/sklearn/cross_validation.py:44: DeprecationWarning: This module was deprecated in version 0.18 in favor of the model_selection module into which all the refactored classes and functions are moved. Also note that the interface of the new CV iterators are different from that of this module. This module will be removed in 0.20.\n",
      "  \"This module will be removed in 0.20.\", DeprecationWarning)\n"
     ]
    }
   ],
   "source": [
    "import numpy as np\n",
    "import pandas as pd\n",
    "import matplotlib.pyplot as plt\n",
    "%matplotlib inline\n",
    "\n",
    "from sklearn.pipeline import Pipeline\n",
    "from sklearn.linear_model import LinearRegression\n",
    "from sklearn.cross_validation import cross_val_score, train_test_split\n",
    "from sklearn.feature_extraction.text import TfidfVectorizer\n",
    "from sklearn import manifold, decomposition, linear_model, ensemble, neighbors, cross_validation"
   ]
  },
  {
   "cell_type": "code",
   "execution_count": 4,
   "metadata": {
    "collapsed": false
   },
   "outputs": [],
   "source": [
    "train = pd.read_csv(\"../credit_train.csv\", sep = \";\", encoding='cp1251')\n",
    "test = pd.read_csv(\"../credit_test.csv\", sep = \";\", encoding='cp1251')"
   ]
  },
  {
   "cell_type": "code",
   "execution_count": 5,
   "metadata": {
    "collapsed": false
   },
   "outputs": [
    {
     "data": {
      "text/html": [
       "<div>\n",
       "<table border=\"1\" class=\"dataframe\">\n",
       "  <thead>\n",
       "    <tr style=\"text-align: right;\">\n",
       "      <th></th>\n",
       "      <th>client_id</th>\n",
       "      <th>gender</th>\n",
       "      <th>age</th>\n",
       "      <th>marital_status</th>\n",
       "      <th>job_position</th>\n",
       "      <th>credit_sum</th>\n",
       "      <th>credit_month</th>\n",
       "      <th>tariff_id</th>\n",
       "      <th>score_shk</th>\n",
       "      <th>education</th>\n",
       "      <th>living_region</th>\n",
       "      <th>monthly_income</th>\n",
       "      <th>credit_count</th>\n",
       "      <th>overdue_credit_count</th>\n",
       "      <th>open_account_flg</th>\n",
       "    </tr>\n",
       "  </thead>\n",
       "  <tbody>\n",
       "    <tr>\n",
       "      <th>0</th>\n",
       "      <td>1</td>\n",
       "      <td>M</td>\n",
       "      <td>48</td>\n",
       "      <td>MAR</td>\n",
       "      <td>UMN</td>\n",
       "      <td>59998,00</td>\n",
       "      <td>10</td>\n",
       "      <td>1.6</td>\n",
       "      <td>0,770249</td>\n",
       "      <td>GRD</td>\n",
       "      <td>КРАСНОДАРСКИЙ КРАЙ</td>\n",
       "      <td>30000.0</td>\n",
       "      <td>1.0</td>\n",
       "      <td>1.0</td>\n",
       "      <td>0</td>\n",
       "    </tr>\n",
       "    <tr>\n",
       "      <th>1</th>\n",
       "      <td>2</td>\n",
       "      <td>F</td>\n",
       "      <td>28</td>\n",
       "      <td>MAR</td>\n",
       "      <td>UMN</td>\n",
       "      <td>10889,00</td>\n",
       "      <td>6</td>\n",
       "      <td>1.1</td>\n",
       "      <td>0,248514</td>\n",
       "      <td>GRD</td>\n",
       "      <td>МОСКВА</td>\n",
       "      <td>43000.0</td>\n",
       "      <td>2.0</td>\n",
       "      <td>0.0</td>\n",
       "      <td>0</td>\n",
       "    </tr>\n",
       "  </tbody>\n",
       "</table>\n",
       "</div>"
      ],
      "text/plain": [
       "   client_id gender  age marital_status job_position credit_sum  credit_month  \\\n",
       "0          1      M   48            MAR          UMN   59998,00            10   \n",
       "1          2      F   28            MAR          UMN   10889,00             6   \n",
       "\n",
       "   tariff_id score_shk education       living_region  monthly_income  \\\n",
       "0        1.6  0,770249       GRD  КРАСНОДАРСКИЙ КРАЙ         30000.0   \n",
       "1        1.1  0,248514       GRD              МОСКВА         43000.0   \n",
       "\n",
       "   credit_count  overdue_credit_count  open_account_flg  \n",
       "0           1.0                   1.0                 0  \n",
       "1           2.0                   0.0                 0  "
      ]
     },
     "execution_count": 5,
     "metadata": {},
     "output_type": "execute_result"
    }
   ],
   "source": [
    "train.head(2)"
   ]
  },
  {
   "cell_type": "code",
   "execution_count": 6,
   "metadata": {
    "collapsed": false
   },
   "outputs": [],
   "source": [
    "y = train['open_account_flg']"
   ]
  },
  {
   "cell_type": "code",
   "execution_count": 7,
   "metadata": {
    "collapsed": false
   },
   "outputs": [
    {
     "name": "stdout",
     "output_type": "stream",
     "text": [
      "<class 'pandas.core.frame.DataFrame'>\n",
      "RangeIndex: 170746 entries, 0 to 170745\n",
      "Data columns (total 15 columns):\n",
      "client_id               170746 non-null int64\n",
      "gender                  170746 non-null object\n",
      "age                     170746 non-null int64\n",
      "marital_status          170746 non-null object\n",
      "job_position            170746 non-null object\n",
      "credit_sum              170746 non-null object\n",
      "credit_month            170746 non-null int64\n",
      "tariff_id               170746 non-null float64\n",
      "score_shk               170746 non-null object\n",
      "education               170746 non-null object\n",
      "living_region           170554 non-null object\n",
      "monthly_income          170745 non-null float64\n",
      "credit_count            161516 non-null float64\n",
      "overdue_credit_count    161516 non-null float64\n",
      "open_account_flg        170746 non-null int64\n",
      "dtypes: float64(4), int64(4), object(7)\n",
      "memory usage: 19.5+ MB\n"
     ]
    }
   ],
   "source": [
    "train.info()"
   ]
  },
  {
   "cell_type": "code",
   "execution_count": 8,
   "metadata": {
    "collapsed": false
   },
   "outputs": [
    {
     "name": "stdout",
     "output_type": "stream",
     "text": [
      "<class 'pandas.core.frame.DataFrame'>\n",
      "RangeIndex: 91940 entries, 0 to 91939\n",
      "Data columns (total 14 columns):\n",
      "client_id               91940 non-null int64\n",
      "gender                  91940 non-null object\n",
      "age                     91940 non-null int64\n",
      "marital_status          91940 non-null object\n",
      "job_position            91940 non-null object\n",
      "credit_sum              91940 non-null object\n",
      "credit_month            91940 non-null int64\n",
      "tariff_id               91940 non-null float64\n",
      "score_shk               91940 non-null object\n",
      "education               91940 non-null object\n",
      "living_region           91824 non-null object\n",
      "monthly_income          91940 non-null int64\n",
      "credit_count            87237 non-null float64\n",
      "overdue_credit_count    87237 non-null float64\n",
      "dtypes: float64(3), int64(4), object(7)\n",
      "memory usage: 9.8+ MB\n"
     ]
    }
   ],
   "source": [
    "test.info()"
   ]
  },
  {
   "cell_type": "markdown",
   "metadata": {},
   "source": [
    "I работа с пропусками в данных"
   ]
  },
  {
   "cell_type": "code",
   "execution_count": 10,
   "metadata": {
    "collapsed": false
   },
   "outputs": [
    {
     "data": {
      "text/html": [
       "<div>\n",
       "<table border=\"1\" class=\"dataframe\">\n",
       "  <thead>\n",
       "    <tr style=\"text-align: right;\">\n",
       "      <th></th>\n",
       "      <th>client_id</th>\n",
       "      <th>gender</th>\n",
       "      <th>age</th>\n",
       "      <th>marital_status</th>\n",
       "      <th>job_position</th>\n",
       "      <th>credit_sum</th>\n",
       "      <th>credit_month</th>\n",
       "      <th>tariff_id</th>\n",
       "      <th>score_shk</th>\n",
       "      <th>education</th>\n",
       "      <th>living_region</th>\n",
       "      <th>monthly_income</th>\n",
       "      <th>credit_count</th>\n",
       "      <th>overdue_credit_count</th>\n",
       "      <th>open_account_flg</th>\n",
       "    </tr>\n",
       "  </thead>\n",
       "  <tbody>\n",
       "    <tr>\n",
       "      <th>19639</th>\n",
       "      <td>19640</td>\n",
       "      <td>F</td>\n",
       "      <td>33</td>\n",
       "      <td>MAR</td>\n",
       "      <td>BIS</td>\n",
       "      <td>13009,00</td>\n",
       "      <td>10</td>\n",
       "      <td>1.6</td>\n",
       "      <td>0,535834</td>\n",
       "      <td>SCH</td>\n",
       "      <td>ПРИМОРСКИЙ КРАЙ</td>\n",
       "      <td>NaN</td>\n",
       "      <td>2.0</td>\n",
       "      <td>0.0</td>\n",
       "      <td>0</td>\n",
       "    </tr>\n",
       "  </tbody>\n",
       "</table>\n",
       "</div>"
      ],
      "text/plain": [
       "       client_id gender  age marital_status job_position credit_sum  \\\n",
       "19639      19640      F   33            MAR          BIS   13009,00   \n",
       "\n",
       "       credit_month  tariff_id score_shk education    living_region  \\\n",
       "19639            10        1.6  0,535834       SCH  ПРИМОРСКИЙ КРАЙ   \n",
       "\n",
       "       monthly_income  credit_count  overdue_credit_count  open_account_flg  \n",
       "19639             NaN           2.0                   0.0                 0  "
      ]
     },
     "execution_count": 10,
     "metadata": {},
     "output_type": "execute_result"
    }
   ],
   "source": [
    "train[train.monthly_income.isnull() == True]"
   ]
  },
  {
   "cell_type": "code",
   "execution_count": 11,
   "metadata": {
    "collapsed": true
   },
   "outputs": [],
   "source": [
    "train.monthly_income.fillna(train.monthly_income.mean(), inplace=True)"
   ]
  },
  {
   "cell_type": "code",
   "execution_count": 12,
   "metadata": {
    "collapsed": true
   },
   "outputs": [],
   "source": [
    "train.living_region.fillna(value=\"Unknown\", inplace=True)\n",
    "test.living_region.fillna(value=\"Unknown\", inplace=True)"
   ]
  },
  {
   "cell_type": "code",
   "execution_count": 14,
   "metadata": {
    "collapsed": true
   },
   "outputs": [],
   "source": [
    "train.credit_count.fillna(value = train.credit_count.mean(), inplace=True)\n",
    "train.overdue_credit_count.fillna(value = train.overdue_credit_count.mean(), inplace=True)"
   ]
  },
  {
   "cell_type": "code",
   "execution_count": 13,
   "metadata": {
    "collapsed": true
   },
   "outputs": [],
   "source": [
    "test.credit_count.fillna(value = train.credit_count.mean(), inplace=True)\n",
    "test.overdue_credit_count.fillna(value = train.overdue_credit_count.mean(), inplace=True)"
   ]
  },
  {
   "cell_type": "code",
   "execution_count": 17,
   "metadata": {
    "collapsed": false
   },
   "outputs": [
    {
     "data": {
      "text/plain": [
       "array(['UMN', 'SPC', 'INP', 'DIR', 'ATP', 'PNA', 'BIS', 'WOI', 'NOR',\n",
       "       'WRK', 'WRP', 'PNV', 'BIU', 'PNI', 'HSK', 'PNS', 'INV', 'ONB'], dtype=object)"
      ]
     },
     "execution_count": 17,
     "metadata": {},
     "output_type": "execute_result"
    }
   ],
   "source": [
    "train.job_position.unique()"
   ]
  },
  {
   "cell_type": "code",
   "execution_count": 24,
   "metadata": {
    "collapsed": false
   },
   "outputs": [
    {
     "data": {
      "text/plain": [
       "array(['MAR', 'DIV', 'UNM', 'WID', 'CIV'], dtype=object)"
      ]
     },
     "execution_count": 24,
     "metadata": {},
     "output_type": "execute_result"
    }
   ],
   "source": [
    "train.marital_status.unique()"
   ]
  },
  {
   "cell_type": "code",
   "execution_count": 35,
   "metadata": {
    "collapsed": false
   },
   "outputs": [
    {
     "data": {
      "text/plain": [
       "job_position\n",
       "ATP    0.289144\n",
       "BIS    0.158290\n",
       "BIU    0.365079\n",
       "DIR    0.148000\n",
       "HSK    0.250000\n",
       "INP    0.278008\n",
       "INV    0.800000\n",
       "NOR    0.361266\n",
       "ONB    1.000000\n",
       "PNA    0.362552\n",
       "PNI    0.307692\n",
       "PNS    0.500000\n",
       "PNV    0.225000\n",
       "SPC    0.166342\n",
       "UMN    0.188978\n",
       "WOI    0.238636\n",
       "WRK    0.184451\n",
       "WRP    0.209091\n",
       "Name: target, dtype: float64"
      ]
     },
     "execution_count": 35,
     "metadata": {},
     "output_type": "execute_result"
    }
   ],
   "source": [
    "train.groupby(\"job_position\").target.mean()"
   ]
  },
  {
   "cell_type": "code",
   "execution_count": 36,
   "metadata": {
    "collapsed": false
   },
   "outputs": [
    {
     "data": {
      "text/plain": [
       "education\n",
       "ACD    0.233645\n",
       "GRD    0.139543\n",
       "PGR    0.191150\n",
       "SCH    0.205120\n",
       "UGR    0.184790\n",
       "Name: target, dtype: float64"
      ]
     },
     "execution_count": 36,
     "metadata": {},
     "output_type": "execute_result"
    }
   ],
   "source": [
    "train.groupby(\"education\").target.mean()"
   ]
  },
  {
   "cell_type": "code",
   "execution_count": 37,
   "metadata": {
    "collapsed": false
   },
   "outputs": [
    {
     "data": {
      "text/plain": [
       "marital_status\n",
       "CIV    0.201621\n",
       "DIV    0.182086\n",
       "MAR    0.152923\n",
       "UNM    0.211241\n",
       "WID    0.211799\n",
       "Name: target, dtype: float64"
      ]
     },
     "execution_count": 37,
     "metadata": {},
     "output_type": "execute_result"
    }
   ],
   "source": [
    "train.groupby(\"marital_status\").target.mean()"
   ]
  },
  {
   "cell_type": "code",
   "execution_count": 58,
   "metadata": {
    "collapsed": false
   },
   "outputs": [
    {
     "data": {
      "text/plain": [
       "tariff_id\n",
       "1.00    0.070824\n",
       "1.10    0.190181\n",
       "1.16    0.107983\n",
       "1.17    0.171548\n",
       "1.18    0.916667\n",
       "1.19    0.111798\n",
       "1.20    0.097243\n",
       "1.21    0.029361\n",
       "1.22    0.037234\n",
       "1.23    0.040541\n",
       "1.24    0.155116\n",
       "1.25    0.232143\n",
       "1.26    0.090909\n",
       "1.27    0.000000\n",
       "1.28    0.000000\n",
       "1.29    1.000000\n",
       "1.30    0.297095\n",
       "1.32    0.377550\n",
       "1.40    0.114221\n",
       "1.41    0.196970\n",
       "1.43    0.120611\n",
       "1.44    0.127917\n",
       "1.48    0.000000\n",
       "1.50    0.096839\n",
       "1.52    0.000000\n",
       "1.56    0.000000\n",
       "1.60    0.140987\n",
       "1.70    0.101291\n",
       "1.90    0.066631\n",
       "1.91    0.246057\n",
       "1.94    0.111111\n",
       "1.96    0.000000\n",
       "Name: target, dtype: float64"
      ]
     },
     "execution_count": 58,
     "metadata": {},
     "output_type": "execute_result"
    }
   ],
   "source": [
    "train.groupby(\"tariff_id\").target.mean()"
   ]
  },
  {
   "cell_type": "code",
   "execution_count": 81,
   "metadata": {
    "collapsed": false
   },
   "outputs": [
    {
     "data": {
      "text/plain": [
       "array([[<matplotlib.axes._subplots.AxesSubplot object at 0x11bf99400>,\n",
       "        <matplotlib.axes._subplots.AxesSubplot object at 0x11c11ac50>,\n",
       "        <matplotlib.axes._subplots.AxesSubplot object at 0x12471cc18>,\n",
       "        <matplotlib.axes._subplots.AxesSubplot object at 0x12478b240>,\n",
       "        <matplotlib.axes._subplots.AxesSubplot object at 0x1247dba58>],\n",
       "       [<matplotlib.axes._subplots.AxesSubplot object at 0x1247dba90>,\n",
       "        <matplotlib.axes._subplots.AxesSubplot object at 0x12486a278>,\n",
       "        <matplotlib.axes._subplots.AxesSubplot object at 0x124909e80>,\n",
       "        <matplotlib.axes._subplots.AxesSubplot object at 0x12497a3c8>,\n",
       "        <matplotlib.axes._subplots.AxesSubplot object at 0x1249ccb00>],\n",
       "       [<matplotlib.axes._subplots.AxesSubplot object at 0x124a34f28>,\n",
       "        <matplotlib.axes._subplots.AxesSubplot object at 0x124a8e860>,\n",
       "        <matplotlib.axes._subplots.AxesSubplot object at 0x124af69b0>,\n",
       "        <matplotlib.axes._subplots.AxesSubplot object at 0x124b526a0>,\n",
       "        <matplotlib.axes._subplots.AxesSubplot object at 0x124bba8d0>],\n",
       "       [<matplotlib.axes._subplots.AxesSubplot object at 0x124c184e0>,\n",
       "        <matplotlib.axes._subplots.AxesSubplot object at 0x124c7d9e8>,\n",
       "        <matplotlib.axes._subplots.AxesSubplot object at 0x124c322e8>,\n",
       "        <matplotlib.axes._subplots.AxesSubplot object at 0x124d40b00>,\n",
       "        <matplotlib.axes._subplots.AxesSubplot object at 0x124da8d30>],\n",
       "       [<matplotlib.axes._subplots.AxesSubplot object at 0x124e03940>,\n",
       "        <matplotlib.axes._subplots.AxesSubplot object at 0x124e6cb70>,\n",
       "        <matplotlib.axes._subplots.AxesSubplot object at 0x124eac390>,\n",
       "        <matplotlib.axes._subplots.AxesSubplot object at 0x124f144e0>,\n",
       "        <matplotlib.axes._subplots.AxesSubplot object at 0x124f70780>],\n",
       "       [<matplotlib.axes._subplots.AxesSubplot object at 0x124fd9ba8>,\n",
       "        <matplotlib.axes._subplots.AxesSubplot object at 0x125033e48>,\n",
       "        <matplotlib.axes._subplots.AxesSubplot object at 0x1250a6390>,\n",
       "        <matplotlib.axes._subplots.AxesSubplot object at 0x1250fbc88>,\n",
       "        <matplotlib.axes._subplots.AxesSubplot object at 0x1251692b0>]], dtype=object)"
      ]
     },
     "execution_count": 81,
     "metadata": {},
     "output_type": "execute_result"
    },
    {
     "data": {
      "image/png": "[encoded data removed]",
      "text/plain": [
       "<matplotlib.figure.Figure at 0x11ca780f0>"
      ]
     },
     "metadata": {},
     "output_type": "display_data"
    }
   ],
   "source": [
    "tmp = pd.DataFrame(train.groupby(\"tariff_id\").target.mean())\n",
    "tmp.\n",
    "tmp.hist(by=\"target\")"
   ]
  },
  {
   "cell_type": "code",
   "execution_count": 79,
   "metadata": {
    "collapsed": false
   },
   "outputs": [
    {
     "data": {
      "text/html": [
       "<div>\n",
       "<table border=\"1\" class=\"dataframe\">\n",
       "  <thead>\n",
       "    <tr style=\"text-align: right;\">\n",
       "      <th></th>\n",
       "      <th>target</th>\n",
       "    </tr>\n",
       "    <tr>\n",
       "      <th>tariff_id</th>\n",
       "      <th></th>\n",
       "    </tr>\n",
       "  </thead>\n",
       "  <tbody>\n",
       "    <tr>\n",
       "      <th>1.00</th>\n",
       "      <td>0.070824</td>\n",
       "    </tr>\n",
       "    <tr>\n",
       "      <th>1.10</th>\n",
       "      <td>0.190181</td>\n",
       "    </tr>\n",
       "    <tr>\n",
       "      <th>1.16</th>\n",
       "      <td>0.107983</td>\n",
       "    </tr>\n",
       "    <tr>\n",
       "      <th>1.17</th>\n",
       "      <td>0.171548</td>\n",
       "    </tr>\n",
       "    <tr>\n",
       "      <th>1.18</th>\n",
       "      <td>0.916667</td>\n",
       "    </tr>\n",
       "  </tbody>\n",
       "</table>\n",
       "</div>"
      ],
      "text/plain": [
       "             target\n",
       "tariff_id          \n",
       "1.00       0.070824\n",
       "1.10       0.190181\n",
       "1.16       0.107983\n",
       "1.17       0.171548\n",
       "1.18       0.916667"
      ]
     },
     "execution_count": 79,
     "metadata": {},
     "output_type": "execute_result"
    }
   ],
   "source": [
    "tmp.head()"
   ]
  },
  {
   "cell_type": "code",
   "execution_count": 40,
   "metadata": {
    "collapsed": false
   },
   "outputs": [
    {
     "data": {
      "text/html": [
       "<div>\n",
       "<table border=\"1\" class=\"dataframe\">\n",
       "  <thead>\n",
       "    <tr style=\"text-align: right;\">\n",
       "      <th></th>\n",
       "      <th>client_id</th>\n",
       "      <th>gender</th>\n",
       "      <th>age</th>\n",
       "      <th>marital_status</th>\n",
       "      <th>job_position</th>\n",
       "      <th>credit_sum</th>\n",
       "      <th>credit_month</th>\n",
       "      <th>tariff_id</th>\n",
       "      <th>score_shk</th>\n",
       "      <th>education</th>\n",
       "      <th>living_region</th>\n",
       "      <th>monthly_income</th>\n",
       "      <th>credit_count</th>\n",
       "      <th>overdue_credit_count</th>\n",
       "    </tr>\n",
       "  </thead>\n",
       "  <tbody>\n",
       "    <tr>\n",
       "      <th>8203</th>\n",
       "      <td>178950</td>\n",
       "      <td>1</td>\n",
       "      <td>26</td>\n",
       "      <td>UNM</td>\n",
       "      <td>INV</td>\n",
       "      <td>14598,00</td>\n",
       "      <td>10</td>\n",
       "      <td>1.6</td>\n",
       "      <td>0,578977</td>\n",
       "      <td>SCH</td>\n",
       "      <td>РЕСПУБЛИКА ТАТАРСТАН</td>\n",
       "      <td>11000</td>\n",
       "      <td>0.0</td>\n",
       "      <td>0.0</td>\n",
       "    </tr>\n",
       "    <tr>\n",
       "      <th>63304</th>\n",
       "      <td>234051</td>\n",
       "      <td>0</td>\n",
       "      <td>67</td>\n",
       "      <td>UNM</td>\n",
       "      <td>INV</td>\n",
       "      <td>13809,00</td>\n",
       "      <td>10</td>\n",
       "      <td>1.6</td>\n",
       "      <td>0,619240</td>\n",
       "      <td>SCH</td>\n",
       "      <td>ПРИМОРСКИЙ КРАЙ</td>\n",
       "      <td>9400</td>\n",
       "      <td>3.0</td>\n",
       "      <td>1.0</td>\n",
       "    </tr>\n",
       "  </tbody>\n",
       "</table>\n",
       "</div>"
      ],
      "text/plain": [
       "       client_id  gender  age marital_status job_position credit_sum  \\\n",
       "8203      178950       1   26            UNM          INV   14598,00   \n",
       "63304     234051       0   67            UNM          INV   13809,00   \n",
       "\n",
       "       credit_month  tariff_id score_shk education         living_region  \\\n",
       "8203             10        1.6  0,578977       SCH  РЕСПУБЛИКА ТАТАРСТАН   \n",
       "63304            10        1.6  0,619240       SCH       ПРИМОРСКИЙ КРАЙ   \n",
       "\n",
       "       monthly_income  credit_count  overdue_credit_count  \n",
       "8203            11000           0.0                   0.0  \n",
       "63304            9400           3.0                   1.0  "
      ]
     },
     "execution_count": 40,
     "metadata": {},
     "output_type": "execute_result"
    }
   ],
   "source": [
    "test[test.job_position == \"INV\"]"
   ]
  },
  {
   "cell_type": "code",
   "execution_count": 26,
   "metadata": {
    "collapsed": false
   },
   "outputs": [],
   "source": [
    "train.gender = train.gender.map({\"M\":1, \"F\":0})\n",
    "test.gender = test.gender.map({\"M\":1, \"F\":0})"
   ]
  },
  {
   "cell_type": "code",
   "execution_count": 27,
   "metadata": {
    "collapsed": true
   },
   "outputs": [],
   "source": [
    "train.rename(columns={\"open_account_flg\":\"target\"}, inplace=True)"
   ]
  },
  {
   "cell_type": "markdown",
   "metadata": {
    "collapsed": true
   },
   "source": [
    "II сделать сбалансированные классы"
   ]
  },
  {
   "cell_type": "code",
   "execution_count": 13,
   "metadata": {
    "collapsed": false
   },
   "outputs": [],
   "source": [
    "count_to_add = abs (np.sum(train.target == 1) - np.sum(train.target == 0))\n",
    "indices_to_add = np.random.randint(np.sum(train.target == 1), size = count_to_add)\n",
    "train_to_add = pd.DataFrame(data = train.values[train.target.as_matrix() == 1][indices_to_add,:], columns=train.columns)"
   ]
  },
  {
   "cell_type": "code",
   "execution_count": 14,
   "metadata": {
    "collapsed": true
   },
   "outputs": [],
   "source": [
    "train = pd.concat([train, train_to_add], axis=0)"
   ]
  },
  {
   "cell_type": "code",
   "execution_count": 15,
   "metadata": {
    "collapsed": true
   },
   "outputs": [],
   "source": [
    "y = train.target"
   ]
  },
  {
   "cell_type": "markdown",
   "metadata": {},
   "source": [
    "II выделим группы людей по наличию высшего образования, работе и пенсии "
   ]
  },
  {
   "cell_type": "code",
   "execution_count": 16,
   "metadata": {
    "collapsed": false
   },
   "outputs": [],
   "source": [
    "### по образованию\n",
    "train[\"high_edu\"] = ((train[\"education\"] != \"SCH\") & (train[\"education\"] != \"UGR\"))\n",
    "\n",
    "### по работе\n",
    "# 1. не работающие граждание\n",
    "train[\"not_work\"] = ((train.job_position == \"HSK\") | (train.job_position == \"INV\") \n",
    "                     | (train.job_position == \"NOR\") | (train.job_position == \"PNS\"))\n",
    "\n",
    "# 2. обычные работники\n",
    "train[\"usual_workers\"] = ((train.job_position == \"SPC\") | (train.job_position == \"WOI\") \n",
    "                     | (train.job_position == \"WRK\") | (train.job_position == \"ATP\") \n",
    "                     | (train.job_position == \"WRP\"))\n",
    "\n",
    "# 3. начальники\n",
    "train[\"head_workers\"] = ((train.job_position == \"DIR\") | (train.job_position == \"UMN\")\n",
    "                         | (train.job_position == \"BIS\") | (train.job_position == \"INP\"))\n",
    "\n",
    "# 4. имеют собственный бизнес\n",
    "train[\"have_business\"] = ((train.job_position == \"BIS\") | (train.job_position == \"INP\"))\n",
    "\n",
    "### по браку\n",
    "train[\"single\"] = ((train.marital_status == \"UNM\") | (train.marital_status == \"DIV\")\n",
    "                   | (train.marital_status == \"WID\"))"
   ]
  },
  {
   "cell_type": "code",
   "execution_count": 17,
   "metadata": {
    "collapsed": true
   },
   "outputs": [],
   "source": [
    "### по образованию\n",
    "test[\"high_edu\"] = ((test[\"education\"] != \"SCH\") & (test[\"education\"] != \"UGR\"))\n",
    "\n",
    "### по работе\n",
    "# 1. не работающие граждание\n",
    "test[\"not_work\"] = ((test.job_position == \"HSK\") | (test.job_position == \"INV\") \n",
    "                     | (test.job_position == \"NOR\") | (test.job_position == \"PNS\"))\n",
    "\n",
    "# 2. обычные работники\n",
    "test[\"usual_workers\"] = ((test.job_position == \"SPC\") | (test.job_position == \"WOI\") \n",
    "                     | (test.job_position == \"WRK\") | (test.job_position == \"ATP\") \n",
    "                     | (test.job_position == \"WRP\"))\n",
    "\n",
    "# 3. начальники\n",
    "test[\"head_workers\"] = ((test.job_position == \"DIR\") | (test.job_position == \"UMN\")\n",
    "                         | (test.job_position == \"BIS\") | (test.job_position == \"INP\"))\n",
    "\n",
    "# 4. имеют собственный бизнес\n",
    "test[\"have_business\"] = ((test.job_position == \"BIS\") | (test.job_position == \"INP\"))\n",
    "\n",
    "### по браку\n",
    "test[\"single\"] = ((test.marital_status == \"UNM\") | (test.marital_status == \"DIV\")\n",
    "                   | (test.marital_status == \"WID\"))"
   ]
  },
  {
   "cell_type": "markdown",
   "metadata": {},
   "source": [
    "III кодировка категориальных признаков, кроме living region"
   ]
  },
  {
   "cell_type": "code",
   "execution_count": 18,
   "metadata": {
    "collapsed": true
   },
   "outputs": [],
   "source": [
    "train_col = train.columns.drop(\"target\")"
   ]
  },
  {
   "cell_type": "code",
   "execution_count": 19,
   "metadata": {
    "collapsed": false
   },
   "outputs": [],
   "source": [
    "dummy_df = pd.concat([train[train_col], test], axis=0)"
   ]
  },
  {
   "cell_type": "code",
   "execution_count": 20,
   "metadata": {
    "collapsed": false
   },
   "outputs": [],
   "source": [
    "dummy_df = pd.get_dummies(dummy_df, columns=[\"education\",\"job_position\", \"marital_status\"], drop_first=True)"
   ]
  },
  {
   "cell_type": "code",
   "execution_count": 21,
   "metadata": {
    "collapsed": false
   },
   "outputs": [],
   "source": [
    "train = dummy_df[:train.shape[0]]\n",
    "test = dummy_df[train.shape[0]:]"
   ]
  },
  {
   "cell_type": "code",
   "execution_count": 22,
   "metadata": {
    "collapsed": false
   },
   "outputs": [
    {
     "data": {
      "text/plain": [
       "Index(['client_id', 'gender', 'age', 'credit_sum', 'credit_month', 'tariff_id',\n",
       "       'score_shk', 'living_region', 'monthly_income', 'credit_count',\n",
       "       'overdue_credit_count', 'high_edu', 'not_work', 'usual_workers',\n",
       "       'head_workers', 'have_business', 'single', 'education_GRD',\n",
       "       'education_PGR', 'education_SCH', 'education_UGR', 'job_position_BIS',\n",
       "       'job_position_BIU', 'job_position_DIR', 'job_position_HSK',\n",
       "       'job_position_INP', 'job_position_INV', 'job_position_NOR',\n",
       "       'job_position_ONB', 'job_position_PNA', 'job_position_PNI',\n",
       "       'job_position_PNS', 'job_position_PNV', 'job_position_SPC',\n",
       "       'job_position_UMN', 'job_position_WOI', 'job_position_WRK',\n",
       "       'job_position_WRP', 'marital_status_DIV', 'marital_status_MAR',\n",
       "       'marital_status_UNM', 'marital_status_WID'],\n",
       "      dtype='object')"
      ]
     },
     "execution_count": 22,
     "metadata": {},
     "output_type": "execute_result"
    }
   ],
   "source": [
    "train.columns"
   ]
  },
  {
   "cell_type": "markdown",
   "metadata": {},
   "source": [
    "IV кодировка региона через среднюю зарплату"
   ]
  },
  {
   "cell_type": "code",
   "execution_count": 23,
   "metadata": {
    "collapsed": true
   },
   "outputs": [],
   "source": [
    "def code_mean(data, cat_feature, real_feature):\n",
    "    return (data[cat_feature].map(data.groupby(cat_feature)[real_feature].mean()))"
   ]
  },
  {
   "cell_type": "code",
   "execution_count": 24,
   "metadata": {
    "collapsed": false
   },
   "outputs": [
    {
     "name": "stderr",
     "output_type": "stream",
     "text": [
      "/Users/Roman/anaconda/lib/python3.6/site-packages/ipykernel/__main__.py:1: SettingWithCopyWarning: \n",
      "A value is trying to be set on a copy of a slice from a DataFrame.\n",
      "Try using .loc[row_indexer,col_indexer] = value instead\n",
      "\n",
      "See the caveats in the documentation: http://pandas.pydata.org/pandas-docs/stable/indexing.html#indexing-view-versus-copy\n",
      "  if __name__ == '__main__':\n",
      "/Users/Roman/anaconda/lib/python3.6/site-packages/ipykernel/__main__.py:2: SettingWithCopyWarning: \n",
      "A value is trying to be set on a copy of a slice from a DataFrame.\n",
      "Try using .loc[row_indexer,col_indexer] = value instead\n",
      "\n",
      "See the caveats in the documentation: http://pandas.pydata.org/pandas-docs/stable/indexing.html#indexing-view-versus-copy\n",
      "  from ipykernel import kernelapp as app\n",
      "/Users/Roman/anaconda/lib/python3.6/site-packages/ipykernel/__main__.py:4: SettingWithCopyWarning: \n",
      "A value is trying to be set on a copy of a slice from a DataFrame.\n",
      "Try using .loc[row_indexer,col_indexer] = value instead\n",
      "\n",
      "See the caveats in the documentation: http://pandas.pydata.org/pandas-docs/stable/indexing.html#indexing-view-versus-copy\n",
      "/Users/Roman/anaconda/lib/python3.6/site-packages/pandas/core/generic.py:3295: SettingWithCopyWarning: \n",
      "A value is trying to be set on a copy of a slice from a DataFrame\n",
      "\n",
      "See the caveats in the documentation: http://pandas.pydata.org/pandas-docs/stable/indexing.html#indexing-view-versus-copy\n",
      "  self._update_inplace(new_data)\n",
      "/Users/Roman/anaconda/lib/python3.6/site-packages/ipykernel/__main__.py:6: SettingWithCopyWarning: \n",
      "A value is trying to be set on a copy of a slice from a DataFrame\n",
      "\n",
      "See the caveats in the documentation: http://pandas.pydata.org/pandas-docs/stable/indexing.html#indexing-view-versus-copy\n",
      "/Users/Roman/anaconda/lib/python3.6/site-packages/ipykernel/__main__.py:8: SettingWithCopyWarning: \n",
      "A value is trying to be set on a copy of a slice from a DataFrame.\n",
      "Try using .loc[row_indexer,col_indexer] = value instead\n",
      "\n",
      "See the caveats in the documentation: http://pandas.pydata.org/pandas-docs/stable/indexing.html#indexing-view-versus-copy\n",
      "/Users/Roman/anaconda/lib/python3.6/site-packages/ipykernel/__main__.py:10: SettingWithCopyWarning: \n",
      "A value is trying to be set on a copy of a slice from a DataFrame\n",
      "\n",
      "See the caveats in the documentation: http://pandas.pydata.org/pandas-docs/stable/indexing.html#indexing-view-versus-copy\n"
     ]
    }
   ],
   "source": [
    "train['monthly_income'] = train['monthly_income'].astype(float)\n",
    "test['monthly_income'] = test['monthly_income'].astype(float)\n",
    "\n",
    "train[\"city_mean_income\"] = code_mean(train, 'living_region', 'monthly_income')\n",
    "train.city_mean_income.fillna(value=train.city_mean_income.mean(), inplace=True)\n",
    "train.drop(\"living_region\", axis=1, inplace=True)\n",
    "\n",
    "test[\"city_mean_income\"] = code_mean(test, 'living_region', 'monthly_income')\n",
    "test.city_mean_income.fillna(value=train.city_mean_income.mean(), inplace=True)\n",
    "test.drop(\"living_region\", axis=1, inplace=True)"
   ]
  },
  {
   "cell_type": "markdown",
   "metadata": {},
   "source": [
    "V Генерация данных о зарплате и выплатам по кредиту"
   ]
  },
  {
   "cell_type": "code",
   "execution_count": 25,
   "metadata": {
    "collapsed": false
   },
   "outputs": [
    {
     "name": "stderr",
     "output_type": "stream",
     "text": [
      "/Users/Roman/anaconda/lib/python3.6/site-packages/ipykernel/__main__.py:1: SettingWithCopyWarning: \n",
      "A value is trying to be set on a copy of a slice from a DataFrame.\n",
      "Try using .loc[row_indexer,col_indexer] = value instead\n",
      "\n",
      "See the caveats in the documentation: http://pandas.pydata.org/pandas-docs/stable/indexing.html#indexing-view-versus-copy\n",
      "  if __name__ == '__main__':\n",
      "/Users/Roman/anaconda/lib/python3.6/site-packages/ipykernel/__main__.py:2: SettingWithCopyWarning: \n",
      "A value is trying to be set on a copy of a slice from a DataFrame.\n",
      "Try using .loc[row_indexer,col_indexer] = value instead\n",
      "\n",
      "See the caveats in the documentation: http://pandas.pydata.org/pandas-docs/stable/indexing.html#indexing-view-versus-copy\n",
      "  from ipykernel import kernelapp as app\n",
      "/Users/Roman/anaconda/lib/python3.6/site-packages/ipykernel/__main__.py:4: SettingWithCopyWarning: \n",
      "A value is trying to be set on a copy of a slice from a DataFrame.\n",
      "Try using .loc[row_indexer,col_indexer] = value instead\n",
      "\n",
      "See the caveats in the documentation: http://pandas.pydata.org/pandas-docs/stable/indexing.html#indexing-view-versus-copy\n",
      "/Users/Roman/anaconda/lib/python3.6/site-packages/ipykernel/__main__.py:5: SettingWithCopyWarning: \n",
      "A value is trying to be set on a copy of a slice from a DataFrame.\n",
      "Try using .loc[row_indexer,col_indexer] = value instead\n",
      "\n",
      "See the caveats in the documentation: http://pandas.pydata.org/pandas-docs/stable/indexing.html#indexing-view-versus-copy\n"
     ]
    }
   ],
   "source": [
    "train['credit_sum'] = train['credit_sum'].apply(lambda x: x.replace(\",\",\".\"))\n",
    "test['credit_sum'] = test['credit_sum'].apply(lambda x: x.replace(\",\",\".\"))\n",
    "\n",
    "train['credit_sum'] = train['credit_sum'].astype(float)\n",
    "test['credit_sum'] = test['credit_sum'].astype(float)"
   ]
  },
  {
   "cell_type": "markdown",
   "metadata": {},
   "source": [
    "credit_pay - ежемесячный расход на кредит\n",
    "\n",
    "money_for_life - разность между зп и платой по кредиту\n",
    "\n",
    "dif_city - разница между зп и средней зп по региону"
   ]
  },
  {
   "cell_type": "code",
   "execution_count": 26,
   "metadata": {
    "collapsed": false
   },
   "outputs": [
    {
     "name": "stderr",
     "output_type": "stream",
     "text": [
      "/Users/Roman/anaconda/lib/python3.6/site-packages/ipykernel/__main__.py:1: SettingWithCopyWarning: \n",
      "A value is trying to be set on a copy of a slice from a DataFrame.\n",
      "Try using .loc[row_indexer,col_indexer] = value instead\n",
      "\n",
      "See the caveats in the documentation: http://pandas.pydata.org/pandas-docs/stable/indexing.html#indexing-view-versus-copy\n",
      "  if __name__ == '__main__':\n",
      "/Users/Roman/anaconda/lib/python3.6/site-packages/ipykernel/__main__.py:2: SettingWithCopyWarning: \n",
      "A value is trying to be set on a copy of a slice from a DataFrame.\n",
      "Try using .loc[row_indexer,col_indexer] = value instead\n",
      "\n",
      "See the caveats in the documentation: http://pandas.pydata.org/pandas-docs/stable/indexing.html#indexing-view-versus-copy\n",
      "  from ipykernel import kernelapp as app\n",
      "/Users/Roman/anaconda/lib/python3.6/site-packages/ipykernel/__main__.py:3: SettingWithCopyWarning: \n",
      "A value is trying to be set on a copy of a slice from a DataFrame.\n",
      "Try using .loc[row_indexer,col_indexer] = value instead\n",
      "\n",
      "See the caveats in the documentation: http://pandas.pydata.org/pandas-docs/stable/indexing.html#indexing-view-versus-copy\n",
      "  app.launch_new_instance()\n",
      "/Users/Roman/anaconda/lib/python3.6/site-packages/ipykernel/__main__.py:5: SettingWithCopyWarning: \n",
      "A value is trying to be set on a copy of a slice from a DataFrame.\n",
      "Try using .loc[row_indexer,col_indexer] = value instead\n",
      "\n",
      "See the caveats in the documentation: http://pandas.pydata.org/pandas-docs/stable/indexing.html#indexing-view-versus-copy\n",
      "/Users/Roman/anaconda/lib/python3.6/site-packages/ipykernel/__main__.py:6: SettingWithCopyWarning: \n",
      "A value is trying to be set on a copy of a slice from a DataFrame.\n",
      "Try using .loc[row_indexer,col_indexer] = value instead\n",
      "\n",
      "See the caveats in the documentation: http://pandas.pydata.org/pandas-docs/stable/indexing.html#indexing-view-versus-copy\n",
      "/Users/Roman/anaconda/lib/python3.6/site-packages/ipykernel/__main__.py:7: SettingWithCopyWarning: \n",
      "A value is trying to be set on a copy of a slice from a DataFrame.\n",
      "Try using .loc[row_indexer,col_indexer] = value instead\n",
      "\n",
      "See the caveats in the documentation: http://pandas.pydata.org/pandas-docs/stable/indexing.html#indexing-view-versus-copy\n"
     ]
    }
   ],
   "source": [
    "train[\"credit_pay\"] = train[\"credit_sum\"] / train[\"credit_month\"]\n",
    "train[\"money_for_life\"] = train[\"monthly_income\"] - train[\"credit_pay\"]\n",
    "train[\"dif_city\"] = train[\"monthly_income\"] - train[\"city_mean_income\"]\n",
    "\n",
    "test[\"credit_pay\"] = test[\"credit_sum\"] / test[\"credit_month\"]\n",
    "test[\"money_for_life\"] = test[\"monthly_income\"] - test[\"credit_pay\"]\n",
    "test[\"dif_city\"] = test[\"monthly_income\"] - test[\"city_mean_income\"]"
   ]
  },
  {
   "cell_type": "markdown",
   "metadata": {},
   "source": [
    "VI анализ score_shk"
   ]
  },
  {
   "cell_type": "code",
   "execution_count": 27,
   "metadata": {
    "collapsed": false
   },
   "outputs": [
    {
     "name": "stderr",
     "output_type": "stream",
     "text": [
      "/Users/Roman/anaconda/lib/python3.6/site-packages/ipykernel/__main__.py:1: SettingWithCopyWarning: \n",
      "A value is trying to be set on a copy of a slice from a DataFrame.\n",
      "Try using .loc[row_indexer,col_indexer] = value instead\n",
      "\n",
      "See the caveats in the documentation: http://pandas.pydata.org/pandas-docs/stable/indexing.html#indexing-view-versus-copy\n",
      "  if __name__ == '__main__':\n",
      "/Users/Roman/anaconda/lib/python3.6/site-packages/ipykernel/__main__.py:2: SettingWithCopyWarning: \n",
      "A value is trying to be set on a copy of a slice from a DataFrame.\n",
      "Try using .loc[row_indexer,col_indexer] = value instead\n",
      "\n",
      "See the caveats in the documentation: http://pandas.pydata.org/pandas-docs/stable/indexing.html#indexing-view-versus-copy\n",
      "  from ipykernel import kernelapp as app\n",
      "/Users/Roman/anaconda/lib/python3.6/site-packages/ipykernel/__main__.py:4: SettingWithCopyWarning: \n",
      "A value is trying to be set on a copy of a slice from a DataFrame.\n",
      "Try using .loc[row_indexer,col_indexer] = value instead\n",
      "\n",
      "See the caveats in the documentation: http://pandas.pydata.org/pandas-docs/stable/indexing.html#indexing-view-versus-copy\n",
      "/Users/Roman/anaconda/lib/python3.6/site-packages/ipykernel/__main__.py:5: SettingWithCopyWarning: \n",
      "A value is trying to be set on a copy of a slice from a DataFrame.\n",
      "Try using .loc[row_indexer,col_indexer] = value instead\n",
      "\n",
      "See the caveats in the documentation: http://pandas.pydata.org/pandas-docs/stable/indexing.html#indexing-view-versus-copy\n"
     ]
    }
   ],
   "source": [
    "train['score_shk'] = train['score_shk'].apply(lambda x: x.replace(\",\",\".\"))\n",
    "test['score_shk'] = test['score_shk'].apply(lambda x: x.replace(\",\",\".\"))\n",
    "\n",
    "train['score_shk'] = train['score_shk'].astype(float)\n",
    "test['score_shk'] = test['score_shk'].astype(float)"
   ]
  },
  {
   "cell_type": "code",
   "execution_count": 28,
   "metadata": {
    "collapsed": false,
    "scrolled": true
   },
   "outputs": [
    {
     "name": "stderr",
     "output_type": "stream",
     "text": [
      "/Users/Roman/anaconda/lib/python3.6/site-packages/ipykernel/__main__.py:1: SettingWithCopyWarning: \n",
      "A value is trying to be set on a copy of a slice from a DataFrame.\n",
      "Try using .loc[row_indexer,col_indexer] = value instead\n",
      "\n",
      "See the caveats in the documentation: http://pandas.pydata.org/pandas-docs/stable/indexing.html#indexing-view-versus-copy\n",
      "  if __name__ == '__main__':\n"
     ]
    }
   ],
   "source": [
    "train['target'] = y"
   ]
  },
  {
   "cell_type": "code",
   "execution_count": 29,
   "metadata": {
    "collapsed": false
   },
   "outputs": [
    {
     "name": "stdout",
     "output_type": "stream",
     "text": [
      "<class 'pandas.core.frame.DataFrame'>\n",
      "Int64Index: 281380 entries, 0 to 110633\n",
      "Data columns (total 46 columns):\n",
      "client_id               281380 non-null object\n",
      "gender                  281380 non-null object\n",
      "age                     281380 non-null object\n",
      "credit_sum              281380 non-null float64\n",
      "credit_month            281380 non-null object\n",
      "tariff_id               281380 non-null object\n",
      "score_shk               281380 non-null float64\n",
      "monthly_income          281380 non-null float64\n",
      "credit_count            281380 non-null object\n",
      "overdue_credit_count    281380 non-null object\n",
      "high_edu                281380 non-null bool\n",
      "not_work                281380 non-null bool\n",
      "usual_workers           281380 non-null bool\n",
      "head_workers            281380 non-null bool\n",
      "have_business           281380 non-null bool\n",
      "single                  281380 non-null bool\n",
      "education_GRD           281380 non-null uint8\n",
      "education_PGR           281380 non-null uint8\n",
      "education_SCH           281380 non-null uint8\n",
      "education_UGR           281380 non-null uint8\n",
      "job_position_BIS        281380 non-null uint8\n",
      "job_position_BIU        281380 non-null uint8\n",
      "job_position_DIR        281380 non-null uint8\n",
      "job_position_HSK        281380 non-null uint8\n",
      "job_position_INP        281380 non-null uint8\n",
      "job_position_INV        281380 non-null uint8\n",
      "job_position_NOR        281380 non-null uint8\n",
      "job_position_ONB        281380 non-null uint8\n",
      "job_position_PNA        281380 non-null uint8\n",
      "job_position_PNI        281380 non-null uint8\n",
      "job_position_PNS        281380 non-null uint8\n",
      "job_position_PNV        281380 non-null uint8\n",
      "job_position_SPC        281380 non-null uint8\n",
      "job_position_UMN        281380 non-null uint8\n",
      "job_position_WOI        281380 non-null uint8\n",
      "job_position_WRK        281380 non-null uint8\n",
      "job_position_WRP        281380 non-null uint8\n",
      "marital_status_DIV      281380 non-null uint8\n",
      "marital_status_MAR      281380 non-null uint8\n",
      "marital_status_UNM      281380 non-null uint8\n",
      "marital_status_WID      281380 non-null uint8\n",
      "city_mean_income        281380 non-null float64\n",
      "credit_pay              281380 non-null object\n",
      "money_for_life          281380 non-null object\n",
      "dif_city                281380 non-null float64\n",
      "target                  281380 non-null object\n",
      "dtypes: bool(6), float64(5), object(10), uint8(25)\n",
      "memory usage: 42.7+ MB\n"
     ]
    }
   ],
   "source": [
    "train.info()"
   ]
  },
  {
   "cell_type": "code",
   "execution_count": 30,
   "metadata": {
    "collapsed": false
   },
   "outputs": [
    {
     "name": "stdout",
     "output_type": "stream",
     "text": [
      "<class 'pandas.core.frame.DataFrame'>\n",
      "Int64Index: 91940 entries, 0 to 91939\n",
      "Data columns (total 45 columns):\n",
      "client_id               91940 non-null object\n",
      "gender                  91940 non-null object\n",
      "age                     91940 non-null object\n",
      "credit_sum              91940 non-null float64\n",
      "credit_month            91940 non-null object\n",
      "tariff_id               91940 non-null object\n",
      "score_shk               91940 non-null float64\n",
      "monthly_income          91940 non-null float64\n",
      "credit_count            91940 non-null object\n",
      "overdue_credit_count    91940 non-null object\n",
      "high_edu                91940 non-null bool\n",
      "not_work                91940 non-null bool\n",
      "usual_workers           91940 non-null bool\n",
      "head_workers            91940 non-null bool\n",
      "have_business           91940 non-null bool\n",
      "single                  91940 non-null bool\n",
      "education_GRD           91940 non-null uint8\n",
      "education_PGR           91940 non-null uint8\n",
      "education_SCH           91940 non-null uint8\n",
      "education_UGR           91940 non-null uint8\n",
      "job_position_BIS        91940 non-null uint8\n",
      "job_position_BIU        91940 non-null uint8\n",
      "job_position_DIR        91940 non-null uint8\n",
      "job_position_HSK        91940 non-null uint8\n",
      "job_position_INP        91940 non-null uint8\n",
      "job_position_INV        91940 non-null uint8\n",
      "job_position_NOR        91940 non-null uint8\n",
      "job_position_ONB        91940 non-null uint8\n",
      "job_position_PNA        91940 non-null uint8\n",
      "job_position_PNI        91940 non-null uint8\n",
      "job_position_PNS        91940 non-null uint8\n",
      "job_position_PNV        91940 non-null uint8\n",
      "job_position_SPC        91940 non-null uint8\n",
      "job_position_UMN        91940 non-null uint8\n",
      "job_position_WOI        91940 non-null uint8\n",
      "job_position_WRK        91940 non-null uint8\n",
      "job_position_WRP        91940 non-null uint8\n",
      "marital_status_DIV      91940 non-null uint8\n",
      "marital_status_MAR      91940 non-null uint8\n",
      "marital_status_UNM      91940 non-null uint8\n",
      "marital_status_WID      91940 non-null uint8\n",
      "city_mean_income        91940 non-null float64\n",
      "credit_pay              91940 non-null object\n",
      "money_for_life          91940 non-null object\n",
      "dif_city                91940 non-null float64\n",
      "dtypes: bool(6), float64(5), object(9), uint8(25)\n",
      "memory usage: 13.2+ MB\n"
     ]
    }
   ],
   "source": [
    "test.info()"
   ]
  },
  {
   "cell_type": "code",
   "execution_count": 31,
   "metadata": {
    "collapsed": true
   },
   "outputs": [],
   "source": [
    "train.to_csv(\"train_random_oversampling.csv\", columns=train.columns, index=False)\n",
    "test.to_csv(\"test.csv\", columns=test.columns, index=False)"
   ]
  },
  {
   "cell_type": "code",
   "execution_count": null,
   "metadata": {
    "collapsed": true
   },
   "outputs": [],
   "source": []
  }
 ],
 "metadata": {
  "anaconda-cloud": {},
  "kernelspec": {
   "display_name": "Python 3",
   "language": "python",
   "name": "python3"
  },
  "language_info": {
   "codemirror_mode": {
    "name": "ipython",
    "version": 3
   },
   "file_extension": ".py",
   "mimetype": "text/x-python",
   "name": "python",
   "nbconvert_exporter": "python",
   "pygments_lexer": "ipython3",
   "version": "3.6.0"
  }
 },
 "nbformat": 4,
 "nbformat_minor": 1
}
