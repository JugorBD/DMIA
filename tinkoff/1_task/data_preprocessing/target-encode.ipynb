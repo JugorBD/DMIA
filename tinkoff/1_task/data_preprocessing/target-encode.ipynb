{
 "cells": [
  {
   "cell_type": "code",
   "execution_count": 6,
   "metadata": {
    "collapsed": false
   },
   "outputs": [],
   "source": [
    "import numpy as np\n",
    "import pandas as pd\n",
    "import matplotlib.pyplot as plt\n",
    "%matplotlib inline\n",
    "\n",
    "from sklearn.pipeline import Pipeline\n",
    "from sklearn.linear_model import LinearRegression\n",
    "from sklearn.cross_validation import cross_val_score, train_test_split\n",
    "from sklearn.feature_extraction.text import TfidfVectorizer\n",
    "from sklearn import manifold, decomposition, linear_model, ensemble, neighbors, cross_validation"
   ]
  },
  {
   "cell_type": "code",
   "execution_count": 7,
   "metadata": {
    "collapsed": false
   },
   "outputs": [],
   "source": [
    "train = pd.read_csv(\"../credit_train.csv\", sep = \";\", encoding='cp1251')\n",
    "test = pd.read_csv(\"../credit_test.csv\", sep = \";\", encoding='cp1251')"
   ]
  },
  {
   "cell_type": "code",
   "execution_count": 8,
   "metadata": {
    "collapsed": true
   },
   "outputs": [],
   "source": [
    "city_train = pd.read_csv(\"../datasets/credit_train_clean.csv\")\n",
    "city_test = pd.read_csv(\"../datasets/credit_test_clean.csv\")"
   ]
  },
  {
   "cell_type": "code",
   "execution_count": 9,
   "metadata": {
    "collapsed": false
   },
   "outputs": [
    {
     "data": {
      "text/html": [
       "<div>\n",
       "<table border=\"1\" class=\"dataframe\">\n",
       "  <thead>\n",
       "    <tr style=\"text-align: right;\">\n",
       "      <th></th>\n",
       "      <th>client_id</th>\n",
       "      <th>gender</th>\n",
       "      <th>age</th>\n",
       "      <th>marital_status</th>\n",
       "      <th>job_position</th>\n",
       "      <th>credit_sum</th>\n",
       "      <th>credit_month</th>\n",
       "      <th>tariff_id</th>\n",
       "      <th>score_shk</th>\n",
       "      <th>education</th>\n",
       "      <th>living_region</th>\n",
       "      <th>monthly_income</th>\n",
       "      <th>credit_count</th>\n",
       "      <th>overdue_credit_count</th>\n",
       "      <th>open_account_flg</th>\n",
       "    </tr>\n",
       "  </thead>\n",
       "  <tbody>\n",
       "    <tr>\n",
       "      <th>0</th>\n",
       "      <td>1</td>\n",
       "      <td>M</td>\n",
       "      <td>48</td>\n",
       "      <td>MAR</td>\n",
       "      <td>UMN</td>\n",
       "      <td>59998,00</td>\n",
       "      <td>10</td>\n",
       "      <td>1.6</td>\n",
       "      <td>0,770249</td>\n",
       "      <td>GRD</td>\n",
       "      <td>КРАСНОДАРСКИЙ КРАЙ</td>\n",
       "      <td>30000.0</td>\n",
       "      <td>1.0</td>\n",
       "      <td>1.0</td>\n",
       "      <td>0</td>\n",
       "    </tr>\n",
       "    <tr>\n",
       "      <th>1</th>\n",
       "      <td>2</td>\n",
       "      <td>F</td>\n",
       "      <td>28</td>\n",
       "      <td>MAR</td>\n",
       "      <td>UMN</td>\n",
       "      <td>10889,00</td>\n",
       "      <td>6</td>\n",
       "      <td>1.1</td>\n",
       "      <td>0,248514</td>\n",
       "      <td>GRD</td>\n",
       "      <td>МОСКВА</td>\n",
       "      <td>43000.0</td>\n",
       "      <td>2.0</td>\n",
       "      <td>0.0</td>\n",
       "      <td>0</td>\n",
       "    </tr>\n",
       "  </tbody>\n",
       "</table>\n",
       "</div>"
      ],
      "text/plain": [
       "   client_id gender  age marital_status job_position credit_sum  credit_month  \\\n",
       "0          1      M   48            MAR          UMN   59998,00            10   \n",
       "1          2      F   28            MAR          UMN   10889,00             6   \n",
       "\n",
       "   tariff_id score_shk education       living_region  monthly_income  \\\n",
       "0        1.6  0,770249       GRD  КРАСНОДАРСКИЙ КРАЙ         30000.0   \n",
       "1        1.1  0,248514       GRD              МОСКВА         43000.0   \n",
       "\n",
       "   credit_count  overdue_credit_count  open_account_flg  \n",
       "0           1.0                   1.0                 0  \n",
       "1           2.0                   0.0                 0  "
      ]
     },
     "execution_count": 9,
     "metadata": {},
     "output_type": "execute_result"
    }
   ],
   "source": [
    "train.head(2)"
   ]
  },
  {
   "cell_type": "code",
   "execution_count": 10,
   "metadata": {
    "collapsed": false
   },
   "outputs": [],
   "source": [
    "y = train['open_account_flg']"
   ]
  },
  {
   "cell_type": "code",
   "execution_count": 11,
   "metadata": {
    "collapsed": false
   },
   "outputs": [
    {
     "name": "stdout",
     "output_type": "stream",
     "text": [
      "<class 'pandas.core.frame.DataFrame'>\n",
      "RangeIndex: 170746 entries, 0 to 170745\n",
      "Data columns (total 15 columns):\n",
      "client_id               170746 non-null int64\n",
      "gender                  170746 non-null object\n",
      "age                     170746 non-null int64\n",
      "marital_status          170746 non-null object\n",
      "job_position            170746 non-null object\n",
      "credit_sum              170746 non-null object\n",
      "credit_month            170746 non-null int64\n",
      "tariff_id               170746 non-null float64\n",
      "score_shk               170746 non-null object\n",
      "education               170746 non-null object\n",
      "living_region           170554 non-null object\n",
      "monthly_income          170745 non-null float64\n",
      "credit_count            161516 non-null float64\n",
      "overdue_credit_count    161516 non-null float64\n",
      "open_account_flg        170746 non-null int64\n",
      "dtypes: float64(4), int64(4), object(7)\n",
      "memory usage: 19.5+ MB\n"
     ]
    }
   ],
   "source": [
    "train.info()"
   ]
  },
  {
   "cell_type": "code",
   "execution_count": 12,
   "metadata": {
    "collapsed": false
   },
   "outputs": [
    {
     "name": "stdout",
     "output_type": "stream",
     "text": [
      "<class 'pandas.core.frame.DataFrame'>\n",
      "RangeIndex: 91940 entries, 0 to 91939\n",
      "Data columns (total 14 columns):\n",
      "client_id               91940 non-null int64\n",
      "gender                  91940 non-null object\n",
      "age                     91940 non-null int64\n",
      "marital_status          91940 non-null object\n",
      "job_position            91940 non-null object\n",
      "credit_sum              91940 non-null object\n",
      "credit_month            91940 non-null int64\n",
      "tariff_id               91940 non-null float64\n",
      "score_shk               91940 non-null object\n",
      "education               91940 non-null object\n",
      "living_region           91824 non-null object\n",
      "monthly_income          91940 non-null int64\n",
      "credit_count            87237 non-null float64\n",
      "overdue_credit_count    87237 non-null float64\n",
      "dtypes: float64(3), int64(4), object(7)\n",
      "memory usage: 9.8+ MB\n"
     ]
    }
   ],
   "source": [
    "test.info()"
   ]
  },
  {
   "cell_type": "markdown",
   "metadata": {},
   "source": [
    "I работа с пропусками в данных"
   ]
  },
  {
   "cell_type": "code",
   "execution_count": 13,
   "metadata": {
    "collapsed": false
   },
   "outputs": [
    {
     "data": {
      "text/html": [
       "<div>\n",
       "<table border=\"1\" class=\"dataframe\">\n",
       "  <thead>\n",
       "    <tr style=\"text-align: right;\">\n",
       "      <th></th>\n",
       "      <th>client_id</th>\n",
       "      <th>gender</th>\n",
       "      <th>age</th>\n",
       "      <th>marital_status</th>\n",
       "      <th>job_position</th>\n",
       "      <th>credit_sum</th>\n",
       "      <th>credit_month</th>\n",
       "      <th>tariff_id</th>\n",
       "      <th>score_shk</th>\n",
       "      <th>education</th>\n",
       "      <th>living_region</th>\n",
       "      <th>monthly_income</th>\n",
       "      <th>credit_count</th>\n",
       "      <th>overdue_credit_count</th>\n",
       "      <th>open_account_flg</th>\n",
       "    </tr>\n",
       "  </thead>\n",
       "  <tbody>\n",
       "    <tr>\n",
       "      <th>19639</th>\n",
       "      <td>19640</td>\n",
       "      <td>F</td>\n",
       "      <td>33</td>\n",
       "      <td>MAR</td>\n",
       "      <td>BIS</td>\n",
       "      <td>13009,00</td>\n",
       "      <td>10</td>\n",
       "      <td>1.6</td>\n",
       "      <td>0,535834</td>\n",
       "      <td>SCH</td>\n",
       "      <td>ПРИМОРСКИЙ КРАЙ</td>\n",
       "      <td>NaN</td>\n",
       "      <td>2.0</td>\n",
       "      <td>0.0</td>\n",
       "      <td>0</td>\n",
       "    </tr>\n",
       "  </tbody>\n",
       "</table>\n",
       "</div>"
      ],
      "text/plain": [
       "       client_id gender  age marital_status job_position credit_sum  \\\n",
       "19639      19640      F   33            MAR          BIS   13009,00   \n",
       "\n",
       "       credit_month  tariff_id score_shk education    living_region  \\\n",
       "19639            10        1.6  0,535834       SCH  ПРИМОРСКИЙ КРАЙ   \n",
       "\n",
       "       monthly_income  credit_count  overdue_credit_count  open_account_flg  \n",
       "19639             NaN           2.0                   0.0                 0  "
      ]
     },
     "execution_count": 13,
     "metadata": {},
     "output_type": "execute_result"
    }
   ],
   "source": [
    "train[train.monthly_income.isnull()]"
   ]
  },
  {
   "cell_type": "code",
   "execution_count": 14,
   "metadata": {
    "collapsed": true
   },
   "outputs": [],
   "source": [
    "train.monthly_income.fillna(value=train.monthly_income.mean(), inplace=True)"
   ]
  },
  {
   "cell_type": "code",
   "execution_count": 15,
   "metadata": {
    "collapsed": false
   },
   "outputs": [],
   "source": [
    "train.living_region = city_train.living_region\n",
    "test.living_region = city_test.living_region"
   ]
  },
  {
   "cell_type": "code",
   "execution_count": 16,
   "metadata": {
    "collapsed": true
   },
   "outputs": [],
   "source": [
    "train.credit_count.fillna(value = train.credit_count.mean(), inplace=True)\n",
    "train.overdue_credit_count.fillna(value = train.overdue_credit_count.mean(), inplace=True)"
   ]
  },
  {
   "cell_type": "code",
   "execution_count": 17,
   "metadata": {
    "collapsed": true
   },
   "outputs": [],
   "source": [
    "test.credit_count.fillna(value = train.credit_count.mean(), inplace=True)\n",
    "test.overdue_credit_count.fillna(value = train.overdue_credit_count.mean(), inplace=True)"
   ]
  },
  {
   "cell_type": "code",
   "execution_count": 18,
   "metadata": {
    "collapsed": false
   },
   "outputs": [],
   "source": [
    "train.gender = train.gender.map({\"M\":1, \"F\":0})\n",
    "test.gender = test.gender.map({\"M\":1, \"F\":0})"
   ]
  },
  {
   "cell_type": "code",
   "execution_count": 19,
   "metadata": {
    "collapsed": true
   },
   "outputs": [],
   "source": [
    "train.rename(columns={\"open_account_flg\":\"target\"}, inplace=True)"
   ]
  },
  {
   "cell_type": "markdown",
   "metadata": {},
   "source": [
    "кодировка категориальных признаков через среднее значения таргета"
   ]
  },
  {
   "cell_type": "code",
   "execution_count": 20,
   "metadata": {
    "collapsed": false
   },
   "outputs": [
    {
     "data": {
      "text/plain": [
       "Index(['client_id', 'gender', 'age', 'marital_status', 'job_position',\n",
       "       'credit_sum', 'credit_month', 'tariff_id', 'score_shk', 'education',\n",
       "       'living_region', 'monthly_income', 'credit_count',\n",
       "       'overdue_credit_count', 'target'],\n",
       "      dtype='object')"
      ]
     },
     "execution_count": 20,
     "metadata": {},
     "output_type": "execute_result"
    }
   ],
   "source": [
    "train.columns"
   ]
  },
  {
   "cell_type": "code",
   "execution_count": 21,
   "metadata": {
    "collapsed": false
   },
   "outputs": [],
   "source": [
    "job_position_dict = pd.DataFrame(train.groupby(\"job_position\").target.mean()).to_dict()\n",
    "train['job_position'] = train.job_position.map(job_position_dict[\"target\"])\n",
    "test['job_position'] = test.job_position.map(job_position_dict[\"target\"])\n",
    "\n",
    "marital_status_dict = pd.DataFrame(train.groupby(\"marital_status\").target.mean()).to_dict()\n",
    "train['marital_status'] = train.marital_status.map(marital_status_dict[\"target\"])\n",
    "test['marital_status'] = test.marital_status.map(marital_status_dict[\"target\"])\n",
    "\n",
    "edu_dict = pd.DataFrame(train.groupby(\"education\").target.mean()).to_dict()\n",
    "train['education'] = train.education.map(edu_dict[\"target\"])\n",
    "test['education'] = test.education.map(edu_dict[\"target\"])\n",
    "\n",
    "tariff_dict = pd.DataFrame(train.groupby(\"tariff_id\").target.mean()).to_dict()\n",
    "train['tariff_id'] = train.tariff_id.map(tariff_dict[\"target\"])\n",
    "test['tariff_id'] = test.tariff_id.map(tariff_dict[\"target\"])"
   ]
  },
  {
   "cell_type": "code",
   "execution_count": 22,
   "metadata": {
    "collapsed": true
   },
   "outputs": [],
   "source": [
    "train_col = train.columns.drop(\"target\")\n",
    "dummy_df = pd.concat([train[train_col], test], axis=0)\n",
    "dummy_df = pd.get_dummies(dummy_df, columns=[\"living_region\"], drop_first=True)\n",
    "train = dummy_df[:train.shape[0]]\n",
    "test = dummy_df[train.shape[0]:]"
   ]
  },
  {
   "cell_type": "code",
   "execution_count": 23,
   "metadata": {
    "collapsed": false
   },
   "outputs": [
    {
     "name": "stderr",
     "output_type": "stream",
     "text": [
      "/Users/Roman/anaconda/lib/python3.6/site-packages/pandas/core/generic.py:2773: SettingWithCopyWarning: \n",
      "A value is trying to be set on a copy of a slice from a DataFrame.\n",
      "Try using .loc[row_indexer,col_indexer] = value instead\n",
      "\n",
      "See the caveats in the documentation: http://pandas.pydata.org/pandas-docs/stable/indexing.html#indexing-view-versus-copy\n",
      "  self[name] = value\n"
     ]
    }
   ],
   "source": [
    "train.monthly_income = train['monthly_income'].astype(float)\n",
    "test.monthly_income = test['monthly_income'].astype(float)"
   ]
  },
  {
   "cell_type": "markdown",
   "metadata": {},
   "source": [
    "Генерация данных о зарплате и выплатам по кредиту"
   ]
  },
  {
   "cell_type": "code",
   "execution_count": 24,
   "metadata": {
    "collapsed": false
   },
   "outputs": [
    {
     "name": "stderr",
     "output_type": "stream",
     "text": [
      "/Users/Roman/anaconda/lib/python3.6/site-packages/ipykernel/__main__.py:2: SettingWithCopyWarning: \n",
      "A value is trying to be set on a copy of a slice from a DataFrame.\n",
      "Try using .loc[row_indexer,col_indexer] = value instead\n",
      "\n",
      "See the caveats in the documentation: http://pandas.pydata.org/pandas-docs/stable/indexing.html#indexing-view-versus-copy\n",
      "  from ipykernel import kernelapp as app\n",
      "/Users/Roman/anaconda/lib/python3.6/site-packages/ipykernel/__main__.py:4: SettingWithCopyWarning: \n",
      "A value is trying to be set on a copy of a slice from a DataFrame.\n",
      "Try using .loc[row_indexer,col_indexer] = value instead\n",
      "\n",
      "See the caveats in the documentation: http://pandas.pydata.org/pandas-docs/stable/indexing.html#indexing-view-versus-copy\n",
      "/Users/Roman/anaconda/lib/python3.6/site-packages/ipykernel/__main__.py:6: SettingWithCopyWarning: \n",
      "A value is trying to be set on a copy of a slice from a DataFrame.\n",
      "Try using .loc[row_indexer,col_indexer] = value instead\n",
      "\n",
      "See the caveats in the documentation: http://pandas.pydata.org/pandas-docs/stable/indexing.html#indexing-view-versus-copy\n",
      "/Users/Roman/anaconda/lib/python3.6/site-packages/ipykernel/__main__.py:7: SettingWithCopyWarning: \n",
      "A value is trying to be set on a copy of a slice from a DataFrame.\n",
      "Try using .loc[row_indexer,col_indexer] = value instead\n",
      "\n",
      "See the caveats in the documentation: http://pandas.pydata.org/pandas-docs/stable/indexing.html#indexing-view-versus-copy\n"
     ]
    }
   ],
   "source": [
    "tmp = train['credit_sum'].apply(lambda x: x.replace(\",\",\".\"))\n",
    "train['credit_sum'] = tmp\n",
    "tmp = test['credit_sum'].apply(lambda x: x.replace(\",\",\".\"))\n",
    "test['credit_sum'] = tmp\n",
    "\n",
    "train['credit_sum'] = train['credit_sum'].astype(float)\n",
    "test['credit_sum'] = test['credit_sum'].astype(float)"
   ]
  },
  {
   "cell_type": "markdown",
   "metadata": {},
   "source": [
    "credit_pay - ежемесячный расход на кредит\n",
    "\n",
    "money_for_life - разность между зп и платой по кредиту"
   ]
  },
  {
   "cell_type": "code",
   "execution_count": 25,
   "metadata": {
    "collapsed": false
   },
   "outputs": [
    {
     "name": "stderr",
     "output_type": "stream",
     "text": [
      "/Users/Roman/anaconda/lib/python3.6/site-packages/ipykernel/__main__.py:1: SettingWithCopyWarning: \n",
      "A value is trying to be set on a copy of a slice from a DataFrame.\n",
      "Try using .loc[row_indexer,col_indexer] = value instead\n",
      "\n",
      "See the caveats in the documentation: http://pandas.pydata.org/pandas-docs/stable/indexing.html#indexing-view-versus-copy\n",
      "  if __name__ == '__main__':\n",
      "/Users/Roman/anaconda/lib/python3.6/site-packages/ipykernel/__main__.py:2: SettingWithCopyWarning: \n",
      "A value is trying to be set on a copy of a slice from a DataFrame.\n",
      "Try using .loc[row_indexer,col_indexer] = value instead\n",
      "\n",
      "See the caveats in the documentation: http://pandas.pydata.org/pandas-docs/stable/indexing.html#indexing-view-versus-copy\n",
      "  from ipykernel import kernelapp as app\n",
      "/Users/Roman/anaconda/lib/python3.6/site-packages/ipykernel/__main__.py:4: SettingWithCopyWarning: \n",
      "A value is trying to be set on a copy of a slice from a DataFrame.\n",
      "Try using .loc[row_indexer,col_indexer] = value instead\n",
      "\n",
      "See the caveats in the documentation: http://pandas.pydata.org/pandas-docs/stable/indexing.html#indexing-view-versus-copy\n",
      "/Users/Roman/anaconda/lib/python3.6/site-packages/ipykernel/__main__.py:5: SettingWithCopyWarning: \n",
      "A value is trying to be set on a copy of a slice from a DataFrame.\n",
      "Try using .loc[row_indexer,col_indexer] = value instead\n",
      "\n",
      "See the caveats in the documentation: http://pandas.pydata.org/pandas-docs/stable/indexing.html#indexing-view-versus-copy\n"
     ]
    }
   ],
   "source": [
    "train[\"credit_pay\"] = train[\"credit_sum\"] / train[\"credit_month\"]\n",
    "train[\"money_for_life\"] = train[\"monthly_income\"] - train[\"credit_pay\"]\n",
    "\n",
    "test[\"credit_pay\"] = test[\"credit_sum\"] / test[\"credit_month\"]\n",
    "test[\"money_for_life\"] = test[\"monthly_income\"] - test[\"credit_pay\"]"
   ]
  },
  {
   "cell_type": "markdown",
   "metadata": {},
   "source": [
    "анализ score_shk"
   ]
  },
  {
   "cell_type": "code",
   "execution_count": 26,
   "metadata": {
    "collapsed": false
   },
   "outputs": [
    {
     "name": "stderr",
     "output_type": "stream",
     "text": [
      "/Users/Roman/anaconda/lib/python3.6/site-packages/pandas/core/generic.py:2773: SettingWithCopyWarning: \n",
      "A value is trying to be set on a copy of a slice from a DataFrame.\n",
      "Try using .loc[row_indexer,col_indexer] = value instead\n",
      "\n",
      "See the caveats in the documentation: http://pandas.pydata.org/pandas-docs/stable/indexing.html#indexing-view-versus-copy\n",
      "  self[name] = value\n",
      "/Users/Roman/anaconda/lib/python3.6/site-packages/ipykernel/__main__.py:7: SettingWithCopyWarning: \n",
      "A value is trying to be set on a copy of a slice from a DataFrame.\n",
      "Try using .loc[row_indexer,col_indexer] = value instead\n",
      "\n",
      "See the caveats in the documentation: http://pandas.pydata.org/pandas-docs/stable/indexing.html#indexing-view-versus-copy\n",
      "/Users/Roman/anaconda/lib/python3.6/site-packages/ipykernel/__main__.py:8: SettingWithCopyWarning: \n",
      "A value is trying to be set on a copy of a slice from a DataFrame.\n",
      "Try using .loc[row_indexer,col_indexer] = value instead\n",
      "\n",
      "See the caveats in the documentation: http://pandas.pydata.org/pandas-docs/stable/indexing.html#indexing-view-versus-copy\n"
     ]
    }
   ],
   "source": [
    "tmp = train['score_shk'].apply(lambda x: x.replace(\",\",\".\"))\n",
    "train.score_shk = tmp\n",
    "\n",
    "tmp = test['score_shk'].apply(lambda x: x.replace(\",\",\".\"))\n",
    "test.score_shk = tmp\n",
    "\n",
    "train['score_shk'] = train['score_shk'].astype(float)\n",
    "test['score_shk'] = test['score_shk'].astype(float)"
   ]
  },
  {
   "cell_type": "code",
   "execution_count": 27,
   "metadata": {
    "collapsed": false
   },
   "outputs": [
    {
     "name": "stderr",
     "output_type": "stream",
     "text": [
      "/Users/Roman/anaconda/lib/python3.6/site-packages/ipykernel/__main__.py:1: SettingWithCopyWarning: \n",
      "A value is trying to be set on a copy of a slice from a DataFrame.\n",
      "Try using .loc[row_indexer,col_indexer] = value instead\n",
      "\n",
      "See the caveats in the documentation: http://pandas.pydata.org/pandas-docs/stable/indexing.html#indexing-view-versus-copy\n",
      "  if __name__ == '__main__':\n"
     ]
    }
   ],
   "source": [
    "train['target'] = y"
   ]
  },
  {
   "cell_type": "code",
   "execution_count": 28,
   "metadata": {
    "collapsed": false
   },
   "outputs": [
    {
     "name": "stdout",
     "output_type": "stream",
     "text": [
      "<class 'pandas.core.frame.DataFrame'>\n",
      "Int64Index: 170746 entries, 0 to 170745\n",
      "Data columns (total 98 columns):\n",
      "client_id                             170746 non-null int64\n",
      "gender                                170746 non-null int64\n",
      "age                                   170746 non-null int64\n",
      "marital_status                        170746 non-null float64\n",
      "job_position                          170746 non-null float64\n",
      "credit_sum                            170746 non-null float64\n",
      "credit_month                          170746 non-null int64\n",
      "tariff_id                             170746 non-null float64\n",
      "score_shk                             170746 non-null float64\n",
      "education                             170746 non-null float64\n",
      "monthly_income                        170746 non-null float64\n",
      "credit_count                          170746 non-null float64\n",
      "overdue_credit_count                  170746 non-null float64\n",
      "living_region_АЛТАЙСКИЙ               170746 non-null uint8\n",
      "living_region_АМУРСКАЯ                170746 non-null uint8\n",
      "living_region_АРХАНГЕЛЬСКАЯ           170746 non-null uint8\n",
      "living_region_АСТРАХАНСКАЯ            170746 non-null uint8\n",
      "living_region_БАШКОРТОСТАН            170746 non-null uint8\n",
      "living_region_БЕЛГОРОДСКАЯ            170746 non-null uint8\n",
      "living_region_БРЯНСКАЯ                170746 non-null uint8\n",
      "living_region_БУРЯТИЯ                 170746 non-null uint8\n",
      "living_region_ВЛАДИМИРСКАЯ            170746 non-null uint8\n",
      "living_region_ВОЛГОГРАДСКАЯ           170746 non-null uint8\n",
      "living_region_ВОЛОГОДСКАЯ             170746 non-null uint8\n",
      "living_region_ВОРОНЕЖСКАЯ             170746 non-null uint8\n",
      "living_region_ДАГЕСТАН                170746 non-null uint8\n",
      "living_region_ЕВРЕЙСКАЯ               170746 non-null uint8\n",
      "living_region_ЗАБАЙКАЛЬСКИЙ           170746 non-null uint8\n",
      "living_region_ИВАНОВСКАЯ              170746 non-null uint8\n",
      "living_region_ИНГУШЕТИЯ               170746 non-null uint8\n",
      "living_region_ИРКУТСКАЯ               170746 non-null uint8\n",
      "living_region_КАБАРДИНО-БАЛКАРСКАЯ    170746 non-null uint8\n",
      "living_region_КАЛИНИНГРАДСКАЯ         170746 non-null uint8\n",
      "living_region_КАЛМЫКИЯ                170746 non-null uint8\n",
      "living_region_КАЛУЖСКАЯ               170746 non-null uint8\n",
      "living_region_КАМЧАТСКИЙ              170746 non-null uint8\n",
      "living_region_КАРАЧАЕВО-ЧЕРКЕССКАЯ    170746 non-null uint8\n",
      "living_region_КАРЕЛИЯ                 170746 non-null uint8\n",
      "living_region_КЕМЕРОВСКАЯ             170746 non-null uint8\n",
      "living_region_КИРОВСКАЯ               170746 non-null uint8\n",
      "living_region_КОМИ                    170746 non-null uint8\n",
      "living_region_КОСТРОМСКАЯ             170746 non-null uint8\n",
      "living_region_КРАСНОДАРСКИЙ           170746 non-null uint8\n",
      "living_region_КРАСНОЯРСКИЙ            170746 non-null uint8\n",
      "living_region_КУРГАНСКАЯ              170746 non-null uint8\n",
      "living_region_КУРСКАЯ                 170746 non-null uint8\n",
      "living_region_ЛЕНИНГРАДСКАЯ           170746 non-null uint8\n",
      "living_region_ЛИПЕЦКАЯ                170746 non-null uint8\n",
      "living_region_МАГАДАНСКАЯ             170746 non-null uint8\n",
      "living_region_МАРИЙЭЛ                 170746 non-null uint8\n",
      "living_region_МОРДОВИЯ                170746 non-null uint8\n",
      "living_region_МОСКОВСКАЯ              170746 non-null uint8\n",
      "living_region_МУРМАНСКАЯ              170746 non-null uint8\n",
      "living_region_НЕНЕЦКИЙ                170746 non-null uint8\n",
      "living_region_НИЖЕГОРОДСКАЯ           170746 non-null uint8\n",
      "living_region_НОВГОРОДСКАЯ            170746 non-null uint8\n",
      "living_region_НОВОСИБИРСКАЯ           170746 non-null uint8\n",
      "living_region_ОМСКАЯ                  170746 non-null uint8\n",
      "living_region_ОРЕНБУРГСКАЯ            170746 non-null uint8\n",
      "living_region_ОРЛОВСКАЯ               170746 non-null uint8\n",
      "living_region_ОСЕТИЯ                  170746 non-null uint8\n",
      "living_region_ПЕНЗЕНСКАЯ              170746 non-null uint8\n",
      "living_region_ПЕРМСКИЙ                170746 non-null uint8\n",
      "living_region_ПРИМОРСКИЙ              170746 non-null uint8\n",
      "living_region_ПСКОВСКАЯ               170746 non-null uint8\n",
      "living_region_РОСТОВСКАЯ              170746 non-null uint8\n",
      "living_region_РЯЗАНСКАЯ               170746 non-null uint8\n",
      "living_region_САМАРСКАЯ               170746 non-null uint8\n",
      "living_region_САРАТОВСКАЯ             170746 non-null uint8\n",
      "living_region_САХА                    170746 non-null uint8\n",
      "living_region_САХАЛИНСКАЯ             170746 non-null uint8\n",
      "living_region_СВЕРДЛОВСКАЯ            170746 non-null uint8\n",
      "living_region_СЕВЕРНАЯОСЕТИЯ          170746 non-null uint8\n",
      "living_region_СМОЛЕНСКАЯ              170746 non-null uint8\n",
      "living_region_СТАВРОПОЛЬСКИЙ          170746 non-null uint8\n",
      "living_region_ТАМБОВСКАЯ              170746 non-null uint8\n",
      "living_region_ТАТАРСТАН               170746 non-null uint8\n",
      "living_region_ТВЕРСКАЯ                170746 non-null uint8\n",
      "living_region_ТОМСКАЯ                 170746 non-null uint8\n",
      "living_region_ТУЛЬСКАЯ                170746 non-null uint8\n",
      "living_region_ТЫВА                    170746 non-null uint8\n",
      "living_region_ТЮМЕНСКАЯ               170746 non-null uint8\n",
      "living_region_УДМУРТСКАЯ              170746 non-null uint8\n",
      "living_region_УЛЬЯНОВСКАЯ             170746 non-null uint8\n",
      "living_region_ХАБАРОВСКИЙ             170746 non-null uint8\n",
      "living_region_ХАКАСИЯ                 170746 non-null uint8\n",
      "living_region_ХАНТЫ-МАНСИЙСКИЙ        170746 non-null uint8\n",
      "living_region_ЧЕЛЯБИНСКАЯ             170746 non-null uint8\n",
      "living_region_ЧЕЧЕНСКАЯ               170746 non-null uint8\n",
      "living_region_ЧИТИНСКАЯ               170746 non-null uint8\n",
      "living_region_ЧУВАШСКАЯ               170746 non-null uint8\n",
      "living_region_ЧУКОТСКИЙ               170746 non-null uint8\n",
      "living_region_ЭВЕНКИЙСКИЙ             170746 non-null uint8\n",
      "living_region_ЯМАЛО-НЕНЕЦКИЙ          170746 non-null uint8\n",
      "living_region_ЯРОСЛАВСКАЯ             170746 non-null uint8\n",
      "credit_pay                            170746 non-null float64\n",
      "money_for_life                        170746 non-null float64\n",
      "target                                170746 non-null int64\n",
      "dtypes: float64(11), int64(5), uint8(82)\n",
      "memory usage: 35.5 MB\n"
     ]
    }
   ],
   "source": [
    "train.info()"
   ]
  },
  {
   "cell_type": "code",
   "execution_count": 29,
   "metadata": {
    "collapsed": false
   },
   "outputs": [
    {
     "name": "stdout",
     "output_type": "stream",
     "text": [
      "<class 'pandas.core.frame.DataFrame'>\n",
      "Int64Index: 91940 entries, 0 to 91939\n",
      "Data columns (total 97 columns):\n",
      "client_id                             91940 non-null int64\n",
      "gender                                91940 non-null int64\n",
      "age                                   91940 non-null int64\n",
      "marital_status                        91940 non-null float64\n",
      "job_position                          91940 non-null float64\n",
      "credit_sum                            91940 non-null float64\n",
      "credit_month                          91940 non-null int64\n",
      "tariff_id                             91940 non-null float64\n",
      "score_shk                             91940 non-null float64\n",
      "education                             91940 non-null float64\n",
      "monthly_income                        91940 non-null float64\n",
      "credit_count                          91940 non-null float64\n",
      "overdue_credit_count                  91940 non-null float64\n",
      "living_region_АЛТАЙСКИЙ               91940 non-null uint8\n",
      "living_region_АМУРСКАЯ                91940 non-null uint8\n",
      "living_region_АРХАНГЕЛЬСКАЯ           91940 non-null uint8\n",
      "living_region_АСТРАХАНСКАЯ            91940 non-null uint8\n",
      "living_region_БАШКОРТОСТАН            91940 non-null uint8\n",
      "living_region_БЕЛГОРОДСКАЯ            91940 non-null uint8\n",
      "living_region_БРЯНСКАЯ                91940 non-null uint8\n",
      "living_region_БУРЯТИЯ                 91940 non-null uint8\n",
      "living_region_ВЛАДИМИРСКАЯ            91940 non-null uint8\n",
      "living_region_ВОЛГОГРАДСКАЯ           91940 non-null uint8\n",
      "living_region_ВОЛОГОДСКАЯ             91940 non-null uint8\n",
      "living_region_ВОРОНЕЖСКАЯ             91940 non-null uint8\n",
      "living_region_ДАГЕСТАН                91940 non-null uint8\n",
      "living_region_ЕВРЕЙСКАЯ               91940 non-null uint8\n",
      "living_region_ЗАБАЙКАЛЬСКИЙ           91940 non-null uint8\n",
      "living_region_ИВАНОВСКАЯ              91940 non-null uint8\n",
      "living_region_ИНГУШЕТИЯ               91940 non-null uint8\n",
      "living_region_ИРКУТСКАЯ               91940 non-null uint8\n",
      "living_region_КАБАРДИНО-БАЛКАРСКАЯ    91940 non-null uint8\n",
      "living_region_КАЛИНИНГРАДСКАЯ         91940 non-null uint8\n",
      "living_region_КАЛМЫКИЯ                91940 non-null uint8\n",
      "living_region_КАЛУЖСКАЯ               91940 non-null uint8\n",
      "living_region_КАМЧАТСКИЙ              91940 non-null uint8\n",
      "living_region_КАРАЧАЕВО-ЧЕРКЕССКАЯ    91940 non-null uint8\n",
      "living_region_КАРЕЛИЯ                 91940 non-null uint8\n",
      "living_region_КЕМЕРОВСКАЯ             91940 non-null uint8\n",
      "living_region_КИРОВСКАЯ               91940 non-null uint8\n",
      "living_region_КОМИ                    91940 non-null uint8\n",
      "living_region_КОСТРОМСКАЯ             91940 non-null uint8\n",
      "living_region_КРАСНОДАРСКИЙ           91940 non-null uint8\n",
      "living_region_КРАСНОЯРСКИЙ            91940 non-null uint8\n",
      "living_region_КУРГАНСКАЯ              91940 non-null uint8\n",
      "living_region_КУРСКАЯ                 91940 non-null uint8\n",
      "living_region_ЛЕНИНГРАДСКАЯ           91940 non-null uint8\n",
      "living_region_ЛИПЕЦКАЯ                91940 non-null uint8\n",
      "living_region_МАГАДАНСКАЯ             91940 non-null uint8\n",
      "living_region_МАРИЙЭЛ                 91940 non-null uint8\n",
      "living_region_МОРДОВИЯ                91940 non-null uint8\n",
      "living_region_МОСКОВСКАЯ              91940 non-null uint8\n",
      "living_region_МУРМАНСКАЯ              91940 non-null uint8\n",
      "living_region_НЕНЕЦКИЙ                91940 non-null uint8\n",
      "living_region_НИЖЕГОРОДСКАЯ           91940 non-null uint8\n",
      "living_region_НОВГОРОДСКАЯ            91940 non-null uint8\n",
      "living_region_НОВОСИБИРСКАЯ           91940 non-null uint8\n",
      "living_region_ОМСКАЯ                  91940 non-null uint8\n",
      "living_region_ОРЕНБУРГСКАЯ            91940 non-null uint8\n",
      "living_region_ОРЛОВСКАЯ               91940 non-null uint8\n",
      "living_region_ОСЕТИЯ                  91940 non-null uint8\n",
      "living_region_ПЕНЗЕНСКАЯ              91940 non-null uint8\n",
      "living_region_ПЕРМСКИЙ                91940 non-null uint8\n",
      "living_region_ПРИМОРСКИЙ              91940 non-null uint8\n",
      "living_region_ПСКОВСКАЯ               91940 non-null uint8\n",
      "living_region_РОСТОВСКАЯ              91940 non-null uint8\n",
      "living_region_РЯЗАНСКАЯ               91940 non-null uint8\n",
      "living_region_САМАРСКАЯ               91940 non-null uint8\n",
      "living_region_САРАТОВСКАЯ             91940 non-null uint8\n",
      "living_region_САХА                    91940 non-null uint8\n",
      "living_region_САХАЛИНСКАЯ             91940 non-null uint8\n",
      "living_region_СВЕРДЛОВСКАЯ            91940 non-null uint8\n",
      "living_region_СЕВЕРНАЯОСЕТИЯ          91940 non-null uint8\n",
      "living_region_СМОЛЕНСКАЯ              91940 non-null uint8\n",
      "living_region_СТАВРОПОЛЬСКИЙ          91940 non-null uint8\n",
      "living_region_ТАМБОВСКАЯ              91940 non-null uint8\n",
      "living_region_ТАТАРСТАН               91940 non-null uint8\n",
      "living_region_ТВЕРСКАЯ                91940 non-null uint8\n",
      "living_region_ТОМСКАЯ                 91940 non-null uint8\n",
      "living_region_ТУЛЬСКАЯ                91940 non-null uint8\n",
      "living_region_ТЫВА                    91940 non-null uint8\n",
      "living_region_ТЮМЕНСКАЯ               91940 non-null uint8\n",
      "living_region_УДМУРТСКАЯ              91940 non-null uint8\n",
      "living_region_УЛЬЯНОВСКАЯ             91940 non-null uint8\n",
      "living_region_ХАБАРОВСКИЙ             91940 non-null uint8\n",
      "living_region_ХАКАСИЯ                 91940 non-null uint8\n",
      "living_region_ХАНТЫ-МАНСИЙСКИЙ        91940 non-null uint8\n",
      "living_region_ЧЕЛЯБИНСКАЯ             91940 non-null uint8\n",
      "living_region_ЧЕЧЕНСКАЯ               91940 non-null uint8\n",
      "living_region_ЧИТИНСКАЯ               91940 non-null uint8\n",
      "living_region_ЧУВАШСКАЯ               91940 non-null uint8\n",
      "living_region_ЧУКОТСКИЙ               91940 non-null uint8\n",
      "living_region_ЭВЕНКИЙСКИЙ             91940 non-null uint8\n",
      "living_region_ЯМАЛО-НЕНЕЦКИЙ          91940 non-null uint8\n",
      "living_region_ЯРОСЛАВСКАЯ             91940 non-null uint8\n",
      "credit_pay                            91940 non-null float64\n",
      "money_for_life                        91940 non-null float64\n",
      "dtypes: float64(11), int64(4), uint8(82)\n",
      "memory usage: 18.4 MB\n"
     ]
    }
   ],
   "source": [
    "test.info()"
   ]
  },
  {
   "cell_type": "code",
   "execution_count": 30,
   "metadata": {
    "collapsed": true
   },
   "outputs": [],
   "source": [
    "train.to_csv(\"../datasets/train_target_encode.csv\", columns=train.columns, index=False)\n",
    "test.to_csv(\"../datasets/test_target_encode.csv\", columns=test.columns, index=False)"
   ]
  }
 ],
 "metadata": {
  "anaconda-cloud": {},
  "kernelspec": {
   "display_name": "Python 3",
   "language": "python",
   "name": "python3"
  },
  "language_info": {
   "codemirror_mode": {
    "name": "ipython",
    "version": 3
   },
   "file_extension": ".py",
   "mimetype": "text/x-python",
   "name": "python",
   "nbconvert_exporter": "python",
   "pygments_lexer": "ipython3",
   "version": "3.6.0"
  }
 },
 "nbformat": 4,
 "nbformat_minor": 1
}
