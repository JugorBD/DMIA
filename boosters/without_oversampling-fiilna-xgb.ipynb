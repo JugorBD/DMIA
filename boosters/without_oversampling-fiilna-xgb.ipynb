{
 "cells": [
  {
   "cell_type": "markdown",
   "metadata": {
    "collapsed": false
   },
   "source": [
    "Задача 1. Выбор кредита от Tinkoff.ru\n",
    "В credit_train.csv содержится 170746 строк с данными о клиентах сети магазинов электроники, в этих магазинах они подали заявки на кредит. Колонка open_account_flg содержит 1 если клиент выбрал Тинькофф и 0 в противном случае. В credit_test.csv содержится 91940 строк с данными, для каждой строки следует предсказать возьмет ли соответствующий ей человек кредит в Тинькофф.\n",
    "Метрикой качества в задаче является AUC \n",
    "\n",
    "education - образование:\n",
    "\n",
    "    SCH - начальное, среднее\n",
    "    PGR -  второе высшее\n",
    "    GRD - высшее\n",
    "    UGR - неполное высшее\n",
    "    ACD - ученая степень\n",
    "    \n",
    "    \n",
    "job_position - работа\n",
    "\n",
    "    SPC - неруководящий сотрудник, специалист\n",
    "    DIR - руководитель организации\n",
    "    HSK - домохозяйка\n",
    "    INV - не работает, инвалидность\n",
    "    WOI - работает на ИП\n",
    "    WRK - неруководящий сотрудник, рабочий\n",
    "    UMN -  руководитель подразделения\n",
    "    NOR - не работает\n",
    "    PNS - пенсионер\n",
    "    BIS - собственный бизнес \n",
    "    INP - ИП\n",
    "   \n",
    "marital_status - семейное положение\n",
    "\n",
    "    UNM - холост/не замужем\n",
    "    DIV - разведен(а)\n",
    "    MAR - женат/замужем\n",
    "    WID - вдовец/вдова\n",
    "    CIV - гражданский брак\n",
    "    \n",
    "gender - пол \n",
    "\n",
    "age - возраст\n",
    "\n",
    "credit_sum - сумма кредита\n",
    "\n",
    "credit_month - срок кредитования\n",
    "\n",
    "tariff_id - номер предлагаемого тарифа\n",
    "\n",
    "living_region - регион проживания\n",
    "\n",
    "montly_income - заработная плата в месяц\n",
    "\n",
    "credit_count - количество кредитов у клиента\n",
    "\n",
    "overdue_credit_count - количество просроченных кредитов\n",
    "\n",
    "score_shk - неизвестный индекс кредитоспособности\n",
    "    "
   ]
  },
  {
   "cell_type": "code",
   "execution_count": 1,
   "metadata": {
    "collapsed": false
   },
   "outputs": [
    {
     "name": "stderr",
     "output_type": "stream",
     "text": [
      "/Users/Roman/anaconda/lib/python2.7/site-packages/sklearn/cross_validation.py:44: DeprecationWarning: This module was deprecated in version 0.18 in favor of the model_selection module into which all the refactored classes and functions are moved. Also note that the interface of the new CV iterators are different from that of this module. This module will be removed in 0.20.\n",
      "  \"This module will be removed in 0.20.\", DeprecationWarning)\n"
     ]
    }
   ],
   "source": [
    "import numpy as np\n",
    "import pandas as pd\n",
    "import matplotlib.pyplot as plt\n",
    "%matplotlib inline\n",
    "\n",
    "from sklearn.pipeline import Pipeline\n",
    "from sklearn.linear_model import LinearRegression\n",
    "from sklearn.cross_validation import cross_val_score, train_test_split\n",
    "from sklearn.feature_extraction.text import TfidfVectorizer\n",
    "from sklearn import manifold, decomposition, linear_model, ensemble, neighbors, cross_validation, metrics\n",
    "\n",
    "import xgboost"
   ]
  },
  {
   "cell_type": "code",
   "execution_count": 2,
   "metadata": {
    "collapsed": false
   },
   "outputs": [],
   "source": [
    "train = pd.read_csv(\"credit_train.csv\", sep = \";\", encoding='cp1251')\n",
    "test = pd.read_csv(\"credit_test.csv\", sep = \";\", encoding='cp1251')"
   ]
  },
  {
   "cell_type": "code",
   "execution_count": 3,
   "metadata": {
    "collapsed": false
   },
   "outputs": [
    {
     "data": {
      "text/html": [
       "<div>\n",
       "<table border=\"1\" class=\"dataframe\">\n",
       "  <thead>\n",
       "    <tr style=\"text-align: right;\">\n",
       "      <th></th>\n",
       "      <th>client_id</th>\n",
       "      <th>gender</th>\n",
       "      <th>age</th>\n",
       "      <th>marital_status</th>\n",
       "      <th>job_position</th>\n",
       "      <th>credit_sum</th>\n",
       "      <th>credit_month</th>\n",
       "      <th>tariff_id</th>\n",
       "      <th>score_shk</th>\n",
       "      <th>education</th>\n",
       "      <th>living_region</th>\n",
       "      <th>monthly_income</th>\n",
       "      <th>credit_count</th>\n",
       "      <th>overdue_credit_count</th>\n",
       "      <th>open_account_flg</th>\n",
       "    </tr>\n",
       "  </thead>\n",
       "  <tbody>\n",
       "    <tr>\n",
       "      <th>0</th>\n",
       "      <td>1</td>\n",
       "      <td>M</td>\n",
       "      <td>48</td>\n",
       "      <td>MAR</td>\n",
       "      <td>UMN</td>\n",
       "      <td>59998,00</td>\n",
       "      <td>10</td>\n",
       "      <td>1.6</td>\n",
       "      <td>0,770249</td>\n",
       "      <td>GRD</td>\n",
       "      <td>КРАСНОДАРСКИЙ КРАЙ</td>\n",
       "      <td>30000.0</td>\n",
       "      <td>1.0</td>\n",
       "      <td>1.0</td>\n",
       "      <td>0</td>\n",
       "    </tr>\n",
       "    <tr>\n",
       "      <th>1</th>\n",
       "      <td>2</td>\n",
       "      <td>F</td>\n",
       "      <td>28</td>\n",
       "      <td>MAR</td>\n",
       "      <td>UMN</td>\n",
       "      <td>10889,00</td>\n",
       "      <td>6</td>\n",
       "      <td>1.1</td>\n",
       "      <td>0,248514</td>\n",
       "      <td>GRD</td>\n",
       "      <td>МОСКВА</td>\n",
       "      <td>43000.0</td>\n",
       "      <td>2.0</td>\n",
       "      <td>0.0</td>\n",
       "      <td>0</td>\n",
       "    </tr>\n",
       "  </tbody>\n",
       "</table>\n",
       "</div>"
      ],
      "text/plain": [
       "   client_id gender  age marital_status job_position credit_sum  credit_month  \\\n",
       "0          1      M   48            MAR          UMN   59998,00            10   \n",
       "1          2      F   28            MAR          UMN   10889,00             6   \n",
       "\n",
       "   tariff_id score_shk education       living_region  monthly_income  \\\n",
       "0        1.6  0,770249       GRD  КРАСНОДАРСКИЙ КРАЙ         30000.0   \n",
       "1        1.1  0,248514       GRD              МОСКВА         43000.0   \n",
       "\n",
       "   credit_count  overdue_credit_count  open_account_flg  \n",
       "0           1.0                   1.0                 0  \n",
       "1           2.0                   0.0                 0  "
      ]
     },
     "execution_count": 3,
     "metadata": {},
     "output_type": "execute_result"
    }
   ],
   "source": [
    "train.head(2)"
   ]
  },
  {
   "cell_type": "code",
   "execution_count": 4,
   "metadata": {
    "collapsed": false
   },
   "outputs": [],
   "source": [
    "y = train['open_account_flg']"
   ]
  },
  {
   "cell_type": "code",
   "execution_count": 5,
   "metadata": {
    "collapsed": false
   },
   "outputs": [
    {
     "name": "stdout",
     "output_type": "stream",
     "text": [
      "<class 'pandas.core.frame.DataFrame'>\n",
      "RangeIndex: 170746 entries, 0 to 170745\n",
      "Data columns (total 15 columns):\n",
      "client_id               170746 non-null int64\n",
      "gender                  170746 non-null object\n",
      "age                     170746 non-null int64\n",
      "marital_status          170746 non-null object\n",
      "job_position            170746 non-null object\n",
      "credit_sum              170746 non-null object\n",
      "credit_month            170746 non-null int64\n",
      "tariff_id               170746 non-null float64\n",
      "score_shk               170746 non-null object\n",
      "education               170746 non-null object\n",
      "living_region           170554 non-null object\n",
      "monthly_income          170745 non-null float64\n",
      "credit_count            161516 non-null float64\n",
      "overdue_credit_count    161516 non-null float64\n",
      "open_account_flg        170746 non-null int64\n",
      "dtypes: float64(4), int64(4), object(7)\n",
      "memory usage: 19.5+ MB\n"
     ]
    }
   ],
   "source": [
    "train.info()"
   ]
  },
  {
   "cell_type": "code",
   "execution_count": 6,
   "metadata": {
    "collapsed": false
   },
   "outputs": [
    {
     "name": "stdout",
     "output_type": "stream",
     "text": [
      "<class 'pandas.core.frame.DataFrame'>\n",
      "RangeIndex: 91940 entries, 0 to 91939\n",
      "Data columns (total 14 columns):\n",
      "client_id               91940 non-null int64\n",
      "gender                  91940 non-null object\n",
      "age                     91940 non-null int64\n",
      "marital_status          91940 non-null object\n",
      "job_position            91940 non-null object\n",
      "credit_sum              91940 non-null object\n",
      "credit_month            91940 non-null int64\n",
      "tariff_id               91940 non-null float64\n",
      "score_shk               91940 non-null object\n",
      "education               91940 non-null object\n",
      "living_region           91824 non-null object\n",
      "monthly_income          91940 non-null int64\n",
      "credit_count            87237 non-null float64\n",
      "overdue_credit_count    87237 non-null float64\n",
      "dtypes: float64(3), int64(4), object(7)\n",
      "memory usage: 9.8+ MB\n"
     ]
    }
   ],
   "source": [
    "test.info()"
   ]
  },
  {
   "cell_type": "code",
   "execution_count": null,
   "metadata": {
    "collapsed": true
   },
   "outputs": [],
   "source": []
  },
  {
   "cell_type": "code",
   "execution_count": 7,
   "metadata": {
    "collapsed": false
   },
   "outputs": [],
   "source": [
    "train.gender = train.gender.map({\"M\":1, \"F\":0})\n",
    "test.gender = test.gender.map({\"M\":1, \"F\":0})"
   ]
  },
  {
   "cell_type": "code",
   "execution_count": 8,
   "metadata": {
    "collapsed": true
   },
   "outputs": [],
   "source": [
    "train.rename(columns={\"open_account_flg\":\"target\"}, inplace=True)"
   ]
  },
  {
   "cell_type": "markdown",
   "metadata": {},
   "source": [
    "I выделим группы людей по наличию высшего образования, работе и пенсии "
   ]
  },
  {
   "cell_type": "code",
   "execution_count": 9,
   "metadata": {
    "collapsed": false
   },
   "outputs": [],
   "source": [
    "### по образованию\n",
    "train[\"high_edu\"] = ((train[\"education\"] != \"SCH\") & (train[\"education\"] != \"UGR\"))\n",
    "\n",
    "### по работе\n",
    "# 1. не работающие граждание\n",
    "train[\"not_work\"] = ((train.job_position == \"HSK\") | (train.job_position == \"INV\") \n",
    "                     | (train.job_position == \"NOR\") | (train.job_position == \"PNS\"))\n",
    "\n",
    "# 2. обычные работники\n",
    "train[\"usual_workers\"] = ((train.job_position == \"SPC\") | (train.job_position == \"WOI\") \n",
    "                     | (train.job_position == \"WRK\") | (train.job_position == \"ATP\") \n",
    "                     | (train.job_position == \"WRP\"))\n",
    "\n",
    "# 3. начальники\n",
    "train[\"head_workers\"] = ((train.job_position == \"DIR\") | (train.job_position == \"UMN\")\n",
    "                         | (train.job_position == \"BIS\") | (train.job_position == \"INP\"))\n",
    "\n",
    "# 4. имеют собственный бизнес\n",
    "train[\"have_business\"] = ((train.job_position == \"BIS\") | (train.job_position == \"INP\"))\n",
    "\n",
    "### по браку\n",
    "train[\"single\"] = ((train.marital_status == \"UNM\") | (train.marital_status == \"DIV\")\n",
    "                   | (train.marital_status == \"WID\"))"
   ]
  },
  {
   "cell_type": "code",
   "execution_count": 10,
   "metadata": {
    "collapsed": true
   },
   "outputs": [],
   "source": [
    "### по образованию\n",
    "test[\"high_edu\"] = ((test[\"education\"] != \"SCH\") & (test[\"education\"] != \"UGR\"))\n",
    "\n",
    "### по работе\n",
    "# 1. не работающие граждание\n",
    "test[\"not_work\"] = ((test.job_position == \"HSK\") | (test.job_position == \"INV\") \n",
    "                     | (test.job_position == \"NOR\") | (test.job_position == \"PNS\"))\n",
    "\n",
    "# 2. обычные работники\n",
    "test[\"usual_workers\"] = ((test.job_position == \"SPC\") | (test.job_position == \"WOI\") \n",
    "                     | (test.job_position == \"WRK\") | (test.job_position == \"ATP\") \n",
    "                     | (test.job_position == \"WRP\"))\n",
    "\n",
    "# 3. начальники\n",
    "test[\"head_workers\"] = ((test.job_position == \"DIR\") | (test.job_position == \"UMN\")\n",
    "                         | (test.job_position == \"BIS\") | (test.job_position == \"INP\"))\n",
    "\n",
    "# 4. имеют собственный бизнес\n",
    "test[\"have_business\"] = ((test.job_position == \"BIS\") | (test.job_position == \"INP\"))\n",
    "\n",
    "### по браку\n",
    "test[\"single\"] = ((test.marital_status == \"UNM\") | (test.marital_status == \"DIV\")\n",
    "                   | (test.marital_status == \"WID\"))"
   ]
  },
  {
   "cell_type": "markdown",
   "metadata": {},
   "source": [
    "II кодировка категориальных признаков, кроме living region"
   ]
  },
  {
   "cell_type": "code",
   "execution_count": 11,
   "metadata": {
    "collapsed": true
   },
   "outputs": [],
   "source": [
    "train_col = train.columns.drop(\"target\")"
   ]
  },
  {
   "cell_type": "code",
   "execution_count": 12,
   "metadata": {
    "collapsed": false
   },
   "outputs": [],
   "source": [
    "dummy_df = pd.concat([train[train_col], test], axis=0)"
   ]
  },
  {
   "cell_type": "code",
   "execution_count": 13,
   "metadata": {
    "collapsed": false
   },
   "outputs": [],
   "source": [
    "dummy_df = pd.get_dummies(dummy_df, columns=[\"education\",\"job_position\", \"marital_status\"], drop_first=True)"
   ]
  },
  {
   "cell_type": "code",
   "execution_count": 14,
   "metadata": {
    "collapsed": false
   },
   "outputs": [],
   "source": [
    "train = dummy_df[:train.shape[0]]\n",
    "test = dummy_df[train.shape[0]:]"
   ]
  },
  {
   "cell_type": "code",
   "execution_count": 15,
   "metadata": {
    "collapsed": false
   },
   "outputs": [
    {
     "data": {
      "text/plain": [
       "Index([           u'client_id',               u'gender',\n",
       "                        u'age',           u'credit_sum',\n",
       "               u'credit_month',            u'tariff_id',\n",
       "                  u'score_shk',        u'living_region',\n",
       "             u'monthly_income',         u'credit_count',\n",
       "       u'overdue_credit_count',             u'high_edu',\n",
       "                   u'not_work',        u'usual_workers',\n",
       "               u'head_workers',        u'have_business',\n",
       "                     u'single',        u'education_GRD',\n",
       "              u'education_PGR',        u'education_SCH',\n",
       "              u'education_UGR',     u'job_position_BIS',\n",
       "           u'job_position_BIU',     u'job_position_DIR',\n",
       "           u'job_position_HSK',     u'job_position_INP',\n",
       "           u'job_position_INV',     u'job_position_NOR',\n",
       "           u'job_position_ONB',     u'job_position_PNA',\n",
       "           u'job_position_PNI',     u'job_position_PNS',\n",
       "           u'job_position_PNV',     u'job_position_SPC',\n",
       "           u'job_position_UMN',     u'job_position_WOI',\n",
       "           u'job_position_WRK',     u'job_position_WRP',\n",
       "         u'marital_status_DIV',   u'marital_status_MAR',\n",
       "         u'marital_status_UNM',   u'marital_status_WID'],\n",
       "      dtype='object')"
      ]
     },
     "execution_count": 15,
     "metadata": {},
     "output_type": "execute_result"
    }
   ],
   "source": [
    "train.columns"
   ]
  },
  {
   "cell_type": "markdown",
   "metadata": {},
   "source": [
    "III кодировка региона через среднюю зарплату"
   ]
  },
  {
   "cell_type": "code",
   "execution_count": 16,
   "metadata": {
    "collapsed": true
   },
   "outputs": [],
   "source": [
    "def code_mean(data, cat_feature, real_feature):\n",
    "    return (data[cat_feature].map(data.groupby(cat_feature)[real_feature].mean()))"
   ]
  },
  {
   "cell_type": "code",
   "execution_count": 17,
   "metadata": {
    "collapsed": false
   },
   "outputs": [
    {
     "name": "stderr",
     "output_type": "stream",
     "text": [
      "/Users/Roman/anaconda/lib/python2.7/site-packages/ipykernel/__main__.py:1: SettingWithCopyWarning: \n",
      "A value is trying to be set on a copy of a slice from a DataFrame.\n",
      "Try using .loc[row_indexer,col_indexer] = value instead\n",
      "\n",
      "See the caveats in the documentation: http://pandas.pydata.org/pandas-docs/stable/indexing.html#indexing-view-versus-copy\n",
      "  if __name__ == '__main__':\n",
      "/Users/Roman/anaconda/lib/python2.7/site-packages/ipykernel/__main__.py:2: SettingWithCopyWarning: \n",
      "A value is trying to be set on a copy of a slice from a DataFrame.\n",
      "Try using .loc[row_indexer,col_indexer] = value instead\n",
      "\n",
      "See the caveats in the documentation: http://pandas.pydata.org/pandas-docs/stable/indexing.html#indexing-view-versus-copy\n",
      "  from ipykernel import kernelapp as app\n",
      "/Users/Roman/anaconda/lib/python2.7/site-packages/ipykernel/__main__.py:4: SettingWithCopyWarning: \n",
      "A value is trying to be set on a copy of a slice from a DataFrame.\n",
      "Try using .loc[row_indexer,col_indexer] = value instead\n",
      "\n",
      "See the caveats in the documentation: http://pandas.pydata.org/pandas-docs/stable/indexing.html#indexing-view-versus-copy\n",
      "/Users/Roman/anaconda/lib/python2.7/site-packages/pandas/core/generic.py:3295: SettingWithCopyWarning: \n",
      "A value is trying to be set on a copy of a slice from a DataFrame\n",
      "\n",
      "See the caveats in the documentation: http://pandas.pydata.org/pandas-docs/stable/indexing.html#indexing-view-versus-copy\n",
      "  self._update_inplace(new_data)\n",
      "/Users/Roman/anaconda/lib/python2.7/site-packages/ipykernel/__main__.py:6: SettingWithCopyWarning: \n",
      "A value is trying to be set on a copy of a slice from a DataFrame\n",
      "\n",
      "See the caveats in the documentation: http://pandas.pydata.org/pandas-docs/stable/indexing.html#indexing-view-versus-copy\n",
      "/Users/Roman/anaconda/lib/python2.7/site-packages/ipykernel/__main__.py:8: SettingWithCopyWarning: \n",
      "A value is trying to be set on a copy of a slice from a DataFrame.\n",
      "Try using .loc[row_indexer,col_indexer] = value instead\n",
      "\n",
      "See the caveats in the documentation: http://pandas.pydata.org/pandas-docs/stable/indexing.html#indexing-view-versus-copy\n",
      "/Users/Roman/anaconda/lib/python2.7/site-packages/ipykernel/__main__.py:10: SettingWithCopyWarning: \n",
      "A value is trying to be set on a copy of a slice from a DataFrame\n",
      "\n",
      "See the caveats in the documentation: http://pandas.pydata.org/pandas-docs/stable/indexing.html#indexing-view-versus-copy\n"
     ]
    }
   ],
   "source": [
    "train['monthly_income'] = train['monthly_income'].astype(float)\n",
    "test['monthly_income'] = test['monthly_income'].astype(float)\n",
    "\n",
    "train[\"city_mean_income\"] = code_mean(train, 'living_region', 'monthly_income')\n",
    "train.city_mean_income.fillna(value=train.city_mean_income.mean(), inplace=True)\n",
    "train.drop(\"living_region\", axis=1, inplace=True)\n",
    "\n",
    "test[\"city_mean_income\"] = code_mean(test, 'living_region', 'monthly_income')\n",
    "test.city_mean_income.fillna(value=train.city_mean_income.mean(), inplace=True)\n",
    "test.drop(\"living_region\", axis=1, inplace=True)"
   ]
  },
  {
   "cell_type": "markdown",
   "metadata": {},
   "source": [
    "IV Генерация данных о зарплате и выплатам по кредиту"
   ]
  },
  {
   "cell_type": "code",
   "execution_count": 18,
   "metadata": {
    "collapsed": false
   },
   "outputs": [
    {
     "name": "stderr",
     "output_type": "stream",
     "text": [
      "/Users/Roman/anaconda/lib/python2.7/site-packages/ipykernel/__main__.py:1: SettingWithCopyWarning: \n",
      "A value is trying to be set on a copy of a slice from a DataFrame.\n",
      "Try using .loc[row_indexer,col_indexer] = value instead\n",
      "\n",
      "See the caveats in the documentation: http://pandas.pydata.org/pandas-docs/stable/indexing.html#indexing-view-versus-copy\n",
      "  if __name__ == '__main__':\n",
      "/Users/Roman/anaconda/lib/python2.7/site-packages/ipykernel/__main__.py:2: SettingWithCopyWarning: \n",
      "A value is trying to be set on a copy of a slice from a DataFrame.\n",
      "Try using .loc[row_indexer,col_indexer] = value instead\n",
      "\n",
      "See the caveats in the documentation: http://pandas.pydata.org/pandas-docs/stable/indexing.html#indexing-view-versus-copy\n",
      "  from ipykernel import kernelapp as app\n",
      "/Users/Roman/anaconda/lib/python2.7/site-packages/ipykernel/__main__.py:4: SettingWithCopyWarning: \n",
      "A value is trying to be set on a copy of a slice from a DataFrame.\n",
      "Try using .loc[row_indexer,col_indexer] = value instead\n",
      "\n",
      "See the caveats in the documentation: http://pandas.pydata.org/pandas-docs/stable/indexing.html#indexing-view-versus-copy\n",
      "/Users/Roman/anaconda/lib/python2.7/site-packages/ipykernel/__main__.py:5: SettingWithCopyWarning: \n",
      "A value is trying to be set on a copy of a slice from a DataFrame.\n",
      "Try using .loc[row_indexer,col_indexer] = value instead\n",
      "\n",
      "See the caveats in the documentation: http://pandas.pydata.org/pandas-docs/stable/indexing.html#indexing-view-versus-copy\n"
     ]
    }
   ],
   "source": [
    "train['credit_sum'] = train['credit_sum'].apply(lambda x: x.replace(\",\",\".\"))\n",
    "test['credit_sum'] = test['credit_sum'].apply(lambda x: x.replace(\",\",\".\"))\n",
    "\n",
    "train['credit_sum'] = train['credit_sum'].astype(float)\n",
    "test['credit_sum'] = test['credit_sum'].astype(float)"
   ]
  },
  {
   "cell_type": "markdown",
   "metadata": {},
   "source": [
    "credit_pay - ежемесячный расход на кредит\n",
    "\n",
    "money_for_life - разность между зп и платой по кредиту\n",
    "\n",
    "dif_city - разница между зп и средней зп по региону"
   ]
  },
  {
   "cell_type": "code",
   "execution_count": 19,
   "metadata": {
    "collapsed": false
   },
   "outputs": [
    {
     "name": "stderr",
     "output_type": "stream",
     "text": [
      "/Users/Roman/anaconda/lib/python2.7/site-packages/ipykernel/__main__.py:1: SettingWithCopyWarning: \n",
      "A value is trying to be set on a copy of a slice from a DataFrame.\n",
      "Try using .loc[row_indexer,col_indexer] = value instead\n",
      "\n",
      "See the caveats in the documentation: http://pandas.pydata.org/pandas-docs/stable/indexing.html#indexing-view-versus-copy\n",
      "  if __name__ == '__main__':\n",
      "/Users/Roman/anaconda/lib/python2.7/site-packages/ipykernel/__main__.py:2: SettingWithCopyWarning: \n",
      "A value is trying to be set on a copy of a slice from a DataFrame.\n",
      "Try using .loc[row_indexer,col_indexer] = value instead\n",
      "\n",
      "See the caveats in the documentation: http://pandas.pydata.org/pandas-docs/stable/indexing.html#indexing-view-versus-copy\n",
      "  from ipykernel import kernelapp as app\n",
      "/Users/Roman/anaconda/lib/python2.7/site-packages/ipykernel/__main__.py:3: SettingWithCopyWarning: \n",
      "A value is trying to be set on a copy of a slice from a DataFrame.\n",
      "Try using .loc[row_indexer,col_indexer] = value instead\n",
      "\n",
      "See the caveats in the documentation: http://pandas.pydata.org/pandas-docs/stable/indexing.html#indexing-view-versus-copy\n",
      "  app.launch_new_instance()\n",
      "/Users/Roman/anaconda/lib/python2.7/site-packages/ipykernel/__main__.py:5: SettingWithCopyWarning: \n",
      "A value is trying to be set on a copy of a slice from a DataFrame.\n",
      "Try using .loc[row_indexer,col_indexer] = value instead\n",
      "\n",
      "See the caveats in the documentation: http://pandas.pydata.org/pandas-docs/stable/indexing.html#indexing-view-versus-copy\n",
      "/Users/Roman/anaconda/lib/python2.7/site-packages/ipykernel/__main__.py:6: SettingWithCopyWarning: \n",
      "A value is trying to be set on a copy of a slice from a DataFrame.\n",
      "Try using .loc[row_indexer,col_indexer] = value instead\n",
      "\n",
      "See the caveats in the documentation: http://pandas.pydata.org/pandas-docs/stable/indexing.html#indexing-view-versus-copy\n",
      "/Users/Roman/anaconda/lib/python2.7/site-packages/ipykernel/__main__.py:7: SettingWithCopyWarning: \n",
      "A value is trying to be set on a copy of a slice from a DataFrame.\n",
      "Try using .loc[row_indexer,col_indexer] = value instead\n",
      "\n",
      "See the caveats in the documentation: http://pandas.pydata.org/pandas-docs/stable/indexing.html#indexing-view-versus-copy\n"
     ]
    }
   ],
   "source": [
    "train[\"credit_pay\"] = train[\"credit_sum\"] / train[\"credit_month\"]\n",
    "train[\"money_for_life\"] = train[\"monthly_income\"] - train[\"credit_pay\"]\n",
    "train[\"dif_city\"] = train[\"monthly_income\"] - train[\"city_mean_income\"]\n",
    "\n",
    "test[\"credit_pay\"] = test[\"credit_sum\"] / test[\"credit_month\"]\n",
    "test[\"money_for_life\"] = test[\"monthly_income\"] - test[\"credit_pay\"]\n",
    "test[\"dif_city\"] = test[\"monthly_income\"] - test[\"city_mean_income\"]"
   ]
  },
  {
   "cell_type": "markdown",
   "metadata": {},
   "source": [
    "V анализ score_shk"
   ]
  },
  {
   "cell_type": "code",
   "execution_count": 20,
   "metadata": {
    "collapsed": false
   },
   "outputs": [
    {
     "name": "stderr",
     "output_type": "stream",
     "text": [
      "/Users/Roman/anaconda/lib/python2.7/site-packages/ipykernel/__main__.py:1: SettingWithCopyWarning: \n",
      "A value is trying to be set on a copy of a slice from a DataFrame.\n",
      "Try using .loc[row_indexer,col_indexer] = value instead\n",
      "\n",
      "See the caveats in the documentation: http://pandas.pydata.org/pandas-docs/stable/indexing.html#indexing-view-versus-copy\n",
      "  if __name__ == '__main__':\n",
      "/Users/Roman/anaconda/lib/python2.7/site-packages/ipykernel/__main__.py:2: SettingWithCopyWarning: \n",
      "A value is trying to be set on a copy of a slice from a DataFrame.\n",
      "Try using .loc[row_indexer,col_indexer] = value instead\n",
      "\n",
      "See the caveats in the documentation: http://pandas.pydata.org/pandas-docs/stable/indexing.html#indexing-view-versus-copy\n",
      "  from ipykernel import kernelapp as app\n",
      "/Users/Roman/anaconda/lib/python2.7/site-packages/ipykernel/__main__.py:4: SettingWithCopyWarning: \n",
      "A value is trying to be set on a copy of a slice from a DataFrame.\n",
      "Try using .loc[row_indexer,col_indexer] = value instead\n",
      "\n",
      "See the caveats in the documentation: http://pandas.pydata.org/pandas-docs/stable/indexing.html#indexing-view-versus-copy\n",
      "/Users/Roman/anaconda/lib/python2.7/site-packages/ipykernel/__main__.py:5: SettingWithCopyWarning: \n",
      "A value is trying to be set on a copy of a slice from a DataFrame.\n",
      "Try using .loc[row_indexer,col_indexer] = value instead\n",
      "\n",
      "See the caveats in the documentation: http://pandas.pydata.org/pandas-docs/stable/indexing.html#indexing-view-versus-copy\n"
     ]
    }
   ],
   "source": [
    "train['score_shk'] = train['score_shk'].apply(lambda x: x.replace(\",\",\".\"))\n",
    "test['score_shk'] = test['score_shk'].apply(lambda x: x.replace(\",\",\".\"))\n",
    "\n",
    "train['score_shk'] = train['score_shk'].astype(float)\n",
    "test['score_shk'] = test['score_shk'].astype(float)"
   ]
  },
  {
   "cell_type": "code",
   "execution_count": 21,
   "metadata": {
    "collapsed": false
   },
   "outputs": [
    {
     "name": "stderr",
     "output_type": "stream",
     "text": [
      "/Users/Roman/anaconda/lib/python2.7/site-packages/ipykernel/__main__.py:1: SettingWithCopyWarning: \n",
      "A value is trying to be set on a copy of a slice from a DataFrame.\n",
      "Try using .loc[row_indexer,col_indexer] = value instead\n",
      "\n",
      "See the caveats in the documentation: http://pandas.pydata.org/pandas-docs/stable/indexing.html#indexing-view-versus-copy\n",
      "  if __name__ == '__main__':\n"
     ]
    }
   ],
   "source": [
    "train['target'] = y"
   ]
  },
  {
   "cell_type": "code",
   "execution_count": 22,
   "metadata": {
    "collapsed": false
   },
   "outputs": [
    {
     "name": "stdout",
     "output_type": "stream",
     "text": [
      "<class 'pandas.core.frame.DataFrame'>\n",
      "Int64Index: 170746 entries, 0 to 170745\n",
      "Data columns (total 46 columns):\n",
      "client_id               170746 non-null int64\n",
      "gender                  170746 non-null int64\n",
      "age                     170746 non-null int64\n",
      "credit_sum              170746 non-null float64\n",
      "credit_month            170746 non-null int64\n",
      "tariff_id               170746 non-null float64\n",
      "score_shk               170746 non-null float64\n",
      "monthly_income          170745 non-null float64\n",
      "credit_count            161516 non-null float64\n",
      "overdue_credit_count    161516 non-null float64\n",
      "high_edu                170746 non-null bool\n",
      "not_work                170746 non-null bool\n",
      "usual_workers           170746 non-null bool\n",
      "head_workers            170746 non-null bool\n",
      "have_business           170746 non-null bool\n",
      "single                  170746 non-null bool\n",
      "education_GRD           170746 non-null uint8\n",
      "education_PGR           170746 non-null uint8\n",
      "education_SCH           170746 non-null uint8\n",
      "education_UGR           170746 non-null uint8\n",
      "job_position_BIS        170746 non-null uint8\n",
      "job_position_BIU        170746 non-null uint8\n",
      "job_position_DIR        170746 non-null uint8\n",
      "job_position_HSK        170746 non-null uint8\n",
      "job_position_INP        170746 non-null uint8\n",
      "job_position_INV        170746 non-null uint8\n",
      "job_position_NOR        170746 non-null uint8\n",
      "job_position_ONB        170746 non-null uint8\n",
      "job_position_PNA        170746 non-null uint8\n",
      "job_position_PNI        170746 non-null uint8\n",
      "job_position_PNS        170746 non-null uint8\n",
      "job_position_PNV        170746 non-null uint8\n",
      "job_position_SPC        170746 non-null uint8\n",
      "job_position_UMN        170746 non-null uint8\n",
      "job_position_WOI        170746 non-null uint8\n",
      "job_position_WRK        170746 non-null uint8\n",
      "job_position_WRP        170746 non-null uint8\n",
      "marital_status_DIV      170746 non-null uint8\n",
      "marital_status_MAR      170746 non-null uint8\n",
      "marital_status_UNM      170746 non-null uint8\n",
      "marital_status_WID      170746 non-null uint8\n",
      "city_mean_income        170746 non-null float64\n",
      "credit_pay              170746 non-null float64\n",
      "money_for_life          170745 non-null float64\n",
      "dif_city                170745 non-null float64\n",
      "target                  170746 non-null int64\n",
      "dtypes: bool(6), float64(10), int64(5), uint8(25)\n",
      "memory usage: 25.9 MB\n"
     ]
    }
   ],
   "source": [
    "train.info()"
   ]
  },
  {
   "cell_type": "code",
   "execution_count": 23,
   "metadata": {
    "collapsed": false
   },
   "outputs": [
    {
     "name": "stdout",
     "output_type": "stream",
     "text": [
      "<class 'pandas.core.frame.DataFrame'>\n",
      "Int64Index: 91940 entries, 0 to 91939\n",
      "Data columns (total 45 columns):\n",
      "client_id               91940 non-null int64\n",
      "gender                  91940 non-null int64\n",
      "age                     91940 non-null int64\n",
      "credit_sum              91940 non-null float64\n",
      "credit_month            91940 non-null int64\n",
      "tariff_id               91940 non-null float64\n",
      "score_shk               91940 non-null float64\n",
      "monthly_income          91940 non-null float64\n",
      "credit_count            87237 non-null float64\n",
      "overdue_credit_count    87237 non-null float64\n",
      "high_edu                91940 non-null bool\n",
      "not_work                91940 non-null bool\n",
      "usual_workers           91940 non-null bool\n",
      "head_workers            91940 non-null bool\n",
      "have_business           91940 non-null bool\n",
      "single                  91940 non-null bool\n",
      "education_GRD           91940 non-null uint8\n",
      "education_PGR           91940 non-null uint8\n",
      "education_SCH           91940 non-null uint8\n",
      "education_UGR           91940 non-null uint8\n",
      "job_position_BIS        91940 non-null uint8\n",
      "job_position_BIU        91940 non-null uint8\n",
      "job_position_DIR        91940 non-null uint8\n",
      "job_position_HSK        91940 non-null uint8\n",
      "job_position_INP        91940 non-null uint8\n",
      "job_position_INV        91940 non-null uint8\n",
      "job_position_NOR        91940 non-null uint8\n",
      "job_position_ONB        91940 non-null uint8\n",
      "job_position_PNA        91940 non-null uint8\n",
      "job_position_PNI        91940 non-null uint8\n",
      "job_position_PNS        91940 non-null uint8\n",
      "job_position_PNV        91940 non-null uint8\n",
      "job_position_SPC        91940 non-null uint8\n",
      "job_position_UMN        91940 non-null uint8\n",
      "job_position_WOI        91940 non-null uint8\n",
      "job_position_WRK        91940 non-null uint8\n",
      "job_position_WRP        91940 non-null uint8\n",
      "marital_status_DIV      91940 non-null uint8\n",
      "marital_status_MAR      91940 non-null uint8\n",
      "marital_status_UNM      91940 non-null uint8\n",
      "marital_status_WID      91940 non-null uint8\n",
      "city_mean_income        91940 non-null float64\n",
      "credit_pay              91940 non-null float64\n",
      "money_for_life          91940 non-null float64\n",
      "dif_city                91940 non-null float64\n",
      "dtypes: bool(6), float64(10), int64(4), uint8(25)\n",
      "memory usage: 13.2 MB\n"
     ]
    }
   ],
   "source": [
    "test.info()"
   ]
  },
  {
   "cell_type": "markdown",
   "metadata": {},
   "source": [
    "VI работа с пропусками"
   ]
  },
  {
   "cell_type": "code",
   "execution_count": 24,
   "metadata": {
    "collapsed": false
   },
   "outputs": [
    {
     "name": "stderr",
     "output_type": "stream",
     "text": [
      "/Users/Roman/anaconda/lib/python2.7/site-packages/ipykernel/__main__.py:1: SettingWithCopyWarning: \n",
      "A value is trying to be set on a copy of a slice from a DataFrame\n",
      "\n",
      "See the caveats in the documentation: http://pandas.pydata.org/pandas-docs/stable/indexing.html#indexing-view-versus-copy\n",
      "  if __name__ == '__main__':\n",
      "/Users/Roman/anaconda/lib/python2.7/site-packages/ipykernel/__main__.py:9: SettingWithCopyWarning: \n",
      "A value is trying to be set on a copy of a slice from a DataFrame\n",
      "\n",
      "See the caveats in the documentation: http://pandas.pydata.org/pandas-docs/stable/indexing.html#indexing-view-versus-copy\n"
     ]
    }
   ],
   "source": [
    "train.dropna(subset=[\"monthly_income\"], inplace=True)\n",
    "\n",
    "miss_df = train[train.credit_count.isnull()]\n",
    "miss_train_df = train[train.credit_count.notnull()]\n",
    "\n",
    "target_credit_count = miss_train_df.credit_count\n",
    "target_overdue_credit_count = miss_train_df.overdue_credit_count\n",
    "\n",
    "miss_train_df.drop(labels=['credit_count', 'overdue_credit_count', 'client_id'], axis=1, inplace=True)\n",
    "miss_train, miss_test, y_train_credit_count, y_test_credit_count = train_test_split(miss_train_df, target_credit_count,\\\n",
    "                                                                                   test_size = 0.3)\n"
   ]
  },
  {
   "cell_type": "code",
   "execution_count": 25,
   "metadata": {
    "collapsed": false
   },
   "outputs": [],
   "source": [
    "miss_train = miss_train.values.astype(float)\n",
    "miss_test = miss_test.values.astype(float)"
   ]
  },
  {
   "cell_type": "code",
   "execution_count": 26,
   "metadata": {
    "collapsed": false
   },
   "outputs": [
    {
     "name": "stdout",
     "output_type": "stream",
     "text": [
      "fitting...\n",
      "\n",
      "2.89181266388\n",
      "[2.0, 0.0, 3.0, 3.0, 0.0, 2.0, 1.0, 3.0, 6.0, 2.0] \n",
      "\n",
      "[ 2.67046452  1.87687147  2.23679447  2.08420801  1.70754826  2.02170467\n",
      "  2.31324267  1.97594655  1.97650683  2.05408525]\n"
     ]
    }
   ],
   "source": [
    "XGB = xgboost.XGBRegressor(max_depth=8, learning_rate=0.05, n_estimators=600)\n",
    "print \"fitting...\\n\"\n",
    "XGB.fit(miss_train, y_train_credit_count)\n",
    "pred = XGB.predict(miss_test)\n",
    "print metrics.mean_squared_error(y_test_credit_count, pred)\n",
    "print list(y_test_credit_count[:10]), \"\\n\"\n",
    "print pred[:10]"
   ]
  },
  {
   "cell_type": "code",
   "execution_count": 27,
   "metadata": {
    "collapsed": false
   },
   "outputs": [
    {
     "name": "stdout",
     "output_type": "stream",
     "text": [
      "3.15644471117 \n",
      "\n",
      "[2.1038563594551567, 2.1038563594551567, 2.1038563594551567, 2.1038563594551567, 2.1038563594551567, 2.1038563594551567, 2.1038563594551567, 2.1038563594551567, 2.1038563594551567, 2.1038563594551567] \n",
      "\n",
      "[2.0, 0.0, 3.0, 3.0, 0.0, 2.0, 1.0, 3.0, 6.0, 2.0]\n"
     ]
    }
   ],
   "source": [
    "mean = [y_train_credit_count.mean() for x in range(len(y_test_credit_count))]\n",
    "print metrics.mean_squared_error(y_test_credit_count, mean), \"\\n\"\n",
    "print mean[:10], \"\\n\"\n",
    "print list(y_test_credit_count[:10])"
   ]
  },
  {
   "cell_type": "code",
   "execution_count": 28,
   "metadata": {
    "collapsed": false
   },
   "outputs": [],
   "source": [
    "tmp = miss_df.drop(labels = ['credit_count', 'overdue_credit_count', 'client_id'], axis=1)\n",
    "tmp = tmp.values.astype(float)\n",
    "val=XGB.predict(tmp)"
   ]
  },
  {
   "cell_type": "code",
   "execution_count": null,
   "metadata": {
    "collapsed": false
   },
   "outputs": [
    {
     "name": "stderr",
     "output_type": "stream",
     "text": [
      "/Users/Roman/anaconda/lib/python2.7/site-packages/ipykernel/__main__.py:4: SettingWithCopyWarning: \n",
      "A value is trying to be set on a copy of a slice from a DataFrame\n",
      "\n",
      "See the caveats in the documentation: http://pandas.pydata.org/pandas-docs/stable/indexing.html#indexing-view-versus-copy\n",
      "/Users/Roman/anaconda/lib/python2.7/site-packages/IPython/core/interactiveshell.py:2881: SettingWithCopyWarning: \n",
      "A value is trying to be set on a copy of a slice from a DataFrame\n",
      "\n",
      "See the caveats in the documentation: http://pandas.pydata.org/pandas-docs/stable/indexing.html#indexing-view-versus-copy\n",
      "  exec(code_obj, self.user_global_ns, self.user_ns)\n"
     ]
    }
   ],
   "source": [
    "k=0\n",
    "for i, j in zip(train.credit_count, enumerate(train.credit_count)):\n",
    "    if np.isnan(i):\n",
    "        train.credit_count[j[0]] = val[k]\n",
    "        k+=1"
   ]
  },
  {
   "cell_type": "code",
   "execution_count": null,
   "metadata": {
    "collapsed": false
   },
   "outputs": [],
   "source": [
    "train.info()"
   ]
  },
  {
   "cell_type": "code",
   "execution_count": null,
   "metadata": {
    "collapsed": true
   },
   "outputs": [],
   "source": [
    "train.to_csv(\"train_without_oversampling.csv\", columns=train.columns, index=False)\n",
    "test.to_csv(\"test.csv\", columns=test.columns, index=False)"
   ]
  },
  {
   "cell_type": "code",
   "execution_count": null,
   "metadata": {
    "collapsed": true
   },
   "outputs": [],
   "source": []
  }
 ],
 "metadata": {
  "anaconda-cloud": {},
  "kernelspec": {
   "display_name": "Python [conda root]",
   "language": "python",
   "name": "conda-root-py"
  },
  "language_info": {
   "codemirror_mode": {
    "name": "ipython",
    "version": 2
   },
   "file_extension": ".py",
   "mimetype": "text/x-python",
   "name": "python",
   "nbconvert_exporter": "python",
   "pygments_lexer": "ipython2",
   "version": "2.7.12"
  }
 },
 "nbformat": 4,
 "nbformat_minor": 1
}
