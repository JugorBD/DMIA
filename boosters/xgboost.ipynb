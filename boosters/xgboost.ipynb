{
 "cells": [
  {
   "cell_type": "code",
   "execution_count": 1,
   "metadata": {
    "collapsed": false
   },
   "outputs": [
    {
     "name": "stderr",
     "output_type": "stream",
     "text": [
      "/Users/Roman/anaconda/lib/python3.6/site-packages/sklearn/cross_validation.py:44: DeprecationWarning: This module was deprecated in version 0.18 in favor of the model_selection module into which all the refactored classes and functions are moved. Also note that the interface of the new CV iterators are different from that of this module. This module will be removed in 0.20.\n",
      "  \"This module will be removed in 0.20.\", DeprecationWarning)\n"
     ]
    }
   ],
   "source": [
    "import numpy as np\n",
    "import pandas as pd\n",
    "import matplotlib.pyplot as plt\n",
    "%matplotlib inline\n",
    "\n",
    "from sklearn.pipeline import Pipeline\n",
    "from sklearn.linear_model import LinearRegression\n",
    "from sklearn.cross_validation import cross_val_score, train_test_split\n",
    "from sklearn.feature_extraction.text import TfidfVectorizer\n",
    "from sklearn import manifold, decomposition, linear_model, ensemble, neighbors, cross_validation, metrics\n",
    "\n",
    "\n",
    "import xgboost\n",
    "from xgboost import DMatrix"
   ]
  },
  {
   "cell_type": "code",
   "execution_count": 2,
   "metadata": {
    "collapsed": true
   },
   "outputs": [],
   "source": [
    "train = pd.read_csv(\"train_random_oversampling.csv\")\n",
    "test = pd.read_csv(\"test.csv\")"
   ]
  },
  {
   "cell_type": "code",
   "execution_count": 3,
   "metadata": {
    "collapsed": false
   },
   "outputs": [],
   "source": [
    "y = train.target\n",
    "train.drop(\"target\", axis=1, inplace=True)\n",
    "train.drop(\"client_id\", axis=1, inplace=True)\n",
    "\n",
    "ans = test[[\"client_id\"]]\n",
    "test.drop(\"client_id\", axis=1, inplace=True)"
   ]
  },
  {
   "cell_type": "code",
   "execution_count": 4,
   "metadata": {
    "collapsed": true
   },
   "outputs": [],
   "source": [
    "train_data, test_data, y_train, y_test = train_test_split(train, y, test_size = 0.4, stratify = y)"
   ]
  },
  {
   "cell_type": "code",
   "execution_count": 6,
   "metadata": {
    "collapsed": false
   },
   "outputs": [
    {
     "name": "stdout",
     "output_type": "stream",
     "text": [
      "[0]\teval-auc:0.726783\ttrain-auc:0.728954\n",
      "Multiple eval metrics have been passed: 'train-auc' will be used for early stopping.\n",
      "\n",
      "Will train until train-auc hasn't improved in 25 rounds.\n",
      "[25]\teval-auc:0.766246\ttrain-auc:0.771186\n",
      "[50]\teval-auc:0.775641\ttrain-auc:0.784171\n",
      "[75]\teval-auc:0.781106\ttrain-auc:0.791992\n",
      "[100]\teval-auc:0.7851\ttrain-auc:0.798056\n",
      "[125]\teval-auc:0.788395\ttrain-auc:0.803333\n",
      "[150]\teval-auc:0.791357\ttrain-auc:0.808354\n",
      "[175]\teval-auc:0.794161\ttrain-auc:0.813299\n",
      "[200]\teval-auc:0.797505\ttrain-auc:0.818788\n",
      "[225]\teval-auc:0.800128\ttrain-auc:0.823183\n",
      "[250]\teval-auc:0.80236\ttrain-auc:0.8271\n",
      "[275]\teval-auc:0.804916\ttrain-auc:0.831433\n",
      "[300]\teval-auc:0.807469\ttrain-auc:0.835625\n",
      "[325]\teval-auc:0.809811\ttrain-auc:0.839614\n",
      "[350]\teval-auc:0.811769\ttrain-auc:0.842945\n",
      "[375]\teval-auc:0.813612\ttrain-auc:0.846259\n",
      "[400]\teval-auc:0.815862\ttrain-auc:0.85012\n",
      "[425]\teval-auc:0.818103\ttrain-auc:0.853964\n",
      "[450]\teval-auc:0.819863\ttrain-auc:0.856947\n",
      "[475]\teval-auc:0.822421\ttrain-auc:0.860982\n",
      "0.824183459155\n"
     ]
    }
   ],
   "source": [
    "Dtrain = DMatrix(data=train_data.to_sparse(), label=y_train)\n",
    "Dtest = DMatrix(data=test_data.to_sparse(), label=y_test)\n",
    "\n",
    "watchlist = [(Dtest,'eval'), (Dtrain,'train')]\n",
    "\n",
    "param = {\n",
    "    \"max_depth\" : 6,\n",
    "    \"eta\" : 0.1,\n",
    "    \"objective\": \"binary:logistic\",\n",
    "    \"eval_metric\": \"auc\"\n",
    "}\n",
    "\n",
    "numround = 500\n",
    "bst = xgboost.train(params=param, dtrain=Dtrain, num_boost_round=numround, evals=watchlist, early_stopping_rounds=25,\\\n",
    "                   verbose_eval = 25)\n",
    "pred =  bst.predict(Dtest)\n",
    "print(metrics.roc_auc_score(y_test, pred))"
   ]
  },
  {
   "cell_type": "code",
   "execution_count": null,
   "metadata": {
    "collapsed": false
   },
   "outputs": [],
   "source": [
    "from hyperopt import hp\n",
    "from hyperopt import fmin, tpe, hp, STATUS_OK, Trials"
   ]
  },
  {
   "cell_type": "code",
   "execution_count": null,
   "metadata": {
    "collapsed": false,
    "scrolled": false
   },
   "outputs": [],
   "source": [
    "def objective(space):\n",
    "    print(space)\n",
    "    \n",
    "    \n",
    "    \n",
    "    \n",
    "    res = metrics.roc_auc_score(y_test, y_ans)\n",
    "    print(res)\n",
    "    return{'loss': -res, 'status': STATUS_OK}\n",
    "\n",
    "\n",
    "space ={\n",
    "        'n_estimators' : hp.quniform('n_estimators', 100, 600, 1),\n",
    "        'eta' : hp.uniform('eta', 0.01, 0.4),\n",
    "        'max_depth' : hp.quniform('max_depth', 3, 10, 1),\n",
    "}\n",
    "\n",
    "\n",
    "trials = Trials()\n",
    "best = fmin(fn=objective,\n",
    "            space=space,\n",
    "            algo=tpe.suggest,\n",
    "            max_evals=75,\n",
    "            trials=trials)\n",
    "\n",
    "print(best)"
   ]
  },
  {
   "cell_type": "code",
   "execution_count": null,
   "metadata": {
    "collapsed": false
   },
   "outputs": [],
   "source": [
    "print test.shape"
   ]
  },
  {
   "cell_type": "code",
   "execution_count": 7,
   "metadata": {
    "collapsed": false
   },
   "outputs": [],
   "source": [
    "#xgb = xgboost.XGBClassifier(max_depth=8, learning_rate=0.5, n_estimators=515)\n",
    "#xgb.fit(train.to_sparse(), y)\n",
    "y_ans = bst.predict(DMatrix(data=test.to_sparse()))"
   ]
  },
  {
   "cell_type": "code",
   "execution_count": 8,
   "metadata": {
    "collapsed": false
   },
   "outputs": [
    {
     "data": {
      "text/plain": [
       "(91940,)"
      ]
     },
     "execution_count": 8,
     "metadata": {},
     "output_type": "execute_result"
    }
   ],
   "source": [
    "y_ans.shape"
   ]
  },
  {
   "cell_type": "code",
   "execution_count": 10,
   "metadata": {
    "collapsed": false
   },
   "outputs": [
    {
     "name": "stderr",
     "output_type": "stream",
     "text": [
      "/Users/Roman/anaconda/lib/python3.6/site-packages/ipykernel/__main__.py:1: SettingWithCopyWarning: \n",
      "A value is trying to be set on a copy of a slice from a DataFrame.\n",
      "Try using .loc[row_indexer,col_indexer] = value instead\n",
      "\n",
      "See the caveats in the documentation: http://pandas.pydata.org/pandas-docs/stable/indexing.html#indexing-view-versus-copy\n",
      "  if __name__ == '__main__':\n"
     ]
    }
   ],
   "source": [
    "ans['val'] = y_ans"
   ]
  },
  {
   "cell_type": "code",
   "execution_count": 11,
   "metadata": {
    "collapsed": false
   },
   "outputs": [
    {
     "name": "stderr",
     "output_type": "stream",
     "text": [
      "/Users/Roman/anaconda/lib/python3.6/site-packages/pandas/core/frame.py:2834: SettingWithCopyWarning: \n",
      "A value is trying to be set on a copy of a slice from a DataFrame\n",
      "\n",
      "See the caveats in the documentation: http://pandas.pydata.org/pandas-docs/stable/indexing.html#indexing-view-versus-copy\n",
      "  **kwargs)\n"
     ]
    }
   ],
   "source": [
    "ans.rename(columns={\"client_id\":\"_ID_\", \"val\":\"_VAL_\"}, inplace=True)"
   ]
  },
  {
   "cell_type": "code",
   "execution_count": 12,
   "metadata": {
    "collapsed": false
   },
   "outputs": [
    {
     "data": {
      "text/plain": [
       "(91940, 2)"
      ]
     },
     "execution_count": 12,
     "metadata": {},
     "output_type": "execute_result"
    }
   ],
   "source": [
    "ans.shape"
   ]
  },
  {
   "cell_type": "code",
   "execution_count": 13,
   "metadata": {
    "collapsed": true
   },
   "outputs": [],
   "source": [
    "ans.to_csv(\"xgboost_random_oversampling_with_weights.csv\", index=False, sep=\",\", header=False)"
   ]
  },
  {
   "cell_type": "code",
   "execution_count": null,
   "metadata": {
    "collapsed": true
   },
   "outputs": [],
   "source": []
  }
 ],
 "metadata": {
  "anaconda-cloud": {},
  "kernelspec": {
   "display_name": "Python 3",
   "language": "python",
   "name": "python3"
  },
  "language_info": {
   "codemirror_mode": {
    "name": "ipython",
    "version": 3
   },
   "file_extension": ".py",
   "mimetype": "text/x-python",
   "name": "python",
   "nbconvert_exporter": "python",
   "pygments_lexer": "ipython3",
   "version": "3.6.0"
  }
 },
 "nbformat": 4,
 "nbformat_minor": 1
}
