{
 "cells": [
  {
   "cell_type": "code",
   "execution_count": 1,
   "metadata": {
    "collapsed": false
   },
   "outputs": [
    {
     "name": "stderr",
     "output_type": "stream",
     "text": [
      "/Users/Roman/anaconda/lib/python2.7/site-packages/sklearn/cross_validation.py:44: DeprecationWarning: This module was deprecated in version 0.18 in favor of the model_selection module into which all the refactored classes and functions are moved. Also note that the interface of the new CV iterators are different from that of this module. This module will be removed in 0.20.\n",
      "  \"This module will be removed in 0.20.\", DeprecationWarning)\n"
     ]
    }
   ],
   "source": [
    "import numpy as np\n",
    "import pandas as pd\n",
    "import matplotlib.pyplot as plt\n",
    "%matplotlib inline\n",
    "\n",
    "from sklearn.pipeline import Pipeline\n",
    "from sklearn.linear_model import LinearRegression\n",
    "from sklearn.cross_validation import cross_val_score, train_test_split\n",
    "from sklearn.feature_extraction.text import TfidfVectorizer\n",
    "from sklearn import manifold, decomposition, linear_model, ensemble, neighbors, cross_validation, metrics\n"
   ]
  },
  {
   "cell_type": "code",
   "execution_count": 2,
   "metadata": {
    "collapsed": true
   },
   "outputs": [],
   "source": [
    "train = pd.read_csv(\"train_without_oversampling.csv\")\n",
    "test = pd.read_csv(\"test.csv\")\n",
    "\n",
    "y = train.target\n",
    "train.drop(\"target\", axis=1, inplace=True)\n",
    "\n",
    "train.drop(\"client_id\", axis=1, inplace=True)\n",
    "ans = test[[\"client_id\"]]\n",
    "test.drop(\"client_id\", axis=1, inplace=True)\n"
   ]
  },
  {
   "cell_type": "code",
   "execution_count": 3,
   "metadata": {
    "collapsed": true
   },
   "outputs": [],
   "source": [
    "train_data, test_data, y_train, y_test = train_test_split(train, y, test_size = 0.3, stratify = y)"
   ]
  },
  {
   "cell_type": "code",
   "execution_count": 7,
   "metadata": {
    "collapsed": false
   },
   "outputs": [
    {
     "name": "stdout",
     "output_type": "stream",
     "text": [
      "[LibLinear]0.598255489005\n"
     ]
    }
   ],
   "source": [
    "lin_cl = linear_model.LogisticRegression(class_weight=\"balanced\", verbose=1, n_jobs=-1, C=0.8)\n",
    "lin_cl.fit(train_data, y_train)\n",
    "preds = lin_cl.predict(test_data)\n",
    "res = metrics.roc_auc_score(y_test, preds)\n",
    "print res"
   ]
  },
  {
   "cell_type": "code",
   "execution_count": 8,
   "metadata": {
    "collapsed": false
   },
   "outputs": [
    {
     "name": "stdout",
     "output_type": "stream",
     "text": [
      "0.535437556119\n"
     ]
    }
   ],
   "source": [
    "rf = ensemble.RandomForestClassifier(n_estimators=900, n_jobs=-1, max_depth=30 ,class_weight='balanced')\n",
    "rf.fit(train_data, y_train)\n",
    "preds = rf.predict(test_data)\n",
    "res = metrics.roc_auc_score(y_test, preds)\n",
    "print res"
   ]
  },
  {
   "cell_type": "code",
   "execution_count": null,
   "metadata": {
    "collapsed": true
   },
   "outputs": [],
   "source": [
    "from hyperopt import hp\n",
    "from hyperopt import fmin, tpe, hp, STATUS_OK, Trials"
   ]
  },
  {
   "cell_type": "code",
   "execution_count": null,
   "metadata": {
    "collapsed": false
   },
   "outputs": [],
   "source": [
    "def objective(space):\n",
    "    print space\n",
    "    c = space['C']\n",
    "    pen = space['pen']\n",
    " \n",
    "    cv = cross_validation.StratifiedShuffleSplit(y, n_iter=5, test_size=0.3)\n",
    "    lin_cl = linear_model.LogisticRegression(C=c, penalty=pen, n_jobs=-1)\n",
    "    res = cross_validation.cross_val_score(estimator=lin_cl, X=train, y=y, scoring=\"roc_auc\", \\\n",
    "                                    cv = cv, n_jobs=-1)\n",
    "    print res.mean()\n",
    "    return{'loss': -res.mean(), 'status': STATUS_OK}\n",
    "\n",
    "\n",
    "space ={\n",
    "        'C' : hp.uniform('C', 0.1, 2.0),\n",
    "        'pen' : hp.choice('pen', [\"l1\", \"l2\"])\n",
    "}\n",
    "\n",
    "\n",
    "trials = Trials()\n",
    "best = fmin(fn=objective,\n",
    "            space=space,\n",
    "            algo=tpe.suggest,\n",
    "            max_evals=75,\n",
    "            trials=trials)\n",
    "\n",
    "print best"
   ]
  },
  {
   "cell_type": "markdown",
   "metadata": {},
   "source": [
    "best \n",
    "{'C': 0.34394279435077646, 'pen': 'l1'}\n",
    "0.605996210639"
   ]
  },
  {
   "cell_type": "code",
   "execution_count": null,
   "metadata": {
    "collapsed": false
   },
   "outputs": [],
   "source": [
    "print best"
   ]
  },
  {
   "cell_type": "code",
   "execution_count": 5,
   "metadata": {
    "collapsed": false
   },
   "outputs": [
    {
     "name": "stderr",
     "output_type": "stream",
     "text": [
      "/Users/Roman/anaconda/lib/python2.7/site-packages/ipykernel/__main__.py:2: SettingWithCopyWarning: \n",
      "A value is trying to be set on a copy of a slice from a DataFrame.\n",
      "Try using .loc[row_indexer,col_indexer] = value instead\n",
      "\n",
      "See the caveats in the documentation: http://pandas.pydata.org/pandas-docs/stable/indexing.html#indexing-view-versus-copy\n",
      "  from ipykernel import kernelapp as app\n",
      "/Users/Roman/anaconda/lib/python2.7/site-packages/pandas/core/frame.py:2816: SettingWithCopyWarning: \n",
      "A value is trying to be set on a copy of a slice from a DataFrame\n",
      "\n",
      "See the caveats in the documentation: http://pandas.pydata.org/pandas-docs/stable/indexing.html#indexing-view-versus-copy\n",
      "  **kwargs)\n"
     ]
    }
   ],
   "source": [
    "y_ans = lin_cl.predict(test)\n",
    "ans['val'] = y_ans\n",
    "ans.rename(columns={\"client_id\":\"_ID_\", \"val\":\"_VAL_\"}, inplace=True)\n",
    "ans.to_csv(\"linear_classification.csv\", index=False, sep=\",\", header=False)"
   ]
  },
  {
   "cell_type": "code",
   "execution_count": null,
   "metadata": {
    "collapsed": true
   },
   "outputs": [],
   "source": []
  }
 ],
 "metadata": {
  "anaconda-cloud": {},
  "kernelspec": {
   "display_name": "Python [conda root]",
   "language": "python",
   "name": "conda-root-py"
  },
  "language_info": {
   "codemirror_mode": {
    "name": "ipython",
    "version": 2
   },
   "file_extension": ".py",
   "mimetype": "text/x-python",
   "name": "python",
   "nbconvert_exporter": "python",
   "pygments_lexer": "ipython2",
   "version": "2.7.12"
  }
 },
 "nbformat": 4,
 "nbformat_minor": 1
}
